{
 "cells": [
  {
   "cell_type": "markdown",
   "metadata": {},
   "source": [
    "# Mini-Project II: Exploring Top Destinations in Vancouver!\n",
    "\n",
    "#### Michael Halim - June 4, 2021\n",
    "\n",
    "Downtown Vancouver is home to some of the most amazing places and tourist attractions; from restaurants and entertainment to outdoor activities. However, there are many people - including, myself - who's lived in Vancouver for years and not fully explore what Downtown Vancouver has to offer either because they do not know where to go or they do not have the time. This project aims to identify and determine the shortest path to visit the top 10 places in Downtown Vancouver!\n",
    "\n",
    "First question: What are the top 10 places to visit in Downtown Vancouver? There are many ways to answer this question; however, one of the ways we can gather data to answer this question are APIs. Fortunately, there are many API services that provide information regarding nearby businesses, including Yelp and Foursquare. Thus, to begin this analysis, I start by sampling restaurants data from both Yelp and Foursquare's API and compare their data coverage and quality to determine which is the better API resource. Then, using the selected API resource, I will obtain a recommended list of activities to do in Downtown Vancouver. To determine the shortest distance, hence the most optimal path, I will implement the Travelling Salesman Algorithm through Google's ORTools. "
   ]
  },
  {
   "cell_type": "markdown",
   "metadata": {},
   "source": [
    "## Importing Libraries and Specifying Universal Variables"
   ]
  },
  {
   "cell_type": "code",
   "execution_count": 4,
   "metadata": {},
   "outputs": [
    {
     "ename": "ModuleNotFoundError",
     "evalue": "No module named 'foursquare'",
     "output_type": "error",
     "traceback": [
      "\u001B[1;31m---------------------------------------------------------------------------\u001B[0m",
      "\u001B[1;31mModuleNotFoundError\u001B[0m                       Traceback (most recent call last)",
      "\u001B[1;32m<ipython-input-4-d0bf5301e960>\u001B[0m in \u001B[0;36m<module>\u001B[1;34m\u001B[0m\n\u001B[0;32m      1\u001B[0m \u001B[1;32mimport\u001B[0m \u001B[0mpandas\u001B[0m \u001B[1;32mas\u001B[0m \u001B[0mpd\u001B[0m\u001B[1;33m\u001B[0m\u001B[1;33m\u001B[0m\u001B[0m\n\u001B[0;32m      2\u001B[0m \u001B[1;32mfrom\u001B[0m \u001B[0mIPython\u001B[0m\u001B[1;33m.\u001B[0m\u001B[0mdisplay\u001B[0m \u001B[1;32mimport\u001B[0m \u001B[0mJSON\u001B[0m\u001B[1;33m\u001B[0m\u001B[1;33m\u001B[0m\u001B[0m\n\u001B[1;32m----> 3\u001B[1;33m \u001B[1;32mfrom\u001B[0m \u001B[0mfoursquare\u001B[0m \u001B[1;32mimport\u001B[0m \u001B[0mFoursquare\u001B[0m\u001B[1;33m\u001B[0m\u001B[1;33m\u001B[0m\u001B[0m\n\u001B[0m\u001B[0;32m      4\u001B[0m \u001B[1;32mimport\u001B[0m \u001B[0mrequests\u001B[0m\u001B[1;33m\u001B[0m\u001B[1;33m\u001B[0m\u001B[0m\n",
      "\u001B[1;31mModuleNotFoundError\u001B[0m: No module named 'foursquare'"
     ]
    }
   ],
   "source": [
    "import pandas as pd\n",
    "from IPython.display import JSON\n",
    "from foursquare import Foursquare\n",
    "import requests"
   ]
  },
  {
   "cell_type": "code",
   "execution_count": 6,
   "metadata": {},
   "outputs": [],
   "source": [
    "lat = 49.2820\n",
    "long = -123.1171"
   ]
  },
  {
   "cell_type": "markdown",
   "metadata": {},
   "source": [
    "## Extracting Data from Yelp API\n",
    "\n",
    "The first step is to get restaurant data from Yelp's API. To do so, I will import the necessary API keys and create a function to collect data from Yelp using the requests module."
   ]
  },
  {
   "cell_type": "code",
   "execution_count": 8,
   "metadata": {},
   "outputs": [],
   "source": [
    "from yelpconfig import YelpAPI\n",
    "\n",
    "yelp = YelpAPI()\n",
    "yelp_clientid = yelp.client_id\n",
    "yelp_apikey = yelp.api_key"
   ]
  },
  {
   "cell_type": "code",
   "execution_count": 5,
   "metadata": {},
   "outputs": [],
   "source": [
    "def get_yelp(latitude, longitude, query=\"\", category=[]):\n",
    "    \n",
    "    yelp_url = \"https://api.yelp.com/v3/businesses/search\"\n",
    "    \n",
    "    header = {\n",
    "        \"Authorization\": f\"Bearer {yelp_apikey}\"\n",
    "    }\n",
    "    \n",
    "    parameters = {\n",
    "        \"term\": query,\n",
    "        \"latitude\": latitude,\n",
    "        \"longitude\": longitude,\n",
    "        \"radius\": 3000,\n",
    "        \"limit\": 50,\n",
    "        \"categories\": []\n",
    "    }\n",
    "    \n",
    "    return requests.get(url=yelp_url, headers=header, params=parameters).json()"
   ]
  },
  {
   "cell_type": "markdown",
   "metadata": {},
   "source": [
    "Using the above function, we can extract top 50 restaurants from Yelp and store them into a variable. We can loop through this JSON to extract necessary information. I did the following by setting up a dictionary with keys of the information that I want to extract and store all the necessary information into a list as items of the dictionary. We can then convert this dictionary directly into a dataframe to clean and explore!"
   ]
  },
  {
   "cell_type": "code",
   "execution_count": 9,
   "metadata": {},
   "outputs": [],
   "source": [
    "search=\"restaurant\"\n",
    "yelp_restaurants = get_yelp(lat, long, query=search)"
   ]
  },
  {
   "cell_type": "code",
   "execution_count": 68,
   "metadata": {},
   "outputs": [],
   "source": [
    "def yelp_to_dict(json_data):\n",
    "    \n",
    "    my_dict = {\"name\": [], \"address\": [], \"city\": [], \"province\": [], \"postal_code\": [], \"rating\": [], \"review_count\": [], \"price\": []}\n",
    "\n",
    "    for item in json_data[\"businesses\"]:\n",
    "        my_dict[\"name\"].append(item[\"name\"])\n",
    "        my_dict[\"rating\"].append(item[\"rating\"])\n",
    "        my_dict[\"review_count\"].append(item[\"review_count\"])\n",
    "        my_dict[\"address\"].append(item[\"location\"][\"address1\"])\n",
    "        my_dict[\"city\"].append(item[\"location\"][\"city\"])\n",
    "        my_dict[\"province\"].append(item[\"location\"][\"state\"])\n",
    "        my_dict['postal_code'].append(item[\"location\"][\"zip_code\"])\n",
    "\n",
    "        try:\n",
    "            my_dict[\"price\"].append(item[\"price\"])\n",
    "        except:\n",
    "            my_dict[\"price\"].append(\".\")\n",
    "    \n",
    "    return my_dict"
   ]
  },
  {
   "cell_type": "code",
   "execution_count": 70,
   "metadata": {},
   "outputs": [],
   "source": [
    "yelp_restaurants_dict = yelp_to_dict(yelp_restaurants)"
   ]
  },
  {
   "cell_type": "code",
   "execution_count": 71,
   "metadata": {},
   "outputs": [
    {
     "data": {
      "text/html": [
       "<div>\n",
       "<style scoped>\n",
       "    .dataframe tbody tr th:only-of-type {\n",
       "        vertical-align: middle;\n",
       "    }\n",
       "\n",
       "    .dataframe tbody tr th {\n",
       "        vertical-align: top;\n",
       "    }\n",
       "\n",
       "    .dataframe thead th {\n",
       "        text-align: right;\n",
       "    }\n",
       "</style>\n",
       "<table border=\"1\" class=\"dataframe\">\n",
       "  <thead>\n",
       "    <tr style=\"text-align: right;\">\n",
       "      <th></th>\n",
       "      <th>name</th>\n",
       "      <th>address</th>\n",
       "      <th>city</th>\n",
       "      <th>province</th>\n",
       "      <th>postal_code</th>\n",
       "      <th>rating</th>\n",
       "      <th>review_count</th>\n",
       "      <th>price</th>\n",
       "    </tr>\n",
       "  </thead>\n",
       "  <tbody>\n",
       "    <tr>\n",
       "      <th>0</th>\n",
       "      <td>Medina Cafe</td>\n",
       "      <td>780 Richards Street</td>\n",
       "      <td>Vancouver</td>\n",
       "      <td>BC</td>\n",
       "      <td>V6B 3A4</td>\n",
       "      <td>4.0</td>\n",
       "      <td>2309</td>\n",
       "      <td>$$</td>\n",
       "    </tr>\n",
       "    <tr>\n",
       "      <th>1</th>\n",
       "      <td>The Flying Pig - Yaletown</td>\n",
       "      <td>1168 Hamilton Street</td>\n",
       "      <td>Vancouver</td>\n",
       "      <td>BC</td>\n",
       "      <td>V6B 2S2</td>\n",
       "      <td>4.0</td>\n",
       "      <td>1090</td>\n",
       "      <td>$$</td>\n",
       "    </tr>\n",
       "    <tr>\n",
       "      <th>2</th>\n",
       "      <td>Le Crocodile Restaurant</td>\n",
       "      <td>909 Burrard Street</td>\n",
       "      <td>Vancouver</td>\n",
       "      <td>BC</td>\n",
       "      <td>V6Z 2N2</td>\n",
       "      <td>4.5</td>\n",
       "      <td>386</td>\n",
       "      <td>$$$$</td>\n",
       "    </tr>\n",
       "    <tr>\n",
       "      <th>3</th>\n",
       "      <td>Fanny Bay Oyster Bar &amp; Shellfish Market</td>\n",
       "      <td>762 Cambie St</td>\n",
       "      <td>Vancouver</td>\n",
       "      <td>BC</td>\n",
       "      <td>V6B 2P2</td>\n",
       "      <td>4.5</td>\n",
       "      <td>575</td>\n",
       "      <td>$$</td>\n",
       "    </tr>\n",
       "    <tr>\n",
       "      <th>4</th>\n",
       "      <td>Chambar</td>\n",
       "      <td>568 Beatty Street</td>\n",
       "      <td>Vancouver</td>\n",
       "      <td>BC</td>\n",
       "      <td>V6B 2L3</td>\n",
       "      <td>4.0</td>\n",
       "      <td>1363</td>\n",
       "      <td>$$$</td>\n",
       "    </tr>\n",
       "  </tbody>\n",
       "</table>\n",
       "</div>"
      ],
      "text/plain": [
       "                                      name               address       city  \\\n",
       "0                              Medina Cafe   780 Richards Street  Vancouver   \n",
       "1                The Flying Pig - Yaletown  1168 Hamilton Street  Vancouver   \n",
       "2                  Le Crocodile Restaurant    909 Burrard Street  Vancouver   \n",
       "3  Fanny Bay Oyster Bar & Shellfish Market         762 Cambie St  Vancouver   \n",
       "4                                  Chambar     568 Beatty Street  Vancouver   \n",
       "\n",
       "  province postal_code  rating  review_count price  \n",
       "0       BC     V6B 3A4     4.0          2309    $$  \n",
       "1       BC     V6B 2S2     4.0          1090    $$  \n",
       "2       BC     V6Z 2N2     4.5           386  $$$$  \n",
       "3       BC     V6B 2P2     4.5           575    $$  \n",
       "4       BC     V6B 2L3     4.0          1363   $$$  "
      ]
     },
     "execution_count": 71,
     "metadata": {},
     "output_type": "execute_result"
    }
   ],
   "source": [
    "yelp_restaurants_df = pd.DataFrame(yelp_restaurants_dict)\n",
    "yelp_restaurants_df.head(5)"
   ]
  },
  {
   "cell_type": "markdown",
   "metadata": {},
   "source": [
    "## Extracting Data from FourSquare API"
   ]
  },
  {
   "cell_type": "markdown",
   "metadata": {},
   "source": [
    "We repeat a similar process, but this time to extract data from FourSquare's API. "
   ]
  },
  {
   "cell_type": "code",
   "execution_count": 15,
   "metadata": {},
   "outputs": [],
   "source": [
    "from fsconfignew import FourSquareAPI\n",
    "\n",
    "fs = FourSquareAPI()\n",
    "fs_id = fs.client_id\n",
    "fs_key = fs.client_key\n",
    "\n",
    "client = Foursquare(client_id=fs_id, client_secret=fs_key, version='20210528')"
   ]
  },
  {
   "cell_type": "code",
   "execution_count": 16,
   "metadata": {},
   "outputs": [],
   "source": [
    "def get_fs(latitude, longitude, section=\"\", category=\"\"):\n",
    "    \n",
    "    parameters = {\n",
    "        'll': f\"{latitude},{longitude}\",\n",
    "        'radius': 3000,\n",
    "        'section': section,\n",
    "        'limit': 50,\n",
    "        'categoryID': category,\n",
    "    }\n",
    "    \n",
    "    return client.venues.explore(params=parameters)"
   ]
  },
  {
   "cell_type": "markdown",
   "metadata": {},
   "source": [
    "Using the above function, we can explore the top 50 restaurants in a 3 km radius from the latitude and longitude specified above."
   ]
  },
  {
   "cell_type": "code",
   "execution_count": 17,
   "metadata": {},
   "outputs": [],
   "source": [
    "section=\"food\"\n",
    "fs_restaurants = get_fs(lat, long, section=section)"
   ]
  },
  {
   "cell_type": "code",
   "execution_count": 18,
   "metadata": {},
   "outputs": [
    {
     "data": {
      "application/json": {
       "groups": [
        {
         "items": [
          {
           "reasons": {
            "count": 0,
            "items": [
             {
              "reasonName": "globalInteractionReason",
              "summary": "This spot is popular",
              "type": "general"
             }
            ]
           },
           "referralId": "e-3-4aa7f22bf964a520214e20e3-0",
           "venue": {
            "categories": [
             {
              "icon": {
               "prefix": "https://ss3.4sqi.net/img/categories_v2/food/steakhouse_",
               "suffix": ".png"
              },
              "id": "4bf58dd8d48988d1cc941735",
              "name": "Steakhouse",
              "pluralName": "Steakhouses",
              "primary": true,
              "shortName": "Steakhouse"
             }
            ],
            "id": "4aa7f22bf964a520214e20e3",
            "location": {
             "address": "615 Seymour St.",
             "cc": "CA",
             "city": "Vancouver",
             "country": "Canada",
             "crossStreet": "btwn Dunsmuir & W Georgia",
             "distance": 128,
             "formattedAddress": [
              "615 Seymour St. (btwn Dunsmuir & W Georgia)",
              "Vancouver BC V6B 3K3",
              "Canada"
             ],
             "labeledLatLngs": [
              {
               "label": "display",
               "lat": 49.28283023000359,
               "lng": -123.11586538996016
              }
             ],
             "lat": 49.28283023000359,
             "lng": -123.11586538996016,
             "postalCode": "V6B 3K3",
             "state": "BC"
            },
            "name": "Gotham Steakhouse & Cocktail Bar",
            "photos": {
             "count": 0,
             "groups": []
            }
           }
          },
          {
           "reasons": {
            "count": 0,
            "items": [
             {
              "reasonName": "globalInteractionReason",
              "summary": "This spot is popular",
              "type": "general"
             }
            ]
           },
           "referralId": "e-3-4aa7dce2f964a520ad4d20e3-1",
           "venue": {
            "categories": [
             {
              "icon": {
               "prefix": "https://ss3.4sqi.net/img/categories_v2/food/breakfast_",
               "suffix": ".png"
              },
              "id": "4bf58dd8d48988d143941735",
              "name": "Breakfast Spot",
              "pluralName": "Breakfast Spots",
              "primary": true,
              "shortName": "Breakfast"
             }
            ],
            "id": "4aa7dce2f964a520ad4d20e3",
            "location": {
             "address": "780 Richards St",
             "cc": "CA",
             "city": "Vancouver",
             "country": "Canada",
             "crossStreet": "btwn W Georgia & Robson",
             "distance": 160,
             "formattedAddress": [
              "780 Richards St (btwn W Georgia & Robson)",
              "Vancouver BC V6B 2L3",
              "Canada"
             ],
             "labeledLatLngs": [
              {
               "label": "display",
               "lat": 49.28056540642322,
               "lng": -123.11685919761656
              }
             ],
             "lat": 49.28056540642322,
             "lng": -123.11685919761656,
             "postalCode": "V6B 2L3",
             "state": "BC"
            },
            "name": "Medina Café",
            "photos": {
             "count": 0,
             "groups": []
            },
            "venuePage": {
             "id": "88939542"
            }
           }
          },
          {
           "reasons": {
            "count": 0,
            "items": [
             {
              "reasonName": "globalInteractionReason",
              "summary": "This spot is popular",
              "type": "general"
             }
            ]
           },
           "referralId": "e-3-5170656ae4b029a050dd8a49-2",
           "venue": {
            "categories": [
             {
              "icon": {
               "prefix": "https://ss3.4sqi.net/img/categories_v2/food/default_",
               "suffix": ".png"
              },
              "id": "4bf58dd8d48988d1c4941735",
              "name": "Restaurant",
              "pluralName": "Restaurants",
              "primary": true,
              "shortName": "Restaurant"
             }
            ],
            "id": "5170656ae4b029a050dd8a49",
            "location": {
             "address": "688 Dunsmuir Street",
             "cc": "CA",
             "city": "Vancouver",
             "country": "Canada",
             "distance": 168,
             "formattedAddress": [
              "688 Dunsmuir Street",
              "Vancouver BC V6B 1N3",
              "Canada"
             ],
             "labeledLatLngs": [
              {
               "label": "display",
               "lat": 49.28343784084837,
               "lng": -123.11636252876394
              }
             ],
             "lat": 49.28343784084837,
             "lng": -123.11636252876394,
             "postalCode": "V6B 1N3",
             "state": "BC"
            },
            "name": "The Keg Steakhouse + Bar - Dunsmuir",
            "photos": {
             "count": 0,
             "groups": []
            },
            "venuePage": {
             "id": "1359972102"
            }
           }
          },
          {
           "reasons": {
            "count": 0,
            "items": [
             {
              "reasonName": "globalInteractionReason",
              "summary": "This spot is popular",
              "type": "general"
             }
            ]
           },
           "referralId": "e-3-4cc72e8b01fb236a8d70bbba-3",
           "venue": {
            "categories": [
             {
              "icon": {
               "prefix": "https://ss3.4sqi.net/img/categories_v2/food/deli_",
               "suffix": ".png"
              },
              "id": "4bf58dd8d48988d1c5941735",
              "name": "Sandwich Place",
              "pluralName": "Sandwich Places",
              "primary": true,
              "shortName": "Sandwiches"
             }
            ],
            "id": "4cc72e8b01fb236a8d70bbba",
            "location": {
             "address": "370 Cambie St",
             "cc": "CA",
             "city": "Vancouver",
             "country": "Canada",
             "crossStreet": "btwn Cordova & Hastings",
             "distance": 556,
             "formattedAddress": [
              "370 Cambie St (btwn Cordova & Hastings)",
              "Vancouver BC V6B 2N3",
              "Canada"
             ],
             "labeledLatLngs": [
              {
               "label": "display",
               "lat": 49.2826459299748,
               "lng": -123.10949864447797
              }
             ],
             "lat": 49.2826459299748,
             "lng": -123.10949864447797,
             "postalCode": "V6B 2N3",
             "state": "BC"
            },
            "name": "Meat & Bread",
            "photos": {
             "count": 0,
             "groups": []
            }
           }
          },
          {
           "reasons": {
            "count": 0,
            "items": [
             {
              "reasonName": "globalInteractionReason",
              "summary": "This spot is popular",
              "type": "general"
             }
            ]
           },
           "referralId": "e-3-4aaec434f964a520346320e3-4",
           "venue": {
            "categories": [
             {
              "icon": {
               "prefix": "https://ss3.4sqi.net/img/categories_v2/food/french_",
               "suffix": ".png"
              },
              "id": "4bf58dd8d48988d10c941735",
              "name": "French Restaurant",
              "pluralName": "French Restaurants",
              "primary": true,
              "shortName": "French"
             }
            ],
            "id": "4aaec434f964a520346320e3",
            "location": {
             "address": "909 Burrard St",
             "cc": "CA",
             "city": "Vancouver",
             "country": "Canada",
             "crossStreet": "Smithe St",
             "distance": 598,
             "formattedAddress": [
              "909 Burrard St (Smithe St)",
              "Vancouver BC V6Z 2N2",
              "Canada"
             ],
             "labeledLatLngs": [
              {
               "label": "display",
               "lat": 49.28265806764619,
               "lng": -123.12528669834137
              }
             ],
             "lat": 49.28265806764619,
             "lng": -123.12528669834137,
             "postalCode": "V6Z 2N2",
             "state": "BC"
            },
            "name": "Le Crocodile Restaurant",
            "photos": {
             "count": 0,
             "groups": []
            }
           }
          },
          {
           "reasons": {
            "count": 0,
            "items": [
             {
              "reasonName": "globalInteractionReason",
              "summary": "This spot is popular",
              "type": "general"
             }
            ]
           },
           "referralId": "e-3-57d05c9c498e185ed0205e5a-5",
           "venue": {
            "categories": [
             {
              "icon": {
               "prefix": "https://ss3.4sqi.net/img/categories_v2/food/default_",
               "suffix": ".png"
              },
              "id": "5bae9231bedf3950379f89d4",
              "name": "Poke Place",
              "pluralName": "Poke Places",
              "primary": true,
              "shortName": "Poke Place"
             }
            ],
            "id": "57d05c9c498e185ed0205e5a",
            "location": {
             "address": "420 Richards St",
             "cc": "CA",
             "city": "Vancouver",
             "country": "Canada",
             "crossStreet": "at W Hastings St",
             "distance": 418,
             "formattedAddress": [
              "420 Richards St (at W Hastings St)",
              "Vancouver BC V6B",
              "Canada"
             ],
             "labeledLatLngs": [
              {
               "label": "display",
               "lat": 49.28393736225851,
               "lng": -123.11216716613504
              }
             ],
             "lat": 49.28393736225851,
             "lng": -123.11216716613504,
             "postalCode": "V6B",
             "state": "BC"
            },
            "name": "The Poke Guy",
            "photos": {
             "count": 0,
             "groups": []
            }
           }
          },
          {
           "reasons": {
            "count": 0,
            "items": [
             {
              "reasonName": "globalInteractionReason",
              "summary": "This spot is popular",
              "type": "general"
             }
            ]
           },
           "referralId": "e-3-5baffb6598fbfc002c5153b2-6",
           "venue": {
            "categories": [
             {
              "icon": {
               "prefix": "https://ss3.4sqi.net/img/categories_v2/food/ramen_",
               "suffix": ".png"
              },
              "id": "4bf58dd8d48988d1d1941735",
              "name": "Noodle House",
              "pluralName": "Noodle Houses",
              "primary": true,
              "shortName": "Noodles"
             }
            ],
            "id": "5baffb6598fbfc002c5153b2",
            "location": {
             "address": "551 Seymore St",
             "cc": "CA",
             "city": "Vancouver",
             "country": "Canada",
             "distance": 209,
             "formattedAddress": [
              "551 Seymore St",
              "Vancouver BC V6B 3H6",
              "Canada"
             ],
             "labeledLatLngs": [
              {
               "label": "display",
               "lat": 49.28339141050529,
               "lng": -123.11516030750509
              }
             ],
             "lat": 49.28339141050529,
             "lng": -123.11516030750509,
             "postalCode": "V6B 3H6",
             "state": "BC"
            },
            "name": "Kokoro Tokyo Mazesoba",
            "photos": {
             "count": 0,
             "groups": []
            }
           }
          },
          {
           "reasons": {
            "count": 0,
            "items": [
             {
              "reasonName": "globalInteractionReason",
              "summary": "This spot is popular",
              "type": "general"
             }
            ]
           },
           "referralId": "e-3-5261ea7111d2cc4cf26712e3-7",
           "venue": {
            "categories": [
             {
              "icon": {
               "prefix": "https://ss3.4sqi.net/img/categories_v2/food/donuts_",
               "suffix": ".png"
              },
              "id": "4bf58dd8d48988d148941735",
              "name": "Donut Shop",
              "pluralName": "Donut Shops",
              "primary": true,
              "shortName": "Donuts"
             }
            ],
            "id": "5261ea7111d2cc4cf26712e3",
            "location": {
             "address": "534 W Pender St",
             "cc": "CA",
             "city": "Vancouver",
             "country": "Canada",
             "crossStreet": "at Seymour St",
             "distance": 328,
             "formattedAddress": [
              "534 W Pender St (at Seymour St)",
              "Vancouver BC V6B 1V3",
              "Canada"
             ],
             "labeledLatLngs": [
              {
               "label": "display",
               "lat": 49.283833446719726,
               "lng": -123.1135544398471
              }
             ],
             "lat": 49.283833446719726,
             "lng": -123.1135544398471,
             "postalCode": "V6B 1V3",
             "state": "BC"
            },
            "name": "Cartems Donuterie",
            "photos": {
             "count": 0,
             "groups": []
            }
           }
          },
          {
           "reasons": {
            "count": 0,
            "items": [
             {
              "reasonName": "globalInteractionReason",
              "summary": "This spot is popular",
              "type": "general"
             }
            ]
           },
           "referralId": "e-3-591782f22bf9a936de28c8d1-8",
           "venue": {
            "categories": [
             {
              "icon": {
               "prefix": "https://ss3.4sqi.net/img/categories_v2/food/middleeastern_",
               "suffix": ".png"
              },
              "id": "58daa1558bbb0b01f18ec1cd",
              "name": "Lebanese Restaurant",
              "pluralName": "Lebanese Restaurants",
              "primary": true,
              "shortName": "Lebanese"
             }
            ],
            "id": "591782f22bf9a936de28c8d1",
            "location": {
             "address": "560 Robson St",
             "cc": "CA",
             "city": "Vancouver",
             "country": "Canada",
             "crossStreet": "at Seymour St",
             "distance": 203,
             "formattedAddress": [
              "560 Robson St (at Seymour St)",
              "Vancouver BC V6B 2B7",
              "Canada"
             ],
             "labeledLatLngs": [
              {
               "label": "display",
               "lat": 49.280451539138795,
               "lng": -123.11858600825325
              }
             ],
             "lat": 49.280451539138795,
             "lng": -123.11858600825325,
             "postalCode": "V6B 2B7",
             "state": "BC"
            },
            "name": "Paramount Fine Foods",
            "photos": {
             "count": 0,
             "groups": []
            }
           }
          },
          {
           "reasons": {
            "count": 0,
            "items": [
             {
              "reasonName": "globalInteractionReason",
              "summary": "This spot is popular",
              "type": "general"
             }
            ]
           },
           "referralId": "e-3-4aa73d64f964a520734c20e3-9",
           "venue": {
            "categories": [
             {
              "icon": {
               "prefix": "https://ss3.4sqi.net/img/categories_v2/food/deli_",
               "suffix": ".png"
              },
              "id": "4bf58dd8d48988d1c5941735",
              "name": "Sandwich Place",
              "pluralName": "Sandwich Places",
              "primary": true,
              "shortName": "Sandwiches"
             }
            ],
            "id": "4aa73d64f964a520734c20e3",
            "location": {
             "address": "353 W Pender St",
             "cc": "CA",
             "city": "Vancouver",
             "country": "Canada",
             "crossStreet": "at Homer St",
             "distance": 383,
             "formattedAddress": [
              "353 W Pender St (at Homer St)",
              "Vancouver BC V6B 1T3",
              "Canada"
             ],
             "labeledLatLngs": [
              {
               "label": "display",
               "lat": 49.28272404338896,
               "lng": -123.11194051344484
              }
             ],
             "lat": 49.28272404338896,
             "lng": -123.11194051344484,
             "postalCode": "V6B 1T3",
             "state": "BC"
            },
            "name": "Finch’s Tea & Coffee House",
            "photos": {
             "count": 0,
             "groups": []
            }
           }
          },
          {
           "reasons": {
            "count": 0,
            "items": [
             {
              "reasonName": "globalInteractionReason",
              "summary": "This spot is popular",
              "type": "general"
             }
            ]
           },
           "referralId": "e-3-4aa8005bf964a520a24e20e3-10",
           "venue": {
            "categories": [
             {
              "icon": {
               "prefix": "https://ss3.4sqi.net/img/categories_v2/food/default_",
               "suffix": ".png"
              },
              "id": "52e81612bcbc57f1066b7a02",
              "name": "Belgian Restaurant",
              "pluralName": "Belgian Restaurants",
              "primary": true,
              "shortName": "Belgian"
             }
            ],
            "id": "4aa8005bf964a520a24e20e3",
            "location": {
             "address": "568 Beatty St",
             "cc": "CA",
             "city": "Vancouver",
             "country": "Canada",
             "crossStreet": "btwn W Pender & Dunsmuir",
             "distance": 559,
             "formattedAddress": [
              "568 Beatty St (btwn W Pender & Dunsmuir)",
              "Vancouver BC V6B 2L3",
              "Canada"
             ],
             "labeledLatLngs": [
              {
               "label": "display",
               "lat": 49.279925416078164,
               "lng": -123.1100781115385
              }
             ],
             "lat": 49.279925416078164,
             "lng": -123.1100781115385,
             "postalCode": "V6B 2L3",
             "state": "BC"
            },
            "name": "Chambar",
            "photos": {
             "count": 0,
             "groups": []
            },
            "venuePage": {
             "id": "49016298"
            }
           }
          },
          {
           "reasons": {
            "count": 0,
            "items": [
             {
              "reasonName": "globalInteractionReason",
              "summary": "This spot is popular",
              "type": "general"
             }
            ]
           },
           "referralId": "e-3-4aa84f03f964a520c15020e3-11",
           "venue": {
            "categories": [
             {
              "icon": {
               "prefix": "https://ss3.4sqi.net/img/categories_v2/food/taco_",
               "suffix": ".png"
              },
              "id": "4bf58dd8d48988d151941735",
              "name": "Taco Place",
              "pluralName": "Taco Places",
              "primary": true,
              "shortName": "Tacos"
             }
            ],
            "id": "4aa84f03f964a520c15020e3",
            "location": {
             "address": "322 W Hastings St",
             "cc": "CA",
             "city": "Vancouver",
             "country": "Canada",
             "crossStreet": "btwn Homer & Hamilton",
             "distance": 497,
             "formattedAddress": [
              "322 W Hastings St (btwn Homer & Hamilton)",
              "Vancouver BC V6B 1K6",
              "Canada"
             ],
             "labeledLatLngs": [
              {
               "label": "display",
               "lat": 49.2830218479258,
               "lng": -123.11042386683688
              }
             ],
             "lat": 49.2830218479258,
             "lng": -123.11042386683688,
             "postalCode": "V6B 1K6",
             "state": "BC"
            },
            "name": "La Taqueria",
            "photos": {
             "count": 0,
             "groups": []
            }
           }
          },
          {
           "reasons": {
            "count": 0,
            "items": [
             {
              "reasonName": "globalInteractionReason",
              "summary": "This spot is popular",
              "type": "general"
             }
            ]
           },
           "referralId": "e-3-54356181498e90773594c52f-12",
           "venue": {
            "categories": [
             {
              "icon": {
               "prefix": "https://ss3.4sqi.net/img/categories_v2/food/bakery_",
               "suffix": ".png"
              },
              "id": "4bf58dd8d48988d16a941735",
              "name": "Bakery",
              "pluralName": "Bakeries",
              "primary": true,
              "shortName": "Bakery"
             }
            ],
            "id": "54356181498e90773594c52f",
            "location": {
             "address": "159 W. Hastings DT",
             "cc": "CA",
             "city": "Vancouver",
             "country": "Canada",
             "crossStreet": "btwn Cambie & Abbott",
             "distance": 575,
             "formattedAddress": [
              "159 W. Hastings DT (btwn Cambie & Abbott)",
              "Vancouver BC",
              "Canada"
             ],
             "labeledLatLngs": [
              {
               "label": "display",
               "lat": 49.282422416796415,
               "lng": -123.10920307592875
              }
             ],
             "lat": 49.282422416796415,
             "lng": -123.10920307592875,
             "state": "BC"
            },
            "name": "PureBread",
            "photos": {
             "count": 0,
             "groups": []
            }
           }
          },
          {
           "reasons": {
            "count": 0,
            "items": [
             {
              "reasonName": "globalInteractionReason",
              "summary": "This spot is popular",
              "type": "general"
             }
            ]
           },
           "referralId": "e-3-5790281f498e75e0454bf0a9-13",
           "venue": {
            "categories": [
             {
              "icon": {
               "prefix": "https://ss3.4sqi.net/img/categories_v2/food/seafood_",
               "suffix": ".png"
              },
              "id": "4bf58dd8d48988d1ce941735",
              "name": "Seafood Restaurant",
              "pluralName": "Seafood Restaurants",
              "primary": true,
              "shortName": "Seafood"
             }
            ],
            "id": "5790281f498e75e0454bf0a9",
            "location": {
             "address": "762 Cambie St",
             "cc": "CA",
             "city": "Vancouver",
             "country": "Canada",
             "distance": 425,
             "formattedAddress": [
              "762 Cambie St",
              "Vancouver BC V6B 2P2",
              "Canada"
             ],
             "labeledLatLngs": [
              {
               "label": "display",
               "lat": 49.27860106769942,
               "lng": -123.1144109990253
              }
             ],
             "lat": 49.27860106769942,
             "lng": -123.1144109990253,
             "postalCode": "V6B 2P2",
             "state": "BC"
            },
            "name": "Fanny Bay Oyster Bar",
            "photos": {
             "count": 0,
             "groups": []
            }
           }
          },
          {
           "reasons": {
            "count": 0,
            "items": [
             {
              "reasonName": "globalInteractionReason",
              "summary": "This spot is popular",
              "type": "general"
             }
            ]
           },
           "referralId": "e-3-4aa7f561f964a520384e20e3-14",
           "venue": {
            "categories": [
             {
              "icon": {
               "prefix": "https://ss3.4sqi.net/img/categories_v2/food/japanese_",
               "suffix": ".png"
              },
              "id": "4bf58dd8d48988d111941735",
              "name": "Japanese Restaurant",
              "pluralName": "Japanese Restaurants",
              "primary": true,
              "shortName": "Japanese"
             }
            ],
            "id": "4aa7f561f964a520384e20e3",
            "location": {
             "address": "200 Granville Street",
             "cc": "CA",
             "city": "Vancouver",
             "country": "Canada",
             "crossStreet": "West Cordova Street",
             "distance": 640,
             "formattedAddress": [
              "200 Granville Street (West Cordova Street)",
              "Vancouver BC V6C 1S4",
              "Canada"
             ],
             "labeledLatLngs": [
              {
               "label": "display",
               "lat": 49.28671261,
               "lng": -123.11204401
              }
             ],
             "lat": 49.28671261,
             "lng": -123.11204401,
             "neighborhood": "Downtown Vancouver, Vancouver, BC",
             "postalCode": "V6C 1S4",
             "state": "BC"
            },
            "name": "Miku Restaurant",
            "photos": {
             "count": 0,
             "groups": []
            }
           }
          },
          {
           "reasons": {
            "count": 0,
            "items": [
             {
              "reasonName": "globalInteractionReason",
              "summary": "This spot is popular",
              "type": "general"
             }
            ]
           },
           "referralId": "e-3-4aaae466f964a520e45720e3-15",
           "venue": {
            "categories": [
             {
              "icon": {
               "prefix": "https://ss3.4sqi.net/img/categories_v2/food/french_",
               "suffix": ".png"
              },
              "id": "4bf58dd8d48988d10c941735",
              "name": "French Restaurant",
              "pluralName": "French Restaurants",
              "primary": true,
              "shortName": "French"
             }
            ],
            "id": "4aaae466f964a520e45720e3",
            "location": {
             "address": "845 Hornby St",
             "cc": "CA",
             "city": "Vancouver",
             "country": "Canada",
             "crossStreet": "btwn Smithe & Robson St",
             "distance": 380,
             "formattedAddress": [
              "845 Hornby St (btwn Smithe & Robson St)",
              "Vancouver BC V6Z 2E7",
              "Canada"
             ],
             "labeledLatLngs": [
              {
               "label": "display",
               "lat": 49.282187144640716,
               "lng": -123.12233347636403
              }
             ],
             "lat": 49.282187144640716,
             "lng": -123.12233347636403,
             "postalCode": "V6Z 2E7",
             "state": "BC"
            },
            "name": "Bacchus Lounge",
            "photos": {
             "count": 0,
             "groups": []
            }
           }
          },
          {
           "reasons": {
            "count": 0,
            "items": [
             {
              "reasonName": "globalInteractionReason",
              "summary": "This spot is popular",
              "type": "general"
             }
            ]
           },
           "referralId": "e-3-4ac63a19f964a52046b320e3-16",
           "venue": {
            "categories": [
             {
              "icon": {
               "prefix": "https://ss3.4sqi.net/img/categories_v2/food/cafe_",
               "suffix": ".png"
              },
              "id": "4bf58dd8d48988d16d941735",
              "name": "Café",
              "pluralName": "Cafés",
              "primary": true,
              "shortName": "Café"
             }
            ],
            "id": "4ac63a19f964a52046b320e3",
            "location": {
             "address": "301 W Hastings",
             "cc": "CA",
             "city": "Vancouver",
             "country": "Canada",
             "crossStreet": "at Cambie St",
             "distance": 520,
             "formattedAddress": [
              "301 W Hastings (at Cambie St)",
              "Vancouver BC V6B 1G2",
              "Canada"
             ],
             "labeledLatLngs": [
              {
               "label": "display",
               "lat": 49.28289691979302,
               "lng": -123.11006472134046
              }
             ],
             "lat": 49.28289691979302,
             "lng": -123.11006472134046,
             "postalCode": "V6B 1G2",
             "state": "BC"
            },
            "name": "New Amsterdam Cafe",
            "photos": {
             "count": 0,
             "groups": []
            },
            "venuePage": {
             "id": "35602681"
            }
           }
          },
          {
           "reasons": {
            "count": 0,
            "items": [
             {
              "reasonName": "globalInteractionReason",
              "summary": "This spot is popular",
              "type": "general"
             }
            ]
           },
           "referralId": "e-3-4ab59f7cf964a520a97520e3-17",
           "venue": {
            "categories": [
             {
              "icon": {
               "prefix": "https://ss3.4sqi.net/img/categories_v2/food/seafood_",
               "suffix": ".png"
              },
              "id": "4bf58dd8d48988d1ce941735",
              "name": "Seafood Restaurant",
              "pluralName": "Seafood Restaurants",
              "primary": true,
              "shortName": "Seafood"
             }
            ],
            "id": "4ab59f7cf964a520a97520e3",
            "location": {
             "address": "777 Thurlow St",
             "cc": "CA",
             "city": "Vancouver",
             "country": "Canada",
             "crossStreet": "Robson St",
             "distance": 628,
             "formattedAddress": [
              "777 Thurlow St (Robson St)",
              "Vancouver BC V6E 3V5",
              "Canada"
             ],
             "labeledLatLngs": [
              {
               "label": "display",
               "lat": 49.28501742069146,
               "lng": -123.12440986218266
              }
             ],
             "lat": 49.28501742069146,
             "lng": -123.12440986218266,
             "postalCode": "V6E 3V5",
             "state": "BC"
            },
            "name": "Joe Fortes Seafood & Chop House",
            "photos": {
             "count": 0,
             "groups": []
            }
           }
          },
          {
           "reasons": {
            "count": 0,
            "items": [
             {
              "reasonName": "globalInteractionReason",
              "summary": "This spot is popular",
              "type": "general"
             }
            ]
           },
           "referralId": "e-3-4fb14574e4b0e047b2ebf605-18",
           "venue": {
            "categories": [
             {
              "icon": {
               "prefix": "https://ss3.4sqi.net/img/categories_v2/food/deli_",
               "suffix": ".png"
              },
              "id": "4bf58dd8d48988d1c5941735",
              "name": "Sandwich Place",
              "pluralName": "Sandwich Places",
              "primary": true,
              "shortName": "Sandwiches"
             }
            ],
            "id": "4fb14574e4b0e047b2ebf605",
            "location": {
             "address": "1033 W Pender St",
             "cc": "CA",
             "city": "Vancouver",
             "country": "Canada",
             "crossStreet": "btwn Thurlow & Burrard",
             "distance": 570,
             "formattedAddress": [
              "1033 W Pender St (btwn Thurlow & Burrard)",
              "Vancouver BC V6E 2M6",
              "Canada"
             ],
             "labeledLatLngs": [
              {
               "label": "display",
               "lat": 49.28702890977933,
               "lng": -123.11861855376539
              }
             ],
             "lat": 49.28702890977933,
             "lng": -123.11861855376539,
             "postalCode": "V6E 2M6",
             "state": "BC"
            },
            "name": "Meat & Bread",
            "photos": {
             "count": 0,
             "groups": []
            }
           }
          },
          {
           "reasons": {
            "count": 0,
            "items": [
             {
              "reasonName": "globalInteractionReason",
              "summary": "This spot is popular",
              "type": "general"
             }
            ]
           },
           "referralId": "e-3-56e71692498e78e8143f679d-19",
           "venue": {
            "categories": [
             {
              "icon": {
               "prefix": "https://ss3.4sqi.net/img/categories_v2/food/taco_",
               "suffix": ".png"
              },
              "id": "4bf58dd8d48988d151941735",
              "name": "Taco Place",
              "pluralName": "Taco Places",
              "primary": true,
              "shortName": "Tacos"
             }
            ],
            "id": "56e71692498e78e8143f679d",
            "location": {
             "address": "1025 Mainland St",
             "cc": "CA",
             "city": "Vancouver",
             "country": "Canada",
             "crossStreet": "Nelson",
             "distance": 641,
             "formattedAddress": [
              "1025 Mainland St (Nelson)",
              "Vancouver BC",
              "Canada"
             ],
             "labeledLatLngs": [
              {
               "label": "display",
               "lat": 49.276433,
               "lng": -123.119389
              }
             ],
             "lat": 49.276433,
             "lng": -123.119389,
             "state": "BC"
            },
            "name": "Tacofino",
            "photos": {
             "count": 0,
             "groups": []
            }
           }
          },
          {
           "reasons": {
            "count": 0,
            "items": [
             {
              "reasonName": "globalInteractionReason",
              "summary": "This spot is popular",
              "type": "general"
             }
            ]
           },
           "referralId": "e-3-4bfdb7bcf61dc9b6bb7a9fde-20",
           "venue": {
            "categories": [
             {
              "icon": {
               "prefix": "https://ss3.4sqi.net/img/categories_v2/food/steakhouse_",
               "suffix": ".png"
              },
              "id": "4bf58dd8d48988d1cc941735",
              "name": "Steakhouse",
              "pluralName": "Steakhouses",
              "primary": true,
              "shortName": "Steakhouse"
             }
            ],
            "id": "4bfdb7bcf61dc9b6bb7a9fde",
            "location": {
             "address": "637 Hornby St",
             "cc": "CA",
             "city": "Vancouver",
             "country": "Canada",
             "crossStreet": "btwn Dunsmuir & Georgia",
             "distance": 333,
             "formattedAddress": [
              "637 Hornby St (btwn Dunsmuir & Georgia)",
              "Vancouver BC V6C 2G2",
              "Canada"
             ],
             "labeledLatLngs": [
              {
               "label": "display",
               "lat": 49.28467585547085,
               "lng": -123.11916330540294
              }
             ],
             "lat": 49.28467585547085,
             "lng": -123.11916330540294,
             "postalCode": "V6C 2G2",
             "state": "BC"
            },
            "name": "Hy's Steakhouse",
            "photos": {
             "count": 0,
             "groups": []
            }
           }
          },
          {
           "reasons": {
            "count": 0,
            "items": [
             {
              "reasonName": "globalInteractionReason",
              "summary": "This spot is popular",
              "type": "general"
             }
            ]
           },
           "referralId": "e-3-4b6d04bcf964a52041632ce3-21",
           "venue": {
            "categories": [
             {
              "icon": {
               "prefix": "https://ss3.4sqi.net/img/categories_v2/food/italian_",
               "suffix": ".png"
              },
              "id": "4bf58dd8d48988d110941735",
              "name": "Italian Restaurant",
              "pluralName": "Italian Restaurants",
              "primary": true,
              "shortName": "Italian"
             }
            ],
            "id": "4b6d04bcf964a52041632ce3",
            "location": {
             "address": "869 Hamilton St",
             "cc": "CA",
             "city": "Vancouver",
             "country": "Canada",
             "crossStreet": "btwn Smithe & Robson",
             "distance": 433,
             "formattedAddress": [
              "869 Hamilton St (btwn Smithe & Robson)",
              "Vancouver BC V6B 2R7",
              "Canada"
             ],
             "labeledLatLngs": [
              {
               "label": "display",
               "lat": 49.27810818125747,
               "lng": -123.11741981940112
              }
             ],
             "lat": 49.27810818125747,
             "lng": -123.11741981940112,
             "postalCode": "V6B 2R7",
             "state": "BC"
            },
            "name": "Lupo",
            "photos": {
             "count": 0,
             "groups": []
            }
           }
          },
          {
           "reasons": {
            "count": 0,
            "items": [
             {
              "reasonName": "globalInteractionReason",
              "summary": "This spot is popular",
              "type": "general"
             }
            ]
           },
           "referralId": "e-3-50574432e4b0e7a978f3c474-22",
           "venue": {
            "categories": [
             {
              "icon": {
               "prefix": "https://ss3.4sqi.net/img/categories_v2/food/italian_",
               "suffix": ".png"
              },
              "id": "4bf58dd8d48988d110941735",
              "name": "Italian Restaurant",
              "pluralName": "Italian Restaurants",
              "primary": true,
              "shortName": "Italian"
             }
            ],
            "id": "50574432e4b0e7a978f3c474",
            "location": {
             "address": "1011 Hamilton St.",
             "cc": "CA",
             "city": "Vancouver",
             "country": "Canada",
             "crossStreet": "btwn Nelson & Helmcken",
             "distance": 626,
             "formattedAddress": [
              "1011 Hamilton St. (btwn Nelson & Helmcken)",
              "Vancouver BC V6B 5T4",
              "Canada"
             ],
             "labeledLatLngs": [
              {
               "label": "display",
               "lat": 49.27673436926522,
               "lng": -123.12012815066782
              }
             ],
             "lat": 49.27673436926522,
             "lng": -123.12012815066782,
             "postalCode": "V6B 5T4",
             "state": "BC"
            },
            "name": "The Parlour",
            "photos": {
             "count": 0,
             "groups": []
            }
           }
          },
          {
           "reasons": {
            "count": 0,
            "items": [
             {
              "reasonName": "globalInteractionReason",
              "summary": "This spot is popular",
              "type": "general"
             }
            ]
           },
           "referralId": "e-3-571f842a498e10fa3180d4cd-23",
           "venue": {
            "categories": [
             {
              "icon": {
               "prefix": "https://ss3.4sqi.net/img/categories_v2/food/breakfast_",
               "suffix": ".png"
              },
              "id": "4bf58dd8d48988d143941735",
              "name": "Breakfast Spot",
              "pluralName": "Breakfast Spots",
              "primary": true,
              "shortName": "Breakfast"
             }
            ],
            "id": "571f842a498e10fa3180d4cd",
            "location": {
             "address": "556 Beatty St.",
             "cc": "CA",
             "city": "Vancouver",
             "country": "Canada",
             "distance": 556,
             "formattedAddress": [
              "556 Beatty St.",
              "Vancouver BC",
              "Canada"
             ],
             "labeledLatLngs": [
              {
               "label": "display",
               "lat": 49.280398288146756,
               "lng": -123.10983626871001
              }
             ],
             "lat": 49.280398288146756,
             "lng": -123.10983626871001,
             "state": "BC"
            },
            "name": "Jam Cafe",
            "photos": {
             "count": 0,
             "groups": []
            }
           }
          },
          {
           "reasons": {
            "count": 0,
            "items": [
             {
              "reasonName": "globalInteractionReason",
              "summary": "This spot is popular",
              "type": "general"
             }
            ]
           },
           "referralId": "e-3-4e68206a8877085d2852133b-24",
           "venue": {
            "categories": [
             {
              "icon": {
               "prefix": "https://ss3.4sqi.net/img/categories_v2/food/japanese_",
               "suffix": ".png"
              },
              "id": "4bf58dd8d48988d111941735",
              "name": "Japanese Restaurant",
              "pluralName": "Japanese Restaurants",
              "primary": true,
              "shortName": "Japanese"
             }
            ],
            "id": "4e68206a8877085d2852133b",
            "location": {
             "address": "G3-888 Nelson St.",
             "cc": "CA",
             "city": "Vancouver",
             "country": "Canada",
             "crossStreet": "at Hornby St.",
             "distance": 593,
             "formattedAddress": [
              "G3-888 Nelson St. (at Hornby St.)",
              "Vancouver BC V6Z 2H1",
              "Canada"
             ],
             "labeledLatLngs": [
              {
               "label": "display",
               "lat": 49.28027716380092,
               "lng": -123.12483759025491
              }
             ],
             "lat": 49.28027716380092,
             "lng": -123.12483759025491,
             "postalCode": "V6Z 2H1",
             "state": "BC"
            },
            "name": "Gyu-Kaku Japanese BBQ",
            "photos": {
             "count": 0,
             "groups": []
            }
           }
          },
          {
           "reasons": {
            "count": 0,
            "items": [
             {
              "reasonName": "globalInteractionReason",
              "summary": "This spot is popular",
              "type": "general"
             }
            ]
           },
           "referralId": "e-3-4aa942d5f964a520ba5220e3-25",
           "venue": {
            "categories": [
             {
              "icon": {
               "prefix": "https://ss3.4sqi.net/img/categories_v2/food/seafood_",
               "suffix": ".png"
              },
              "id": "4bf58dd8d48988d1ce941735",
              "name": "Seafood Restaurant",
              "pluralName": "Seafood Restaurants",
              "primary": true,
              "shortName": "Seafood"
             }
            ],
            "id": "4aa942d5f964a520ba5220e3",
            "location": {
             "address": "1095 Hamilton St",
             "cc": "CA",
             "city": "Vancouver",
             "country": "Canada",
             "crossStreet": "at Helmcken St",
             "distance": 711,
             "formattedAddress": [
              "1095 Hamilton St (at Helmcken St)",
              "Vancouver BC V6B 5T4",
              "Canada"
             ],
             "labeledLatLngs": [
              {
               "label": "display",
               "lat": 49.27616536589696,
               "lng": -123.12110447015738
              }
             ],
             "lat": 49.27616536589696,
             "lng": -123.12110447015738,
             "postalCode": "V6B 5T4",
             "state": "BC"
            },
            "name": "Blue Water Cafe + Raw Bar",
            "photos": {
             "count": 0,
             "groups": []
            }
           }
          },
          {
           "reasons": {
            "count": 0,
            "items": [
             {
              "reasonName": "globalInteractionReason",
              "summary": "This spot is popular",
              "type": "general"
             }
            ]
           },
           "referralId": "e-3-4fac04c2e4b0685b5b224d9d-26",
           "venue": {
            "categories": [
             {
              "icon": {
               "prefix": "https://ss3.4sqi.net/img/categories_v2/food/japanese_",
               "suffix": ".png"
              },
              "id": "4bf58dd8d48988d111941735",
              "name": "Japanese Restaurant",
              "pluralName": "Japanese Restaurants",
              "primary": true,
              "shortName": "Japanese"
             }
            ],
            "id": "4fac04c2e4b0685b5b224d9d",
            "location": {
             "address": "1118 Mainland St",
             "cc": "CA",
             "city": "Vancouver",
             "country": "Canada",
             "crossStreet": "at Helmcken St.",
             "distance": 789,
             "formattedAddress": [
              "1118 Mainland St (at Helmcken St.)",
              "Vancouver BC V6B 2T9",
              "Canada"
             ],
             "labeledLatLngs": [
              {
               "label": "display",
               "lat": 49.275341077987406,
               "lng": -123.12085632170566
              }
             ],
             "lat": 49.275341077987406,
             "lng": -123.12085632170566,
             "postalCode": "V6B 2T9",
             "state": "BC"
            },
            "name": "Minami",
            "photos": {
             "count": 0,
             "groups": []
            }
           }
          },
          {
           "reasons": {
            "count": 0,
            "items": [
             {
              "reasonName": "globalInteractionReason",
              "summary": "This spot is popular",
              "type": "general"
             }
            ]
           },
           "referralId": "e-3-4df90ab7a809df9984eb9beb-27",
           "venue": {
            "categories": [
             {
              "icon": {
               "prefix": "https://ss3.4sqi.net/img/categories_v2/food/streetfood_",
               "suffix": ".png"
              },
              "id": "4bf58dd8d48988d1cb941735",
              "name": "Food Truck",
              "pluralName": "Food Trucks",
              "primary": true,
              "shortName": "Food Truck"
             }
            ],
            "id": "4df90ab7a809df9984eb9beb",
            "location": {
             "address": "Howe St.",
             "cc": "CA",
             "city": "Vancouver",
             "country": "Canada",
             "crossStreet": "at Robson St.",
             "distance": 535,
             "formattedAddress": [
              "Howe St. (at Robson St.)",
              "Vancouver BC",
              "Canada"
             ],
             "labeledLatLngs": [
              {
               "label": "display",
               "lat": 49.27981581084722,
               "lng": -123.12367275029091
              }
             ],
             "lat": 49.27981581084722,
             "lng": -123.12367275029091,
             "state": "BC"
            },
            "name": "Tacofino Cantina",
            "photos": {
             "count": 0,
             "groups": []
            }
           }
          },
          {
           "reasons": {
            "count": 0,
            "items": [
             {
              "reasonName": "globalInteractionReason",
              "summary": "This spot is popular",
              "type": "general"
             }
            ]
           },
           "referralId": "e-3-4b4be83af964a520fdaa26e3-28",
           "venue": {
            "categories": [
             {
              "icon": {
               "prefix": "https://ss3.4sqi.net/img/categories_v2/food/japanese_",
               "suffix": ".png"
              },
              "id": "4bf58dd8d48988d111941735",
              "name": "Japanese Restaurant",
              "pluralName": "Japanese Restaurants",
              "primary": true,
              "shortName": "Japanese"
             }
            ],
            "id": "4b4be83af964a520fdaa26e3",
            "location": {
             "address": "985 Hornby St",
             "cc": "CA",
             "city": "Vancouver",
             "country": "Canada",
             "crossStreet": "Nelson Street",
             "distance": 555,
             "formattedAddress": [
              "985 Hornby St (Nelson Street)",
              "Vancouver BC V6Z 1V3",
              "Canada"
             ],
             "labeledLatLngs": [
              {
               "label": "display",
               "lat": 49.28088036111347,
               "lng": -123.12455177307127
              }
             ],
             "lat": 49.28088036111347,
             "lng": -123.12455177307127,
             "neighborhood": "Financial District",
             "postalCode": "V6Z 1V3",
             "state": "BC"
            },
            "name": "Shizen Ya",
            "photos": {
             "count": 0,
             "groups": []
            }
           }
          },
          {
           "reasons": {
            "count": 0,
            "items": [
             {
              "reasonName": "globalInteractionReason",
              "summary": "This spot is popular",
              "type": "general"
             }
            ]
           },
           "referralId": "e-3-59b17359cf72a06947102770-29",
           "venue": {
            "categories": [
             {
              "icon": {
               "prefix": "https://ss3.4sqi.net/img/categories_v2/food/donuts_",
               "suffix": ".png"
              },
              "id": "4bf58dd8d48988d148941735",
              "name": "Donut Shop",
              "pluralName": "Donut Shops",
              "primary": true,
              "shortName": "Donuts"
             }
            ],
            "id": "59b17359cf72a06947102770",
            "location": {
             "address": "689 Thurlow",
             "cc": "CA",
             "city": "Vancouver",
             "country": "Canada",
             "distance": 604,
             "formattedAddress": [
              "689 Thurlow",
              "Vancouver BC V6E",
              "Canada"
             ],
             "labeledLatLngs": [
              {
               "label": "display",
               "lat": 49.28590822730904,
               "lng": -123.12288619354298
              }
             ],
             "lat": 49.28590822730904,
             "lng": -123.12288619354298,
             "neighborhood": "West End",
             "postalCode": "V6E",
             "state": "BC"
            },
            "name": "49th Parallel & Lucky's Doughnuts",
            "photos": {
             "count": 0,
             "groups": []
            }
           }
          },
          {
           "reasons": {
            "count": 0,
            "items": [
             {
              "reasonName": "globalInteractionReason",
              "summary": "This spot is popular",
              "type": "general"
             }
            ]
           },
           "referralId": "e-3-4abea310f964a520ff8e20e3-30",
           "venue": {
            "categories": [
             {
              "icon": {
               "prefix": "https://ss3.4sqi.net/img/categories_v2/food/default_",
               "suffix": ".png"
              },
              "id": "4bf58dd8d48988d1c4941735",
              "name": "Restaurant",
              "pluralName": "Restaurants",
              "primary": true,
              "shortName": "Restaurant"
             }
            ],
            "id": "4abea310f964a520ff8e20e3",
            "location": {
             "address": "162 Water St",
             "cc": "CA",
             "city": "Vancouver",
             "country": "Canada",
             "crossStreet": "btwn Cambie & Abbott",
             "distance": 683,
             "formattedAddress": [
              "162 Water St (btwn Cambie & Abbott)",
              "Vancouver BC V6B 2M9",
              "Canada"
             ],
             "labeledLatLngs": [
              {
               "label": "display",
               "lat": 49.284221965846754,
               "lng": -123.1083297558511
              }
             ],
             "lat": 49.284221965846754,
             "lng": -123.1083297558511,
             "postalCode": "V6B 2M9",
             "state": "BC"
            },
            "name": "Pourhouse",
            "photos": {
             "count": 0,
             "groups": []
            }
           }
          },
          {
           "reasons": {
            "count": 0,
            "items": [
             {
              "reasonName": "globalInteractionReason",
              "summary": "This spot is popular",
              "type": "general"
             }
            ]
           },
           "referralId": "e-3-4aa7ec7cf964a520064e20e3-31",
           "venue": {
            "categories": [
             {
              "icon": {
               "prefix": "https://ss3.4sqi.net/img/categories_v2/food/italian_",
               "suffix": ".png"
              },
              "id": "4bf58dd8d48988d110941735",
              "name": "Italian Restaurant",
              "pluralName": "Italian Restaurants",
              "primary": true,
              "shortName": "Italian"
             }
            ],
            "id": "4aa7ec7cf964a520064e20e3",
            "location": {
             "address": "1088 Cambie St.",
             "cc": "CA",
             "city": "Vancouver",
             "country": "Canada",
             "crossStreet": "at Pacific Blvd.",
             "distance": 805,
             "formattedAddress": [
              "1088 Cambie St. (at Pacific Blvd.)",
              "Vancouver BC V6B 6J5",
              "Canada"
             ],
             "labeledLatLngs": [
              {
               "label": "display",
               "lat": 49.27484877745373,
               "lng": -123.11877379671792
              }
             ],
             "lat": 49.27484877745373,
             "lng": -123.11877379671792,
             "postalCode": "V6B 6J5",
             "state": "BC"
            },
            "name": "La Terrazza Restaurant",
            "photos": {
             "count": 0,
             "groups": []
            }
           }
          },
          {
           "reasons": {
            "count": 0,
            "items": [
             {
              "reasonName": "globalInteractionReason",
              "summary": "This spot is popular",
              "type": "general"
             }
            ]
           },
           "referralId": "e-3-51742960498e908f74206e41-32",
           "venue": {
            "categories": [
             {
              "icon": {
               "prefix": "https://ss3.4sqi.net/img/categories_v2/food/burger_",
               "suffix": ".png"
              },
              "id": "4bf58dd8d48988d16c941735",
              "name": "Burger Joint",
              "pluralName": "Burger Joints",
              "primary": true,
              "shortName": "Burgers"
             }
            ],
            "id": "51742960498e908f74206e41",
            "location": {
             "address": "635 Robson Street",
             "cc": "CA",
             "city": "Vancouver",
             "country": "Canada",
             "crossStreet": "btwn Seymour & Granville",
             "distance": 176,
             "formattedAddress": [
              "635 Robson Street (btwn Seymour & Granville)",
              "Vancouver BC V6B 5J3",
              "Canada"
             ],
             "labeledLatLngs": [
              {
               "label": "display",
               "lat": 49.2810797,
               "lng": -123.119073
              }
             ],
             "lat": 49.2810797,
             "lng": -123.119073,
             "postalCode": "V6B 5J3",
             "state": "BC"
            },
            "name": "Five Guys",
            "photos": {
             "count": 0,
             "groups": []
            }
           }
          },
          {
           "reasons": {
            "count": 0,
            "items": [
             {
              "reasonName": "globalInteractionReason",
              "summary": "This spot is popular",
              "type": "general"
             }
            ]
           },
           "referralId": "e-3-4aa801e0f964a520ab4e20e3-33",
           "venue": {
            "categories": [
             {
              "icon": {
               "prefix": "https://ss3.4sqi.net/img/categories_v2/food/italian_",
               "suffix": ".png"
              },
              "id": "4bf58dd8d48988d110941735",
              "name": "Italian Restaurant",
              "pluralName": "Italian Restaurants",
              "primary": true,
              "shortName": "Italian"
             }
            ],
            "id": "4aa801e0f964a520ab4e20e3",
            "location": {
             "address": "1154 Robson St",
             "cc": "CA",
             "city": "Vancouver",
             "country": "Canada",
             "crossStreet": "btwn Bute and Thurlow",
             "distance": 751,
             "formattedAddress": [
              "1154 Robson St (btwn Bute and Thurlow)",
              "Vancouver BC V6E 1B2",
              "Canada"
             ],
             "labeledLatLngs": [
              {
               "label": "display",
               "lat": 49.28540195093551,
               "lng": -123.12603469495473
              }
             ],
             "lat": 49.28540195093551,
             "lng": -123.12603469495473,
             "postalCode": "V6E 1B2",
             "state": "BC"
            },
            "name": "CinCin",
            "photos": {
             "count": 0,
             "groups": []
            }
           }
          },
          {
           "reasons": {
            "count": 0,
            "items": [
             {
              "reasonName": "globalInteractionReason",
              "summary": "This spot is popular",
              "type": "general"
             }
            ]
           },
           "referralId": "e-3-546cfab4498e31fa52b38545-34",
           "venue": {
            "categories": [
             {
              "icon": {
               "prefix": "https://ss3.4sqi.net/img/categories_v2/food/bakery_",
               "suffix": ".png"
              },
              "id": "4bf58dd8d48988d16a941735",
              "name": "Bakery",
              "pluralName": "Bakeries",
              "primary": true,
              "shortName": "Bakery"
             }
            ],
            "id": "546cfab4498e31fa52b38545",
            "location": {
             "address": "1088 Homer St",
             "cc": "CA",
             "city": "Vancouver",
             "country": "Canada",
             "crossStreet": "btwn Helmcken & Nelson",
             "distance": 683,
             "formattedAddress": [
              "1088 Homer St (btwn Helmcken & Nelson)",
              "Vancouver BC",
              "Canada"
             ],
             "labeledLatLngs": [
              {
               "label": "display",
               "lat": 49.27651218171028,
               "lng": -123.12133631376243
              }
             ],
             "lat": 49.27651218171028,
             "lng": -123.12133631376243,
             "state": "BC"
            },
            "name": "Small Victory Bakery",
            "photos": {
             "count": 0,
             "groups": []
            }
           }
          },
          {
           "reasons": {
            "count": 0,
            "items": [
             {
              "reasonName": "globalInteractionReason",
              "summary": "This spot is popular",
              "type": "general"
             }
            ]
           },
           "referralId": "e-3-562ec593498e5c30aa4a4b61-35",
           "venue": {
            "categories": [
             {
              "icon": {
               "prefix": "https://ss3.4sqi.net/img/categories_v2/food/deli_",
               "suffix": ".png"
              },
              "id": "4bf58dd8d48988d146941735",
              "name": "Deli / Bodega",
              "pluralName": "Delis / Bodegas",
              "primary": true,
              "shortName": "Deli / Bodega"
             }
            ],
            "id": "562ec593498e5c30aa4a4b61",
            "location": {
             "address": "Granville",
             "cc": "CA",
             "country": "Canada",
             "crossStreet": "Dunsmuir",
             "distance": 168,
             "formattedAddress": [
              "Granville (Dunsmuir)",
              "Canada"
             ],
             "labeledLatLngs": [
              {
               "label": "display",
               "lat": 49.28350563014196,
               "lng": -123.11680259682993
              }
             ],
             "lat": 49.28350563014196,
             "lng": -123.11680259682993
            },
            "name": "Meinhardt",
            "photos": {
             "count": 0,
             "groups": []
            }
           }
          },
          {
           "reasons": {
            "count": 0,
            "items": [
             {
              "reasonName": "globalInteractionReason",
              "summary": "This spot is popular",
              "type": "general"
             }
            ]
           },
           "referralId": "e-3-4e2901b5b61c41a2f8a38ab3-36",
           "venue": {
            "categories": [
             {
              "icon": {
               "prefix": "https://ss3.4sqi.net/img/categories_v2/food/default_",
               "suffix": ".png"
              },
              "id": "4bf58dd8d48988d1c4941735",
              "name": "Restaurant",
              "pluralName": "Restaurants",
              "primary": true,
              "shortName": "Restaurant"
             }
            ],
            "id": "4e2901b5b61c41a2f8a38ab3",
            "location": {
             "address": "1168 Hamilton St",
             "cc": "CA",
             "city": "Vancouver",
             "country": "Canada",
             "crossStreet": "btwn Davie & Helmcken St",
             "distance": 836,
             "formattedAddress": [
              "1168 Hamilton St (btwn Davie & Helmcken St)",
              "Vancouver BC V6B 2S2",
              "Canada"
             ],
             "labeledLatLngs": [
              {
               "label": "display",
               "lat": 49.27526846272362,
               "lng": -123.12221995760233
              }
             ],
             "lat": 49.27526846272362,
             "lng": -123.12221995760233,
             "postalCode": "V6B 2S2",
             "state": "BC"
            },
            "name": "The Flying Pig Yaletown",
            "photos": {
             "count": 0,
             "groups": []
            }
           }
          },
          {
           "reasons": {
            "count": 0,
            "items": [
             {
              "reasonName": "globalInteractionReason",
              "summary": "This spot is popular",
              "type": "general"
             }
            ]
           },
           "referralId": "e-3-56bd4b6b498e49bd59cacab0-37",
           "venue": {
            "categories": [
             {
              "icon": {
               "prefix": "https://ss3.4sqi.net/img/categories_v2/food/vegetarian_",
               "suffix": ".png"
              },
              "id": "4bf58dd8d48988d1d3941735",
              "name": "Vegetarian / Vegan Restaurant",
              "pluralName": "Vegetarian / Vegan Restaurants",
              "primary": true,
              "shortName": "Vegetarian / Vegan"
             }
            ],
            "id": "56bd4b6b498e49bd59cacab0",
            "location": {
             "address": "12 Water St",
             "cc": "CA",
             "city": "Vancouver",
             "country": "Canada",
             "crossStreet": "btwn Abbott St & Carrall St",
             "distance": 901,
             "formattedAddress": [
              "12 Water St (btwn Abbott St & Carrall St)",
              "Vancouver BC",
              "Canada"
             ],
             "labeledLatLngs": [
              {
               "label": "display",
               "lat": 49.28330851123337,
               "lng": -123.10484811523834
              }
             ],
             "lat": 49.28330851123337,
             "lng": -123.10484811523834,
             "state": "BC"
            },
            "name": "Meet in Gastown",
            "photos": {
             "count": 0,
             "groups": []
            }
           }
          },
          {
           "reasons": {
            "count": 0,
            "items": [
             {
              "reasonName": "globalInteractionReason",
              "summary": "This spot is popular",
              "type": "general"
             }
            ]
           },
           "referralId": "e-3-4aa7ceb6f964a520504d20e3-38",
           "venue": {
            "categories": [
             {
              "icon": {
               "prefix": "https://ss3.4sqi.net/img/categories_v2/food/cafe_",
               "suffix": ".png"
              },
              "id": "4bf58dd8d48988d16d941735",
              "name": "Café",
              "pluralName": "Cafés",
              "primary": true,
              "shortName": "Café"
             }
            ],
            "id": "4aa7ceb6f964a520504d20e3",
            "location": {
             "address": "763 Hornby St",
             "cc": "CA",
             "city": "Vancouver",
             "country": "Canada",
             "crossStreet": "at Robson St.",
             "distance": 310,
             "formattedAddress": [
              "763 Hornby St (at Robson St.)",
              "Vancouver BC V6Z 1S2",
              "Canada"
             ],
             "labeledLatLngs": [
              {
               "label": "display",
               "lat": 49.28303732378452,
               "lng": -123.12107269550187
              }
             ],
             "lat": 49.28303732378452,
             "lng": -123.12107269550187,
             "postalCode": "V6Z 1S2",
             "state": "BC"
            },
            "name": "Caffè Artigiano",
            "photos": {
             "count": 0,
             "groups": []
            }
           }
          },
          {
           "reasons": {
            "count": 0,
            "items": [
             {
              "reasonName": "globalInteractionReason",
              "summary": "This spot is popular",
              "type": "general"
             }
            ]
           },
           "referralId": "e-3-4aaa9a0ef964a5208d5620e3-39",
           "venue": {
            "categories": [
             {
              "icon": {
               "prefix": "https://ss3.4sqi.net/img/categories_v2/food/default_",
               "suffix": ".png"
              },
              "id": "4bf58dd8d48988d14e941735",
              "name": "American Restaurant",
              "pluralName": "American Restaurants",
              "primary": true,
              "shortName": "American"
             }
            ],
            "id": "4aaa9a0ef964a5208d5620e3",
            "location": {
             "address": "588 Burrard St",
             "cc": "CA",
             "city": "Vancouver",
             "country": "Canada",
             "crossStreet": "at Dunsmuir St",
             "distance": 440,
             "formattedAddress": [
              "588 Burrard St (at Dunsmuir St)",
              "Vancouver BC V6C 0A8",
              "Canada"
             ],
             "labeledLatLngs": [
              {
               "label": "display",
               "lat": 49.285698787096095,
               "lng": -123.11924946282534
              }
             ],
             "lat": 49.285698787096095,
             "lng": -123.11924946282534,
             "postalCode": "V6C 0A8",
             "state": "BC"
            },
            "name": "Cactus Club Cafe",
            "photos": {
             "count": 0,
             "groups": []
            },
            "venuePage": {
             "id": "1360315491"
            }
           }
          },
          {
           "reasons": {
            "count": 0,
            "items": [
             {
              "reasonName": "globalInteractionReason",
              "summary": "This spot is popular",
              "type": "general"
             }
            ]
           },
           "referralId": "e-3-59d195e16f706a3692499c29-40",
           "venue": {
            "categories": [
             {
              "icon": {
               "prefix": "https://ss3.4sqi.net/img/categories_v2/food/default_",
               "suffix": ".png"
              },
              "id": "4bf58dd8d48988d1c4941735",
              "name": "Restaurant",
              "pluralName": "Restaurants",
              "primary": true,
              "shortName": "Restaurant"
             }
            ],
            "id": "59d195e16f706a3692499c29",
            "location": {
             "address": "39 Smythe",
             "cc": "CA",
             "city": "Vancouver",
             "country": "Canada",
             "distance": 823,
             "formattedAddress": [
              "39 Smythe",
              "Vancouver BC V6B",
              "Canada"
             ],
             "labeledLatLngs": [
              {
               "label": "display",
               "lat": 49.275093751761524,
               "lng": -123.11302372769076
              }
             ],
             "lat": 49.275093751761524,
             "lng": -123.11302372769076,
             "postalCode": "V6B",
             "state": "BC"
            },
            "name": "Honey Salt",
            "photos": {
             "count": 0,
             "groups": []
            }
           }
          },
          {
           "reasons": {
            "count": 0,
            "items": [
             {
              "reasonName": "globalInteractionReason",
              "summary": "This spot is popular",
              "type": "general"
             }
            ]
           },
           "referralId": "e-3-55831809498eb7238a4bd305-41",
           "venue": {
            "categories": [
             {
              "icon": {
               "prefix": "https://ss3.4sqi.net/img/categories_v2/food/vietnamese_",
               "suffix": ".png"
              },
              "id": "4bf58dd8d48988d14a941735",
              "name": "Vietnamese Restaurant",
              "pluralName": "Vietnamese Restaurants",
              "primary": true,
              "shortName": "Vietnamese"
             }
            ],
            "id": "55831809498eb7238a4bd305",
            "location": {
             "address": "550 W Hastings St",
             "cc": "CA",
             "city": "Vancouver",
             "country": "Canada",
             "distance": 433,
             "formattedAddress": [
              "550 W Hastings St",
              "Vancouver BC V6B 1L6",
              "Canada"
             ],
             "labeledLatLngs": [
              {
               "label": "display",
               "lat": 49.284309027597644,
               "lng": -123.11228960276179
              }
             ],
             "lat": 49.284309027597644,
             "lng": -123.11228960276179,
             "postalCode": "V6B 1L6",
             "state": "BC"
            },
            "name": "Pholicious",
            "photos": {
             "count": 0,
             "groups": []
            }
           }
          },
          {
           "reasons": {
            "count": 0,
            "items": [
             {
              "reasonName": "globalInteractionReason",
              "summary": "This spot is popular",
              "type": "general"
             }
            ]
           },
           "referralId": "e-3-59161314588e361ab53d608f-42",
           "venue": {
            "categories": [
             {
              "icon": {
               "prefix": "https://ss3.4sqi.net/img/categories_v2/food/taco_",
               "suffix": ".png"
              },
              "id": "4bf58dd8d48988d151941735",
              "name": "Taco Place",
              "pluralName": "Taco Places",
              "primary": true,
              "shortName": "Tacos"
             }
            ],
            "id": "59161314588e361ab53d608f",
            "location": {
             "address": "586 Hornby Street",
             "cc": "CA",
             "city": "Vancouver",
             "country": "Canada",
             "distance": 360,
             "formattedAddress": [
              "586 Hornby Street",
              "Vancouver BC V6C 2E8",
              "Canada"
             ],
             "labeledLatLngs": [
              {
               "label": "display",
               "lat": 49.28515757900479,
               "lng": -123.11818075140286
              }
             ],
             "lat": 49.28515757900479,
             "lng": -123.11818075140286,
             "postalCode": "V6C 2E8",
             "state": "BC"
            },
            "name": "La Taqueria Pinche Taco Shop",
            "photos": {
             "count": 0,
             "groups": []
            }
           }
          },
          {
           "reasons": {
            "count": 0,
            "items": [
             {
              "reasonName": "globalInteractionReason",
              "summary": "This spot is popular",
              "type": "general"
             }
            ]
           },
           "referralId": "e-3-595bfcb4a9fe12131dd57527-43",
           "venue": {
            "categories": [
             {
              "icon": {
               "prefix": "https://ss3.4sqi.net/img/categories_v2/food/default_",
               "suffix": ".png"
              },
              "id": "52e81612bcbc57f1066b79fe",
              "name": "Hawaiian Restaurant",
              "pluralName": "Hawaiian Restaurants",
              "primary": true,
              "shortName": "Hawaiian"
             }
            ],
            "id": "595bfcb4a9fe12131dd57527",
            "location": {
             "address": "Hornby St",
             "cc": "CA",
             "city": "Vancouver",
             "country": "Canada",
             "crossStreet": "Nelson",
             "distance": 586,
             "formattedAddress": [
              "Hornby St (Nelson)",
              "Vancouver BC V6Z",
              "Canada"
             ],
             "labeledLatLngs": [
              {
               "label": "display",
               "lat": 49.28057612571095,
               "lng": -123.12488281884048
              }
             ],
             "lat": 49.28057612571095,
             "lng": -123.12488281884048,
             "postalCode": "V6Z",
             "state": "BC"
            },
            "name": "Pokerrito",
            "photos": {
             "count": 0,
             "groups": []
            }
           }
          },
          {
           "reasons": {
            "count": 0,
            "items": [
             {
              "reasonName": "globalInteractionReason",
              "summary": "This spot is popular",
              "type": "general"
             }
            ]
           },
           "referralId": "e-3-524646a411d25e42600a0877-44",
           "venue": {
            "categories": [
             {
              "icon": {
               "prefix": "https://ss3.4sqi.net/img/categories_v2/food/pizza_",
               "suffix": ".png"
              },
              "id": "4bf58dd8d48988d1ca941735",
              "name": "Pizza Place",
              "pluralName": "Pizza Places",
              "primary": true,
              "shortName": "Pizza"
             }
            ],
            "id": "524646a411d25e42600a0877",
            "location": {
             "address": "189 Keefer Place",
             "cc": "CA",
             "city": "Vancouver",
             "country": "Canada",
             "distance": 682,
             "formattedAddress": [
              "189 Keefer Place",
              "Vancouver BC",
              "Canada"
             ],
             "labeledLatLngs": [
              {
               "label": "display",
               "lat": 49.279695405260796,
               "lng": -123.10839660012886
              }
             ],
             "lat": 49.279695405260796,
             "lng": -123.10839660012886,
             "state": "BC"
            },
            "name": "Pizzeria Ludica",
            "photos": {
             "count": 0,
             "groups": []
            }
           }
          },
          {
           "reasons": {
            "count": 0,
            "items": [
             {
              "reasonName": "globalInteractionReason",
              "summary": "This spot is popular",
              "type": "general"
             }
            ]
           },
           "referralId": "e-3-56528544498e8520771229fc-45",
           "venue": {
            "categories": [
             {
              "icon": {
               "prefix": "https://ss3.4sqi.net/img/categories_v2/food/burrito_",
               "suffix": ".png"
              },
              "id": "4bf58dd8d48988d153941735",
              "name": "Burrito Place",
              "pluralName": "Burrito Places",
              "primary": true,
              "shortName": "Burritos"
             }
            ],
            "id": "56528544498e8520771229fc",
            "location": {
             "address": "988 Granville St",
             "cc": "CA",
             "city": "Vancouver",
             "country": "Canada",
             "crossStreet": "at Nelson St",
             "distance": 515,
             "formattedAddress": [
              "988 Granville St (at Nelson St)",
              "Vancouver BC V6Z 1L2",
              "Canada"
             ],
             "labeledLatLngs": [
              {
               "label": "display",
               "lat": 49.279320994572636,
               "lng": -123.12289526638855
              }
             ],
             "lat": 49.279320994572636,
             "lng": -123.12289526638855,
             "neighborhood": "Downtown Vancouver, Vancouver, BC",
             "postalCode": "V6Z 1L2",
             "state": "BC"
            },
            "name": "hungry guys",
            "photos": {
             "count": 0,
             "groups": []
            }
           }
          },
          {
           "reasons": {
            "count": 0,
            "items": [
             {
              "reasonName": "globalInteractionReason",
              "summary": "This spot is popular",
              "type": "general"
             }
            ]
           },
           "referralId": "e-3-5af8880a838e59002ce2d728-46",
           "venue": {
            "categories": [
             {
              "icon": {
               "prefix": "https://ss3.4sqi.net/img/categories_v2/food/bakery_",
               "suffix": ".png"
              },
              "id": "4bf58dd8d48988d16a941735",
              "name": "Bakery",
              "pluralName": "Bakeries",
              "primary": true,
              "shortName": "Bakery"
             }
            ],
            "id": "5af8880a838e59002ce2d728",
            "location": {
             "address": "1036 Mainland Street",
             "cc": "CA",
             "city": "Vancouver",
             "country": "Canada",
             "distance": 701,
             "formattedAddress": [
              "1036 Mainland Street",
              "Vancouver BC V6B 2T4",
              "Canada"
             ],
             "labeledLatLngs": [
              {
               "label": "display",
               "lat": 49.275967,
               "lng": -123.119894
              }
             ],
             "lat": 49.275967,
             "lng": -123.119894,
             "neighborhood": "Yaletown",
             "postalCode": "V6B 2T4",
             "state": "BC"
            },
            "name": "Angus T",
            "photos": {
             "count": 0,
             "groups": []
            }
           }
          },
          {
           "reasons": {
            "count": 0,
            "items": [
             {
              "reasonName": "globalInteractionReason",
              "summary": "This spot is popular",
              "type": "general"
             }
            ]
           },
           "referralId": "e-3-5205bfe411d2d4fd57c20095-47",
           "venue": {
            "categories": [
             {
              "icon": {
               "prefix": "https://ss3.4sqi.net/img/categories_v2/food/gastropub_",
               "suffix": ".png"
              },
              "id": "4bf58dd8d48988d155941735",
              "name": "Gastropub",
              "pluralName": "Gastropubs",
              "primary": true,
              "shortName": "Gastropub"
             }
            ],
            "id": "5205bfe411d2d4fd57c20095",
            "location": {
             "address": "1055 Canada Pl.",
             "cc": "CA",
             "city": "Vancouver",
             "country": "Canada",
             "distance": 860,
             "formattedAddress": [
              "1055 Canada Pl.",
              "Vancouver BC",
              "Canada"
             ],
             "labeledLatLngs": [
              {
               "label": "display",
               "lat": 49.28973423347293,
               "lng": -123.11706320067701
              }
             ],
             "lat": 49.28973423347293,
             "lng": -123.11706320067701,
             "state": "BC"
            },
            "name": "Tap & Barrel",
            "photos": {
             "count": 0,
             "groups": []
            }
           }
          },
          {
           "reasons": {
            "count": 0,
            "items": [
             {
              "reasonName": "globalInteractionReason",
              "summary": "This spot is popular",
              "type": "general"
             }
            ]
           },
           "referralId": "e-3-4aa805ccf964a520cd4e20e3-48",
           "venue": {
            "categories": [
             {
              "icon": {
               "prefix": "https://ss3.4sqi.net/img/categories_v2/food/japanese_",
               "suffix": ".png"
              },
              "id": "4bf58dd8d48988d111941735",
              "name": "Japanese Restaurant",
              "pluralName": "Japanese Restaurants",
              "primary": true,
              "shortName": "Japanese"
             }
            ],
            "id": "4aa805ccf964a520cd4e20e3",
            "location": {
             "address": "838 Thurlow St.",
             "cc": "CA",
             "city": "Vancouver",
             "country": "Canada",
             "crossStreet": "btwn Robson & Haro",
             "distance": 655,
             "formattedAddress": [
              "838 Thurlow St. (btwn Robson & Haro)",
              "Vancouver BC V6E 1W2",
              "Canada"
             ],
             "labeledLatLngs": [
              {
               "label": "display",
               "lat": 49.28415096995824,
               "lng": -123.12550872715728
              }
             ],
             "lat": 49.28415096995824,
             "lng": -123.12550872715728,
             "neighborhood": "West End",
             "postalCode": "V6E 1W2",
             "state": "BC"
            },
            "name": "Guu Original",
            "photos": {
             "count": 0,
             "groups": []
            }
           }
          },
          {
           "reasons": {
            "count": 0,
            "items": [
             {
              "reasonName": "globalInteractionReason",
              "summary": "This spot is popular",
              "type": "general"
             }
            ]
           },
           "referralId": "e-3-5046578ae4b03314a3eeb5ef-49",
           "venue": {
            "categories": [
             {
              "icon": {
               "prefix": "https://ss3.4sqi.net/img/categories_v2/food/streetfood_",
               "suffix": ".png"
              },
              "id": "4bf58dd8d48988d1cb941735",
              "name": "Food Truck",
              "pluralName": "Food Trucks",
              "primary": true,
              "shortName": "Food Truck"
             }
            ],
            "id": "5046578ae4b03314a3eeb5ef",
            "location": {
             "address": "110 Dunsmuir St",
             "cc": "CA",
             "city": "Vancouver",
             "country": "Canada",
             "crossStreet": "Beatty St",
             "distance": 547,
             "formattedAddress": [
              "110 Dunsmuir St (Beatty St)",
              "Vancouver BC",
              "Canada"
             ],
             "labeledLatLngs": [
              {
               "label": "display",
               "lat": 49.279852661081726,
               "lng": -123.11032389040558
              }
             ],
             "lat": 49.279852661081726,
             "lng": -123.11032389040558,
             "state": "BC"
            },
            "name": "Yolk's Breakfast",
            "photos": {
             "count": 0,
             "groups": []
            },
            "venuePage": {
             "id": "70810468"
            }
           }
          }
         ],
         "name": "recommended",
         "type": "Recommended Places"
        }
       ],
       "headerFullLocation": "Vancouver",
       "headerLocation": "Vancouver",
       "headerLocationGranularity": "city",
       "query": "food",
       "suggestedBounds": {
        "ne": {
         "lat": 49.309000027000025,
         "lng": -123.07578755935614
        },
        "sw": {
         "lat": 49.25499997299997,
         "lng": -123.15841244064384
        }
       },
       "suggestedFilters": {
        "filters": [
         {
          "key": "openNow",
          "name": "Open now"
         }
        ],
        "header": "Tap to show:"
       },
       "totalResults": 250
      },
      "text/plain": [
       "<IPython.core.display.JSON object>"
      ]
     },
     "execution_count": 18,
     "metadata": {
      "application/json": {
       "expanded": false,
       "root": "root"
      }
     },
     "output_type": "execute_result"
    }
   ],
   "source": [
    "JSON(fs_restaurants)"
   ]
  },
  {
   "cell_type": "markdown",
   "metadata": {},
   "source": [
    "Looking at the output from the above API, we can see that we obtain information regarding restaurant name and address. Thus, to get the ratings, review counts, and price, we need to obtain more details about each of the recommended restaurants using a separate API call by passing in each venue ID. "
   ]
  },
  {
   "cell_type": "code",
   "execution_count": 20,
   "metadata": {},
   "outputs": [],
   "source": [
    "fs_restaurant_name = []\n",
    "fs_restaurant_id = []\n",
    "\n",
    "for restaurant in fs_restaurants['groups'][0]['items']:\n",
    "    fs_restaurant_name.append(restaurant['venue']['name'])\n",
    "    fs_restaurant_id.append(restaurant['venue']['id'])"
   ]
  },
  {
   "cell_type": "code",
   "execution_count": 22,
   "metadata": {},
   "outputs": [],
   "source": [
    "fs_restaurant_dict = {'name': [], 'address': [], \n",
    "                      'city': [], 'province': [],\n",
    "                      'postal_code': [], 'rating': [],\n",
    "                      'review_count': [], 'price': []}"
   ]
  },
  {
   "cell_type": "code",
   "execution_count": null,
   "metadata": {},
   "outputs": [],
   "source": [
    "for fs_id in fs_restaurant_id:\n",
    "\n",
    "    data = client.venues(fs_id)\n",
    "    name = data['venue']['name']\n",
    "    \n",
    "    try: \n",
    "        address = data['venue']['location']['address']\n",
    "    except:\n",
    "        address = \"\"\n",
    "    \n",
    "    try: \n",
    "        city = data['venue']['location']['city']\n",
    "    except:\n",
    "        city = \"\"\n",
    "   \n",
    "    try: \n",
    "        province = data['venue']['location']['state']\n",
    "    except:\n",
    "        province = \"\"\n",
    "    \n",
    "    try:\n",
    "        post_code = data['venue']['location']['postalCode']\n",
    "    except:\n",
    "        post_code = 0\n",
    "    \n",
    "    try:\n",
    "        rating = data['venue']['rating']\n",
    "    except:\n",
    "        rating = 0\n",
    "    \n",
    "    try: \n",
    "        review = data['venue']['likes']['count']\n",
    "    except:\n",
    "        review = 0\n",
    "    \n",
    "    try:\n",
    "        price = data['venue']['price']['tier']\n",
    "    except:\n",
    "        price = 0\n",
    "    \n",
    "    fs_restaurant_dict['name'].append(name)\n",
    "    fs_restaurant_dict['address'].append(address)\n",
    "    fs_restaurant_dict['city'].append(city)\n",
    "    fs_restaurant_dict['province'].append(province)\n",
    "    fs_restaurant_dict['postal_code'].append(post_code)\n",
    "    fs_restaurant_dict['rating'].append(rating)\n",
    "    fs_restaurant_dict['review_count'].append(review)\n",
    "    fs_restaurant_dict['price'].append(price)"
   ]
  },
  {
   "cell_type": "code",
   "execution_count": 44,
   "metadata": {},
   "outputs": [],
   "source": [
    "fs_restaurants_df = pd.DataFrame(fs_restaurant_dict)"
   ]
  },
  {
   "cell_type": "code",
   "execution_count": 45,
   "metadata": {},
   "outputs": [
    {
     "data": {
      "text/html": [
       "<div>\n",
       "<style scoped>\n",
       "    .dataframe tbody tr th:only-of-type {\n",
       "        vertical-align: middle;\n",
       "    }\n",
       "\n",
       "    .dataframe tbody tr th {\n",
       "        vertical-align: top;\n",
       "    }\n",
       "\n",
       "    .dataframe thead th {\n",
       "        text-align: right;\n",
       "    }\n",
       "</style>\n",
       "<table border=\"1\" class=\"dataframe\">\n",
       "  <thead>\n",
       "    <tr style=\"text-align: right;\">\n",
       "      <th></th>\n",
       "      <th>name</th>\n",
       "      <th>address</th>\n",
       "      <th>city</th>\n",
       "      <th>province</th>\n",
       "      <th>postal_code</th>\n",
       "      <th>rating</th>\n",
       "      <th>review_count</th>\n",
       "      <th>price</th>\n",
       "    </tr>\n",
       "  </thead>\n",
       "  <tbody>\n",
       "    <tr>\n",
       "      <th>0</th>\n",
       "      <td>Gotham Steakhouse &amp; Cocktail Bar</td>\n",
       "      <td>615 Seymour St.</td>\n",
       "      <td>Vancouver</td>\n",
       "      <td>BC</td>\n",
       "      <td>V6B 3K3</td>\n",
       "      <td>9.2</td>\n",
       "      <td>117</td>\n",
       "      <td>4</td>\n",
       "    </tr>\n",
       "    <tr>\n",
       "      <th>1</th>\n",
       "      <td>Medina Café</td>\n",
       "      <td>780 Richards St</td>\n",
       "      <td>Vancouver</td>\n",
       "      <td>BC</td>\n",
       "      <td>V6B 2L3</td>\n",
       "      <td>8.9</td>\n",
       "      <td>789</td>\n",
       "      <td>2</td>\n",
       "    </tr>\n",
       "    <tr>\n",
       "      <th>2</th>\n",
       "      <td>The Keg Steakhouse + Bar - Dunsmuir</td>\n",
       "      <td>688 Dunsmuir Street</td>\n",
       "      <td>Vancouver</td>\n",
       "      <td>BC</td>\n",
       "      <td>V6B 1N3</td>\n",
       "      <td>8.7</td>\n",
       "      <td>158</td>\n",
       "      <td>2</td>\n",
       "    </tr>\n",
       "    <tr>\n",
       "      <th>3</th>\n",
       "      <td>Meat &amp; Bread</td>\n",
       "      <td>370 Cambie St</td>\n",
       "      <td>Vancouver</td>\n",
       "      <td>BC</td>\n",
       "      <td>V6B 2N3</td>\n",
       "      <td>9.2</td>\n",
       "      <td>468</td>\n",
       "      <td>2</td>\n",
       "    </tr>\n",
       "    <tr>\n",
       "      <th>4</th>\n",
       "      <td>Le Crocodile Restaurant</td>\n",
       "      <td>909 Burrard St</td>\n",
       "      <td>Vancouver</td>\n",
       "      <td>BC</td>\n",
       "      <td>V6Z 2N2</td>\n",
       "      <td>9.2</td>\n",
       "      <td>63</td>\n",
       "      <td>4</td>\n",
       "    </tr>\n",
       "  </tbody>\n",
       "</table>\n",
       "</div>"
      ],
      "text/plain": [
       "                                  name              address       city  \\\n",
       "0     Gotham Steakhouse & Cocktail Bar      615 Seymour St.  Vancouver   \n",
       "1                          Medina Café      780 Richards St  Vancouver   \n",
       "2  The Keg Steakhouse + Bar - Dunsmuir  688 Dunsmuir Street  Vancouver   \n",
       "3                         Meat & Bread        370 Cambie St  Vancouver   \n",
       "4              Le Crocodile Restaurant       909 Burrard St  Vancouver   \n",
       "\n",
       "  province postal_code  rating  review_count  price  \n",
       "0       BC     V6B 3K3     9.2           117      4  \n",
       "1       BC     V6B 2L3     8.9           789      2  \n",
       "2       BC     V6B 1N3     8.7           158      2  \n",
       "3       BC     V6B 2N3     9.2           468      2  \n",
       "4       BC     V6Z 2N2     9.2            63      4  "
      ]
     },
     "execution_count": 45,
     "metadata": {},
     "output_type": "execute_result"
    }
   ],
   "source": [
    "fs_restaurants_df.head(5)"
   ]
  },
  {
   "cell_type": "markdown",
   "metadata": {},
   "source": [
    "## Data Cleaning\n",
    "\n",
    "Looking at the raw dataframes generated using Yelp and FourSquare's API, we notice a few things different between the data generated between the two APIs. 1) They have a different rating scale (out of 10 instead of out of 5) and 2) They have a different price \"unit\" (integers instead of strings). We need to take these considerations into account in order to perform a fair comparison amongst the dataset. To do so, we'll normalize the ratings and change the dollar units into an integer. We can also add a column to label where each dataset came from. Once we've cleaned the dataset, we can also store it into an excel file, in case things go wrong!"
   ]
  },
  {
   "cell_type": "markdown",
   "metadata": {},
   "source": [
    "### Cleaning Yelp DataFrame"
   ]
  },
  {
   "cell_type": "code",
   "execution_count": 72,
   "metadata": {},
   "outputs": [],
   "source": [
    "yelp_df = yelp_restaurants_df.copy()\n",
    "yelp_df['api'] = 'yelp'\n",
    "yelp_df['rating'] = round(yelp_df['rating']/5, 2)"
   ]
  },
  {
   "cell_type": "code",
   "execution_count": 73,
   "metadata": {},
   "outputs": [],
   "source": [
    "def change_price(price):\n",
    "    if price == \"$\":\n",
    "        return 1\n",
    "    elif price == \"$$\":\n",
    "        return 2\n",
    "    elif price == \"$$$\":\n",
    "        return 3\n",
    "    elif price == \"$$$$\":\n",
    "        return 4\n",
    "    else:\n",
    "        return 0"
   ]
  },
  {
   "cell_type": "code",
   "execution_count": 74,
   "metadata": {},
   "outputs": [],
   "source": [
    "yelp_df['price'] = yelp_df['price'].map(change_price)"
   ]
  },
  {
   "cell_type": "code",
   "execution_count": 75,
   "metadata": {},
   "outputs": [
    {
     "data": {
      "text/html": [
       "<div>\n",
       "<style scoped>\n",
       "    .dataframe tbody tr th:only-of-type {\n",
       "        vertical-align: middle;\n",
       "    }\n",
       "\n",
       "    .dataframe tbody tr th {\n",
       "        vertical-align: top;\n",
       "    }\n",
       "\n",
       "    .dataframe thead th {\n",
       "        text-align: right;\n",
       "    }\n",
       "</style>\n",
       "<table border=\"1\" class=\"dataframe\">\n",
       "  <thead>\n",
       "    <tr style=\"text-align: right;\">\n",
       "      <th></th>\n",
       "      <th>name</th>\n",
       "      <th>address</th>\n",
       "      <th>city</th>\n",
       "      <th>province</th>\n",
       "      <th>postal_code</th>\n",
       "      <th>rating</th>\n",
       "      <th>review_count</th>\n",
       "      <th>price</th>\n",
       "      <th>api</th>\n",
       "    </tr>\n",
       "  </thead>\n",
       "  <tbody>\n",
       "    <tr>\n",
       "      <th>0</th>\n",
       "      <td>Medina Cafe</td>\n",
       "      <td>780 Richards Street</td>\n",
       "      <td>Vancouver</td>\n",
       "      <td>BC</td>\n",
       "      <td>V6B 3A4</td>\n",
       "      <td>0.8</td>\n",
       "      <td>2309</td>\n",
       "      <td>2</td>\n",
       "      <td>yelp</td>\n",
       "    </tr>\n",
       "    <tr>\n",
       "      <th>1</th>\n",
       "      <td>The Flying Pig - Yaletown</td>\n",
       "      <td>1168 Hamilton Street</td>\n",
       "      <td>Vancouver</td>\n",
       "      <td>BC</td>\n",
       "      <td>V6B 2S2</td>\n",
       "      <td>0.8</td>\n",
       "      <td>1090</td>\n",
       "      <td>2</td>\n",
       "      <td>yelp</td>\n",
       "    </tr>\n",
       "    <tr>\n",
       "      <th>2</th>\n",
       "      <td>Le Crocodile Restaurant</td>\n",
       "      <td>909 Burrard Street</td>\n",
       "      <td>Vancouver</td>\n",
       "      <td>BC</td>\n",
       "      <td>V6Z 2N2</td>\n",
       "      <td>0.9</td>\n",
       "      <td>386</td>\n",
       "      <td>4</td>\n",
       "      <td>yelp</td>\n",
       "    </tr>\n",
       "    <tr>\n",
       "      <th>3</th>\n",
       "      <td>Fanny Bay Oyster Bar &amp; Shellfish Market</td>\n",
       "      <td>762 Cambie St</td>\n",
       "      <td>Vancouver</td>\n",
       "      <td>BC</td>\n",
       "      <td>V6B 2P2</td>\n",
       "      <td>0.9</td>\n",
       "      <td>575</td>\n",
       "      <td>2</td>\n",
       "      <td>yelp</td>\n",
       "    </tr>\n",
       "    <tr>\n",
       "      <th>4</th>\n",
       "      <td>Chambar</td>\n",
       "      <td>568 Beatty Street</td>\n",
       "      <td>Vancouver</td>\n",
       "      <td>BC</td>\n",
       "      <td>V6B 2L3</td>\n",
       "      <td>0.8</td>\n",
       "      <td>1363</td>\n",
       "      <td>3</td>\n",
       "      <td>yelp</td>\n",
       "    </tr>\n",
       "  </tbody>\n",
       "</table>\n",
       "</div>"
      ],
      "text/plain": [
       "                                      name               address       city  \\\n",
       "0                              Medina Cafe   780 Richards Street  Vancouver   \n",
       "1                The Flying Pig - Yaletown  1168 Hamilton Street  Vancouver   \n",
       "2                  Le Crocodile Restaurant    909 Burrard Street  Vancouver   \n",
       "3  Fanny Bay Oyster Bar & Shellfish Market         762 Cambie St  Vancouver   \n",
       "4                                  Chambar     568 Beatty Street  Vancouver   \n",
       "\n",
       "  province postal_code  rating  review_count  price   api  \n",
       "0       BC     V6B 3A4     0.8          2309      2  yelp  \n",
       "1       BC     V6B 2S2     0.8          1090      2  yelp  \n",
       "2       BC     V6Z 2N2     0.9           386      4  yelp  \n",
       "3       BC     V6B 2P2     0.9           575      2  yelp  \n",
       "4       BC     V6B 2L3     0.8          1363      3  yelp  "
      ]
     },
     "execution_count": 75,
     "metadata": {},
     "output_type": "execute_result"
    }
   ],
   "source": [
    "yelp_df.head(5)"
   ]
  },
  {
   "cell_type": "code",
   "execution_count": 38,
   "metadata": {},
   "outputs": [],
   "source": [
    "yelp_df.to_csv(\"yelp_restaurants.csv\")"
   ]
  },
  {
   "cell_type": "markdown",
   "metadata": {},
   "source": [
    "### Cleaning Four Square Data"
   ]
  },
  {
   "cell_type": "code",
   "execution_count": 51,
   "metadata": {},
   "outputs": [],
   "source": [
    "fs_df = fs_restaurants_df.copy()\n",
    "fs_df['api'] = 'foursquare'"
   ]
  },
  {
   "cell_type": "code",
   "execution_count": 52,
   "metadata": {},
   "outputs": [],
   "source": [
    "fs_df['rating'] = round(fs_restaurants_df['rating']/10, 1)"
   ]
  },
  {
   "cell_type": "code",
   "execution_count": 56,
   "metadata": {},
   "outputs": [],
   "source": [
    "fs_df['city'] = 'Vancouver'\n",
    "fs_df['province'] = \"BC\""
   ]
  },
  {
   "cell_type": "code",
   "execution_count": 58,
   "metadata": {},
   "outputs": [
    {
     "data": {
      "text/html": [
       "<div>\n",
       "<style scoped>\n",
       "    .dataframe tbody tr th:only-of-type {\n",
       "        vertical-align: middle;\n",
       "    }\n",
       "\n",
       "    .dataframe tbody tr th {\n",
       "        vertical-align: top;\n",
       "    }\n",
       "\n",
       "    .dataframe thead th {\n",
       "        text-align: right;\n",
       "    }\n",
       "</style>\n",
       "<table border=\"1\" class=\"dataframe\">\n",
       "  <thead>\n",
       "    <tr style=\"text-align: right;\">\n",
       "      <th></th>\n",
       "      <th>name</th>\n",
       "      <th>address</th>\n",
       "      <th>city</th>\n",
       "      <th>province</th>\n",
       "      <th>postal_code</th>\n",
       "      <th>rating</th>\n",
       "      <th>review_count</th>\n",
       "      <th>price</th>\n",
       "      <th>api</th>\n",
       "    </tr>\n",
       "  </thead>\n",
       "  <tbody>\n",
       "    <tr>\n",
       "      <th>0</th>\n",
       "      <td>Gotham Steakhouse &amp; Cocktail Bar</td>\n",
       "      <td>615 Seymour St.</td>\n",
       "      <td>Vancouver</td>\n",
       "      <td>BC</td>\n",
       "      <td>V6B 3K3</td>\n",
       "      <td>0.9</td>\n",
       "      <td>117</td>\n",
       "      <td>4</td>\n",
       "      <td>foursquare</td>\n",
       "    </tr>\n",
       "    <tr>\n",
       "      <th>1</th>\n",
       "      <td>Medina Café</td>\n",
       "      <td>780 Richards St</td>\n",
       "      <td>Vancouver</td>\n",
       "      <td>BC</td>\n",
       "      <td>V6B 2L3</td>\n",
       "      <td>0.9</td>\n",
       "      <td>789</td>\n",
       "      <td>2</td>\n",
       "      <td>foursquare</td>\n",
       "    </tr>\n",
       "    <tr>\n",
       "      <th>2</th>\n",
       "      <td>The Keg Steakhouse + Bar - Dunsmuir</td>\n",
       "      <td>688 Dunsmuir Street</td>\n",
       "      <td>Vancouver</td>\n",
       "      <td>BC</td>\n",
       "      <td>V6B 1N3</td>\n",
       "      <td>0.9</td>\n",
       "      <td>158</td>\n",
       "      <td>2</td>\n",
       "      <td>foursquare</td>\n",
       "    </tr>\n",
       "    <tr>\n",
       "      <th>3</th>\n",
       "      <td>Meat &amp; Bread</td>\n",
       "      <td>370 Cambie St</td>\n",
       "      <td>Vancouver</td>\n",
       "      <td>BC</td>\n",
       "      <td>V6B 2N3</td>\n",
       "      <td>0.9</td>\n",
       "      <td>468</td>\n",
       "      <td>2</td>\n",
       "      <td>foursquare</td>\n",
       "    </tr>\n",
       "    <tr>\n",
       "      <th>4</th>\n",
       "      <td>Le Crocodile Restaurant</td>\n",
       "      <td>909 Burrard St</td>\n",
       "      <td>Vancouver</td>\n",
       "      <td>BC</td>\n",
       "      <td>V6Z 2N2</td>\n",
       "      <td>0.9</td>\n",
       "      <td>63</td>\n",
       "      <td>4</td>\n",
       "      <td>foursquare</td>\n",
       "    </tr>\n",
       "  </tbody>\n",
       "</table>\n",
       "</div>"
      ],
      "text/plain": [
       "                                  name              address       city  \\\n",
       "0     Gotham Steakhouse & Cocktail Bar      615 Seymour St.  Vancouver   \n",
       "1                          Medina Café      780 Richards St  Vancouver   \n",
       "2  The Keg Steakhouse + Bar - Dunsmuir  688 Dunsmuir Street  Vancouver   \n",
       "3                         Meat & Bread        370 Cambie St  Vancouver   \n",
       "4              Le Crocodile Restaurant       909 Burrard St  Vancouver   \n",
       "\n",
       "  province postal_code  rating  review_count  price         api  \n",
       "0       BC     V6B 3K3     0.9           117      4  foursquare  \n",
       "1       BC     V6B 2L3     0.9           789      2  foursquare  \n",
       "2       BC     V6B 1N3     0.9           158      2  foursquare  \n",
       "3       BC     V6B 2N3     0.9           468      2  foursquare  \n",
       "4       BC     V6Z 2N2     0.9            63      4  foursquare  "
      ]
     },
     "execution_count": 58,
     "metadata": {},
     "output_type": "execute_result"
    }
   ],
   "source": [
    "fs_df.head(5)"
   ]
  },
  {
   "cell_type": "code",
   "execution_count": 59,
   "metadata": {},
   "outputs": [],
   "source": [
    "fs_df.to_csv(\"foursquare_restaurants.csv\")"
   ]
  },
  {
   "cell_type": "markdown",
   "metadata": {},
   "source": [
    "## Storing Data in a SQLite Database"
   ]
  },
  {
   "cell_type": "markdown",
   "metadata": {},
   "source": [
    "Now that both we've cleaned both FourSquare and Yelp data, we can store them into a SQLite database for future use (and for practice working with SQL!)"
   ]
  },
  {
   "cell_type": "code",
   "execution_count": 62,
   "metadata": {},
   "outputs": [],
   "source": [
    "import sqlite3 \n",
    "from sqlite3 import Error\n",
    "\n",
    "def create_connection(path):\n",
    "    connection = None\n",
    "    try:\n",
    "        connection = sqlite3.connect(path)\n",
    "        print(\"Connection to SQLite DB successful\")\n",
    "        return connection\n",
    "    except Error as e:\n",
    "        print(f\"The error '{e}' occured\")\n",
    "        return "
   ]
  },
  {
   "cell_type": "code",
   "execution_count": 63,
   "metadata": {},
   "outputs": [
    {
     "name": "stdout",
     "output_type": "stream",
     "text": [
      "Connection to SQLite DB successful\n"
     ]
    }
   ],
   "source": [
    "connection = create_connection(\"pointsofinterest.sqlite\")"
   ]
  },
  {
   "cell_type": "code",
   "execution_count": 64,
   "metadata": {},
   "outputs": [],
   "source": [
    "fs_df.to_sql('restaurants', connection, index=False)"
   ]
  },
  {
   "cell_type": "code",
   "execution_count": 65,
   "metadata": {},
   "outputs": [],
   "source": [
    "yelp_df.to_sql('restaurants', connection, index=False, if_exists=\"append\")"
   ]
  },
  {
   "cell_type": "code",
   "execution_count": 67,
   "metadata": {},
   "outputs": [
    {
     "data": {
      "text/html": [
       "<div>\n",
       "<style scoped>\n",
       "    .dataframe tbody tr th:only-of-type {\n",
       "        vertical-align: middle;\n",
       "    }\n",
       "\n",
       "    .dataframe tbody tr th {\n",
       "        vertical-align: top;\n",
       "    }\n",
       "\n",
       "    .dataframe thead th {\n",
       "        text-align: right;\n",
       "    }\n",
       "</style>\n",
       "<table border=\"1\" class=\"dataframe\">\n",
       "  <thead>\n",
       "    <tr style=\"text-align: right;\">\n",
       "      <th></th>\n",
       "      <th>name</th>\n",
       "      <th>address</th>\n",
       "      <th>city</th>\n",
       "      <th>province</th>\n",
       "      <th>postal_code</th>\n",
       "      <th>rating</th>\n",
       "      <th>review_count</th>\n",
       "      <th>price</th>\n",
       "      <th>api</th>\n",
       "    </tr>\n",
       "  </thead>\n",
       "  <tbody>\n",
       "    <tr>\n",
       "      <th>0</th>\n",
       "      <td>Gotham Steakhouse &amp; Cocktail Bar</td>\n",
       "      <td>615 Seymour St.</td>\n",
       "      <td>Vancouver</td>\n",
       "      <td>BC</td>\n",
       "      <td>V6B 3K3</td>\n",
       "      <td>0.9</td>\n",
       "      <td>117</td>\n",
       "      <td>4</td>\n",
       "      <td>foursquare</td>\n",
       "    </tr>\n",
       "    <tr>\n",
       "      <th>1</th>\n",
       "      <td>Medina Café</td>\n",
       "      <td>780 Richards St</td>\n",
       "      <td>Vancouver</td>\n",
       "      <td>BC</td>\n",
       "      <td>V6B 2L3</td>\n",
       "      <td>0.9</td>\n",
       "      <td>789</td>\n",
       "      <td>2</td>\n",
       "      <td>foursquare</td>\n",
       "    </tr>\n",
       "    <tr>\n",
       "      <th>2</th>\n",
       "      <td>The Keg Steakhouse + Bar - Dunsmuir</td>\n",
       "      <td>688 Dunsmuir Street</td>\n",
       "      <td>Vancouver</td>\n",
       "      <td>BC</td>\n",
       "      <td>V6B 1N3</td>\n",
       "      <td>0.9</td>\n",
       "      <td>158</td>\n",
       "      <td>2</td>\n",
       "      <td>foursquare</td>\n",
       "    </tr>\n",
       "    <tr>\n",
       "      <th>3</th>\n",
       "      <td>Meat &amp; Bread</td>\n",
       "      <td>370 Cambie St</td>\n",
       "      <td>Vancouver</td>\n",
       "      <td>BC</td>\n",
       "      <td>V6B 2N3</td>\n",
       "      <td>0.9</td>\n",
       "      <td>468</td>\n",
       "      <td>2</td>\n",
       "      <td>foursquare</td>\n",
       "    </tr>\n",
       "    <tr>\n",
       "      <th>4</th>\n",
       "      <td>Le Crocodile Restaurant</td>\n",
       "      <td>909 Burrard St</td>\n",
       "      <td>Vancouver</td>\n",
       "      <td>BC</td>\n",
       "      <td>V6Z 2N2</td>\n",
       "      <td>0.9</td>\n",
       "      <td>63</td>\n",
       "      <td>4</td>\n",
       "      <td>foursquare</td>\n",
       "    </tr>\n",
       "  </tbody>\n",
       "</table>\n",
       "</div>"
      ],
      "text/plain": [
       "                                  name              address       city  \\\n",
       "0     Gotham Steakhouse & Cocktail Bar      615 Seymour St.  Vancouver   \n",
       "1                          Medina Café      780 Richards St  Vancouver   \n",
       "2  The Keg Steakhouse + Bar - Dunsmuir  688 Dunsmuir Street  Vancouver   \n",
       "3                         Meat & Bread        370 Cambie St  Vancouver   \n",
       "4              Le Crocodile Restaurant       909 Burrard St  Vancouver   \n",
       "\n",
       "  province postal_code  rating  review_count  price         api  \n",
       "0       BC     V6B 3K3     0.9           117      4  foursquare  \n",
       "1       BC     V6B 2L3     0.9           789      2  foursquare  \n",
       "2       BC     V6B 1N3     0.9           158      2  foursquare  \n",
       "3       BC     V6B 2N3     0.9           468      2  foursquare  \n",
       "4       BC     V6Z 2N2     0.9            63      4  foursquare  "
      ]
     },
     "execution_count": 67,
     "metadata": {},
     "output_type": "execute_result"
    }
   ],
   "source": [
    "pd.read_sql(\"SELECT * FROM restaurants\", connection).head(5)"
   ]
  },
  {
   "cell_type": "markdown",
   "metadata": {},
   "source": [
    "## Comparing API Quality\n"
   ]
  },
  {
   "cell_type": "code",
   "execution_count": 76,
   "metadata": {},
   "outputs": [],
   "source": [
    "merged = yelp_df.append(fs_df)"
   ]
  },
  {
   "cell_type": "code",
   "execution_count": 77,
   "metadata": {},
   "outputs": [
    {
     "data": {
      "text/html": [
       "<div>\n",
       "<style scoped>\n",
       "    .dataframe tbody tr th:only-of-type {\n",
       "        vertical-align: middle;\n",
       "    }\n",
       "\n",
       "    .dataframe tbody tr th {\n",
       "        vertical-align: top;\n",
       "    }\n",
       "\n",
       "    .dataframe thead th {\n",
       "        text-align: right;\n",
       "    }\n",
       "</style>\n",
       "<table border=\"1\" class=\"dataframe\">\n",
       "  <thead>\n",
       "    <tr style=\"text-align: right;\">\n",
       "      <th></th>\n",
       "      <th>rating</th>\n",
       "      <th>review_count</th>\n",
       "      <th>price</th>\n",
       "    </tr>\n",
       "    <tr>\n",
       "      <th>api</th>\n",
       "      <th></th>\n",
       "      <th></th>\n",
       "      <th></th>\n",
       "    </tr>\n",
       "  </thead>\n",
       "  <tbody>\n",
       "    <tr>\n",
       "      <th>foursquare</th>\n",
       "      <td>0.848</td>\n",
       "      <td>145.54</td>\n",
       "      <td>1.92</td>\n",
       "    </tr>\n",
       "    <tr>\n",
       "      <th>yelp</th>\n",
       "      <td>0.834</td>\n",
       "      <td>431.70</td>\n",
       "      <td>1.84</td>\n",
       "    </tr>\n",
       "  </tbody>\n",
       "</table>\n",
       "</div>"
      ],
      "text/plain": [
       "            rating  review_count  price\n",
       "api                                    \n",
       "foursquare   0.848        145.54   1.92\n",
       "yelp         0.834        431.70   1.84"
      ]
     },
     "execution_count": 77,
     "metadata": {},
     "output_type": "execute_result"
    }
   ],
   "source": [
    "merged[['api', 'rating', 'review_count', 'price']].groupby('api').mean()"
   ]
  },
  {
   "cell_type": "code",
   "execution_count": 78,
   "metadata": {},
   "outputs": [],
   "source": [
    "merged_df = yelp_df.append(fs_df.drop_duplicates(subset=['name']))"
   ]
  },
  {
   "cell_type": "code",
   "execution_count": 79,
   "metadata": {},
   "outputs": [],
   "source": [
    "duplicates_df = merged_df[merged_df.duplicated(subset=['name'], keep=False)]\n",
    "final_df = duplicates_df.groupby(['name', 'api']).max().reset_index()\n",
    "final_df.to_csv(\"duplicates_df.csv\")"
   ]
  },
  {
   "cell_type": "code",
   "execution_count": 82,
   "metadata": {},
   "outputs": [
    {
     "data": {
      "text/html": [
       "<div>\n",
       "<style scoped>\n",
       "    .dataframe tbody tr th:only-of-type {\n",
       "        vertical-align: middle;\n",
       "    }\n",
       "\n",
       "    .dataframe tbody tr th {\n",
       "        vertical-align: top;\n",
       "    }\n",
       "\n",
       "    .dataframe thead th {\n",
       "        text-align: right;\n",
       "    }\n",
       "</style>\n",
       "<table border=\"1\" class=\"dataframe\">\n",
       "  <thead>\n",
       "    <tr style=\"text-align: right;\">\n",
       "      <th></th>\n",
       "      <th>name</th>\n",
       "      <th>api</th>\n",
       "      <th>address</th>\n",
       "      <th>city</th>\n",
       "      <th>province</th>\n",
       "      <th>postal_code</th>\n",
       "      <th>rating</th>\n",
       "      <th>review_count</th>\n",
       "      <th>price</th>\n",
       "    </tr>\n",
       "  </thead>\n",
       "  <tbody>\n",
       "    <tr>\n",
       "      <th>0</th>\n",
       "      <td>Chambar</td>\n",
       "      <td>foursquare</td>\n",
       "      <td>568 Beatty St</td>\n",
       "      <td>Vancouver</td>\n",
       "      <td>BC</td>\n",
       "      <td>V6B 2L3</td>\n",
       "      <td>0.9</td>\n",
       "      <td>390</td>\n",
       "      <td>3</td>\n",
       "    </tr>\n",
       "    <tr>\n",
       "      <th>1</th>\n",
       "      <td>Chambar</td>\n",
       "      <td>yelp</td>\n",
       "      <td>568 Beatty Street</td>\n",
       "      <td>Vancouver</td>\n",
       "      <td>BC</td>\n",
       "      <td>V6B 2L3</td>\n",
       "      <td>0.8</td>\n",
       "      <td>1363</td>\n",
       "      <td>3</td>\n",
       "    </tr>\n",
       "    <tr>\n",
       "      <th>2</th>\n",
       "      <td>Joe Fortes Seafood &amp; Chop House</td>\n",
       "      <td>foursquare</td>\n",
       "      <td>777 Thurlow St</td>\n",
       "      <td>Vancouver</td>\n",
       "      <td>BC</td>\n",
       "      <td>V6E 3V5</td>\n",
       "      <td>0.9</td>\n",
       "      <td>385</td>\n",
       "      <td>3</td>\n",
       "    </tr>\n",
       "    <tr>\n",
       "      <th>3</th>\n",
       "      <td>Joe Fortes Seafood &amp; Chop House</td>\n",
       "      <td>yelp</td>\n",
       "      <td>777 Thurlow Street</td>\n",
       "      <td>Vancouver</td>\n",
       "      <td>BC</td>\n",
       "      <td>V6E 3V5</td>\n",
       "      <td>0.8</td>\n",
       "      <td>1043</td>\n",
       "      <td>3</td>\n",
       "    </tr>\n",
       "    <tr>\n",
       "      <th>4</th>\n",
       "      <td>Kokoro Tokyo Mazesoba</td>\n",
       "      <td>foursquare</td>\n",
       "      <td>551 Seymore St</td>\n",
       "      <td>Vancouver</td>\n",
       "      <td>BC</td>\n",
       "      <td>V6B 3H6</td>\n",
       "      <td>0.8</td>\n",
       "      <td>23</td>\n",
       "      <td>1</td>\n",
       "    </tr>\n",
       "    <tr>\n",
       "      <th>5</th>\n",
       "      <td>Kokoro Tokyo Mazesoba</td>\n",
       "      <td>yelp</td>\n",
       "      <td>551 Seymour Street</td>\n",
       "      <td>Vancouver</td>\n",
       "      <td>BC</td>\n",
       "      <td>V6B 3H6</td>\n",
       "      <td>0.8</td>\n",
       "      <td>346</td>\n",
       "      <td>2</td>\n",
       "    </tr>\n",
       "    <tr>\n",
       "      <th>6</th>\n",
       "      <td>La Taqueria Pinche Taco Shop</td>\n",
       "      <td>foursquare</td>\n",
       "      <td>586 Hornby Street</td>\n",
       "      <td>Vancouver</td>\n",
       "      <td>BC</td>\n",
       "      <td>V6C 2E8</td>\n",
       "      <td>0.8</td>\n",
       "      <td>37</td>\n",
       "      <td>1</td>\n",
       "    </tr>\n",
       "    <tr>\n",
       "      <th>7</th>\n",
       "      <td>La Taqueria Pinche Taco Shop</td>\n",
       "      <td>yelp</td>\n",
       "      <td>322 W Hastings Street</td>\n",
       "      <td>Vancouver</td>\n",
       "      <td>BC</td>\n",
       "      <td>V8B 1K6</td>\n",
       "      <td>0.9</td>\n",
       "      <td>477</td>\n",
       "      <td>2</td>\n",
       "    </tr>\n",
       "    <tr>\n",
       "      <th>8</th>\n",
       "      <td>Le Crocodile Restaurant</td>\n",
       "      <td>foursquare</td>\n",
       "      <td>909 Burrard St</td>\n",
       "      <td>Vancouver</td>\n",
       "      <td>BC</td>\n",
       "      <td>V6Z 2N2</td>\n",
       "      <td>0.9</td>\n",
       "      <td>63</td>\n",
       "      <td>4</td>\n",
       "    </tr>\n",
       "    <tr>\n",
       "      <th>9</th>\n",
       "      <td>Le Crocodile Restaurant</td>\n",
       "      <td>yelp</td>\n",
       "      <td>909 Burrard Street</td>\n",
       "      <td>Vancouver</td>\n",
       "      <td>BC</td>\n",
       "      <td>V6Z 2N2</td>\n",
       "      <td>0.9</td>\n",
       "      <td>386</td>\n",
       "      <td>4</td>\n",
       "    </tr>\n",
       "    <tr>\n",
       "      <th>10</th>\n",
       "      <td>Lupo</td>\n",
       "      <td>foursquare</td>\n",
       "      <td>869 Hamilton St</td>\n",
       "      <td>Vancouver</td>\n",
       "      <td>BC</td>\n",
       "      <td>V6B 2R7</td>\n",
       "      <td>0.8</td>\n",
       "      <td>79</td>\n",
       "      <td>2</td>\n",
       "    </tr>\n",
       "    <tr>\n",
       "      <th>11</th>\n",
       "      <td>Lupo</td>\n",
       "      <td>yelp</td>\n",
       "      <td>869 Hamilton Street</td>\n",
       "      <td>Vancouver</td>\n",
       "      <td>BC</td>\n",
       "      <td>V6B 2R7</td>\n",
       "      <td>0.9</td>\n",
       "      <td>396</td>\n",
       "      <td>3</td>\n",
       "    </tr>\n",
       "    <tr>\n",
       "      <th>12</th>\n",
       "      <td>The Parlour</td>\n",
       "      <td>foursquare</td>\n",
       "      <td>1011 Hamilton St.</td>\n",
       "      <td>Vancouver</td>\n",
       "      <td>BC</td>\n",
       "      <td>V6B 5T4</td>\n",
       "      <td>0.9</td>\n",
       "      <td>162</td>\n",
       "      <td>2</td>\n",
       "    </tr>\n",
       "    <tr>\n",
       "      <th>13</th>\n",
       "      <td>The Parlour</td>\n",
       "      <td>yelp</td>\n",
       "      <td>1011 Hamilton Street</td>\n",
       "      <td>Vancouver</td>\n",
       "      <td>BC</td>\n",
       "      <td>V6B 5T4</td>\n",
       "      <td>0.8</td>\n",
       "      <td>411</td>\n",
       "      <td>2</td>\n",
       "    </tr>\n",
       "    <tr>\n",
       "      <th>14</th>\n",
       "      <td>The Poke Guy</td>\n",
       "      <td>foursquare</td>\n",
       "      <td>420 Richards St</td>\n",
       "      <td>Vancouver</td>\n",
       "      <td>BC</td>\n",
       "      <td>V6B</td>\n",
       "      <td>0.9</td>\n",
       "      <td>24</td>\n",
       "      <td>0</td>\n",
       "    </tr>\n",
       "    <tr>\n",
       "      <th>15</th>\n",
       "      <td>The Poke Guy</td>\n",
       "      <td>yelp</td>\n",
       "      <td>420 Richards Street</td>\n",
       "      <td>Vancouver</td>\n",
       "      <td>BC</td>\n",
       "      <td>V6B 2Z4</td>\n",
       "      <td>0.9</td>\n",
       "      <td>187</td>\n",
       "      <td>2</td>\n",
       "    </tr>\n",
       "  </tbody>\n",
       "</table>\n",
       "</div>"
      ],
      "text/plain": [
       "                               name         api                address  \\\n",
       "0                           Chambar  foursquare          568 Beatty St   \n",
       "1                           Chambar        yelp      568 Beatty Street   \n",
       "2   Joe Fortes Seafood & Chop House  foursquare         777 Thurlow St   \n",
       "3   Joe Fortes Seafood & Chop House        yelp     777 Thurlow Street   \n",
       "4             Kokoro Tokyo Mazesoba  foursquare         551 Seymore St   \n",
       "5             Kokoro Tokyo Mazesoba        yelp     551 Seymour Street   \n",
       "6      La Taqueria Pinche Taco Shop  foursquare      586 Hornby Street   \n",
       "7      La Taqueria Pinche Taco Shop        yelp  322 W Hastings Street   \n",
       "8           Le Crocodile Restaurant  foursquare         909 Burrard St   \n",
       "9           Le Crocodile Restaurant        yelp     909 Burrard Street   \n",
       "10                             Lupo  foursquare        869 Hamilton St   \n",
       "11                             Lupo        yelp    869 Hamilton Street   \n",
       "12                      The Parlour  foursquare      1011 Hamilton St.   \n",
       "13                      The Parlour        yelp   1011 Hamilton Street   \n",
       "14                     The Poke Guy  foursquare        420 Richards St   \n",
       "15                     The Poke Guy        yelp    420 Richards Street   \n",
       "\n",
       "         city province postal_code  rating  review_count  price  \n",
       "0   Vancouver       BC     V6B 2L3     0.9           390      3  \n",
       "1   Vancouver       BC     V6B 2L3     0.8          1363      3  \n",
       "2   Vancouver       BC     V6E 3V5     0.9           385      3  \n",
       "3   Vancouver       BC     V6E 3V5     0.8          1043      3  \n",
       "4   Vancouver       BC     V6B 3H6     0.8            23      1  \n",
       "5   Vancouver       BC     V6B 3H6     0.8           346      2  \n",
       "6   Vancouver       BC     V6C 2E8     0.8            37      1  \n",
       "7   Vancouver       BC     V8B 1K6     0.9           477      2  \n",
       "8   Vancouver       BC     V6Z 2N2     0.9            63      4  \n",
       "9   Vancouver       BC     V6Z 2N2     0.9           386      4  \n",
       "10  Vancouver       BC     V6B 2R7     0.8            79      2  \n",
       "11  Vancouver       BC     V6B 2R7     0.9           396      3  \n",
       "12  Vancouver       BC     V6B 5T4     0.9           162      2  \n",
       "13  Vancouver       BC     V6B 5T4     0.8           411      2  \n",
       "14  Vancouver       BC         V6B     0.9            24      0  \n",
       "15  Vancouver       BC     V6B 2Z4     0.9           187      2  "
      ]
     },
     "execution_count": 82,
     "metadata": {},
     "output_type": "execute_result"
    }
   ],
   "source": [
    "final_df"
   ]
  },
  {
   "cell_type": "markdown",
   "metadata": {},
   "source": [
    "## Top 10 Points of Interest"
   ]
  },
  {
   "cell_type": "code",
   "execution_count": 83,
   "metadata": {},
   "outputs": [],
   "source": [
    "restaurants_df = yelp_df.copy()\n",
    "restaurants_df = restaurants_df.drop(['api'], axis=1)"
   ]
  },
  {
   "cell_type": "markdown",
   "metadata": {},
   "source": [
    "### Outdoor Activities"
   ]
  },
  {
   "cell_type": "code",
   "execution_count": 84,
   "metadata": {},
   "outputs": [],
   "source": [
    "categories = [\"Active Life\"]\n",
    "search = \"Active Life\"\n",
    "active_life_data = get_yelp(lat, long, query=search, category=categories)"
   ]
  },
  {
   "cell_type": "code",
   "execution_count": 85,
   "metadata": {},
   "outputs": [],
   "source": [
    "yelp_activelife_dict = yelp_to_dict(active_life_data)"
   ]
  },
  {
   "cell_type": "code",
   "execution_count": 94,
   "metadata": {},
   "outputs": [],
   "source": [
    "activelife_df = pd.DataFrame(yelp_activelife_dict)"
   ]
  },
  {
   "cell_type": "code",
   "execution_count": 95,
   "metadata": {},
   "outputs": [],
   "source": [
    "activelife_df['price'] = activelife_df['price'].map(change_price)\n",
    "activelife_df['rating'] = round(activelife_df['rating']/5, 1)"
   ]
  },
  {
   "cell_type": "code",
   "execution_count": 96,
   "metadata": {},
   "outputs": [
    {
     "data": {
      "text/html": [
       "<div>\n",
       "<style scoped>\n",
       "    .dataframe tbody tr th:only-of-type {\n",
       "        vertical-align: middle;\n",
       "    }\n",
       "\n",
       "    .dataframe tbody tr th {\n",
       "        vertical-align: top;\n",
       "    }\n",
       "\n",
       "    .dataframe thead th {\n",
       "        text-align: right;\n",
       "    }\n",
       "</style>\n",
       "<table border=\"1\" class=\"dataframe\">\n",
       "  <thead>\n",
       "    <tr style=\"text-align: right;\">\n",
       "      <th></th>\n",
       "      <th>name</th>\n",
       "      <th>address</th>\n",
       "      <th>city</th>\n",
       "      <th>province</th>\n",
       "      <th>postal_code</th>\n",
       "      <th>rating</th>\n",
       "      <th>review_count</th>\n",
       "      <th>price</th>\n",
       "    </tr>\n",
       "  </thead>\n",
       "  <tbody>\n",
       "    <tr>\n",
       "      <th>0</th>\n",
       "      <td>Vancouver Seawall</td>\n",
       "      <td></td>\n",
       "      <td>Vancouver</td>\n",
       "      <td>BC</td>\n",
       "      <td></td>\n",
       "      <td>1.0</td>\n",
       "      <td>95</td>\n",
       "      <td>0</td>\n",
       "    </tr>\n",
       "    <tr>\n",
       "      <th>1</th>\n",
       "      <td>Vancouver Water Adventures</td>\n",
       "      <td>1812 Boatlift Lane</td>\n",
       "      <td>Vancouver</td>\n",
       "      <td>BC</td>\n",
       "      <td>V6H 3Y2</td>\n",
       "      <td>0.9</td>\n",
       "      <td>41</td>\n",
       "      <td>0</td>\n",
       "    </tr>\n",
       "    <tr>\n",
       "      <th>2</th>\n",
       "      <td>Find and Seek Puzzle Adventure Escape Rooms</td>\n",
       "      <td>88 W Pender Street</td>\n",
       "      <td>Vancouver</td>\n",
       "      <td>BC</td>\n",
       "      <td>V6B 6N8</td>\n",
       "      <td>1.0</td>\n",
       "      <td>92</td>\n",
       "      <td>0</td>\n",
       "    </tr>\n",
       "    <tr>\n",
       "      <th>3</th>\n",
       "      <td>Sara Binder Living</td>\n",
       "      <td>None</td>\n",
       "      <td>Vancouver</td>\n",
       "      <td>BC</td>\n",
       "      <td>V6E 2M6</td>\n",
       "      <td>1.0</td>\n",
       "      <td>1</td>\n",
       "      <td>0</td>\n",
       "    </tr>\n",
       "    <tr>\n",
       "      <th>4</th>\n",
       "      <td>FlyOver Canada</td>\n",
       "      <td>999 Canada Place</td>\n",
       "      <td>Vancouver</td>\n",
       "      <td>BC</td>\n",
       "      <td>V6C 3E1</td>\n",
       "      <td>0.8</td>\n",
       "      <td>197</td>\n",
       "      <td>0</td>\n",
       "    </tr>\n",
       "  </tbody>\n",
       "</table>\n",
       "</div>"
      ],
      "text/plain": [
       "                                          name             address       city  \\\n",
       "0                            Vancouver Seawall                      Vancouver   \n",
       "1                   Vancouver Water Adventures  1812 Boatlift Lane  Vancouver   \n",
       "2  Find and Seek Puzzle Adventure Escape Rooms  88 W Pender Street  Vancouver   \n",
       "3                           Sara Binder Living                None  Vancouver   \n",
       "4                               FlyOver Canada    999 Canada Place  Vancouver   \n",
       "\n",
       "  province postal_code  rating  review_count  price  \n",
       "0       BC                 1.0            95      0  \n",
       "1       BC     V6H 3Y2     0.9            41      0  \n",
       "2       BC     V6B 6N8     1.0            92      0  \n",
       "3       BC     V6E 2M6     1.0             1      0  \n",
       "4       BC     V6C 3E1     0.8           197      0  "
      ]
     },
     "execution_count": 96,
     "metadata": {},
     "output_type": "execute_result"
    }
   ],
   "source": [
    "activelife_df.head(5)"
   ]
  },
  {
   "cell_type": "markdown",
   "metadata": {},
   "source": [
    "### Entertainment Data"
   ]
  },
  {
   "cell_type": "code",
   "execution_count": 86,
   "metadata": {},
   "outputs": [],
   "source": [
    "categories = [\"Arts\", \"Entertainment\"]\n",
    "search = [\"Arts Entertainment\"]\n",
    "entertainment_data = get_yelp(lat, long, query=search, category=categories)"
   ]
  },
  {
   "cell_type": "code",
   "execution_count": 98,
   "metadata": {},
   "outputs": [],
   "source": [
    "yelp_entertainment_dict = yelp_to_dict(entertainment_data)"
   ]
  },
  {
   "cell_type": "code",
   "execution_count": 99,
   "metadata": {},
   "outputs": [],
   "source": [
    "entertainment_df = pd.DataFrame(yelp_entertainment_dict)"
   ]
  },
  {
   "cell_type": "code",
   "execution_count": 100,
   "metadata": {},
   "outputs": [],
   "source": [
    "entertainment_df['price'] = entertainment_df['price'].map(change_price)\n",
    "entertainment_df['rating'] = round(entertainment_df['rating']/5, 1)"
   ]
  },
  {
   "cell_type": "code",
   "execution_count": 102,
   "metadata": {},
   "outputs": [
    {
     "data": {
      "text/html": [
       "<div>\n",
       "<style scoped>\n",
       "    .dataframe tbody tr th:only-of-type {\n",
       "        vertical-align: middle;\n",
       "    }\n",
       "\n",
       "    .dataframe tbody tr th {\n",
       "        vertical-align: top;\n",
       "    }\n",
       "\n",
       "    .dataframe thead th {\n",
       "        text-align: right;\n",
       "    }\n",
       "</style>\n",
       "<table border=\"1\" class=\"dataframe\">\n",
       "  <thead>\n",
       "    <tr style=\"text-align: right;\">\n",
       "      <th></th>\n",
       "      <th>name</th>\n",
       "      <th>address</th>\n",
       "      <th>city</th>\n",
       "      <th>province</th>\n",
       "      <th>postal_code</th>\n",
       "      <th>rating</th>\n",
       "      <th>review_count</th>\n",
       "      <th>price</th>\n",
       "    </tr>\n",
       "  </thead>\n",
       "  <tbody>\n",
       "    <tr>\n",
       "      <th>0</th>\n",
       "      <td>Dimensions Art Gallery</td>\n",
       "      <td>432 W Hastings St</td>\n",
       "      <td>Vancouver</td>\n",
       "      <td>BC</td>\n",
       "      <td>V6B 1L1</td>\n",
       "      <td>0.8</td>\n",
       "      <td>6</td>\n",
       "      <td>0</td>\n",
       "    </tr>\n",
       "    <tr>\n",
       "      <th>1</th>\n",
       "      <td>Illuminate Yaletown</td>\n",
       "      <td>1200 Hamilton Street</td>\n",
       "      <td>Vancouver</td>\n",
       "      <td>BC</td>\n",
       "      <td>V6B 2Y5</td>\n",
       "      <td>0.8</td>\n",
       "      <td>1</td>\n",
       "      <td>0</td>\n",
       "    </tr>\n",
       "    <tr>\n",
       "      <th>2</th>\n",
       "      <td>MakerLabs</td>\n",
       "      <td>780 E Cordova Street</td>\n",
       "      <td>Vancouver</td>\n",
       "      <td>BC</td>\n",
       "      <td>V6A 1M3</td>\n",
       "      <td>0.8</td>\n",
       "      <td>5</td>\n",
       "      <td>0</td>\n",
       "    </tr>\n",
       "    <tr>\n",
       "      <th>3</th>\n",
       "      <td>Movieland Arcade</td>\n",
       "      <td>906 Granville Street</td>\n",
       "      <td>Vancouver</td>\n",
       "      <td>BC</td>\n",
       "      <td>V6Z 1L2</td>\n",
       "      <td>0.7</td>\n",
       "      <td>30</td>\n",
       "      <td>0</td>\n",
       "    </tr>\n",
       "    <tr>\n",
       "      <th>4</th>\n",
       "      <td>The Den</td>\n",
       "      <td>1348 Robson St</td>\n",
       "      <td>Vancouver</td>\n",
       "      <td>BC</td>\n",
       "      <td>V6E 1C5</td>\n",
       "      <td>0.6</td>\n",
       "      <td>1</td>\n",
       "      <td>0</td>\n",
       "    </tr>\n",
       "  </tbody>\n",
       "</table>\n",
       "</div>"
      ],
      "text/plain": [
       "                     name               address       city province  \\\n",
       "0  Dimensions Art Gallery     432 W Hastings St  Vancouver       BC   \n",
       "1     Illuminate Yaletown  1200 Hamilton Street  Vancouver       BC   \n",
       "2               MakerLabs  780 E Cordova Street  Vancouver       BC   \n",
       "3        Movieland Arcade  906 Granville Street  Vancouver       BC   \n",
       "4                 The Den        1348 Robson St  Vancouver       BC   \n",
       "\n",
       "  postal_code  rating  review_count  price  \n",
       "0     V6B 1L1     0.8             6      0  \n",
       "1     V6B 2Y5     0.8             1      0  \n",
       "2     V6A 1M3     0.8             5      0  \n",
       "3     V6Z 1L2     0.7            30      0  \n",
       "4     V6E 1C5     0.6             1      0  "
      ]
     },
     "execution_count": 102,
     "metadata": {},
     "output_type": "execute_result"
    }
   ],
   "source": [
    "entertainment_df.head(5)"
   ]
  },
  {
   "cell_type": "markdown",
   "metadata": {},
   "source": [
    "### Take top 3 data from restaurants and outdoor activities; take top 4 data from entertainment"
   ]
  },
  {
   "cell_type": "code",
   "execution_count": 103,
   "metadata": {},
   "outputs": [],
   "source": [
    "top_activelife_df = activelife_df.sort_values(['review_count'], ascending=False)[:3]"
   ]
  },
  {
   "cell_type": "code",
   "execution_count": 104,
   "metadata": {},
   "outputs": [],
   "source": [
    "top_entertainment_df = entertainment_df.sort_values(['review_count'], ascending=False)[:4]"
   ]
  },
  {
   "cell_type": "code",
   "execution_count": 105,
   "metadata": {},
   "outputs": [],
   "source": [
    "top_food_df = restaurants_df.sort_values(['review_count'], ascending=False)[:3]"
   ]
  },
  {
   "cell_type": "code",
   "execution_count": 114,
   "metadata": {},
   "outputs": [],
   "source": [
    "places_to_visit = top_food_df.append([top_activelife_df, top_entertainment_df])"
   ]
  },
  {
   "cell_type": "code",
   "execution_count": 113,
   "metadata": {},
   "outputs": [],
   "source": []
  },
  {
   "cell_type": "markdown",
   "metadata": {},
   "source": [
    "## Finding Shortest Path between Top 10 Destinations"
   ]
  },
  {
   "cell_type": "code",
   "execution_count": 110,
   "metadata": {},
   "outputs": [],
   "source": [
    "from googleapi import GoogleAPI\n",
    "import googlemaps"
   ]
  },
  {
   "cell_type": "code",
   "execution_count": 111,
   "metadata": {},
   "outputs": [],
   "source": [
    "google = GoogleAPI()\n",
    "google_api_key = google.api_key\n",
    "\n",
    "gmaps = googlemaps.Client(key=google_api_key)"
   ]
  },
  {
   "cell_type": "code",
   "execution_count": 115,
   "metadata": {},
   "outputs": [],
   "source": [
    "places_to_visit['full_address'] = places_to_visit['address'] + \" \" + places_to_visit['city']"
   ]
  },
  {
   "cell_type": "code",
   "execution_count": 116,
   "metadata": {},
   "outputs": [],
   "source": [
    "places_to_visit['key'] = 0"
   ]
  },
  {
   "cell_type": "code",
   "execution_count": 117,
   "metadata": {},
   "outputs": [],
   "source": [
    "reference_df = places_to_visit[[\"full_address\", \"name\", \"key\"]].merge(places_to_visit[[\"full_address\", \"name\", \"key\"]], on=\"key\").drop('key', axis=1)"
   ]
  },
  {
   "cell_type": "code",
   "execution_count": 118,
   "metadata": {},
   "outputs": [],
   "source": [
    "reference_df.columns = \"origin_address\", \"origin_name\", \"destination_address\", \"destination_name\""
   ]
  },
  {
   "cell_type": "code",
   "execution_count": 119,
   "metadata": {},
   "outputs": [
    {
     "data": {
      "text/html": [
       "<div>\n",
       "<style scoped>\n",
       "    .dataframe tbody tr th:only-of-type {\n",
       "        vertical-align: middle;\n",
       "    }\n",
       "\n",
       "    .dataframe tbody tr th {\n",
       "        vertical-align: top;\n",
       "    }\n",
       "\n",
       "    .dataframe thead th {\n",
       "        text-align: right;\n",
       "    }\n",
       "</style>\n",
       "<table border=\"1\" class=\"dataframe\">\n",
       "  <thead>\n",
       "    <tr style=\"text-align: right;\">\n",
       "      <th></th>\n",
       "      <th>origin</th>\n",
       "      <th>destination</th>\n",
       "    </tr>\n",
       "  </thead>\n",
       "  <tbody>\n",
       "    <tr>\n",
       "      <th>0</th>\n",
       "      <td>780 Richards Street Vancouver</td>\n",
       "      <td>780 Richards Street Vancouver</td>\n",
       "    </tr>\n",
       "    <tr>\n",
       "      <th>1</th>\n",
       "      <td>780 Richards Street Vancouver</td>\n",
       "      <td>200 Granville Street Vancouver</td>\n",
       "    </tr>\n",
       "    <tr>\n",
       "      <th>2</th>\n",
       "      <td>780 Richards Street Vancouver</td>\n",
       "      <td>568 Beatty Street Vancouver</td>\n",
       "    </tr>\n",
       "    <tr>\n",
       "      <th>3</th>\n",
       "      <td>780 Richards Street Vancouver</td>\n",
       "      <td>1166 Stanley Park Drive Vancouver</td>\n",
       "    </tr>\n",
       "    <tr>\n",
       "      <th>4</th>\n",
       "      <td>780 Richards Street Vancouver</td>\n",
       "      <td>845 Avison Way Vancouver</td>\n",
       "    </tr>\n",
       "    <tr>\n",
       "      <th>...</th>\n",
       "      <td>...</td>\n",
       "      <td>...</td>\n",
       "    </tr>\n",
       "    <tr>\n",
       "      <th>95</th>\n",
       "      <td>555 W Hastings Street Vancouver</td>\n",
       "      <td>999 Canada Place Vancouver</td>\n",
       "    </tr>\n",
       "    <tr>\n",
       "      <th>96</th>\n",
       "      <td>555 W Hastings Street Vancouver</td>\n",
       "      <td>1 Alexander Street Vancouver</td>\n",
       "    </tr>\n",
       "    <tr>\n",
       "      <th>97</th>\n",
       "      <td>555 W Hastings Street Vancouver</td>\n",
       "      <td>578 Carrall Street Vancouver</td>\n",
       "    </tr>\n",
       "    <tr>\n",
       "      <th>98</th>\n",
       "      <td>555 W Hastings Street Vancouver</td>\n",
       "      <td>750 Hornby Street Vancouver</td>\n",
       "    </tr>\n",
       "    <tr>\n",
       "      <th>99</th>\n",
       "      <td>555 W Hastings Street Vancouver</td>\n",
       "      <td>555 W Hastings Street Vancouver</td>\n",
       "    </tr>\n",
       "  </tbody>\n",
       "</table>\n",
       "<p>100 rows × 2 columns</p>\n",
       "</div>"
      ],
      "text/plain": [
       "                             origin                        destination\n",
       "0     780 Richards Street Vancouver      780 Richards Street Vancouver\n",
       "1     780 Richards Street Vancouver     200 Granville Street Vancouver\n",
       "2     780 Richards Street Vancouver        568 Beatty Street Vancouver\n",
       "3     780 Richards Street Vancouver  1166 Stanley Park Drive Vancouver\n",
       "4     780 Richards Street Vancouver           845 Avison Way Vancouver\n",
       "..                              ...                                ...\n",
       "95  555 W Hastings Street Vancouver         999 Canada Place Vancouver\n",
       "96  555 W Hastings Street Vancouver       1 Alexander Street Vancouver\n",
       "97  555 W Hastings Street Vancouver       578 Carrall Street Vancouver\n",
       "98  555 W Hastings Street Vancouver        750 Hornby Street Vancouver\n",
       "99  555 W Hastings Street Vancouver    555 W Hastings Street Vancouver\n",
       "\n",
       "[100 rows x 2 columns]"
      ]
     },
     "execution_count": 119,
     "metadata": {},
     "output_type": "execute_result"
    }
   ],
   "source": [
    "distance_df = reference_df.copy().drop([\"origin_name\", \"destination_name\"], axis=1)\n",
    "distance_df.columns = \"origin\", \"destination\"\n",
    "distance_df"
   ]
  },
  {
   "cell_type": "code",
   "execution_count": 120,
   "metadata": {},
   "outputs": [],
   "source": [
    "distances = []\n",
    "durations = []"
   ]
  },
  {
   "cell_type": "raw",
   "metadata": {},
   "source": [
    "for index, row in distance_df.iterrows():  \n",
    "\n",
    "    try: \n",
    "        output = gmaps.distance_matrix(origins=row['origin'], destinations=row['destination'], language=[\"English\"], mode='walking', units='metric')\n",
    "        \n",
    "        dist = output['rows'][0]['elements'][0]['distance']['value']\n",
    "        dur = output['rows'][0]['elements'][0]['duration']['value']\n",
    "        \n",
    "        distances.append(dist)\n",
    "        durations.append(dur)\n",
    "        \n",
    "    except:\n",
    "        print(\"Error has occured!\")"
   ]
  },
  {
   "cell_type": "code",
   "execution_count": null,
   "metadata": {},
   "outputs": [],
   "source": [
    "with open(\"distances.txt\", \"a\") as output:\n",
    "    output.write(str(distances))\n",
    "    \n",
    "with open(\"durations.txt\", \"a\") as output:\n",
    "    output.write(str(durations))"
   ]
  },
  {
   "cell_type": "code",
   "execution_count": null,
   "metadata": {},
   "outputs": [],
   "source": [
    "distance_matrix = []\n",
    "count = 0\n",
    "for i in range(10):\n",
    "    entry = [item for item in distances[count:count+10]]\n",
    "    distance_matrix.append(entry)\n",
    "    count += 10"
   ]
  }
 ],
 "metadata": {
  "kernelspec": {
   "name": "python3",
   "language": "python",
   "display_name": "Python 3"
  },
  "language_info": {
   "codemirror_mode": {
    "name": "ipython",
    "version": 3
   },
   "file_extension": ".py",
   "mimetype": "text/x-python",
   "name": "python",
   "nbconvert_exporter": "python",
   "pygments_lexer": "ipython3",
   "version": "3.7.10"
  }
 },
 "nbformat": 4,
 "nbformat_minor": 4
}