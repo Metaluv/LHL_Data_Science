{
 "cells": [
  {
   "cell_type": "markdown",
   "metadata": {},
   "source": [
    "## Movies\n",
    "In this part of mini-project, we need to have our API-KEY ready because this API won't work without it.\n",
    "\n",
    "We encourage you to look for correct endpoints in [the documentation](https://developers.themoviedb.org/3/account). We can also play around with requests there before copying them to Python."
   ]
  },
  {
   "cell_type": "code",
   "execution_count": 5,
   "metadata": {},
   "outputs": [],
   "source": [
    "# Import Modules\n",
    "\n",
    "import requests as re\n",
    "from IPython.display import JSON\n",
    "from config import MovieAPI"
   ]
  },
  {
   "cell_type": "code",
   "execution_count": 31,
   "metadata": {},
   "outputs": [],
   "source": [
    "# Create a function to extract data from API\n",
    "def get_data(url, base, param):\n",
    "    res = re.get(url=url + base, params=param)\n",
    "    status_code = res.status_code\n",
    "    \n",
    "    if status_code != 200:\n",
    "        print(f\"Status Code Error {status_code}\")\n",
    "        return\n",
    "    else:\n",
    "        return res.json()"
   ]
  },
  {
   "cell_type": "markdown",
   "metadata": {},
   "source": [
    "## Task\n",
    "Search for you favorite movie and return the information about the movie:\n",
    "- name\n",
    "- release date\n",
    "- runtime\n",
    "- revenue\n",
    "- length of the overview\n",
    "- number of votes\n",
    "- voting average"
   ]
  },
  {
   "cell_type": "code",
   "execution_count": 32,
   "metadata": {},
   "outputs": [],
   "source": [
    "movie_endpoint = \"https://api.themoviedb.org/3\"\n",
    "movie_search_base = \"/search/movie\"\n",
    "favorite_movie = \"The Blind Side\"\n",
    "\n",
    "movie_search_parameters = {\n",
    "    \"query\": favorite_movie,\n",
    "    \"api_key\": api_key\n",
    "}\n",
    "\n",
    "favorite_movie_search = get_data(movie_endpoint, movie_search_base, movie_search_parameters)\n",
    "favorite_movie_id = favorite_movie_search['results'][0]['id']"
   ]
  },
  {
   "cell_type": "code",
   "execution_count": 33,
   "metadata": {},
   "outputs": [
    {
     "data": {
      "application/json": {
       "adult": false,
       "backdrop_path": "/hXx7BOsj0B5GHSiqFvAvqAvK4kj.jpg",
       "belongs_to_collection": null,
       "budget": 29000000,
       "genres": [
        {
         "id": 18,
         "name": "Drama"
        }
       ],
       "homepage": "http://www.theblindsidemovie.com/",
       "id": 22881,
       "imdb_id": "tt0878804",
       "original_language": "en",
       "original_title": "The Blind Side",
       "overview": "The story of Michael Oher, a homeless and traumatized boy who became an All American football player and first round NFL draft pick with the help of a caring woman and her family.",
       "popularity": 31.497,
       "poster_path": "/bMgq7VBriuBFknXEe9E9pVBYGZq.jpg",
       "production_companies": [
        {
         "id": 174,
         "logo_path": "/IuAlhI9eVC9Z8UQWOIDdWRKSEJ.png",
         "name": "Warner Bros. Pictures",
         "origin_country": "US"
        },
        {
         "id": 1088,
         "logo_path": "/9WOE5AQUXbOtLU6GTwfjS8OMF0v.png",
         "name": "Alcon Entertainment",
         "origin_country": "US"
        }
       ],
       "production_countries": [
        {
         "iso_3166_1": "US",
         "name": "United States of America"
        }
       ],
       "release_date": "2009-11-20",
       "revenue": 309208309,
       "runtime": 129,
       "spoken_languages": [
        {
         "english_name": "English",
         "iso_639_1": "en",
         "name": "English"
        }
       ],
       "status": "Released",
       "tagline": "Based on the extraordinary true story",
       "title": "The Blind Side",
       "video": false,
       "vote_average": 7.6,
       "vote_count": 4431
      },
      "text/plain": [
       "<IPython.core.display.JSON object>"
      ]
     },
     "execution_count": 33,
     "metadata": {
      "application/json": {
       "expanded": false,
       "root": "root"
      }
     },
     "output_type": "execute_result"
    }
   ],
   "source": [
    "movie_info_base = \"/movie/\" + str(favorite_movie_id)\n",
    "movie_info_parameters = {\n",
    "    \"api_key\": api_key\n",
    "}\n",
    "favorite_movie_data = get_data(movie_endpoint, movie_info_base, movie_info_parameters)\n",
    "JSON(favorite_movie_data)\n"
   ]
  },
  {
   "cell_type": "code",
   "execution_count": 75,
   "metadata": {},
   "outputs": [
    {
     "data": {
      "text/plain": [
       "['The Blind Side', 33, '2009-11-20', 129, 309208309, 4431, 7.6]"
      ]
     },
     "execution_count": 75,
     "metadata": {},
     "output_type": "execute_result"
    }
   ],
   "source": [
    "movie_title = favorite_movie_data[\"original_title\"]\n",
    "movie_overview = favorite_movie_data[\"overview\"]\n",
    "movie_release = favorite_movie_data[\"release_date\"]\n",
    "movie_runtime = favorite_movie_data[\"runtime\"]\n",
    "movie_revenue = favorite_movie_data[\"revenue\"]\n",
    "movie_votes = favorite_movie_data[\"vote_count\"]\n",
    "movie_vote_ave = favorite_movie_data[\"vote_average\"]\n",
    "\n",
    "[movie_title, len(movie_overview.split()), movie_release, movie_runtime, movie_revenue, movie_votes, movie_vote_ave]"
   ]
  },
  {
   "cell_type": "markdown",
   "metadata": {},
   "source": [
    "## Task\n",
    "Search for you favorite actor/actress and return the information about him/her:\n",
    "- name\n",
    "- date of birth\n",
    "- place of birth\n",
    "- length of the biography"
   ]
  },
  {
   "cell_type": "code",
   "execution_count": 40,
   "metadata": {},
   "outputs": [
    {
     "data": {
      "application/json": {
       "page": 1,
       "results": [
        {
         "adult": false,
         "gender": 1,
         "id": 15886,
         "known_for": [
          {
           "adult": false,
           "backdrop_path": "/hwwFyowfcbLRVmRBOkvnABBNIOs.jpg",
           "genre_ids": [
            12,
            16,
            35,
            10751
           ],
           "id": 9487,
           "media_type": "movie",
           "original_language": "en",
           "original_title": "A Bug's Life",
           "overview": "On behalf of \"oppressed bugs everywhere,\" an inventive ant named Flik hires a troupe of warrior bugs to defend his bustling colony from a horde of freeloading grasshoppers led by the evil-minded Hopper.",
           "poster_path": "/Ah3J9OJVc2CNCuH2zMydXy9fmIC.jpg",
           "release_date": "1998-11-25",
           "title": "A Bug's Life",
           "video": false,
           "vote_average": 6.9,
           "vote_count": 6954
          },
          {
           "backdrop_path": "/hpU2cHC9tk90hswCFEpf5AtbqoL.jpg",
           "first_air_date": "1989-12-17",
           "genre_ids": [
            10751,
            16,
            35
           ],
           "id": 456,
           "media_type": "tv",
           "name": "The Simpsons",
           "origin_country": [
            "US"
           ],
           "original_language": "en",
           "original_name": "The Simpsons",
           "overview": "Set in Springfield, the average American town, the show focuses on the antics and everyday adventures of the Simpson family; Homer, Marge, Bart, Lisa and Maggie, as well as a virtual cast of thousands. Since the beginning, the series has been a pop culture icon, attracting hundreds of celebrities to guest star. The show has also made name for itself in its fearless satirical take on politics, media and American life in general.",
           "poster_path": "/zLudbPueg8CxGhMS2tyDh3p0TdK.jpg",
           "vote_average": 7.8,
           "vote_count": 6566
          },
          {
           "backdrop_path": "/b0WmHGc8LHTdGCVzxRb3IBMur57.jpg",
           "first_air_date": "2021-03-19",
           "genre_ids": [
            10765,
            10759,
            18,
            10768
           ],
           "id": 88396,
           "media_type": "tv",
           "name": "The Falcon and the Winter Soldier",
           "origin_country": [
            "US"
           ],
           "original_language": "en",
           "original_name": "The Falcon and the Winter Soldier",
           "overview": "Following the events of “Avengers: Endgame”, the Falcon, Sam Wilson and the Winter Soldier, Bucky Barnes team up in a global adventure that tests their abilities, and their patience.",
           "poster_path": "/6kbAMLteGO8yyewYau6bJ683sw7.jpg",
           "vote_average": 7.9,
           "vote_count": 5629
          }
         ],
         "known_for_department": "Acting",
         "name": "Julia Louis-Dreyfus",
         "popularity": 3.127,
         "profile_path": "/pDzlVQhjxKQBpb9NcQ3hR20kz3z.jpg"
        }
       ],
       "total_pages": 1,
       "total_results": 1
      },
      "text/plain": [
       "<IPython.core.display.JSON object>"
      ]
     },
     "execution_count": 40,
     "metadata": {
      "application/json": {
       "expanded": false,
       "root": "root"
      }
     },
     "output_type": "execute_result"
    }
   ],
   "source": [
    "people_search_base = \"/search/person\"\n",
    "fav_actress = \"Julia Louis Dreyfus\"\n",
    "\n",
    "people_search_params = {\n",
    "    \"api_key\": api_key,\n",
    "    \"query\": fav_actress\n",
    "}\n",
    "\n",
    "fav_actress_search = get_data(movie_endpoint, people_search_base, people_search_params)"
   ]
  },
  {
   "cell_type": "code",
   "execution_count": 41,
   "metadata": {},
   "outputs": [
    {
     "name": "stdout",
     "output_type": "stream",
     "text": [
      "15886\n"
     ]
    }
   ],
   "source": [
    "fav_actress_id = fav_actress_search[\"results\"][0][\"id\"]\n",
    "print(fav_actress_id)"
   ]
  },
  {
   "cell_type": "code",
   "execution_count": 44,
   "metadata": {},
   "outputs": [
    {
     "data": {
      "application/json": {
       "adult": false,
       "also_known_as": [
        "줄리아 루이스-드레이퍼스",
        "Julia Scarlett E. Louis-Dreyfus Hall",
        "Julia Scarlett Elizabeth Louis-Dreyfus",
        "Τζούλια Λούις-Ντρέιφους"
       ],
       "biography": "Julia Scarlett Elizabeth Louis-Dreyfus (born January 13, 1961, height 5' 3\" (1,60 m)) is an American actress and comedian, widely known for her sitcom roles in Seinfeld and The New Adventures of Old Christine.\n\nShe rose to prominence as one of the regular cast members of Saturday Night Live in the early 1980s. She was later cast in the role of Elaine Benes on the NBC sitcom Seinfeld. Her performance over nine seasons earned her an Emmy Award, a Golden Globe Award and five Screen Actors Guild Awards. In 2002, she and her husband developed the series Watching Ellie, which achieved limited success. In 2006 she tried her luck again with a new sitcom and subsequently earned her second Emmy Award as Christine Campbell in the sitcom The New Adventures of Old Christine, which lasted for five seasons on CBS. In May 2010, Louis-Dreyfus received a star on the Hollywood Walk of Fame for her contribution to the broadcast television industry.\n\nDescription above from the Wikipedia article Julia Louis-Dreyfus, licensed under CC-BY-SA, full list of contributors on Wikipedia",
       "birthday": "1961-01-13",
       "deathday": null,
       "gender": 1,
       "homepage": null,
       "id": 15886,
       "imdb_id": "nm0000506",
       "known_for_department": "Acting",
       "name": "Julia Louis-Dreyfus",
       "place_of_birth": "New York City, New York, USA",
       "popularity": 3.127,
       "profile_path": "/pDzlVQhjxKQBpb9NcQ3hR20kz3z.jpg"
      },
      "text/plain": [
       "<IPython.core.display.JSON object>"
      ]
     },
     "execution_count": 44,
     "metadata": {
      "application/json": {
       "expanded": false,
       "root": "root"
      }
     },
     "output_type": "execute_result"
    }
   ],
   "source": [
    "people_info_base = \"/person/\" + str(fav_actress_id)\n",
    "\n",
    "people_info_params = {\n",
    "    \"api_key\": api_key\n",
    "}\n",
    "\n",
    "fav_actress_data = get_data(movie_endpoint, people_info_base, people_info_params)\n",
    "JSON(fav_actress_data)"
   ]
  },
  {
   "cell_type": "code",
   "execution_count": 76,
   "metadata": {},
   "outputs": [
    {
     "name": "stdout",
     "output_type": "stream",
     "text": [
      "Julia Louis-Dreyfus 1961-01-13 New York City, New York, USA 178\n"
     ]
    }
   ],
   "source": [
    "actress_name = fav_actress_data[\"name\"]\n",
    "actress_bday = fav_actress_data[\"birthday\"]\n",
    "actress_place = fav_actress_data[\"place_of_birth\"]\n",
    "actress_biography = fav_actress_data[\"biography\"]\n",
    "\n",
    "print(actress_name, actress_bday, actress_place, len(actress_biography.split()))"
   ]
  },
  {
   "cell_type": "markdown",
   "metadata": {},
   "source": [
    "## Task\n",
    "Search for you favorite tv-show and return the information about it:\n",
    "- name\n",
    "- first air date\n",
    "- number of seasons\n",
    "- number of episodes\n",
    "- genres"
   ]
  },
  {
   "cell_type": "code",
   "execution_count": 47,
   "metadata": {},
   "outputs": [
    {
     "data": {
      "application/json": {
       "page": 1,
       "results": [
        {
         "backdrop_path": "/l0qVZIpXtIo7km9u5Yqh0nKPOr5.jpg",
         "first_air_date": "1994-09-22",
         "genre_ids": [
          35,
          18
         ],
         "id": 1668,
         "name": "Friends",
         "origin_country": [
          "US"
         ],
         "original_language": "en",
         "original_name": "Friends",
         "overview": "The misadventures of a group of friends as they navigate the pitfalls of work, life and love in Manhattan.",
         "popularity": 244.406,
         "poster_path": "/f496cm9enuEsZkSPzCwnTESEK5s.jpg",
         "vote_average": 8.4,
         "vote_count": 4506
        },
        {
         "backdrop_path": null,
         "first_air_date": "1992-04-06",
         "genre_ids": [
          35,
          10751,
          10762
         ],
         "id": 4887,
         "name": "Barney & Friends",
         "origin_country": [
          "US"
         ],
         "original_language": "en",
         "original_name": "Barney & Friends",
         "overview": "Barney & Friends is an American children's television series aimed at children from ages 2 to 5. The series, which first aired on April 6, 1992, features the title character Barney, a purple anthropomorphic Tyrannosaurus rex who conveys educational messages through songs and small dance routines with a friendly, optimistic attitude.\n\nNew episodes have not been produced since 2009; however reruns continue to air on various PBS stations.",
         "popularity": 40.522,
         "poster_path": "/ijt54PA1pZ2ae68ODBk3vfWSK0e.jpg",
         "vote_average": 4.9,
         "vote_count": 47
        },
        {
         "backdrop_path": "/wIe1HL7oMNwyltsqqx2sCPwNl4w.jpg",
         "first_air_date": "1984-10-09",
         "genre_ids": [
          16,
          10762
         ],
         "id": 2304,
         "name": "Thomas & Friends",
         "origin_country": [
          "GB"
         ],
         "original_language": "en",
         "original_name": "Thomas & Friends",
         "overview": "Thomas & Friends is a British children's television series, which had its first broadcast on the ITV network on 4 September 1984. It is based on The Railway Series of books by the Reverend Wilbert Awdry and his son, Christopher Awdry. These books deal with the adventures of a group of anthropomorphised locomotives and road vehicles who live on the fictional Island of Sodor. The books were based on stories Wilbert told to entertain his son, Christopher during his recovery from measles. From Series one to four, many of the stories are based on events from Awdry's personal experience.",
         "popularity": 35.884,
         "poster_path": "/ovJvWQ8E8aYShcRlTwpqKhuq7FA.jpg",
         "vote_average": 6.5,
         "vote_count": 52
        },
        {
         "backdrop_path": "/zNQV2uAiTor6CptYPMVJoqxrffK.jpg",
         "first_air_date": "1988-09-17",
         "genre_ids": [
          16,
          35
         ],
         "id": 4606,
         "name": "Garfield and Friends",
         "origin_country": [
          "US"
         ],
         "original_language": "en",
         "original_name": "Garfield and Friends",
         "overview": "The animated stories of Garfield the cat, Odie the dog, their owner Jon and the trouble they get into. And also Orson the Pig and his adventures on a farm with his fellow farm animals.",
         "popularity": 27.409,
         "poster_path": "/3HyTfZ9sSCoZPYrYHMffhRVm3Af.jpg",
         "vote_average": 7.2,
         "vote_count": 202
        },
        {
         "backdrop_path": "/rocStLc3VNlVTg5p7TY0uqUcGCw.jpg",
         "first_air_date": "2004-08-13",
         "genre_ids": [
          10751,
          16,
          10765,
          35
         ],
         "id": 1720,
         "name": "Foster's Home for Imaginary Friends",
         "origin_country": [
          "US"
         ],
         "original_language": "en",
         "original_name": "Foster's Home for Imaginary Friends",
         "overview": "Foster's Home for Imaginary Friends is an animated television series that aired from August 2004 to May 2009 for a total of 79 episodes in six seasons. The premise is based on a simple question: In a world... where imaginary friends are living, tangible beings, what happens to those friends when the kids grow up? Are they abandoned, or do they live on?\n\nAccording to Craig McCracken, they come to Foster's, of course! A home for imaginary friends whose kids have outgrown them, Foster's is a place where friends can live together until they are adopted by a child who needs them. The show follows Mac, a shy and creative 8 year old boy, whose imaginary friend Bloo is thrown out of his home by his mother and forced to come live at Foster's. Mac doesn't want Bloo to be adopted by another kid, so it's agreed that Bloo will not be put up for adoption, provided that Mac comes to visit him every day. Bloo's egotistical, mischievous nature is the complete opposite of Mac's, and together the two cause all manner of chaos throughout the house.",
         "popularity": 59.926,
         "poster_path": "/aerZJVODYwji4BnyWrHFmF3JxhX.jpg",
         "vote_average": 7.9,
         "vote_count": 287
        },
        {
         "backdrop_path": null,
         "first_air_date": "1972-10-01",
         "genre_ids": [
          35
         ],
         "id": 44333,
         "name": "Carol Burnett and Friends",
         "origin_country": [],
         "original_language": "en",
         "original_name": "Carol Burnett and Friends",
         "overview": "Carol Burnett and Friends was a syndicated, truncated version of The Carol Burnett Show, showing only the sketches.The show star's Carol Burnett and co-star's Tim Conway and Harvey Korman, Carol Burnett's related shows: The Carol Burnett Show Carol Burnett and Company The Carol Burnett Show (1991) Carol & Company",
         "popularity": 12.572,
         "poster_path": null,
         "vote_average": 4.8,
         "vote_count": 2
        },
        {
         "backdrop_path": "/yLLRJwHlRwADEojNwVhqAxSH8hh.jpg",
         "first_air_date": "2014-12-23",
         "genre_ids": [
          16,
          35,
          10762
         ],
         "id": 81425,
         "name": "Talking Tom and Friends",
         "origin_country": [
          "US"
         ],
         "original_language": "en",
         "original_name": "Talking Tom and Friends",
         "overview": "Armed with technological gear, great ideas and an unfailing sense of humour, Talking Tom and his friends are on a mission to reach stardom at all costs.",
         "popularity": 17.716,
         "poster_path": "/fVeSFv892YdLcvftJAZPSDBTpyp.jpg",
         "vote_average": 8.3,
         "vote_count": 8
        },
        {
         "backdrop_path": "/njylQZh5gvVEVBq66B7Avi5OKIl.jpg",
         "first_air_date": "2007-05-12",
         "genre_ids": [
          10762,
          16
         ],
         "id": 3527,
         "name": "My Friends Tigger & Pooh",
         "origin_country": [
          "US"
         ],
         "original_language": "en",
         "original_name": "My Friends Tigger & Pooh",
         "overview": "Pooh, Tigger, and friends from the Hundred Acre Wood welcome new neighbors — an adorable six-year-old girl named Darby and her puppy, Buster. With the help of adventurous super sleuths Tigger and Pooh, every episode revolves around the solving of a mystery and an interactive curriculum that encourages viewers to help them out.",
         "popularity": 29.734,
         "poster_path": "/pjFdWwr36A5ZO8K5W5NuPRS7Bil.jpg",
         "vote_average": 7,
         "vote_count": 9
        },
        {
         "backdrop_path": null,
         "first_air_date": "1973-09-08",
         "genre_ids": [
          16,
          10765
         ],
         "id": 936,
         "name": "Super Friends",
         "origin_country": [
          "US"
         ],
         "original_language": "en",
         "original_name": "Super Friends",
         "overview": "Super Friends is an American animated television series about a team of superheroes, which ran from 1973 to 1986 on ABC as part of its Saturday morning cartoon lineup. It was produced by Hanna-Barbera and was based on the Justice League of America and associated comic book characters published by DC Comics.\n\nThe name of the program have been variously represented at different points in its broadcast history. There were a total of 109 episodes and two backdoor-pilot episodes of The New Scooby-Doo Movies, with Batman and Robin appearing in \"The Dynamic Scooby Doo Affair\" and \"The Caped Crusader Caper.\"",
         "popularity": 13.457,
         "poster_path": "/6RsxBfu5Cb3GFokYx0MFrvL59WN.jpg",
         "vote_average": 7.4,
         "vote_count": 63
        },
        {
         "backdrop_path": "/cL8MPDoy00GtVnUvhhNJXBcreNU.jpg",
         "first_air_date": "1981-09-12",
         "genre_ids": [
          10759,
          16,
          10751,
          10765
         ],
         "id": 1269,
         "name": "Spider-Man and His Amazing Friends",
         "origin_country": [
          "US"
         ],
         "original_language": "en",
         "original_name": "Spider-Man and His Amazing Friends",
         "overview": "Spider-Man and His Amazing Friends is an American animated television series produced by Marvel Productions starring established Marvel Comics characters Spider-Man and Iceman and an original character, Firestar. As a trio called the Spider-Friends, they fought against various villains.",
         "popularity": 26.258,
         "poster_path": "/4GjLlD5u8LtkF5XJ75FlPW16fHG.jpg",
         "vote_average": 7.6,
         "vote_count": 134
        },
        {
         "backdrop_path": "/2EtA8udgWfgCtBIQ9vzalikW2P9.jpg",
         "first_air_date": "1961-09-24",
         "genre_ids": [
          16
         ],
         "id": 27212,
         "name": "Rocky & Bullwinkle & Friends",
         "origin_country": [
          "US"
         ],
         "original_language": "en",
         "original_name": "Rocky & Bullwinkle & Friends",
         "overview": "",
         "popularity": 17.263,
         "poster_path": "/59FzvrZp6U93ciYIeI8FpHuxAly.jpg",
         "vote_average": 6.9,
         "vote_count": 11
        },
        {
         "backdrop_path": null,
         "first_air_date": "1999-12-24",
         "genre_ids": [
          16,
          35
         ],
         "id": 1126,
         "name": "Happy Tree Friends",
         "origin_country": [
          "CA",
          "US"
         ],
         "original_language": "en",
         "original_name": "Happy Tree Friends",
         "overview": "This action and adventure comedy is drawn in simple appearance and combines cute forest animals with extreme graphic violence. Each episode revolves around the characters enduring accidental events of bloodshed, pain, dismemberment and/or death.",
         "popularity": 15.071,
         "poster_path": "/2rYqJg1OzaDlc5kiBK4IdgrELMf.jpg",
         "vote_average": 7.8,
         "vote_count": 363
        },
        {
         "backdrop_path": "/kmZcWzvyaNDwEBiukmvrB2iDLid.jpg",
         "first_air_date": "2017-07-14",
         "genre_ids": [
          35
         ],
         "id": 71890,
         "name": "Friends from College",
         "origin_country": [
          "US"
         ],
         "original_language": "en",
         "original_name": "Friends from College",
         "overview": "Twenty years after graduation, a tight-knit group of college friends reconnects and discovers that love hasn't gotten easier with age.",
         "popularity": 12.48,
         "poster_path": "/38HzAmLPNALw0fSdZ7rMH0EymqC.jpg",
         "vote_average": 6.8,
         "vote_count": 41
        },
        {
         "backdrop_path": "/3fJkybL2jRdksYsMdJ0HnKWvZCX.jpg",
         "first_air_date": "2015-06-26",
         "genre_ids": [
          35,
          10751,
          10765
         ],
         "id": 62783,
         "name": "Best Friends Whenever",
         "origin_country": [
          "US"
         ],
         "original_language": "en",
         "original_name": "Best Friends Whenever",
         "overview": "The live-action comedy follows best friends Shelby and Cyd who, when their aspiring scientist friend Barry’s invention goes awry, gain the power to leap forward and backward in time whenever they want – and sometimes when they don’t. Now, they experience the twists and turns of friendship and must decide between fixing mistakes in the past or catching a glimpse of the future. While Barry and his assistant, Naldo, try to figure out how to replicate time travel for themselves, Cyd and Shelby use their newfound power to navigate high school life and Shelby’s mischievous twin brothers, Bret and Chet.",
         "popularity": 11.82,
         "poster_path": "/euWwJsDLPzfPny96UrbD13XOFSz.jpg",
         "vote_average": 8.6,
         "vote_count": 50
        },
        {
         "backdrop_path": "/5V9tBorSl1WkYwX05xJOxjQ0U7D.jpg",
         "first_air_date": "2009-10-12",
         "genre_ids": [
          16,
          10765
         ],
         "id": 34901,
         "name": "Angel's Friends",
         "origin_country": [
          "IT"
         ],
         "original_language": "it",
         "original_name": "Angel's Friends",
         "overview": "Four Angels  and four Devils are sent to Earth, in an unused area of the Golden School, where they learn everything they need to become Guardian Angels and Guardian Devils.",
         "popularity": 3.687,
         "poster_path": "/wjCjDD7QpubVKSkNSMU8BfiOj3U.jpg",
         "vote_average": 9.4,
         "vote_count": 7
        },
        {
         "backdrop_path": "/b3qQHzulMmrtorRenJjHSnPLbew.jpg",
         "first_air_date": "2011-08-05",
         "genre_ids": [
          18,
          35
         ],
         "id": 9777,
         "name": "Friends with Benefits",
         "origin_country": [
          "US"
         ],
         "original_language": "en",
         "original_name": "Friends with Benefits",
         "overview": "Revolving around a group of twentysomething singles as they navigate the difficult, sometimes rewarding, often confusing world of dating. Loyal and devoted to one another, these friends are never too busy to help a member of the group who might be in need. In fact, their companionship often extends into a more intimate setting - the bedroom.",
         "popularity": 8.675,
         "poster_path": "/kqHYN5Ei3RyNWcHabLPRGW7hT6T.jpg",
         "vote_average": 6.1,
         "vote_count": 18
        },
        {
         "backdrop_path": null,
         "first_air_date": "2007-03-12",
         "genre_ids": [
          16,
          10751,
          10759
         ],
         "id": 33749,
         "name": "Friends and Heroes",
         "origin_country": [],
         "original_language": "en",
         "original_name": "Friends and Heroes",
         "overview": "Friends and Heroes is a Christian children's program that airs on TBN, Smile of a Child TV, and was also shown on BBC TV. The show is both traditionally animated and computer animated. It takes place from 69 - 71 AD. There are three series each of 13 Episodes: Series 1 is set in Alexandria, Egypt; Series 2 in Jerusalem and Series 3 in Rome. The series was created by Brian D. Brown and Eric J. Danenberg, who also worked on The Storykeepers.",
         "popularity": 6.15,
         "poster_path": null,
         "vote_average": 0,
         "vote_count": 0
        },
        {
         "backdrop_path": "/nuavY1eo1IYdsjptApFlAdHZ4yc.jpg",
         "first_air_date": "2000-10-12",
         "genre_ids": [
          18
         ],
         "id": 1052,
         "name": "Fat Friends",
         "origin_country": [
          "GB"
         ],
         "original_language": "en",
         "original_name": "Fat Friends",
         "overview": "Fat Friends was an ITV drama, following a group of overweight people, their laughter and pain and addresses the absurdities of dieting in our modern age. The drama looks at people and how they relate to one another and use body weight as an excuse for all sorts of failings in their relationships, or not living their lives to the full. Four of the cast, Ruth Jones, James Corden, Sheridan Smith and Alison Steadman, went on to appear in Gavin & Stacey.",
         "popularity": 6.534,
         "poster_path": "/3kinwzYngnYmaUGxD0TN2aMpLtJ.jpg",
         "vote_average": 6,
         "vote_count": 2
        },
        {
         "backdrop_path": null,
         "first_air_date": "2014-08-18",
         "genre_ids": [
          16,
          10762
         ],
         "id": 64401,
         "name": "Dora and Friends: Into the City!",
         "origin_country": [
          "US"
         ],
         "original_language": "en",
         "original_name": "Dora and Friends: Into the City!",
         "overview": "Dora goes to school and lives in Playa Verde, which is a city. Together with the explorer girls Emma, Kate, Naiya, and Alana and her only male companion, Pablo, Dora and her friends work together and go on amazing adventures while discovering the secrets of their city. Dora has a magical charm bracelet and a smart phone, complete with an app version of the previous Map to aid her. Her friend Kate is fond of drama, while Emma loves music. Alana is tomboyish but loves animals, Naiya is smart and loves to read, and Pablo loves playing soccer.",
         "popularity": 11.398,
         "poster_path": "/sn9S1JmujZgkOzrrlbPzs2U3GjV.jpg",
         "vote_average": 8.8,
         "vote_count": 5
        },
        {
         "backdrop_path": null,
         "first_air_date": "1973-09-08",
         "genre_ids": [
          16,
          10759
         ],
         "id": 14042,
         "name": "Super Friends",
         "origin_country": [
          "US"
         ],
         "original_language": "en",
         "original_name": "Super Friends",
         "overview": "",
         "popularity": 6.522,
         "poster_path": null,
         "vote_average": 6.5,
         "vote_count": 3
        }
       ],
       "total_pages": 14,
       "total_results": 265
      },
      "text/plain": [
       "<IPython.core.display.JSON object>"
      ]
     },
     "execution_count": 47,
     "metadata": {
      "application/json": {
       "expanded": false,
       "root": "root"
      }
     },
     "output_type": "execute_result"
    }
   ],
   "source": [
    "tv_base = \"/search/tv\"\n",
    "fav_tv = \"Friends\"\n",
    "tv_search_params = {\n",
    "    \"api_key\": api_key,\n",
    "    \"query\": fav_tv\n",
    "}\n",
    "\n",
    "tv_search = get_data(movie_endpoint, tv_base, tv_search_params)\n",
    "JSON(tv_search)"
   ]
  },
  {
   "cell_type": "code",
   "execution_count": 48,
   "metadata": {},
   "outputs": [
    {
     "data": {
      "text/plain": [
       "1668"
      ]
     },
     "execution_count": 48,
     "metadata": {},
     "output_type": "execute_result"
    }
   ],
   "source": [
    "tv_id = tv_search[\"results\"][0]['id']\n",
    "tv_id"
   ]
  },
  {
   "cell_type": "code",
   "execution_count": 51,
   "metadata": {},
   "outputs": [
    {
     "data": {
      "application/json": {
       "backdrop_path": "/l0qVZIpXtIo7km9u5Yqh0nKPOr5.jpg",
       "created_by": [
        {
         "credit_id": "525710bf19c295731c03280b",
         "gender": 1,
         "id": 163461,
         "name": "Marta Kauffman",
         "profile_path": "/AsX4ZOoQP5oQVLiA51zdRiTNKTm.jpg"
        },
        {
         "credit_id": "525710bf19c295731c032811",
         "gender": 2,
         "id": 1216352,
         "name": "David Crane",
         "profile_path": "/wXb8gWv24sX24LFuE6rSpJCjWwE.jpg"
        }
       ],
       "episode_run_time": [
        25
       ],
       "first_air_date": "1994-09-22",
       "genres": [
        {
         "id": 35,
         "name": "Comedy"
        },
        {
         "id": 18,
         "name": "Drama"
        }
       ],
       "homepage": "",
       "id": 1668,
       "in_production": false,
       "languages": [
        "en"
       ],
       "last_air_date": "2004-05-06",
       "last_episode_to_air": {
        "air_date": "2004-05-06",
        "episode_number": 18,
        "id": 87634,
        "name": "The Last One (2)",
        "overview": "Ross and Phoebe chase Rachel to the airport, but end up at the wrong one.  They narrowly make it to the right airport, where Ross declares his love for Rachel, but she gets on the plane anyway.  A rejected Ross returns home, where he finds a message on his answering machine, revealing that Rachel got off the plane, just as the real thing shows up behind him.  They decide to be together.  Meanwhile, Chandler and Monica finish packing for their move to the suburbs, and Joey loses Chick Jr. and Duck Jr. in the foosball table.",
        "production_code": "176267",
        "season_number": 10,
        "still_path": "/pbMQgT7XHSAKE2oBk548wRt7jbL.jpg",
        "vote_average": 8.3,
        "vote_count": 13
       },
       "name": "Friends",
       "networks": [
        {
         "id": 6,
         "logo_path": "/o3OedEP0f9mfZr33jz2BfXOUK5.png",
         "name": "NBC",
         "origin_country": "US"
        }
       ],
       "next_episode_to_air": null,
       "number_of_episodes": 236,
       "number_of_seasons": 10,
       "origin_country": [
        "US"
       ],
       "original_language": "en",
       "original_name": "Friends",
       "overview": "The misadventures of a group of friends as they navigate the pitfalls of work, life and love in Manhattan.",
       "popularity": 244.406,
       "poster_path": "/f496cm9enuEsZkSPzCwnTESEK5s.jpg",
       "production_companies": [
        {
         "id": 1957,
         "logo_path": "/3T19XSr6yqaLNK8uJWFImPgRax0.png",
         "name": "Warner Bros. Television",
         "origin_country": "US"
        },
        {
         "id": 31810,
         "logo_path": null,
         "name": "Bright/Kauffman/Crane Productions",
         "origin_country": "US"
        }
       ],
       "production_countries": [
        {
         "iso_3166_1": "US",
         "name": "United States of America"
        }
       ],
       "seasons": [
        {
         "air_date": "2001-02-14",
         "episode_count": 39,
         "id": 4583,
         "name": "Specials",
         "overview": "",
         "poster_path": "/nZft2oL2tvE9LqBpQGJODdBlkml.jpg",
         "season_number": 0
        },
        {
         "air_date": "1994-09-21",
         "episode_count": 24,
         "id": 4573,
         "name": "Season 1",
         "overview": "",
         "poster_path": "/odCW88Cq5hAF0ZFVOkeJmeQv1nV.jpg",
         "season_number": 1
        },
        {
         "air_date": "1995-09-21",
         "episode_count": 24,
         "id": 4574,
         "name": "Season 2",
         "overview": "Rachel gets jealous of Ross's new girlfriend, Monica dates an older man, and Joey stars on a soap opera as the hit sitcom hits its stride in Season 2.",
         "poster_path": "/kC9VHoMh1KkoAYfsY3QlHpZRxDy.jpg",
         "season_number": 2
        },
        {
         "air_date": "1996-09-16",
         "episode_count": 25,
         "id": 4575,
         "name": "Season 3",
         "overview": "",
         "poster_path": "/n9u4pslqb6tpiLc8soldL5IbAyG.jpg",
         "season_number": 3
        },
        {
         "air_date": "1997-09-25",
         "episode_count": 24,
         "id": 4576,
         "name": "Season 4",
         "overview": "Chandler makes amends to Joey by spending Thanksgiving in a box, Monica finally lands her dream job of head chef, and Phoebe supports her brother.",
         "poster_path": "/3WdH3FNMXgp3Qlx21T7kwKS8Mtc.jpg",
         "season_number": 4
        },
        {
         "air_date": "1998-09-24",
         "episode_count": 24,
         "id": 4577,
         "name": "Season 5",
         "overview": "The friends continue to haphazardly navigate their way through Manhattan, landing in more improbable situations than anyone has a right to imagine.",
         "poster_path": "/aEwLXWbo6gV1TNIv9veu4rRwsPZ.jpg",
         "season_number": 5
        },
        {
         "air_date": "1999-09-23",
         "episode_count": 25,
         "id": 4578,
         "name": "Season 6",
         "overview": "In Season 6 of the Emmy-winning series, Ross doesn't tell Rachel that their accidental marriage was never annulled, but he does tell Phoebe.",
         "poster_path": "/7EU6bV6d8j1Xbc1F8QoNkOZrpsi.jpg",
         "season_number": 6
        },
        {
         "air_date": "2000-10-12",
         "episode_count": 24,
         "id": 4579,
         "name": "Season 7",
         "overview": "Monica and Chandler prepare for their wedding but must deal with a competition between Rachel and Phoebe to be Monica's maid of honor.",
         "poster_path": "/yvUZVChjOnqCjB9rjdEqEmpDdnQ.jpg",
         "season_number": 7
        },
        {
         "air_date": "2001-09-27",
         "episode_count": 24,
         "id": 4580,
         "name": "Season 8",
         "overview": "Rachel is pregnant and faces single parenthood, while Joey agonizes over his feelings for her. Chandler and Monica are now dealing with married life.",
         "poster_path": "/eh6PPkrzkXsEksRJDcdtx9lZsqX.jpg",
         "season_number": 8
        },
        {
         "air_date": "2002-09-23",
         "episode_count": 24,
         "id": 4581,
         "name": "Season 9",
         "overview": "Rachel finds herself surprisingly adept at taking care of Emma but struggles to define her complicated relationships with Joey and Ross.",
         "poster_path": "/1IvIdN4I5jJ0bwC3BkmDCy4pQ9j.jpg",
         "season_number": 9
        },
        {
         "air_date": "2003-09-25",
         "episode_count": 18,
         "id": 4582,
         "name": "Season 10",
         "overview": "",
         "poster_path": "/67ETB6XIqYc5vZkyAjN8XINOX5i.jpg",
         "season_number": 10
        }
       ],
       "spoken_languages": [
        {
         "english_name": "English",
         "iso_639_1": "en",
         "name": "English"
        }
       ],
       "status": "Ended",
       "tagline": "I'll be there for you",
       "type": "Scripted",
       "vote_average": 8.4,
       "vote_count": 4517
      },
      "text/plain": [
       "<IPython.core.display.JSON object>"
      ]
     },
     "execution_count": 51,
     "metadata": {
      "application/json": {
       "expanded": false,
       "root": "root"
      }
     },
     "output_type": "execute_result"
    }
   ],
   "source": [
    "tv_info_base = \"/tv/\" + str(tv_id)\n",
    "tv_info_params = {\n",
    "    \"api_key\": api_key\n",
    "}\n",
    "\n",
    "tv_info = get_data(movie_endpoint, tv_info_base, tv_info_params)\n",
    "JSON(tv_info)"
   ]
  },
  {
   "cell_type": "code",
   "execution_count": 54,
   "metadata": {},
   "outputs": [
    {
     "name": "stdout",
     "output_type": "stream",
     "text": [
      "Friends 1994-09-22 10 236 ['Comedy', 'Drama']\n"
     ]
    }
   ],
   "source": [
    "tv_name = tv_info[\"name\"]\n",
    "tv_air_date = tv_info[\"first_air_date\"]\n",
    "tv_seasons = tv_info[\"number_of_seasons\"]\n",
    "tv_episodes = tv_info[\"number_of_episodes\"]\n",
    "tv_genres = [item[\"name\"] for item in tv_info[\"genres\"]]\n",
    "\n",
    "print(tv_name, tv_air_date, tv_seasons, tv_episodes, tv_genres)"
   ]
  },
  {
   "cell_type": "markdown",
   "metadata": {},
   "source": [
    "## Task \n",
    "Find top 5 trending:\n",
    "- movies\n",
    "- tv-shows\n",
    "- people"
   ]
  },
  {
   "cell_type": "code",
   "execution_count": 70,
   "metadata": {},
   "outputs": [],
   "source": [
    "def get_trending(category, parameters, search):\n",
    "    base = \"/trending/\" + category + \"/week\"\n",
    "    data = get_data(movie_endpoint, base, parameters)\n",
    "    return [item[search] for item in data[\"results\"][:5]]"
   ]
  },
  {
   "cell_type": "code",
   "execution_count": 72,
   "metadata": {},
   "outputs": [
    {
     "name": "stdout",
     "output_type": "stream",
     "text": [
      "['Army of the Dead', 'Wrath of Man', 'Those Who Wish Me Dead', 'Mortal Kombat', 'Friends: The Reunion']\n",
      "['Love, Death & Robots', 'Friends', 'The Bad Batch', \"Jupiter's Legacy\", 'The Falcon and the Winter Soldier']\n",
      "['Keanu Reeves', 'Brad Pitt', 'Jason Statham', 'Tom Cruise', 'Angelina Jolie']\n"
     ]
    }
   ],
   "source": [
    "params = {\"api_key\": api_key}\n",
    "top_5_movies = get_trending(\"movie\", parameters=params, search=\"title\")\n",
    "top_5_tv = get_trending(\"tv\", parameters=params, search=\"name\")\n",
    "top_5_people = get_trending(\"person\", parameters=params, search=\"name\")\n",
    "\n",
    "print(top_5_movies)\n",
    "print(top_5_tv)\n",
    "print(top_5_people)"
   ]
  }
 ],
 "metadata": {
  "kernelspec": {
   "display_name": "Python 3",
   "language": "python",
   "name": "python3"
  },
  "language_info": {
   "codemirror_mode": {
    "name": "ipython",
    "version": 3
   },
   "file_extension": ".py",
   "mimetype": "text/x-python",
   "name": "python",
   "nbconvert_exporter": "python",
   "pygments_lexer": "ipython3",
   "version": "3.8.5"
  }
 },
 "nbformat": 4,
 "nbformat_minor": 4
}
