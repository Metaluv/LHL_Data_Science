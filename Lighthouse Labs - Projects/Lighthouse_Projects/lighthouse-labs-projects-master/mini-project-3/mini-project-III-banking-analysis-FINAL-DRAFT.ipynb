{
 "cells": [
  {
   "cell_type": "markdown",
   "metadata": {},
   "source": [
    "# Mini Project III: Banking Project"
   ]
  },
  {
   "cell_type": "code",
   "execution_count": 29,
   "metadata": {},
   "outputs": [],
   "source": [
    "import pandas as pd\n",
    "import numpy as np\n",
    "import matplotlib.pyplot as plt\n",
    "import seaborn as sns\n",
    "import warnings\n",
    "import plotly.graph_objects as go\n",
    "\n",
    "%matplotlib inline\n",
    "warnings.filterwarnings('ignore')"
   ]
  },
  {
   "cell_type": "code",
   "execution_count": 30,
   "metadata": {},
   "outputs": [],
   "source": [
    "from sklearn.preprocessing import StandardScaler, MinMaxScaler\n",
    "from sklearn.cluster import KMeans\n",
    "from sklearn.decomposition import PCA"
   ]
  },
  {
   "cell_type": "markdown",
   "metadata": {},
   "source": [
    "# 1. Account Clustering"
   ]
  },
  {
   "cell_type": "markdown",
   "metadata": {},
   "source": [
    "## 1.1 Exploratory Data Analysis and Data Cleaning"
   ]
  },
  {
   "cell_type": "markdown",
   "metadata": {},
   "source": [
    "### 1.1.1 Savings Account"
   ]
  },
  {
   "cell_type": "code",
   "execution_count": 31,
   "metadata": {},
   "outputs": [],
   "source": [
    "twm_savings_account = pd.read_csv('datasets/twm_savings_acct.csv', sep=\";\")"
   ]
  },
  {
   "cell_type": "code",
   "execution_count": 32,
   "metadata": {},
   "outputs": [
    {
     "data": {
      "text/html": [
       "<div>\n",
       "<style scoped>\n",
       "    .dataframe tbody tr th:only-of-type {\n",
       "        vertical-align: middle;\n",
       "    }\n",
       "\n",
       "    .dataframe tbody tr th {\n",
       "        vertical-align: top;\n",
       "    }\n",
       "\n",
       "    .dataframe thead th {\n",
       "        text-align: right;\n",
       "    }\n",
       "</style>\n",
       "<table border=\"1\" class=\"dataframe\">\n",
       "  <thead>\n",
       "    <tr style=\"text-align: right;\">\n",
       "      <th></th>\n",
       "      <th>cust_id</th>\n",
       "      <th>acct_nbr</th>\n",
       "      <th>minimum_balance</th>\n",
       "      <th>acct_type</th>\n",
       "      <th>account_active</th>\n",
       "      <th>acct_start_date</th>\n",
       "      <th>acct_end_date</th>\n",
       "      <th>starting_balance</th>\n",
       "      <th>ending_balance</th>\n",
       "    </tr>\n",
       "  </thead>\n",
       "  <tbody>\n",
       "    <tr>\n",
       "      <th>0</th>\n",
       "      <td>1363160</td>\n",
       "      <td>13631603</td>\n",
       "      <td>100</td>\n",
       "      <td>BS</td>\n",
       "      <td>Y</td>\n",
       "      <td>9.5.1988</td>\n",
       "      <td>NaN</td>\n",
       "      <td>113.04</td>\n",
       "      <td>122.54</td>\n",
       "    </tr>\n",
       "    <tr>\n",
       "      <th>1</th>\n",
       "      <td>1362487</td>\n",
       "      <td>13624873</td>\n",
       "      <td>500</td>\n",
       "      <td>MM</td>\n",
       "      <td>N</td>\n",
       "      <td>27.6.1994</td>\n",
       "      <td>25.8.1995</td>\n",
       "      <td>651.73</td>\n",
       "      <td>12.89</td>\n",
       "    </tr>\n",
       "    <tr>\n",
       "      <th>2</th>\n",
       "      <td>1362548</td>\n",
       "      <td>13625483</td>\n",
       "      <td>100</td>\n",
       "      <td>BS</td>\n",
       "      <td>Y</td>\n",
       "      <td>11.11.1986</td>\n",
       "      <td>NaN</td>\n",
       "      <td>250.24</td>\n",
       "      <td>254.02</td>\n",
       "    </tr>\n",
       "    <tr>\n",
       "      <th>3</th>\n",
       "      <td>1362752</td>\n",
       "      <td>13627523</td>\n",
       "      <td>100</td>\n",
       "      <td>BS</td>\n",
       "      <td>Y</td>\n",
       "      <td>20.2.1995</td>\n",
       "      <td>NaN</td>\n",
       "      <td>600.26</td>\n",
       "      <td>609.33</td>\n",
       "    </tr>\n",
       "    <tr>\n",
       "      <th>4</th>\n",
       "      <td>1363017</td>\n",
       "      <td>13630173</td>\n",
       "      <td>100</td>\n",
       "      <td>BS</td>\n",
       "      <td>N</td>\n",
       "      <td>27.4.1994</td>\n",
       "      <td>31.10.1995</td>\n",
       "      <td>2011.02</td>\n",
       "      <td>2901.35</td>\n",
       "    </tr>\n",
       "  </tbody>\n",
       "</table>\n",
       "</div>"
      ],
      "text/plain": [
       "   cust_id  acct_nbr  minimum_balance acct_type account_active  \\\n",
       "0  1363160  13631603              100      BS               Y    \n",
       "1  1362487  13624873              500      MM               N    \n",
       "2  1362548  13625483              100      BS               Y    \n",
       "3  1362752  13627523              100      BS               Y    \n",
       "4  1363017  13630173              100      BS               N    \n",
       "\n",
       "  acct_start_date acct_end_date  starting_balance  ending_balance  \n",
       "0        9.5.1988           NaN            113.04          122.54  \n",
       "1       27.6.1994     25.8.1995            651.73           12.89  \n",
       "2      11.11.1986           NaN            250.24          254.02  \n",
       "3       20.2.1995           NaN            600.26          609.33  \n",
       "4       27.4.1994    31.10.1995           2011.02         2901.35  "
      ]
     },
     "execution_count": 32,
     "metadata": {},
     "output_type": "execute_result"
    }
   ],
   "source": [
    "twm_savings_account.head()"
   ]
  },
  {
   "cell_type": "code",
   "execution_count": 33,
   "metadata": {},
   "outputs": [],
   "source": [
    "twm_savings_account = twm_savings_account[['cust_id', 'account_active', 'starting_balance', 'ending_balance']]"
   ]
  },
  {
   "cell_type": "code",
   "execution_count": 34,
   "metadata": {},
   "outputs": [
    {
     "data": {
      "text/html": [
       "<div>\n",
       "<style scoped>\n",
       "    .dataframe tbody tr th:only-of-type {\n",
       "        vertical-align: middle;\n",
       "    }\n",
       "\n",
       "    .dataframe tbody tr th {\n",
       "        vertical-align: top;\n",
       "    }\n",
       "\n",
       "    .dataframe thead th {\n",
       "        text-align: right;\n",
       "    }\n",
       "</style>\n",
       "<table border=\"1\" class=\"dataframe\">\n",
       "  <thead>\n",
       "    <tr style=\"text-align: right;\">\n",
       "      <th></th>\n",
       "      <th>cust_id</th>\n",
       "      <th>account_active</th>\n",
       "      <th>starting_balance</th>\n",
       "      <th>ending_balance</th>\n",
       "    </tr>\n",
       "  </thead>\n",
       "  <tbody>\n",
       "    <tr>\n",
       "      <th>0</th>\n",
       "      <td>1363160</td>\n",
       "      <td>Y</td>\n",
       "      <td>113.04</td>\n",
       "      <td>122.54</td>\n",
       "    </tr>\n",
       "    <tr>\n",
       "      <th>1</th>\n",
       "      <td>1362487</td>\n",
       "      <td>N</td>\n",
       "      <td>651.73</td>\n",
       "      <td>12.89</td>\n",
       "    </tr>\n",
       "    <tr>\n",
       "      <th>2</th>\n",
       "      <td>1362548</td>\n",
       "      <td>Y</td>\n",
       "      <td>250.24</td>\n",
       "      <td>254.02</td>\n",
       "    </tr>\n",
       "    <tr>\n",
       "      <th>3</th>\n",
       "      <td>1362752</td>\n",
       "      <td>Y</td>\n",
       "      <td>600.26</td>\n",
       "      <td>609.33</td>\n",
       "    </tr>\n",
       "    <tr>\n",
       "      <th>4</th>\n",
       "      <td>1363017</td>\n",
       "      <td>N</td>\n",
       "      <td>2011.02</td>\n",
       "      <td>2901.35</td>\n",
       "    </tr>\n",
       "  </tbody>\n",
       "</table>\n",
       "</div>"
      ],
      "text/plain": [
       "   cust_id account_active  starting_balance  ending_balance\n",
       "0  1363160             Y             113.04          122.54\n",
       "1  1362487             N             651.73           12.89\n",
       "2  1362548             Y             250.24          254.02\n",
       "3  1362752             Y             600.26          609.33\n",
       "4  1363017             N            2011.02         2901.35"
      ]
     },
     "execution_count": 34,
     "metadata": {},
     "output_type": "execute_result"
    }
   ],
   "source": [
    "twm_savings_account.head()"
   ]
  },
  {
   "cell_type": "code",
   "execution_count": null,
   "metadata": {},
   "outputs": [],
   "source": []
  },
  {
   "cell_type": "code",
   "execution_count": 35,
   "metadata": {},
   "outputs": [
    {
     "data": {
      "text/html": [
       "<div>\n",
       "<style scoped>\n",
       "    .dataframe tbody tr th:only-of-type {\n",
       "        vertical-align: middle;\n",
       "    }\n",
       "\n",
       "    .dataframe tbody tr th {\n",
       "        vertical-align: top;\n",
       "    }\n",
       "\n",
       "    .dataframe thead th {\n",
       "        text-align: right;\n",
       "    }\n",
       "</style>\n",
       "<table border=\"1\" class=\"dataframe\">\n",
       "  <thead>\n",
       "    <tr style=\"text-align: right;\">\n",
       "      <th></th>\n",
       "      <th>cust_id</th>\n",
       "      <th>starting_balance</th>\n",
       "      <th>ending_balance</th>\n",
       "    </tr>\n",
       "  </thead>\n",
       "  <tbody>\n",
       "    <tr>\n",
       "      <th>count</th>\n",
       "      <td>4.210000e+02</td>\n",
       "      <td>421.000000</td>\n",
       "      <td>421.000000</td>\n",
       "    </tr>\n",
       "    <tr>\n",
       "      <th>mean</th>\n",
       "      <td>1.362987e+06</td>\n",
       "      <td>874.060950</td>\n",
       "      <td>1258.060736</td>\n",
       "    </tr>\n",
       "    <tr>\n",
       "      <th>std</th>\n",
       "      <td>2.951807e+02</td>\n",
       "      <td>1704.224338</td>\n",
       "      <td>2054.680311</td>\n",
       "    </tr>\n",
       "    <tr>\n",
       "      <th>min</th>\n",
       "      <td>1.362480e+06</td>\n",
       "      <td>100.240000</td>\n",
       "      <td>2.740000</td>\n",
       "    </tr>\n",
       "    <tr>\n",
       "      <th>25%</th>\n",
       "      <td>1.362722e+06</td>\n",
       "      <td>180.220000</td>\n",
       "      <td>254.020000</td>\n",
       "    </tr>\n",
       "    <tr>\n",
       "      <th>50%</th>\n",
       "      <td>1.362980e+06</td>\n",
       "      <td>310.620000</td>\n",
       "      <td>619.050000</td>\n",
       "    </tr>\n",
       "    <tr>\n",
       "      <th>75%</th>\n",
       "      <td>1.363253e+06</td>\n",
       "      <td>742.280000</td>\n",
       "      <td>1535.830000</td>\n",
       "    </tr>\n",
       "    <tr>\n",
       "      <th>max</th>\n",
       "      <td>1.363495e+06</td>\n",
       "      <td>17303.420000</td>\n",
       "      <td>22432.780000</td>\n",
       "    </tr>\n",
       "  </tbody>\n",
       "</table>\n",
       "</div>"
      ],
      "text/plain": [
       "            cust_id  starting_balance  ending_balance\n",
       "count  4.210000e+02        421.000000      421.000000\n",
       "mean   1.362987e+06        874.060950     1258.060736\n",
       "std    2.951807e+02       1704.224338     2054.680311\n",
       "min    1.362480e+06        100.240000        2.740000\n",
       "25%    1.362722e+06        180.220000      254.020000\n",
       "50%    1.362980e+06        310.620000      619.050000\n",
       "75%    1.363253e+06        742.280000     1535.830000\n",
       "max    1.363495e+06      17303.420000    22432.780000"
      ]
     },
     "execution_count": 35,
     "metadata": {},
     "output_type": "execute_result"
    }
   ],
   "source": [
    "twm_savings_account.describe()"
   ]
  },
  {
   "cell_type": "code",
   "execution_count": 36,
   "metadata": {},
   "outputs": [
    {
     "data": {
      "image/png": "[encoded data removed]",
      "text/plain": [
       "<Figure size 432x288 with 1 Axes>"
      ]
     },
     "metadata": {
      "needs_background": "light"
     },
     "output_type": "display_data"
    }
   ],
   "source": [
    "sns.heatmap(twm_savings_account.isnull(), yticklabels=False, cbar=False)\n",
    "plt.show()"
   ]
  },
  {
   "cell_type": "code",
   "execution_count": 37,
   "metadata": {},
   "outputs": [],
   "source": [
    "account_dict = {\"N\": 0, \"Y\": 1}\n",
    "twm_savings_account['account_active'] = twm_savings_account['account_active'].apply(lambda x: x.strip()).map(account_dict)\n",
    "twm_savings_account['amount_saved'] = twm_savings_account['ending_balance'] "
   ]
  },
  {
   "cell_type": "code",
   "execution_count": 38,
   "metadata": {},
   "outputs": [
    {
     "data": {
      "text/html": [
       "<div>\n",
       "<style scoped>\n",
       "    .dataframe tbody tr th:only-of-type {\n",
       "        vertical-align: middle;\n",
       "    }\n",
       "\n",
       "    .dataframe tbody tr th {\n",
       "        vertical-align: top;\n",
       "    }\n",
       "\n",
       "    .dataframe thead th {\n",
       "        text-align: right;\n",
       "    }\n",
       "</style>\n",
       "<table border=\"1\" class=\"dataframe\">\n",
       "  <thead>\n",
       "    <tr style=\"text-align: right;\">\n",
       "      <th></th>\n",
       "      <th>cust_id</th>\n",
       "      <th>have_savings</th>\n",
       "      <th>amount_saved</th>\n",
       "    </tr>\n",
       "  </thead>\n",
       "  <tbody>\n",
       "    <tr>\n",
       "      <th>0</th>\n",
       "      <td>1363160</td>\n",
       "      <td>1</td>\n",
       "      <td>122.54</td>\n",
       "    </tr>\n",
       "    <tr>\n",
       "      <th>1</th>\n",
       "      <td>1362487</td>\n",
       "      <td>0</td>\n",
       "      <td>12.89</td>\n",
       "    </tr>\n",
       "    <tr>\n",
       "      <th>2</th>\n",
       "      <td>1362548</td>\n",
       "      <td>1</td>\n",
       "      <td>254.02</td>\n",
       "    </tr>\n",
       "    <tr>\n",
       "      <th>3</th>\n",
       "      <td>1362752</td>\n",
       "      <td>1</td>\n",
       "      <td>609.33</td>\n",
       "    </tr>\n",
       "    <tr>\n",
       "      <th>4</th>\n",
       "      <td>1363017</td>\n",
       "      <td>0</td>\n",
       "      <td>2901.35</td>\n",
       "    </tr>\n",
       "  </tbody>\n",
       "</table>\n",
       "</div>"
      ],
      "text/plain": [
       "   cust_id  have_savings  amount_saved\n",
       "0  1363160             1        122.54\n",
       "1  1362487             0         12.89\n",
       "2  1362548             1        254.02\n",
       "3  1362752             1        609.33\n",
       "4  1363017             0       2901.35"
      ]
     },
     "execution_count": 38,
     "metadata": {},
     "output_type": "execute_result"
    }
   ],
   "source": [
    "twm_savings_account = twm_savings_account[['cust_id', 'account_active', 'amount_saved']]\n",
    "twm_savings_account.columns = ['cust_id', 'have_savings', 'amount_saved']\n",
    "twm_savings_account.head()"
   ]
  },
  {
   "cell_type": "code",
   "execution_count": 39,
   "metadata": {},
   "outputs": [
    {
     "data": {
      "image/png": "[encoded data removed]",
      "text/plain": [
       "<Figure size 1152x360 with 3 Axes>"
      ]
     },
     "metadata": {
      "needs_background": "light"
     },
     "output_type": "display_data"
    }
   ],
   "source": [
    "fig, ax = plt.subplots(nrows=1, ncols=3, figsize=(16,5))\n",
    "\n",
    "sns.countplot(x='have_savings', data = twm_savings_account, ax=ax[0])\n",
    "sns.distplot(twm_savings_account['amount_saved'], ax=ax[1])\n",
    "sns.boxplot(x=twm_savings_account['have_savings'], y=twm_savings_account['amount_saved'], ax=ax[2])\n",
    "sns.despine()\n",
    "plt.show()"
   ]
  },
  {
   "cell_type": "markdown",
   "metadata": {},
   "source": [
    "### 1.1.2 Credit Account"
   ]
  },
  {
   "cell_type": "code",
   "execution_count": 40,
   "metadata": {},
   "outputs": [],
   "source": [
    "twm_credit_account = pd.read_csv('datasets/twm_credit_acct.csv', sep=\";\")"
   ]
  },
  {
   "cell_type": "code",
   "execution_count": 41,
   "metadata": {},
   "outputs": [
    {
     "data": {
      "text/html": [
       "<div>\n",
       "<style scoped>\n",
       "    .dataframe tbody tr th:only-of-type {\n",
       "        vertical-align: middle;\n",
       "    }\n",
       "\n",
       "    .dataframe tbody tr th {\n",
       "        vertical-align: top;\n",
       "    }\n",
       "\n",
       "    .dataframe thead th {\n",
       "        text-align: right;\n",
       "    }\n",
       "</style>\n",
       "<table border=\"1\" class=\"dataframe\">\n",
       "  <thead>\n",
       "    <tr style=\"text-align: right;\">\n",
       "      <th></th>\n",
       "      <th>cust_id</th>\n",
       "      <th>acct_nbr</th>\n",
       "      <th>credit_limit</th>\n",
       "      <th>credit_rating</th>\n",
       "      <th>account_active</th>\n",
       "      <th>acct_start_date</th>\n",
       "      <th>acct_end_date</th>\n",
       "      <th>starting_balance</th>\n",
       "      <th>ending_balance</th>\n",
       "    </tr>\n",
       "  </thead>\n",
       "  <tbody>\n",
       "    <tr>\n",
       "      <th>0</th>\n",
       "      <td>1363160</td>\n",
       "      <td>4561143213631600</td>\n",
       "      <td>1000</td>\n",
       "      <td>0</td>\n",
       "      <td>Y</td>\n",
       "      <td>12.10.1988</td>\n",
       "      <td>NaN</td>\n",
       "      <td>657.46</td>\n",
       "      <td>286.69</td>\n",
       "    </tr>\n",
       "    <tr>\n",
       "      <th>1</th>\n",
       "      <td>1362487</td>\n",
       "      <td>4561143213624870</td>\n",
       "      <td>3000</td>\n",
       "      <td>0</td>\n",
       "      <td>Y</td>\n",
       "      <td>8.8.1995</td>\n",
       "      <td>NaN</td>\n",
       "      <td>0.00</td>\n",
       "      <td>1548.23</td>\n",
       "    </tr>\n",
       "    <tr>\n",
       "      <th>2</th>\n",
       "      <td>1362548</td>\n",
       "      <td>4561143213625480</td>\n",
       "      <td>6700</td>\n",
       "      <td>0</td>\n",
       "      <td>Y</td>\n",
       "      <td>11.11.1986</td>\n",
       "      <td>NaN</td>\n",
       "      <td>6965.25</td>\n",
       "      <td>68.68</td>\n",
       "    </tr>\n",
       "    <tr>\n",
       "      <th>3</th>\n",
       "      <td>1362752</td>\n",
       "      <td>4561143213627520</td>\n",
       "      <td>2400</td>\n",
       "      <td>0</td>\n",
       "      <td>N</td>\n",
       "      <td>9.10.1994</td>\n",
       "      <td>2.4.1995</td>\n",
       "      <td>2302.14</td>\n",
       "      <td>0.00</td>\n",
       "    </tr>\n",
       "    <tr>\n",
       "      <th>4</th>\n",
       "      <td>1363017</td>\n",
       "      <td>4561143213630170</td>\n",
       "      <td>1000</td>\n",
       "      <td>0</td>\n",
       "      <td>Y</td>\n",
       "      <td>8.2.1995</td>\n",
       "      <td>NaN</td>\n",
       "      <td>0.00</td>\n",
       "      <td>1000.00</td>\n",
       "    </tr>\n",
       "  </tbody>\n",
       "</table>\n",
       "</div>"
      ],
      "text/plain": [
       "   cust_id          acct_nbr  credit_limit  credit_rating account_active  \\\n",
       "0  1363160  4561143213631600          1000              0             Y    \n",
       "1  1362487  4561143213624870          3000              0             Y    \n",
       "2  1362548  4561143213625480          6700              0             Y    \n",
       "3  1362752  4561143213627520          2400              0             N    \n",
       "4  1363017  4561143213630170          1000              0             Y    \n",
       "\n",
       "  acct_start_date acct_end_date  starting_balance  ending_balance  \n",
       "0      12.10.1988           NaN            657.46          286.69  \n",
       "1        8.8.1995           NaN              0.00         1548.23  \n",
       "2      11.11.1986           NaN           6965.25           68.68  \n",
       "3       9.10.1994      2.4.1995           2302.14            0.00  \n",
       "4        8.2.1995           NaN              0.00         1000.00  "
      ]
     },
     "execution_count": 41,
     "metadata": {},
     "output_type": "execute_result"
    }
   ],
   "source": [
    "twm_credit_account.head()"
   ]
  },
  {
   "cell_type": "code",
   "execution_count": null,
   "metadata": {},
   "outputs": [],
   "source": []
  },
  {
   "cell_type": "code",
   "execution_count": 42,
   "metadata": {},
   "outputs": [
    {
     "data": {
      "text/html": [
       "<div>\n",
       "<style scoped>\n",
       "    .dataframe tbody tr th:only-of-type {\n",
       "        vertical-align: middle;\n",
       "    }\n",
       "\n",
       "    .dataframe tbody tr th {\n",
       "        vertical-align: top;\n",
       "    }\n",
       "\n",
       "    .dataframe thead th {\n",
       "        text-align: right;\n",
       "    }\n",
       "</style>\n",
       "<table border=\"1\" class=\"dataframe\">\n",
       "  <thead>\n",
       "    <tr style=\"text-align: right;\">\n",
       "      <th></th>\n",
       "      <th>credit_limit</th>\n",
       "      <th>credit_rating</th>\n",
       "      <th>starting_balance</th>\n",
       "      <th>ending_balance</th>\n",
       "    </tr>\n",
       "  </thead>\n",
       "  <tbody>\n",
       "    <tr>\n",
       "      <th>count</th>\n",
       "      <td>468.000000</td>\n",
       "      <td>468.000000</td>\n",
       "      <td>468.000000</td>\n",
       "      <td>468.000000</td>\n",
       "    </tr>\n",
       "    <tr>\n",
       "      <th>mean</th>\n",
       "      <td>2647.649573</td>\n",
       "      <td>0.316239</td>\n",
       "      <td>1123.257521</td>\n",
       "      <td>1184.885662</td>\n",
       "    </tr>\n",
       "    <tr>\n",
       "      <th>std</th>\n",
       "      <td>2293.771202</td>\n",
       "      <td>1.453930</td>\n",
       "      <td>1636.254478</td>\n",
       "      <td>1363.065314</td>\n",
       "    </tr>\n",
       "    <tr>\n",
       "      <th>min</th>\n",
       "      <td>1000.000000</td>\n",
       "      <td>0.000000</td>\n",
       "      <td>0.000000</td>\n",
       "      <td>0.000000</td>\n",
       "    </tr>\n",
       "    <tr>\n",
       "      <th>25%</th>\n",
       "      <td>1000.000000</td>\n",
       "      <td>0.000000</td>\n",
       "      <td>0.000000</td>\n",
       "      <td>353.187500</td>\n",
       "    </tr>\n",
       "    <tr>\n",
       "      <th>50%</th>\n",
       "      <td>1900.000000</td>\n",
       "      <td>0.000000</td>\n",
       "      <td>568.300000</td>\n",
       "      <td>1000.000000</td>\n",
       "    </tr>\n",
       "    <tr>\n",
       "      <th>75%</th>\n",
       "      <td>3000.000000</td>\n",
       "      <td>0.000000</td>\n",
       "      <td>1631.635000</td>\n",
       "      <td>1358.717500</td>\n",
       "    </tr>\n",
       "    <tr>\n",
       "      <th>max</th>\n",
       "      <td>17300.000000</td>\n",
       "      <td>10.000000</td>\n",
       "      <td>11394.660000</td>\n",
       "      <td>9500.000000</td>\n",
       "    </tr>\n",
       "  </tbody>\n",
       "</table>\n",
       "</div>"
      ],
      "text/plain": [
       "       credit_limit  credit_rating  starting_balance  ending_balance\n",
       "count    468.000000     468.000000        468.000000      468.000000\n",
       "mean    2647.649573       0.316239       1123.257521     1184.885662\n",
       "std     2293.771202       1.453930       1636.254478     1363.065314\n",
       "min     1000.000000       0.000000          0.000000        0.000000\n",
       "25%     1000.000000       0.000000          0.000000      353.187500\n",
       "50%     1900.000000       0.000000        568.300000     1000.000000\n",
       "75%     3000.000000       0.000000       1631.635000     1358.717500\n",
       "max    17300.000000      10.000000      11394.660000     9500.000000"
      ]
     },
     "execution_count": 42,
     "metadata": {},
     "output_type": "execute_result"
    }
   ],
   "source": [
    "twm_credit_account[['credit_limit', 'credit_rating', 'starting_balance', 'ending_balance']].describe()"
   ]
  },
  {
   "cell_type": "code",
   "execution_count": 43,
   "metadata": {},
   "outputs": [],
   "source": [
    "twm_credit_account = twm_credit_account[['cust_id', 'account_active', 'credit_limit', 'starting_balance', 'ending_balance']]"
   ]
  },
  {
   "cell_type": "code",
   "execution_count": 44,
   "metadata": {},
   "outputs": [
    {
     "data": {
      "text/html": [
       "<div>\n",
       "<style scoped>\n",
       "    .dataframe tbody tr th:only-of-type {\n",
       "        vertical-align: middle;\n",
       "    }\n",
       "\n",
       "    .dataframe tbody tr th {\n",
       "        vertical-align: top;\n",
       "    }\n",
       "\n",
       "    .dataframe thead th {\n",
       "        text-align: right;\n",
       "    }\n",
       "</style>\n",
       "<table border=\"1\" class=\"dataframe\">\n",
       "  <thead>\n",
       "    <tr style=\"text-align: right;\">\n",
       "      <th></th>\n",
       "      <th>cust_id</th>\n",
       "      <th>account_active</th>\n",
       "      <th>credit_limit</th>\n",
       "      <th>starting_balance</th>\n",
       "      <th>ending_balance</th>\n",
       "    </tr>\n",
       "  </thead>\n",
       "  <tbody>\n",
       "    <tr>\n",
       "      <th>0</th>\n",
       "      <td>1363160</td>\n",
       "      <td>Y</td>\n",
       "      <td>1000</td>\n",
       "      <td>657.46</td>\n",
       "      <td>286.69</td>\n",
       "    </tr>\n",
       "    <tr>\n",
       "      <th>1</th>\n",
       "      <td>1362487</td>\n",
       "      <td>Y</td>\n",
       "      <td>3000</td>\n",
       "      <td>0.00</td>\n",
       "      <td>1548.23</td>\n",
       "    </tr>\n",
       "    <tr>\n",
       "      <th>2</th>\n",
       "      <td>1362548</td>\n",
       "      <td>Y</td>\n",
       "      <td>6700</td>\n",
       "      <td>6965.25</td>\n",
       "      <td>68.68</td>\n",
       "    </tr>\n",
       "    <tr>\n",
       "      <th>3</th>\n",
       "      <td>1362752</td>\n",
       "      <td>N</td>\n",
       "      <td>2400</td>\n",
       "      <td>2302.14</td>\n",
       "      <td>0.00</td>\n",
       "    </tr>\n",
       "    <tr>\n",
       "      <th>4</th>\n",
       "      <td>1363017</td>\n",
       "      <td>Y</td>\n",
       "      <td>1000</td>\n",
       "      <td>0.00</td>\n",
       "      <td>1000.00</td>\n",
       "    </tr>\n",
       "  </tbody>\n",
       "</table>\n",
       "</div>"
      ],
      "text/plain": [
       "   cust_id account_active  credit_limit  starting_balance  ending_balance\n",
       "0  1363160             Y           1000            657.46          286.69\n",
       "1  1362487             Y           3000              0.00         1548.23\n",
       "2  1362548             Y           6700           6965.25           68.68\n",
       "3  1362752             N           2400           2302.14            0.00\n",
       "4  1363017             Y           1000              0.00         1000.00"
      ]
     },
     "execution_count": 44,
     "metadata": {},
     "output_type": "execute_result"
    }
   ],
   "source": [
    "twm_credit_account.head()"
   ]
  },
  {
   "cell_type": "code",
   "execution_count": 45,
   "metadata": {},
   "outputs": [
    {
     "data": {
      "image/png": "[encoded data removed]",
      "text/plain": [
       "<Figure size 432x288 with 1 Axes>"
      ]
     },
     "metadata": {
      "needs_background": "light"
     },
     "output_type": "display_data"
    }
   ],
   "source": [
    "sns.heatmap(twm_credit_account.isnull(), yticklabels=False, cbar=False)\n",
    "plt.show()"
   ]
  },
  {
   "cell_type": "code",
   "execution_count": 46,
   "metadata": {},
   "outputs": [],
   "source": [
    "twm_credit_account['debt_amount'] = twm_credit_account['ending_balance']\n",
    "twm_credit_account['account_active'] = twm_credit_account['account_active'].apply(lambda x: x.strip()).map(account_dict)"
   ]
  },
  {
   "cell_type": "code",
   "execution_count": 47,
   "metadata": {},
   "outputs": [
    {
     "name": "stdout",
     "output_type": "stream",
     "text": [
      "140 people did not pay their previous credit balance, therefore have no credit to start with.\n",
      "29 people did not have use their credit card and spend nothing throughout the period of this balance.\n"
     ]
    }
   ],
   "source": [
    "not_pay = twm_credit_account[(twm_credit_account['starting_balance'] == 0) & (twm_credit_account['account_active'] == 1)].count()['cust_id']\n",
    "not_use = twm_credit_account[(twm_credit_account['ending_balance'] == 0) & (twm_credit_account['account_active'] == 1)].count()['cust_id']\n",
    "print(f\"{not_pay} people did not pay their previous credit balance, therefore have no credit to start with.\")\n",
    "print(f\"{not_use} people did not have use their credit card and spend nothing throughout the period of this balance.\")"
   ]
  },
  {
   "cell_type": "code",
   "execution_count": 48,
   "metadata": {},
   "outputs": [],
   "source": [
    "twm_credit_account = twm_credit_account[['cust_id', 'account_active', 'credit_limit', 'debt_amount']]\n",
    "twm_credit_account.rename(columns={'account_active': 'has_credit'}, inplace=True)"
   ]
  },
  {
   "cell_type": "code",
   "execution_count": 49,
   "metadata": {},
   "outputs": [
    {
     "data": {
      "text/html": [
       "<div>\n",
       "<style scoped>\n",
       "    .dataframe tbody tr th:only-of-type {\n",
       "        vertical-align: middle;\n",
       "    }\n",
       "\n",
       "    .dataframe tbody tr th {\n",
       "        vertical-align: top;\n",
       "    }\n",
       "\n",
       "    .dataframe thead th {\n",
       "        text-align: right;\n",
       "    }\n",
       "</style>\n",
       "<table border=\"1\" class=\"dataframe\">\n",
       "  <thead>\n",
       "    <tr style=\"text-align: right;\">\n",
       "      <th></th>\n",
       "      <th>cust_id</th>\n",
       "      <th>has_credit</th>\n",
       "      <th>credit_limit</th>\n",
       "      <th>debt_amount</th>\n",
       "    </tr>\n",
       "  </thead>\n",
       "  <tbody>\n",
       "    <tr>\n",
       "      <th>0</th>\n",
       "      <td>1363160</td>\n",
       "      <td>1</td>\n",
       "      <td>1000</td>\n",
       "      <td>286.69</td>\n",
       "    </tr>\n",
       "    <tr>\n",
       "      <th>1</th>\n",
       "      <td>1362487</td>\n",
       "      <td>1</td>\n",
       "      <td>3000</td>\n",
       "      <td>1548.23</td>\n",
       "    </tr>\n",
       "    <tr>\n",
       "      <th>2</th>\n",
       "      <td>1362548</td>\n",
       "      <td>1</td>\n",
       "      <td>6700</td>\n",
       "      <td>68.68</td>\n",
       "    </tr>\n",
       "    <tr>\n",
       "      <th>3</th>\n",
       "      <td>1362752</td>\n",
       "      <td>0</td>\n",
       "      <td>2400</td>\n",
       "      <td>0.00</td>\n",
       "    </tr>\n",
       "    <tr>\n",
       "      <th>4</th>\n",
       "      <td>1363017</td>\n",
       "      <td>1</td>\n",
       "      <td>1000</td>\n",
       "      <td>1000.00</td>\n",
       "    </tr>\n",
       "  </tbody>\n",
       "</table>\n",
       "</div>"
      ],
      "text/plain": [
       "   cust_id  has_credit  credit_limit  debt_amount\n",
       "0  1363160           1          1000       286.69\n",
       "1  1362487           1          3000      1548.23\n",
       "2  1362548           1          6700        68.68\n",
       "3  1362752           0          2400         0.00\n",
       "4  1363017           1          1000      1000.00"
      ]
     },
     "execution_count": 49,
     "metadata": {},
     "output_type": "execute_result"
    }
   ],
   "source": [
    "twm_credit_account.head()"
   ]
  },
  {
   "cell_type": "code",
   "execution_count": 50,
   "metadata": {},
   "outputs": [
    {
     "data": {
      "image/png": "[encoded data removed]",
      "text/plain": [
       "<Figure size 1152x360 with 3 Axes>"
      ]
     },
     "metadata": {
      "needs_background": "light"
     },
     "output_type": "display_data"
    }
   ],
   "source": [
    "fig, ax = plt.subplots(nrows=1, ncols=3, figsize=(16,5))\n",
    "\n",
    "sns.countplot(x='has_credit', data = twm_credit_account, ax=ax[0])\n",
    "sns.distplot(twm_credit_account['credit_limit'], ax=ax[1])\n",
    "sns.boxplot(x='has_credit', y='debt_amount', data=twm_credit_account, ax=ax[2])\n",
    "sns.despine()\n",
    "plt.show()"
   ]
  },
  {
   "cell_type": "code",
   "execution_count": 51,
   "metadata": {},
   "outputs": [
    {
     "name": "stdout",
     "output_type": "stream",
     "text": [
      "There are 155 customers who have debts that reached their credit limit.\n"
     ]
    }
   ],
   "source": [
    "max_debt = twm_credit_account[twm_credit_account['credit_limit'] == abs(twm_credit_account['debt_amount'])].count()['cust_id']\n",
    "print(f\"There are {max_debt} customers who have debts that reached their credit limit.\")"
   ]
  },
  {
   "cell_type": "markdown",
   "metadata": {},
   "source": [
    "### 1.1.3 Savings Transaction Data"
   ]
  },
  {
   "cell_type": "code",
   "execution_count": 52,
   "metadata": {},
   "outputs": [],
   "source": [
    "twm_savings_tran = pd.read_csv('datasets/twm_savings_tran.csv', sep=\";\")"
   ]
  },
  {
   "cell_type": "code",
   "execution_count": 53,
   "metadata": {},
   "outputs": [
    {
     "data": {
      "text/html": [
       "<div>\n",
       "<style scoped>\n",
       "    .dataframe tbody tr th:only-of-type {\n",
       "        vertical-align: middle;\n",
       "    }\n",
       "\n",
       "    .dataframe tbody tr th {\n",
       "        vertical-align: top;\n",
       "    }\n",
       "\n",
       "    .dataframe thead th {\n",
       "        text-align: right;\n",
       "    }\n",
       "</style>\n",
       "<table border=\"1\" class=\"dataframe\">\n",
       "  <thead>\n",
       "    <tr style=\"text-align: right;\">\n",
       "      <th></th>\n",
       "      <th>cust_id</th>\n",
       "      <th>tran_id</th>\n",
       "      <th>tran_amt</th>\n",
       "      <th>principal_amt</th>\n",
       "      <th>interest_amt</th>\n",
       "      <th>new_balance</th>\n",
       "      <th>tran_date</th>\n",
       "      <th>tran_time</th>\n",
       "      <th>channel</th>\n",
       "      <th>tran_code</th>\n",
       "    </tr>\n",
       "  </thead>\n",
       "  <tbody>\n",
       "    <tr>\n",
       "      <th>0</th>\n",
       "      <td>1363481</td>\n",
       "      <td>26</td>\n",
       "      <td>136.03</td>\n",
       "      <td>136.03</td>\n",
       "      <td>0.00</td>\n",
       "      <td>1521.57</td>\n",
       "      <td>26.10.1995</td>\n",
       "      <td>84111</td>\n",
       "      <td>A</td>\n",
       "      <td>DP</td>\n",
       "    </tr>\n",
       "    <tr>\n",
       "      <th>1</th>\n",
       "      <td>1362746</td>\n",
       "      <td>1</td>\n",
       "      <td>2.83</td>\n",
       "      <td>0.00</td>\n",
       "      <td>2.83</td>\n",
       "      <td>2265.90</td>\n",
       "      <td>31.1.1995</td>\n",
       "      <td>235959</td>\n",
       "      <td></td>\n",
       "      <td>IN</td>\n",
       "    </tr>\n",
       "    <tr>\n",
       "      <th>2</th>\n",
       "      <td>1363251</td>\n",
       "      <td>11</td>\n",
       "      <td>13.56</td>\n",
       "      <td>0.00</td>\n",
       "      <td>13.56</td>\n",
       "      <td>5438.90</td>\n",
       "      <td>30.4.1995</td>\n",
       "      <td>235959</td>\n",
       "      <td></td>\n",
       "      <td>IN</td>\n",
       "    </tr>\n",
       "    <tr>\n",
       "      <th>3</th>\n",
       "      <td>1362542</td>\n",
       "      <td>4</td>\n",
       "      <td>0.76</td>\n",
       "      <td>0.00</td>\n",
       "      <td>0.76</td>\n",
       "      <td>610.92</td>\n",
       "      <td>30.4.1995</td>\n",
       "      <td>235959</td>\n",
       "      <td></td>\n",
       "      <td>IN</td>\n",
       "    </tr>\n",
       "    <tr>\n",
       "      <th>4</th>\n",
       "      <td>1363387</td>\n",
       "      <td>11</td>\n",
       "      <td>148.69</td>\n",
       "      <td>148.69</td>\n",
       "      <td>0.00</td>\n",
       "      <td>470.05</td>\n",
       "      <td>21.5.1995</td>\n",
       "      <td>144736</td>\n",
       "      <td>E</td>\n",
       "      <td>DP</td>\n",
       "    </tr>\n",
       "  </tbody>\n",
       "</table>\n",
       "</div>"
      ],
      "text/plain": [
       "   cust_id  tran_id  tran_amt  principal_amt  interest_amt  new_balance  \\\n",
       "0  1363481       26    136.03         136.03          0.00      1521.57   \n",
       "1  1362746        1      2.83           0.00          2.83      2265.90   \n",
       "2  1363251       11     13.56           0.00         13.56      5438.90   \n",
       "3  1362542        4      0.76           0.00          0.76       610.92   \n",
       "4  1363387       11    148.69         148.69          0.00       470.05   \n",
       "\n",
       "    tran_date tran_time channel tran_code  \n",
       "0  26.10.1995     84111      A       DP    \n",
       "1   31.1.1995    235959              IN    \n",
       "2   30.4.1995    235959              IN    \n",
       "3   30.4.1995    235959              IN    \n",
       "4   21.5.1995    144736      E       DP    "
      ]
     },
     "execution_count": 53,
     "metadata": {},
     "output_type": "execute_result"
    }
   ],
   "source": [
    "twm_savings_tran.head()"
   ]
  },
  {
   "cell_type": "code",
   "execution_count": null,
   "metadata": {},
   "outputs": [],
   "source": []
  },
  {
   "cell_type": "code",
   "execution_count": null,
   "metadata": {},
   "outputs": [],
   "source": [
    "twm_savings_tran[['tran_amt', 'principal_amt', 'interest_amt', 'new_balance']].describe()"
   ]
  },
  {
   "cell_type": "code",
   "execution_count": null,
   "metadata": {},
   "outputs": [],
   "source": [
    "sns.heatmap(twm_savings_tran.isnull(), yticklabels=False, cbar=False)\n",
    "plt.show()"
   ]
  },
  {
   "cell_type": "code",
   "execution_count": null,
   "metadata": {},
   "outputs": [],
   "source": [
    "twm_savings_tran = twm_savings_tran[['cust_id', 'principal_amt', 'tran_amt', 'interest_amt', 'new_balance']]"
   ]
  },
  {
   "cell_type": "code",
   "execution_count": null,
   "metadata": {},
   "outputs": [],
   "source": [
    "savings_df = twm_savings_tran.groupby(['cust_id', 'principal_amt',  'interest_amt','tran_amt', 'new_balance']).size().reset_index().drop(0, axis=1)"
   ]
  },
  {
   "cell_type": "code",
   "execution_count": null,
   "metadata": {},
   "outputs": [],
   "source": [
    "savings_df.head()"
   ]
  },
  {
   "cell_type": "code",
   "execution_count": null,
   "metadata": {},
   "outputs": [],
   "source": [
    "fig, ax = plt.subplots(nrows=1, ncols=3, figsize=(16,5))\n",
    "\n",
    "sns.distplot(x=savings_df['principal_amt'], ax=ax[0])\n",
    "sns.distplot(x=savings_df['interest_amt'], ax=ax[1])\n",
    "sns.distplot(x=savings_df['tran_amt'], ax=ax[2])\n",
    "sns.despine()\n",
    "plt.show()"
   ]
  },
  {
   "cell_type": "code",
   "execution_count": null,
   "metadata": {},
   "outputs": [],
   "source": [
    "savings_df = savings_df[['cust_id', 'tran_amt']]\n",
    "savings_df.columns = ['cust_id', 'savings_tran_amt']\n",
    "savings_df.head()"
   ]
  },
  {
   "cell_type": "code",
   "execution_count": null,
   "metadata": {},
   "outputs": [],
   "source": [
    "savings_to_merge = savings_df.groupby('cust_id').sum().reset_index()\n",
    "savings_to_merge.head()"
   ]
  },
  {
   "cell_type": "code",
   "execution_count": null,
   "metadata": {},
   "outputs": [],
   "source": [
    "savings_count = savings_df.groupby('cust_id').count().reset_index()\n",
    "savings_count.head()"
   ]
  },
  {
   "cell_type": "code",
   "execution_count": null,
   "metadata": {},
   "outputs": [],
   "source": [
    "savings_to_merge = pd.merge(savings_to_merge, savings_count, on='cust_id')\n",
    "savings_to_merge.columns = ['cust_id', 'savings_tran_amt', 'savings_tran_count']\n",
    "savings_to_merge.head()"
   ]
  },
  {
   "cell_type": "markdown",
   "metadata": {},
   "source": [
    "### 1.1.4 Credit Transactions Data"
   ]
  },
  {
   "cell_type": "code",
   "execution_count": null,
   "metadata": {},
   "outputs": [],
   "source": [
    "twm_credit_tran = pd.read_csv('datasets/twm_credit_tran.csv', sep=';')\n",
    "twm_credit_tran.head()"
   ]
  },
  {
   "cell_type": "code",
   "execution_count": null,
   "metadata": {},
   "outputs": [],
   "source": [
    "twm_credit_tran.info()"
   ]
  },
  {
   "cell_type": "code",
   "execution_count": null,
   "metadata": {},
   "outputs": [],
   "source": [
    "twm_credit_tran[['tran_amt', 'principal_amt', 'interest_amt', 'new_balance']].describe()"
   ]
  },
  {
   "cell_type": "code",
   "execution_count": null,
   "metadata": {},
   "outputs": [],
   "source": [
    "sns.heatmap(twm_credit_tran.isnull(), yticklabels=False, cbar=False)\n",
    "plt.show()"
   ]
  },
  {
   "cell_type": "code",
   "execution_count": null,
   "metadata": {},
   "outputs": [],
   "source": [
    "credit_df = twm_credit_tran.groupby(['cust_id', 'principal_amt',  'interest_amt','tran_amt', 'new_balance']).size().reset_index().drop(0, axis=1)\n",
    "credit_df[credit_df['principal_amt'] > 0]"
   ]
  },
  {
   "cell_type": "code",
   "execution_count": null,
   "metadata": {},
   "outputs": [],
   "source": [
    "fig, ax = plt.subplots(nrows=1, ncols=3, figsize=(16,5))\n",
    "\n",
    "sns.distplot(x=credit_df['principal_amt'], ax=ax[0])\n",
    "sns.distplot(x=credit_df['interest_amt'], ax=ax[1])\n",
    "sns.distplot(x=credit_df['tran_amt'], ax=ax[2])\n",
    "sns.despine()\n",
    "plt.show()"
   ]
  },
  {
   "cell_type": "code",
   "execution_count": null,
   "metadata": {},
   "outputs": [],
   "source": [
    "credit_df = credit_df[['cust_id', 'tran_amt']]\n",
    "credit_df.columns = ['cust_id', 'credit_tran_amt']\n",
    "credit_df.head()"
   ]
  },
  {
   "cell_type": "code",
   "execution_count": null,
   "metadata": {},
   "outputs": [],
   "source": [
    "credit_to_merge = credit_df.groupby('cust_id').sum().reset_index()\n",
    "cust_credit = credit_df.groupby('cust_id').count().reset_index()\n",
    "credit_to_merge = pd.merge(credit_to_merge, cust_credit, on='cust_id')\n",
    "credit_to_merge.columns = ['cust_id', 'credit_tran_amt', 'credit_tran_count']\n",
    "credit_to_merge.head()"
   ]
  },
  {
   "cell_type": "markdown",
   "metadata": {},
   "source": [
    "### 1.1.5 Merge to a DataFrame"
   ]
  },
  {
   "cell_type": "code",
   "execution_count": null,
   "metadata": {
    "scrolled": false
   },
   "outputs": [],
   "source": [
    "df1 = pd.merge(twm_savings_account, twm_credit_account, on='cust_id', how='left')\n",
    "df2 = pd.merge(savings_to_merge, credit_to_merge, on='cust_id', how='left')\n",
    "transaction_df = pd.merge(df1, df2, on='cust_id', how='left')\n",
    "transaction_df.head()"
   ]
  },
  {
   "cell_type": "code",
   "execution_count": null,
   "metadata": {},
   "outputs": [],
   "source": [
    "transaction_df.drop(['cust_id', 'have_savings', 'has_credit', 'credit_limit'], axis=1, inplace=True)"
   ]
  },
  {
   "cell_type": "code",
   "execution_count": null,
   "metadata": {},
   "outputs": [],
   "source": [
    "transaction_df.fillna(0, inplace=True)"
   ]
  },
  {
   "cell_type": "code",
   "execution_count": null,
   "metadata": {},
   "outputs": [],
   "source": [
    "len(transaction_df)"
   ]
  },
  {
   "cell_type": "code",
   "execution_count": null,
   "metadata": {},
   "outputs": [],
   "source": [
    "#transaction_df.drop('cust_id', axis=1, inplace=True)"
   ]
  },
  {
   "cell_type": "code",
   "execution_count": null,
   "metadata": {},
   "outputs": [],
   "source": [
    "sns.heatmap(transaction_df.isnull(), yticklabels=False, cbar=False)\n",
    "plt.show()"
   ]
  },
  {
   "cell_type": "code",
   "execution_count": null,
   "metadata": {},
   "outputs": [],
   "source": []
  },
  {
   "cell_type": "code",
   "execution_count": null,
   "metadata": {},
   "outputs": [],
   "source": [
    "#transaction_df.fillna(0, inplace=True)"
   ]
  },
  {
   "cell_type": "code",
   "execution_count": null,
   "metadata": {},
   "outputs": [],
   "source": [
    "#sns.heatmap(transaction_df.isnull(), yticklabels=False, cbar=False)\n",
    "#plt.show()"
   ]
  },
  {
   "cell_type": "code",
   "execution_count": null,
   "metadata": {},
   "outputs": [],
   "source": [
    "#transaction_df['total_transactions'] = transaction_df['credit_tran_count'] + transaction_df['savings_tran_count']\n",
    "#transaction_df['total_transaction_amount'] = transaction_df['credit_tran_amt'] + transaction_df['savings_tran_amt']\n",
    "#transaction_df['avg_transaction'] = transaction_df['total_transaction_amount']/transaction_df['total_transactions']\n",
    "#transaction_df.drop(['savings_tran_amt', 'savings_tran_count', 'credit_tran_amt', 'credit_tran_count'], axis=1, inplace=True)\n",
    "#transaction_df = transaction_df.fillna(0)"
   ]
  },
  {
   "cell_type": "code",
   "execution_count": null,
   "metadata": {},
   "outputs": [],
   "source": [
    "#sns.heatmap(transaction_df.isnull(), yticklabels=False, cbar=False)\n",
    "#plt.show()"
   ]
  },
  {
   "cell_type": "code",
   "execution_count": null,
   "metadata": {},
   "outputs": [],
   "source": [
    "#transaction_df.drop(['have_savings', 'has_credit', 'avg_transaction'], axis=1, inplace=True)"
   ]
  },
  {
   "cell_type": "code",
   "execution_count": null,
   "metadata": {},
   "outputs": [],
   "source": [
    "#transaction_df_cluster = transaction_df.copy()\n",
    "#transaction_df_cluster['cluster'] = trans_analysis"
   ]
  },
  {
   "cell_type": "code",
   "execution_count": null,
   "metadata": {},
   "outputs": [],
   "source": [
    "#transaction_df_cluster.groupby('cluster').mean()"
   ]
  },
  {
   "cell_type": "markdown",
   "metadata": {},
   "source": [
    "## 1.2 Cluster Analysis"
   ]
  },
  {
   "cell_type": "code",
   "execution_count": null,
   "metadata": {},
   "outputs": [],
   "source": [
    "scaler = StandardScaler()\n",
    "scaler.fit(transaction_df)\n",
    "transaction_data = scaler.fit_transform(transaction_df)"
   ]
  },
  {
   "cell_type": "code",
   "execution_count": null,
   "metadata": {},
   "outputs": [],
   "source": [
    "def plot_distortions(data, max_clusters=10):\n",
    "    distortions = []\n",
    "    \n",
    "    for i in range(1, max_clusters+1):\n",
    "        km = KMeans(n_clusters=i, init='k-means++', n_init=10, random_state=0)\n",
    "        km.fit(data)\n",
    "        distortions.append(km.inertia_)\n",
    "        \n",
    "    sns.lineplot(x=range(1, max_clusters+1), y=distortions, marker='o')\n",
    "    plt.xlabel('Number of Clusters')\n",
    "    plt.ylabel('Distortions')\n",
    "    sns.despine()\n",
    "    plt.show()"
   ]
  },
  {
   "cell_type": "code",
   "execution_count": null,
   "metadata": {},
   "outputs": [],
   "source": [
    "plot_distortions(transaction_data)"
   ]
  },
  {
   "cell_type": "code",
   "execution_count": null,
   "metadata": {},
   "outputs": [],
   "source": [
    "transaction_km = KMeans(n_clusters=3, init='k-means++', n_init=10, random_state=0)\n",
    "trans_analysis = transaction_km.fit_predict(transaction_data)"
   ]
  },
  {
   "cell_type": "code",
   "execution_count": null,
   "metadata": {},
   "outputs": [],
   "source": [
    "transaction_result = pd.DataFrame(transaction_data, columns=list(transaction_df.columns))\n",
    "transaction_result['cluster'] = trans_analysis\n",
    "transaction_result.head()"
   ]
  },
  {
   "cell_type": "code",
   "execution_count": null,
   "metadata": {},
   "outputs": [],
   "source": [
    "transaction_result.groupby('cluster').mean()"
   ]
  },
  {
   "cell_type": "code",
   "execution_count": null,
   "metadata": {},
   "outputs": [],
   "source": [
    "def plot_radar_chart(df):\n",
    "    data = []\n",
    "    for i in range(len(df)):\n",
    "        data.append(go.Scatterpolar(r = df.iloc[i].values,\n",
    "                                    theta = df.iloc[i].index,\n",
    "                                    name = f'Cluster {df.index[i]}',\n",
    "                                    fill = 'toself'))\n",
    "    \n",
    "    \n",
    "    layout = go.Layout(polar = dict(radialaxis = dict(visible = True)),\n",
    "                       showlegend = True)\n",
    "    \n",
    "    fig = go.Figure(data = data, layout = layout)\n",
    "    fig.show()"
   ]
  },
  {
   "cell_type": "code",
   "execution_count": null,
   "metadata": {},
   "outputs": [],
   "source": [
    "#radar_data = transaction_result.copy().drop(['have_savings', 'has_credit'], axis=1)\n",
    "radar_data = transaction_result.groupby('cluster').mean()\n",
    "radar_data.head()\n",
    "\n",
    "#radar_data.to_csv('radar_data_test.csv')"
   ]
  },
  {
   "cell_type": "code",
   "execution_count": null,
   "metadata": {},
   "outputs": [],
   "source": [
    "banking_df2 = transaction_df.copy()\n",
    "banking_df2['cluster'] = trans_analysis\n",
    "banking_df2.head()"
   ]
  },
  {
   "cell_type": "code",
   "execution_count": null,
   "metadata": {},
   "outputs": [],
   "source": [
    "fix, ax = plt.subplots(figsize=(6, 6))\n",
    "\n",
    "sns.boxplot(x='cluster', y='amount_saved', data=banking_df2, palette='Blues')\n",
    "plt.xlabel('Cluster')\n",
    "plt.ylabel('Amount Saved ($)')\n",
    "plt.title('Money Saved in Savings Account', fontweight='bold', fontsize=16, ha='center')\n",
    "sns.despine()\n",
    "plt.show()"
   ]
  },
  {
   "cell_type": "code",
   "execution_count": null,
   "metadata": {},
   "outputs": [],
   "source": [
    "fix, ax = plt.subplots(figsize=(6, 6))\n",
    "\n",
    "sns.boxplot(x='cluster', y='debt_amount', data=banking_df2, palette='Blues')\n",
    "plt.xlabel('Cluster')\n",
    "plt.ylabel('Amount of Debt ($)')\n",
    "plt.title('Debt Incurred in Credit Account', fontweight='bold', fontsize=16, ha='center')\n",
    "sns.despine()\n",
    "plt.show()"
   ]
  },
  {
   "cell_type": "code",
   "execution_count": null,
   "metadata": {},
   "outputs": [],
   "source": [
    "fix, ax = plt.subplots(figsize=(6, 6))\n",
    "\n",
    "sns.boxplot(x='cluster', y='savings_tran_amt', data=banking_df2, palette='Blues')\n",
    "plt.xlabel('Cluster')\n",
    "plt.ylabel('Transaction Amount ($)')\n",
    "plt.title('Net Transaction Amount from Savings Account', fontweight='bold', fontsize=16, ha='center')\n",
    "sns.despine()\n",
    "plt.show()"
   ]
  },
  {
   "cell_type": "code",
   "execution_count": null,
   "metadata": {},
   "outputs": [],
   "source": [
    "fix, ax = plt.subplots(figsize=(6, 6))\n",
    "\n",
    "sns.boxplot(x='cluster', y='credit_tran_amt', data=banking_df2, palette='Blues')\n",
    "plt.xlabel('Cluster')\n",
    "plt.ylabel('Transaction Amount ($)')\n",
    "plt.title('Net Transaction Amount from Credit Account', fontweight='bold', fontsize=16, ha='center')\n",
    "sns.despine()\n",
    "plt.show()"
   ]
  },
  {
   "cell_type": "code",
   "execution_count": null,
   "metadata": {},
   "outputs": [],
   "source": [
    "fix, ax = plt.subplots(figsize=(6, 6))\n",
    "\n",
    "sns.boxplot(x='cluster', y='savings_tran_count', data=banking_df2, palette='Blues')\n",
    "plt.xlabel('Cluster')\n",
    "plt.ylabel('Number of Transactions')\n",
    "plt.title('Transactions from Savings Account', fontweight='bold', fontsize=16, ha='center')\n",
    "sns.despine()\n",
    "plt.show()"
   ]
  },
  {
   "cell_type": "code",
   "execution_count": null,
   "metadata": {},
   "outputs": [],
   "source": [
    "fix, ax = plt.subplots(figsize=(6, 6))\n",
    "\n",
    "sns.boxplot(x='cluster', y='credit_tran_count', data=banking_df2, palette='Blues')\n",
    "plt.xlabel('Cluster')\n",
    "plt.ylabel('Number of Transactions')\n",
    "plt.title('Transactions from Credit Account', fontweight='bold', fontsize=16, ha='center')\n",
    "sns.despine()\n",
    "plt.show()"
   ]
  },
  {
   "cell_type": "code",
   "execution_count": null,
   "metadata": {},
   "outputs": [],
   "source": [
    "plot_radar_chart(radar_data)"
   ]
  },
  {
   "cell_type": "markdown",
   "metadata": {},
   "source": [
    "## 1.3 PCA Analysis"
   ]
  },
  {
   "cell_type": "markdown",
   "metadata": {},
   "source": [
    "### 1.3.1 PCA Plot"
   ]
  },
  {
   "cell_type": "code",
   "execution_count": null,
   "metadata": {},
   "outputs": [],
   "source": [
    "transaction_pca = PCA(n_components=2)\n",
    "transaction_components = transaction_pca.fit_transform(transaction_data)"
   ]
  },
  {
   "cell_type": "code",
   "execution_count": null,
   "metadata": {},
   "outputs": [],
   "source": [
    "transaction_pca_df = pd.DataFrame(transaction_components, columns=['PC1', 'PC2'])\n",
    "transaction_pca_df['cluster'] = trans_analysis"
   ]
  },
  {
   "cell_type": "code",
   "execution_count": null,
   "metadata": {},
   "outputs": [],
   "source": [
    "sns.scatterplot(x='PC1', y='PC2', data=transaction_pca_df, hue='cluster')\n",
    "sns.despine()\n",
    "plt.show()"
   ]
  },
  {
   "cell_type": "markdown",
   "metadata": {},
   "source": [
    "### 1.3.2 Scree Plot"
   ]
  },
  {
   "cell_type": "code",
   "execution_count": null,
   "metadata": {},
   "outputs": [],
   "source": [
    "scree_pca = PCA()\n",
    "scree_pca_components = scree_pca.fit_transform(transaction_data)"
   ]
  },
  {
   "cell_type": "code",
   "execution_count": null,
   "metadata": {},
   "outputs": [],
   "source": [
    "scree_df = pd.DataFrame({'var': scree_pca.explained_variance_ratio_ * 100, 'PC':[f\"PC{i}\" for i in range(1, 7)]})\n",
    "scree_df"
   ]
  },
  {
   "cell_type": "code",
   "execution_count": null,
   "metadata": {},
   "outputs": [],
   "source": [
    "sns.barplot(x='PC', y='var', data=scree_df, color='lightblue')\n",
    "sns.despine()\n",
    "plt.show()"
   ]
  },
  {
   "cell_type": "markdown",
   "metadata": {},
   "source": [
    "### 1.3.3 Loading Plot"
   ]
  },
  {
   "cell_type": "code",
   "execution_count": null,
   "metadata": {},
   "outputs": [],
   "source": [
    "transaction_loadings = transaction_pca.components_.T * np.sqrt(transaction_pca.explained_variance_)\n",
    "transaction_loadings_df = pd.DataFrame(transaction_loadings, columns=['PC1', 'PC2'], index=list(transaction_df.columns))"
   ]
  },
  {
   "cell_type": "code",
   "execution_count": null,
   "metadata": {},
   "outputs": [],
   "source": [
    "transaction_properties = list(transaction_df.columns)\n",
    "sns.set_style('ticks')\n",
    "sns.scatterplot(x='PC1', y='PC2', data=transaction_loadings_df)\n",
    "\n",
    "for i in range(len(transaction_properties)):\n",
    "    plt.text(transaction_loadings_df.iloc[i]['PC1']+0.02, transaction_loadings_df.iloc[i]['PC2']+0.02, transaction_properties[i])\n",
    "\n",
    "sns.despine()\n",
    "plt.show()"
   ]
  },
  {
   "cell_type": "markdown",
   "metadata": {},
   "source": [
    "# 2. Demographic and Account Clustering"
   ]
  },
  {
   "cell_type": "code",
   "execution_count": null,
   "metadata": {},
   "outputs": [],
   "source": [
    "twm_customers = pd.read_csv('datasets/twm_customer.csv', sep=\";\")\n",
    "twm_customers.head()"
   ]
  },
  {
   "cell_type": "code",
   "execution_count": null,
   "metadata": {},
   "outputs": [],
   "source": [
    "twm_customers = twm_customers[['cust_id', 'income', 'age', 'years_with_bank', 'nbr_children']]"
   ]
  },
  {
   "cell_type": "code",
   "execution_count": null,
   "metadata": {},
   "outputs": [],
   "source": [
    "transaction_df2 = pd.merge(df1, df2, on='cust_id', how='left')\n",
    "combined_df = pd.merge(twm_customers, transaction_df2, on='cust_id', how='left')\n",
    "combined_df.fillna(0, inplace=True)\n",
    "combined_df.head()"
   ]
  },
  {
   "cell_type": "code",
   "execution_count": null,
   "metadata": {},
   "outputs": [],
   "source": [
    "demo_account_df = combined_df.copy()\n",
    "demo_account_df['total_tran_count'] = demo_account_df['savings_tran_count'] + demo_account_df['credit_tran_count']\n",
    "demo_account_df['total_tran_amount'] = demo_account_df['savings_tran_amt'] + demo_account_df['credit_tran_amt']"
   ]
  },
  {
   "cell_type": "code",
   "execution_count": null,
   "metadata": {},
   "outputs": [],
   "source": [
    "demo_account_df.drop(['cust_id','savings_tran_amt', 'credit_tran_amt', 'savings_tran_count', 'credit_tran_count', 'has_credit', 'have_savings', 'total_tran_count', 'years_with_bank'], axis=1, inplace=True)"
   ]
  },
  {
   "cell_type": "code",
   "execution_count": null,
   "metadata": {},
   "outputs": [],
   "source": [
    "demo_account_df.drop(['total_tran_amount'], axis=1, inplace=True)"
   ]
  },
  {
   "cell_type": "code",
   "execution_count": null,
   "metadata": {},
   "outputs": [],
   "source": [
    "demo_account_df.drop(['credit_limit'], axis=1, inplace=True)"
   ]
  },
  {
   "cell_type": "code",
   "execution_count": null,
   "metadata": {},
   "outputs": [],
   "source": [
    "demo_account_df.drop(['cluster'], axis=1, inplace=True)"
   ]
  },
  {
   "cell_type": "markdown",
   "metadata": {},
   "source": [
    "## 2.1 Cluster Analysis"
   ]
  },
  {
   "cell_type": "code",
   "execution_count": null,
   "metadata": {},
   "outputs": [],
   "source": [
    "scaler = MinMaxScaler()\n",
    "scaler.fit(demo_account_df)\n",
    "demo_account_data = scaler.fit_transform(demo_account_df)"
   ]
  },
  {
   "cell_type": "code",
   "execution_count": null,
   "metadata": {},
   "outputs": [],
   "source": [
    "plot_distortions(demo_account_data)"
   ]
  },
  {
   "cell_type": "code",
   "execution_count": null,
   "metadata": {},
   "outputs": [],
   "source": [
    "demo_account_km = KMeans(n_clusters=3, init='k-means++', n_init=10, random_state=0)\n",
    "demo_account_analysis = demo_account_km.fit_predict(demo_account_data)"
   ]
  },
  {
   "cell_type": "code",
   "execution_count": null,
   "metadata": {},
   "outputs": [],
   "source": [
    "demo_account_df = pd.DataFrame(demo_account_data, columns=demo_account_df.columns)\n",
    "demo_account_df['cluster'] = demo_account_analysis\n",
    "demo_account_df.head()"
   ]
  },
  {
   "cell_type": "code",
   "execution_count": null,
   "metadata": {},
   "outputs": [],
   "source": [
    "demo_account_plot.to_csv('demo_account_plot.csv')"
   ]
  },
  {
   "cell_type": "code",
   "execution_count": null,
   "metadata": {},
   "outputs": [],
   "source": [
    "demo_account_plot = demo_account_df.groupby('cluster').mean()"
   ]
  },
  {
   "cell_type": "code",
   "execution_count": null,
   "metadata": {},
   "outputs": [],
   "source": [
    "plot_radar_chart(demo_account_plot)"
   ]
  },
  {
   "cell_type": "markdown",
   "metadata": {},
   "source": [
    "## 2.2 PCA Plot"
   ]
  },
  {
   "cell_type": "code",
   "execution_count": null,
   "metadata": {},
   "outputs": [],
   "source": [
    "demo_account_pca = PCA(n_components=2)\n",
    "demo_account_components = demo_account_pca.fit_transform(demo_account_data)"
   ]
  },
  {
   "cell_type": "code",
   "execution_count": null,
   "metadata": {},
   "outputs": [],
   "source": []
  },
  {
   "cell_type": "code",
   "execution_count": null,
   "metadata": {},
   "outputs": [],
   "source": [
    "demo_account_pca_df = pd.DataFrame(demo_account_components, columns=['PC1', 'PC2'])\n",
    "demo_account_pca_df['cluster'] = demo_account_analysis"
   ]
  },
  {
   "cell_type": "code",
   "execution_count": null,
   "metadata": {},
   "outputs": [],
   "source": [
    "sns.scatterplot(x='PC1', y='PC2', data=demo_account_pca_df, hue='cluster')\n",
    "sns.despine()\n",
    "plt.show()"
   ]
  },
  {
   "cell_type": "code",
   "execution_count": null,
   "metadata": {},
   "outputs": [],
   "source": [
    "scree_pca = PCA()\n",
    "scree_pca_components = scree_pca.fit_transform(demo_account_data)"
   ]
  },
  {
   "cell_type": "code",
   "execution_count": null,
   "metadata": {},
   "outputs": [],
   "source": [
    "sns.barplot(x='PC', y='var', data=scree_df, color='lightblue')\n",
    "sns.despine()\n",
    "plt.show()"
   ]
  },
  {
   "cell_type": "code",
   "execution_count": null,
   "metadata": {},
   "outputs": [],
   "source": [
    "demo_account_loadings = demo_account_pca.components_.T * np.sqrt(demo_account_pca.explained_variance_)\n",
    "demo_account_loadings_df = pd.DataFrame(demo_account_loadings, columns=['PC1', 'PC2'], index=list(demo_account_df.columns)[:-1])"
   ]
  },
  {
   "cell_type": "code",
   "execution_count": null,
   "metadata": {},
   "outputs": [],
   "source": [
    "demo_account_loadings_df"
   ]
  },
  {
   "cell_type": "code",
   "execution_count": null,
   "metadata": {},
   "outputs": [],
   "source": [
    "demo_account_properties = list(demo_account_df.columns)[:-1]\n",
    "sns.set_style('ticks')\n",
    "sns.scatterplot(x='PC1', y='PC2', data=demo_account_loadings_df)\n",
    "\n",
    "for i in range(len(demo_account_properties)):\n",
    "    plt.text(demo_account_loadings_df.iloc[i]['PC1']+0.005, demo_account_loadings_df.iloc[i]['PC2']+0.005, demo_account_properties[i])\n",
    "\n",
    "sns.despine()\n",
    "plt.show()"
   ]
  },
  {
   "cell_type": "code",
   "execution_count": null,
   "metadata": {},
   "outputs": [],
   "source": []
  }
 ],
 "metadata": {
  "kernelspec": {
   "display_name": "lhl-bootcamp",
   "language": "python",
   "name": "lhl-bootcamp"
  },
  "language_info": {
   "codemirror_mode": {
    "name": "ipython",
    "version": 3
   },
   "file_extension": ".py",
   "mimetype": "text/x-python",
   "name": "python",
   "nbconvert_exporter": "python",
   "pygments_lexer": "ipython3",
   "version": "3.7.7"
  }
 },
 "nbformat": 4,
 "nbformat_minor": 4
}