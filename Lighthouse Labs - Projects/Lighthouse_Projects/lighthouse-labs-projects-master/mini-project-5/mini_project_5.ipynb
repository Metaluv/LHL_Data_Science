{
  "nbformat": 4,
  "nbformat_minor": 0,
  "metadata": {
    "colab": {
      "name": "mini-project-5.ipynb",
      "provenance": [],
      "collapsed_sections": []
    },
    "kernelspec": {
      "name": "python3",
      "display_name": "Python 3"
    },
    "language_info": {
      "name": "python"
    },
    "accelerator": "GPU"
  },
  "cells": [
    {
      "cell_type": "markdown",
      "metadata": {
        "id": "MR8XjAqV5pu-"
      },
      "source": [
        "# Using Simple Dataset"
      ]
    },
    {
      "cell_type": "code",
      "metadata": {
        "id": "q2h8ryZ84yi4"
      },
      "source": [
        "import numpy as np\n",
        "import pandas as pd\n",
        "import string\n",
        "import seaborn as sns\n",
        "import matplotlib.pyplot as plt\n",
        "%matplotlib inline"
      ],
      "execution_count": null,
      "outputs": []
    },
    {
      "cell_type": "code",
      "metadata": {
        "id": "-rR8q5oG4-Kr"
      },
      "source": [
        "from tensorflow.python.keras.preprocessing.text import Tokenizer\n",
        "from tensorflow.python.keras.preprocessing.sequence import pad_sequences\n",
        "\n",
        "import tensorflow as tf\n",
        "from tensorflow.python.keras.models import Model, Sequential\n",
        "from tensorflow.python.keras.layers import GRU, Input, Dense, TimeDistributed, Activation, RepeatVector, Bidirectional, Dropout, LSTM\n",
        "from tensorflow.python.keras.layers.embeddings import Embedding\n",
        "from tensorflow.python.keras.losses import sparse_categorical_crossentropy\n",
        "from tensorflow.python.keras.callbacks import ModelCheckpoint\n",
        "import os\n",
        "import io\n",
        "from google.colab import files\n",
        "import requests"
      ],
      "execution_count": null,
      "outputs": []
    },
    {
      "cell_type": "code",
      "metadata": {
        "id": "rXxmUFUe4_s4"
      },
      "source": [
        "french_raw = pd.read_csv(\"https://raw.githubusercontent.com/tommytracey/AIND-Capstone/master/data/small_vocab_fr\",delimiter=\"\\t\", header=None)\n",
        "english_raw = pd.read_csv(\"https://raw.githubusercontent.com/tommytracey/AIND-Capstone/master/data/small_vocab_en\",delimiter=\"\\t\", header=None)"
      ],
      "execution_count": null,
      "outputs": []
    },
    {
      "cell_type": "code",
      "metadata": {
        "id": "TSUpXsNr5Be9"
      },
      "source": [
        "df = pd.concat((english_raw, french_raw), axis=1)\n",
        "df.columns = ['english', 'french']"
      ],
      "execution_count": null,
      "outputs": []
    },
    {
      "cell_type": "code",
      "metadata": {
        "id": "aFHtohgI5C8i"
      },
      "source": [
        "punctuations = string.punctuation\n",
        "def remove_punctuations(sentence):\n",
        "    result = list()\n",
        "    for word in sentence.split():\n",
        "        if (word in punctuations):\n",
        "            pass\n",
        "        else:\n",
        "            result.append(word.lower())\n",
        "    return result"
      ],
      "execution_count": null,
      "outputs": []
    },
    {
      "cell_type": "code",
      "metadata": {
        "id": "c9biF-Ir5EqQ"
      },
      "source": [
        "df['english_clean'] = df['english'].map(remove_punctuations)\n",
        "df['french_clean'] = df['french'].map(remove_punctuations)"
      ],
      "execution_count": null,
      "outputs": []
    },
    {
      "cell_type": "code",
      "metadata": {
        "id": "EMPX-HjC5GXD"
      },
      "source": [
        "english_clean = list(df['english_clean'].to_numpy())\n",
        "french_clean = list(df['french_clean'].to_numpy())"
      ],
      "execution_count": null,
      "outputs": []
    },
    {
      "cell_type": "code",
      "metadata": {
        "id": "KpA3z4vZ5I4P"
      },
      "source": [
        "english_clean = [' '.join(sentence) for sentence in english_clean]\n",
        "french_clean = [' '.join(sentence) for sentence in french_clean]"
      ],
      "execution_count": null,
      "outputs": []
    },
    {
      "cell_type": "code",
      "metadata": {
        "id": "K1KfQDh55Kju"
      },
      "source": [
        "english_len = [len(sentence.split()) for sentence in english_clean]\n",
        "french_len = [len(sentence.split()) for sentence in french_clean]"
      ],
      "execution_count": null,
      "outputs": []
    },
    {
      "cell_type": "code",
      "metadata": {
        "colab": {
          "base_uri": "https://localhost:8080/",
          "height": 376
        },
        "id": "1zgHcxk15LsR",
        "outputId": "af956e65-4208-400a-c6d4-8c3e94df17e6"
      },
      "source": [
        "sns.set_style('ticks')\n",
        "\n",
        "fig, ax = plt.subplots(nrows=1, ncols=2, figsize=(18,6))\n",
        "\n",
        "sns.histplot(english_len, ax=ax[0])\n",
        "sns.histplot(french_len, ax=ax[1])\n",
        "sns.despine()\n",
        "plt.show()"
      ],
      "execution_count": null,
      "outputs": [
        {
          "output_type": "display_data",
          "data": {
            "image/png": "[encoded data removed]",
            "text/plain": [
              "<Figure size 1296x432 with 2 Axes>"
            ]
          },
          "metadata": {
            "tags": []
          }
        }
      ]
    },
    {
      "cell_type": "code",
      "metadata": {
        "id": "3yC7lzLS5NS7"
      },
      "source": [
        "eng_length = 20\n",
        "frn_length = 20"
      ],
      "execution_count": null,
      "outputs": []
    },
    {
      "cell_type": "code",
      "metadata": {
        "id": "G7p8hKjV5SAY"
      },
      "source": [
        "def tokenization(lines):\n",
        "    tokenizer = Tokenizer()\n",
        "    tokenizer.fit_on_texts(lines)\n",
        "    return tokenizer"
      ],
      "execution_count": null,
      "outputs": []
    },
    {
      "cell_type": "code",
      "metadata": {
        "id": "Bb9W9eeA5TVc"
      },
      "source": [
        "def encode_sequences(tokenizer, length, lines):\n",
        "    seq = tokenizer.texts_to_sequences(lines)\n",
        "    seq = pad_sequences(seq, maxlen=length, padding='post')\n",
        "    return seq"
      ],
      "execution_count": null,
      "outputs": []
    },
    {
      "cell_type": "code",
      "metadata": {
        "id": "rm2VrmdZ5Unp"
      },
      "source": [
        "eng_tokenizer = tokenization(english_clean)\n",
        "eng_vocab_size = len(eng_tokenizer.word_index) + 1"
      ],
      "execution_count": null,
      "outputs": []
    },
    {
      "cell_type": "code",
      "metadata": {
        "id": "ty9Jnhjx5V7T"
      },
      "source": [
        "frn_tokenizer = tokenization(french_clean)\n",
        "frn_vocab_size = len(frn_tokenizer.word_index) + 1"
      ],
      "execution_count": null,
      "outputs": []
    },
    {
      "cell_type": "code",
      "metadata": {
        "id": "NMslFgXK5Xk7"
      },
      "source": [
        "from sklearn.model_selection import train_test_split\n",
        "X_train, X_test, y_train, y_test = train_test_split(english_clean, french_clean, test_size=0.25, random_state=8)"
      ],
      "execution_count": null,
      "outputs": []
    },
    {
      "cell_type": "code",
      "metadata": {
        "id": "0isCljgI5Y8K"
      },
      "source": [
        "Xtrain = encode_sequences(eng_tokenizer, eng_length, X_train)\n",
        "ytrain = encode_sequences(frn_tokenizer, frn_length, y_train)"
      ],
      "execution_count": null,
      "outputs": []
    },
    {
      "cell_type": "code",
      "metadata": {
        "id": "E3ibhx-aI05R"
      },
      "source": [
        ""
      ],
      "execution_count": null,
      "outputs": []
    },
    {
      "cell_type": "code",
      "metadata": {
        "id": "I2KDUsul5aLw"
      },
      "source": [
        "Xtest = encode_sequences(eng_tokenizer, eng_length, X_test)\n",
        "ytest = encode_sequences(frn_tokenizer, frn_length, y_test)"
      ],
      "execution_count": null,
      "outputs": []
    },
    {
      "cell_type": "code",
      "metadata": {
        "id": "9uv3p_fU5bbx"
      },
      "source": [
        "def build_model(in_vocab, out_vocab, in_timesteps, out_timesteps, units):\n",
        "    model = Sequential()\n",
        "    model.add(Embedding(in_vocab, units, input_length=in_timesteps, mask_zero=True))\n",
        "    model.add(LSTM(units))\n",
        "    model.add(RepeatVector(out_timesteps))\n",
        "    model.add(LSTM(units, return_sequences=True))\n",
        "    model.add(Dense(out_vocab, activation='softmax'))\n",
        "    return model"
      ],
      "execution_count": null,
      "outputs": []
    },
    {
      "cell_type": "code",
      "metadata": {
        "id": "c1ddBjfg5c1V"
      },
      "source": [
        "model = build_model(eng_vocab_size, frn_vocab_size, eng_length, frn_length, 512)"
      ],
      "execution_count": null,
      "outputs": []
    },
    {
      "cell_type": "code",
      "metadata": {
        "colab": {
          "base_uri": "https://localhost:8080/"
        },
        "id": "h_iSUvgl5eDE",
        "outputId": "dfa2a6cd-8271-41a7-8c06-fa563059639a"
      },
      "source": [
        "rms = tf.optimizers.RMSprop(lr=0.001)\n",
        "model.compile(optimizer=rms, loss='sparse_categorical_crossentropy', metrics=['accuracy'])"
      ],
      "execution_count": null,
      "outputs": [
        {
          "output_type": "stream",
          "text": [
            "/usr/local/lib/python3.7/dist-packages/tensorflow/python/keras/optimizer_v2/optimizer_v2.py:375: UserWarning: The `lr` argument is deprecated, use `learning_rate` instead.\n",
            "  \"The `lr` argument is deprecated, use `learning_rate` instead.\")\n"
          ],
          "name": "stderr"
        }
      ]
    },
    {
      "cell_type": "code",
      "metadata": {
        "colab": {
          "base_uri": "https://localhost:8080/"
        },
        "id": "qvEmSqLt5fPF",
        "outputId": "82d280cc-4c41-4af3-8874-e646f06dc0e3"
      },
      "source": [
        "filename = 'model_trial1_jul22'\n",
        "checkpoint = ModelCheckpoint(filename, monitor='accuracy', verbose=1, save_best_only=True, mode='min')\n",
        "history = model.fit(Xtrain, ytrain.reshape(ytrain.shape[0], ytrain.shape[1], 1), \n",
        "          epochs=30, batch_size=512, \n",
        "          validation_split = 0.2,\n",
        "          callbacks=[checkpoint], verbose=1)  "
      ],
      "execution_count": null,
      "outputs": [
        {
          "output_type": "stream",
          "text": [
            "Epoch 1/30\n",
            "162/162 [==============================] - 51s 268ms/step - loss: 2.5133 - accuracy: 0.4509 - val_loss: 1.8646 - val_accuracy: 0.5296\n",
            "\n",
            "Epoch 00001: accuracy improved from inf to 0.45094, saving model to model_trial1_jul22\n",
            "INFO:tensorflow:Assets written to: model_trial1_jul22/assets\n",
            "Epoch 2/30\n",
            "162/162 [==============================] - 43s 267ms/step - loss: 1.6823 - accuracy: 0.5572 - val_loss: 1.3243 - val_accuracy: 0.6416\n",
            "\n",
            "Epoch 00002: accuracy did not improve from 0.45094\n",
            "Epoch 3/30\n",
            "162/162 [==============================] - 44s 272ms/step - loss: 1.2176 - accuracy: 0.6583 - val_loss: 1.1571 - val_accuracy: 0.6607\n",
            "\n",
            "Epoch 00003: accuracy did not improve from 0.45094\n",
            "Epoch 4/30\n",
            "162/162 [==============================] - 42s 262ms/step - loss: 0.9278 - accuracy: 0.7239 - val_loss: 0.8754 - val_accuracy: 0.7371\n",
            "\n",
            "Epoch 00004: accuracy did not improve from 0.45094\n",
            "Epoch 5/30\n",
            "162/162 [==============================] - 44s 269ms/step - loss: 0.7332 - accuracy: 0.7752 - val_loss: 0.6439 - val_accuracy: 0.7975\n",
            "\n",
            "Epoch 00005: accuracy did not improve from 0.45094\n",
            "Epoch 6/30\n",
            "162/162 [==============================] - 43s 266ms/step - loss: 0.5755 - accuracy: 0.8238 - val_loss: 0.4698 - val_accuracy: 0.8563\n",
            "\n",
            "Epoch 00006: accuracy did not improve from 0.45094\n",
            "Epoch 7/30\n",
            "162/162 [==============================] - 43s 266ms/step - loss: 0.4317 - accuracy: 0.8698 - val_loss: 0.3740 - val_accuracy: 0.8858\n",
            "\n",
            "Epoch 00007: accuracy did not improve from 0.45094\n",
            "Epoch 8/30\n",
            "162/162 [==============================] - 44s 270ms/step - loss: 0.3038 - accuracy: 0.9110 - val_loss: 0.2400 - val_accuracy: 0.9326\n",
            "\n",
            "Epoch 00008: accuracy did not improve from 0.45094\n",
            "Epoch 9/30\n",
            "162/162 [==============================] - 43s 266ms/step - loss: 0.2097 - accuracy: 0.9400 - val_loss: 0.2501 - val_accuracy: 0.9255\n",
            "\n",
            "Epoch 00009: accuracy did not improve from 0.45094\n",
            "Epoch 10/30\n",
            "162/162 [==============================] - 44s 272ms/step - loss: 0.1507 - accuracy: 0.9557 - val_loss: 0.1423 - val_accuracy: 0.9570\n",
            "\n",
            "Epoch 00010: accuracy did not improve from 0.45094\n",
            "Epoch 11/30\n",
            "162/162 [==============================] - 43s 267ms/step - loss: 0.1213 - accuracy: 0.9635 - val_loss: 0.1979 - val_accuracy: 0.9440\n",
            "\n",
            "Epoch 00011: accuracy did not improve from 0.45094\n",
            "Epoch 12/30\n",
            "162/162 [==============================] - 44s 269ms/step - loss: 0.0981 - accuracy: 0.9698 - val_loss: 0.1083 - val_accuracy: 0.9674\n",
            "\n",
            "Epoch 00012: accuracy did not improve from 0.45094\n",
            "Epoch 13/30\n",
            "162/162 [==============================] - 44s 270ms/step - loss: 0.0849 - accuracy: 0.9744 - val_loss: 0.1115 - val_accuracy: 0.9649\n",
            "\n",
            "Epoch 00013: accuracy did not improve from 0.45094\n",
            "Epoch 14/30\n",
            "162/162 [==============================] - 43s 263ms/step - loss: 0.0688 - accuracy: 0.9789 - val_loss: 0.0958 - val_accuracy: 0.9706\n",
            "\n",
            "Epoch 00014: accuracy did not improve from 0.45094\n",
            "Epoch 15/30\n",
            "162/162 [==============================] - 44s 271ms/step - loss: 0.0584 - accuracy: 0.9820 - val_loss: 0.0892 - val_accuracy: 0.9734\n",
            "\n",
            "Epoch 00015: accuracy did not improve from 0.45094\n",
            "Epoch 16/30\n",
            "162/162 [==============================] - 44s 270ms/step - loss: 0.0504 - accuracy: 0.9845 - val_loss: 0.0786 - val_accuracy: 0.9770\n",
            "\n",
            "Epoch 00016: accuracy did not improve from 0.45094\n",
            "Epoch 17/30\n",
            "162/162 [==============================] - 43s 268ms/step - loss: 0.0442 - accuracy: 0.9868 - val_loss: 0.0777 - val_accuracy: 0.9776\n",
            "\n",
            "Epoch 00017: accuracy did not improve from 0.45094\n",
            "Epoch 18/30\n",
            "162/162 [==============================] - 44s 273ms/step - loss: 0.0404 - accuracy: 0.9885 - val_loss: 0.0771 - val_accuracy: 0.9784\n",
            "\n",
            "Epoch 00018: accuracy did not improve from 0.45094\n",
            "Epoch 19/30\n",
            "162/162 [==============================] - 44s 270ms/step - loss: 0.0344 - accuracy: 0.9897 - val_loss: 0.0772 - val_accuracy: 0.9783\n",
            "\n",
            "Epoch 00019: accuracy did not improve from 0.45094\n",
            "Epoch 20/30\n",
            "162/162 [==============================] - 44s 271ms/step - loss: 0.0301 - accuracy: 0.9911 - val_loss: 0.0738 - val_accuracy: 0.9785\n",
            "\n",
            "Epoch 00020: accuracy did not improve from 0.45094\n",
            "Epoch 21/30\n",
            "162/162 [==============================] - 43s 267ms/step - loss: 0.0259 - accuracy: 0.9925 - val_loss: 0.0798 - val_accuracy: 0.9783\n",
            "\n",
            "Epoch 00021: accuracy did not improve from 0.45094\n",
            "Epoch 22/30\n",
            "162/162 [==============================] - 43s 268ms/step - loss: 0.0238 - accuracy: 0.9931 - val_loss: 0.0723 - val_accuracy: 0.9801\n",
            "\n",
            "Epoch 00022: accuracy did not improve from 0.45094\n",
            "Epoch 23/30\n",
            "162/162 [==============================] - 44s 270ms/step - loss: 0.0214 - accuracy: 0.9939 - val_loss: 0.0636 - val_accuracy: 0.9829\n",
            "\n",
            "Epoch 00023: accuracy did not improve from 0.45094\n",
            "Epoch 24/30\n",
            "162/162 [==============================] - 43s 263ms/step - loss: 0.0181 - accuracy: 0.9949 - val_loss: 0.0668 - val_accuracy: 0.9828\n",
            "\n",
            "Epoch 00024: accuracy did not improve from 0.45094\n",
            "Epoch 25/30\n",
            "162/162 [==============================] - 44s 270ms/step - loss: 0.0173 - accuracy: 0.9951 - val_loss: 0.0762 - val_accuracy: 0.9810\n",
            "\n",
            "Epoch 00025: accuracy did not improve from 0.45094\n",
            "Epoch 26/30\n",
            "162/162 [==============================] - 43s 265ms/step - loss: 0.0153 - accuracy: 0.9957 - val_loss: 0.0703 - val_accuracy: 0.9830\n",
            "\n",
            "Epoch 00026: accuracy did not improve from 0.45094\n",
            "Epoch 27/30\n",
            "162/162 [==============================] - 44s 269ms/step - loss: 0.0136 - accuracy: 0.9962 - val_loss: 0.0731 - val_accuracy: 0.9825\n",
            "\n",
            "Epoch 00027: accuracy did not improve from 0.45094\n",
            "Epoch 28/30\n",
            "162/162 [==============================] - 43s 265ms/step - loss: 0.0127 - accuracy: 0.9966 - val_loss: 0.0827 - val_accuracy: 0.9808\n",
            "\n",
            "Epoch 00028: accuracy did not improve from 0.45094\n",
            "Epoch 29/30\n",
            "162/162 [==============================] - 43s 266ms/step - loss: 0.0118 - accuracy: 0.9968 - val_loss: 0.0795 - val_accuracy: 0.9811\n",
            "\n",
            "Epoch 00029: accuracy did not improve from 0.45094\n",
            "Epoch 30/30\n",
            "162/162 [==============================] - 44s 270ms/step - loss: 0.0121 - accuracy: 0.9971 - val_loss: 0.0734 - val_accuracy: 0.9836\n",
            "\n",
            "Epoch 00030: accuracy did not improve from 0.45094\n"
          ],
          "name": "stdout"
        }
      ]
    },
    {
      "cell_type": "code",
      "metadata": {
        "colab": {
          "base_uri": "https://localhost:8080/"
        },
        "id": "YrnsXNw5BOPB",
        "outputId": "515d9509-debe-47d4-bcc4-d5aaf7d1d855"
      },
      "source": [
        "print(model.summary())"
      ],
      "execution_count": null,
      "outputs": [
        {
          "output_type": "stream",
          "text": [
            "Model: \"sequential\"\n",
            "_________________________________________________________________\n",
            "Layer (type)                 Output Shape              Param #   \n",
            "=================================================================\n",
            "embedding (Embedding)        (None, 20, 512)           102400    \n",
            "_________________________________________________________________\n",
            "lstm (LSTM)                  (None, 512)               2099200   \n",
            "_________________________________________________________________\n",
            "repeat_vector (RepeatVector) (None, 20, 512)           0         \n",
            "_________________________________________________________________\n",
            "lstm_1 (LSTM)                (None, 20, 512)           2099200   \n",
            "_________________________________________________________________\n",
            "dense (Dense)                (None, 20, 345)           176985    \n",
            "=================================================================\n",
            "Total params: 4,477,785\n",
            "Trainable params: 4,477,785\n",
            "Non-trainable params: 0\n",
            "_________________________________________________________________\n",
            "None\n"
          ],
          "name": "stdout"
        }
      ]
    },
    {
      "cell_type": "code",
      "metadata": {
        "colab": {
          "base_uri": "https://localhost:8080/",
          "height": 279
        },
        "id": "x7oJ8y32-4qb",
        "outputId": "a40e1894-7243-4981-b3a1-6aba4f9c279c"
      },
      "source": [
        "sns.set_style('ticks')\n",
        "plt.plot(history.history['loss'], color='blue')\n",
        "plt.plot(history.history['val_loss'], color='red')\n",
        "sns.despine()\n",
        "plt.legend(['train','validation'])\n",
        "plt.xlabel('Epochs')\n",
        "plt.ylabel('Error')\n",
        "plt.show()"
      ],
      "execution_count": null,
      "outputs": [
        {
          "output_type": "display_data",
          "data": {
            "image/png": "[encoded data removed]",
            "text/plain": [
              "<Figure size 432x288 with 1 Axes>"
            ]
          },
          "metadata": {
            "tags": []
          }
        }
      ]
    },
    {
      "cell_type": "code",
      "metadata": {
        "colab": {
          "base_uri": "https://localhost:8080/"
        },
        "id": "2vszjMHa5gwL",
        "outputId": "b3f1f5c1-64c7-4139-9f4c-cd95d30be287"
      },
      "source": [
        "preds = []\n",
        "\n",
        "for i in range(15):\n",
        "  preds.append(model.predict_classes(Xtest[i].reshape(1, 20)))"
      ],
      "execution_count": null,
      "outputs": [
        {
          "output_type": "stream",
          "text": [
            "/usr/local/lib/python3.7/dist-packages/tensorflow/python/keras/engine/sequential.py:455: UserWarning: `model.predict_classes()` is deprecated and will be removed after 2021-01-01. Please use instead:* `np.argmax(model.predict(x), axis=-1)`,   if your model does multi-class classification   (e.g. if it uses a `softmax` last-layer activation).* `(model.predict(x) > 0.5).astype(\"int32\")`,   if your model does binary classification   (e.g. if it uses a `sigmoid` last-layer activation).\n",
            "  warnings.warn('`model.predict_classes()` is deprecated and '\n"
          ],
          "name": "stderr"
        }
      ]
    },
    {
      "cell_type": "code",
      "metadata": {
        "id": "ag0IDLJS_dBZ"
      },
      "source": [
        "def get_word(n, tokenizer):\n",
        "    for word, index in tokenizer.word_index.items():\n",
        "        if index == n:\n",
        "            return word\n",
        "    return None"
      ],
      "execution_count": null,
      "outputs": []
    },
    {
      "cell_type": "code",
      "metadata": {
        "id": "TgCPF4HR_jZ7"
      },
      "source": [
        "\n",
        "from nltk.translate.bleu_score import sentence_bleu\n",
        "for i in range(100,105):\n",
        "    original = ' '.join([word for word in german_sentences[i:i+1][0]])\n",
        "    references = ' '.join([word for word in english_sentences[i:i+1][0]])\n",
        "    candidates = logits_to_text(model.predict(preproc_german_sentences[i:i+1])[0], english_tokenizer)\n",
        "    score = sentence_bleu(references, candidates)\n",
        "    print('\\nGER: ', original)\n",
        "    print('ENG: ', references)\n",
        "    print('Pred: ', candidates)\n",
        "    print('BLEU score:', score)"
      ],
      "execution_count": null,
      "outputs": []
    },
    {
      "cell_type": "code",
      "metadata": {
        "id": "sixhjBdF-0Dh"
      },
      "source": [
        "preds_text = []\n",
        "for i in preds:\n",
        "    temp = []\n",
        "    for j in range(len(i)):\n",
        "      for k in i[j]:\n",
        "        t = get_word(k, frn_tokenizer)\n",
        "        if j > 0:\n",
        "            if (t == get_word(i[j-1], eng_tokenizer)) or (t == None):\n",
        "                temp.append('')\n",
        "            else:\n",
        "                temp.append(t)\n",
        "             \n",
        "        else:\n",
        "            if(t == None):\n",
        "                temp.append('')\n",
        "            else:\n",
        "                temp.append(t)            \n",
        "        \n",
        "    preds_text.append(' '.join(temp))"
      ],
      "execution_count": null,
      "outputs": []
    },
    {
      "cell_type": "code",
      "metadata": {
        "colab": {
          "base_uri": "https://localhost:8080/"
        },
        "id": "nwikZzJlBun6",
        "outputId": "6247deeb-3448-4ffb-d1d2-acd3be1d1472"
      },
      "source": [
        "Xtest[:15]"
      ],
      "execution_count": null,
      "outputs": [
        {
          "output_type": "execute_result",
          "data": {
            "text/plain": [
              "array([[ 97,  92,  28,  77,   7,  80,   0,   0,   0,   0,   0,   0,   0,\n",
              "          0,   0,   0,   0,   0,   0,   0],\n",
              "       [ 32,  12,  16,  13,   1,   5,  91,   6,  49,  12,  16,   1,   5,\n",
              "         90,   0,   0,   0,   0,   0,   0],\n",
              "       [ 24,   1,   9,  52,   4,  36,   7,   3,   1,   8,  68,   2,  40,\n",
              "          0,   0,   0,   0,   0,   0,   0],\n",
              "       [ 26,  70,  73,  74,   7,  72,   0,   0,   0,   0,   0,   0,   0,\n",
              "          0,   0,   0,   0,   0,   0,   0],\n",
              "       [ 25,   1,   8,  67,   4,  39,   6,   3,   1,   8,  41,   2,  37,\n",
              "          0,   0,   0,   0,   0,   0,   0],\n",
              "       [ 24,   1,   8,  68,   4,  42,   6,   3,   1,   9,  51,   2,  44,\n",
              "          0,   0,   0,   0,   0,   0,   0],\n",
              "       [  5,  20,  21,   1,  56,   4,  54,   7,   3,   1,  59,   2,  48,\n",
              "          0,   0,   0,   0,   0,   0,   0],\n",
              "       [  5,  20,  21,   1,   8,  62,   4,  45,   7,   3,   1,   9,  63,\n",
              "          2,  42,   0,   0,   0,   0,   0],\n",
              "       [ 26, 136, 106,  81,  24, 105,  46,   0,   0,   0,   0,   0,   0,\n",
              "          0,   0,   0,   0,   0,   0,   0],\n",
              "       [ 24,   1,   8,  60,   4,  46,   6,   3,   1,  10,  52,   2,  33,\n",
              "          0,   0,   0,   0,   0,   0,   0],\n",
              "       [ 27,  70, 110,  75,   0,   0,   0,   0,   0,   0,   0,   0,   0,\n",
              "          0,   0,   0,   0,   0,   0,   0],\n",
              "       [ 24,   1,  10,  56,   4,  48,   7,   3,   1,  10,  52,   2,  47,\n",
              "          0,   0,   0,   0,   0,   0,   0],\n",
              "       [  5,  83,   1,  49,  14,  15,  13,   6,   5,  28,   1,  31,  14,\n",
              "         15,   0,   0,   0,   0,   0,   0],\n",
              "       [ 17,  23,   1,  65,   4,  39,   6,   3,   1,  10,  60,   2,  36,\n",
              "          0,   0,   0,   0,   0,   0,   0],\n",
              "       [ 22,   1,   9,  64,   4,  42,   7,   3,   1,  57,   2,  44,   0,\n",
              "          0,   0,   0,   0,   0,   0,   0]], dtype=int32)"
            ]
          },
          "metadata": {
            "tags": []
          },
          "execution_count": 61
        }
      ]
    },
    {
      "cell_type": "code",
      "metadata": {
        "id": "TzKIiMtjBWf2"
      },
      "source": [
        "actual_text = []\n",
        "for i in Xtest[:15]:\n",
        "    temp = []\n",
        "    for j in range(len(i)):\n",
        "        t = get_word(i[j], eng_tokenizer)\n",
        "        if j > 0:\n",
        "            if (t == get_word(i[j-1], eng_tokenizer)) or (t == None):\n",
        "                temp.append('')\n",
        "            else:\n",
        "                temp.append(t)\n",
        "             \n",
        "        else:\n",
        "            if(t == None):\n",
        "                temp.append('')\n",
        "            else:\n",
        "                temp.append(t)            \n",
        "        \n",
        "    actual_text.append(' '.join(temp))"
      ],
      "execution_count": null,
      "outputs": []
    },
    {
      "cell_type": "code",
      "metadata": {
        "colab": {
          "base_uri": "https://localhost:8080/"
        },
        "id": "q7EA3webB0oX",
        "outputId": "887ddb0d-6b63-44ea-eb32-0490a54c6c9c"
      },
      "source": [
        "actual_text"
      ],
      "execution_count": null,
      "outputs": [
        {
          "output_type": "execute_result",
          "data": {
            "text/plain": [
              "['we like grapefruit oranges and bananas              ',\n",
              " 'her least liked fruit is the peach but our least liked is the strawberry      ',\n",
              " 'france is usually pleasant during january and it is sometimes hot in may       ',\n",
              " 'he likes grapes mangoes and lemons              ',\n",
              " 'china is sometimes quiet during autumn but it is sometimes nice in winter       ',\n",
              " 'france is sometimes hot during september but it is usually freezing in april       ',\n",
              " 'the united states is warm during october and it is dry in february       ',\n",
              " 'the united states is sometimes chilly during november and it is usually rainy in september     ',\n",
              " 'he might go to france next summer             ',\n",
              " 'france is sometimes busy during summer but it is never pleasant in fall       ',\n",
              " 'she likes big apples                ',\n",
              " 'france is never warm during february and it is never pleasant in december       ',\n",
              " 'the apple is our most loved fruit but the grapefruit is his most loved      ',\n",
              " 'new jersey is wet during autumn but it is never busy in january       ',\n",
              " 'california is usually mild during september and it is cold in april        ']"
            ]
          },
          "metadata": {
            "tags": []
          },
          "execution_count": 63
        }
      ]
    },
    {
      "cell_type": "code",
      "metadata": {
        "colab": {
          "base_uri": "https://localhost:8080/"
        },
        "id": "dCo2-h85_bBr",
        "outputId": "bafcfc94-2103-4c15-9092-1b28c32a0697"
      },
      "source": [
        "preds_text"
      ],
      "execution_count": null,
      "outputs": [
        {
          "output_type": "execute_result",
          "data": {
            "text/plain": [
              "['nous aimons le pamplemousse les oranges et les bananes           ',\n",
              " 'son fruit est moins aimé la pêche mais notre moins aimé est la fraise      ',\n",
              " 'la france est généralement agréable en janvier et il est parfois chaud en mai      ',\n",
              " 'il aime les raisins les et citrons             ',\n",
              " \"chine est parfois calme pendant l' automne mais il est parfois agréable en hiver      \",\n",
              " 'la france est parfois chaud en septembre mais il gèle habituellement en avril       ',\n",
              " 'les états unis est chaud en octobre et il est sec en février       ',\n",
              " 'les états unis est parfois froid en novembre et il est généralement pluvieux en septembre     ',\n",
              " \"il pourrait aller en france l' été prochain            \",\n",
              " \"la france est parfois occupé pendant l' été mais il est jamais agréable à l' automne    \",\n",
              " 'elle aime les pommes                ',\n",
              " 'la france est jamais chaud au mois de février et il est jamais agréable en décembre    ',\n",
              " 'la pomme est le fruit le plus aimé notre mais le pamplemousse est le plus aimé    ',\n",
              " \"new jersey est humide à l'automne mais il est jamais occupé en janvier       \",\n",
              " 'californie est généralement clémentes en septembre et il fait froid en avril        ']"
            ]
          },
          "metadata": {
            "tags": []
          },
          "execution_count": 48
        }
      ]
    },
    {
      "cell_type": "code",
      "metadata": {
        "colab": {
          "base_uri": "https://localhost:8080/"
        },
        "id": "T85cRnAcATiU",
        "outputId": "3e1d67b8-cedc-4a8d-ebcb-3fbb5a8ac0f3"
      },
      "source": [
        "y_test[:15]"
      ],
      "execution_count": null,
      "outputs": [
        {
          "output_type": "execute_result",
          "data": {
            "text/plain": [
              "['nous aimons le pamplemousse les oranges et les bananes',\n",
              " 'son fruit est moins aimé la pêche mais notre moins aimé est la fraise',\n",
              " 'la france est généralement agréable en janvier et il est parfois chaud en mai',\n",
              " 'il aime les raisins mangues et citrons',\n",
              " \"chine est parfois calme pendant l' automne mais il est parfois agréable en hiver\",\n",
              " 'la france est parfois chaud en septembre mais il gèle habituellement en avril',\n",
              " 'les états-unis est chaud en octobre et il est sec en février',\n",
              " 'les états-unis est parfois froid en novembre et il est généralement pluvieux en septembre',\n",
              " \"il pourrait aller en france l' été prochain\",\n",
              " \"la france est parfois occupé pendant l' été mais il est jamais agréable à l' automne\",\n",
              " 'elle aime grosses pommes',\n",
              " 'la france est jamais chaud au mois de février et il est jamais agréable en décembre',\n",
              " 'la pomme est le fruit le plus aimé notre mais le pamplemousse est le plus aimé',\n",
              " \"new jersey est humide à l'automne mais il est jamais occupé en janvier\",\n",
              " 'californie est généralement clémentes en septembre et il fait froid en avril']"
            ]
          },
          "metadata": {
            "tags": []
          },
          "execution_count": 49
        }
      ]
    },
    {
      "cell_type": "markdown",
      "metadata": {
        "id": "dImbEaf3GN_y"
      },
      "source": [
        "# Using More Complex Dataset"
      ]
    },
    {
      "cell_type": "code",
      "metadata": {
        "id": "_nbnAVhGAWA4"
      },
      "source": [
        "all = pd.read_csv(\"https://raw.githubusercontent.com/devm2024/nmt_keras/master/fra.txt\", delimiter=\"\\t\", header=None)"
      ],
      "execution_count": null,
      "outputs": []
    },
    {
      "cell_type": "code",
      "metadata": {
        "id": "7knLg368H2-o"
      },
      "source": [
        "all.columns = ['english', 'french']"
      ],
      "execution_count": null,
      "outputs": []
    },
    {
      "cell_type": "code",
      "metadata": {
        "id": "JzWWwygXH3kj"
      },
      "source": [
        "all['english_clean'] = all['english'].map(remove_punctuations)\n",
        "all['french_clean'] = all['french'].map(remove_punctuations)"
      ],
      "execution_count": null,
      "outputs": []
    },
    {
      "cell_type": "code",
      "metadata": {
        "id": "W0wEkzLRIIKQ"
      },
      "source": [
        "english_clean = list(all['english_clean'].to_numpy())\n",
        "french_clean = list(all['french_clean'].to_numpy())"
      ],
      "execution_count": null,
      "outputs": []
    },
    {
      "cell_type": "code",
      "metadata": {
        "id": "ZKbqsmhJII6z"
      },
      "source": [
        "english_clean = [' '.join(sentence) for sentence in english_clean]\n",
        "french_clean = [' '.join(sentence) for sentence in french_clean]"
      ],
      "execution_count": null,
      "outputs": []
    },
    {
      "cell_type": "code",
      "metadata": {
        "colab": {
          "base_uri": "https://localhost:8080/",
          "height": 404
        },
        "id": "XhGlI7teIVxW",
        "outputId": "d014b410-410a-4c42-f369-855bd12dc224"
      },
      "source": [
        "english_len = [len(sentence.split()) for sentence in english_clean]\n",
        "french_len = [len(sentence.split()) for sentence in french_clean]\n",
        "\n",
        "sns.set_style('ticks')\n",
        "\n",
        "fig, ax = plt.subplots(nrows=1, ncols=2, figsize=(18,6))\n",
        "\n",
        "sns.histplot(english_len, ax=ax[0])\n",
        "ax[0].set(xlabel=\"Word Count per Sentence\")\n",
        "ax[0].set_title('English Phrases', fontweight='bold', fontsize=13)\n",
        "sns.histplot(french_len, ax=ax[1])\n",
        "ax[1].set(xlabel='Word Count per Sentence')\n",
        "ax[1].set_title('French Phrases', fontweight='bold', fontsize=13)\n",
        "sns.despine()\n",
        "plt.show()"
      ],
      "execution_count": null,
      "outputs": [
        {
          "output_type": "display_data",
          "data": {
            "image/png": "[encoded data removed]",
            "text/plain": [
              "<Figure size 1296x432 with 2 Axes>"
            ]
          },
          "metadata": {
            "tags": []
          }
        }
      ]
    },
    {
      "cell_type": "code",
      "metadata": {
        "id": "tvg23YjJId89"
      },
      "source": [
        "eng_length = 20\n",
        "frn_length = 20\n",
        "\n",
        "eng_tokenizer = tokenization(english_clean)\n",
        "eng_vocab_size = len(eng_tokenizer.word_index) + 1\n",
        "\n",
        "frn_tokenizer = tokenization(french_clean)\n",
        "frn_vocab_size = len(frn_tokenizer.word_index) + 1\n",
        "\n",
        "from sklearn.model_selection import train_test_split\n",
        "X_train, X_test, y_train, y_test = train_test_split(english_clean, french_clean, test_size=0.25, random_state=8)\n",
        "\n",
        "Xtrain = encode_sequences(eng_tokenizer, eng_length, X_train)\n",
        "ytrain = encode_sequences(frn_tokenizer, frn_length, y_train)\n",
        "\n",
        "Xtest = encode_sequences(eng_tokenizer, eng_length, X_test)\n",
        "ytest = encode_sequences(frn_tokenizer, frn_length, y_test)"
      ],
      "execution_count": null,
      "outputs": []
    },
    {
      "cell_type": "code",
      "metadata": {
        "colab": {
          "base_uri": "https://localhost:8080/"
        },
        "id": "mvaGGLg0TW-O",
        "outputId": "0c254974-57ea-438c-f6a3-e6989869a0ba"
      },
      "source": [
        "print(len(eng_tokenizer.word_index))\n",
        "print(len(frn_tokenizer.word_index))"
      ],
      "execution_count": null,
      "outputs": [
        {
          "output_type": "stream",
          "text": [
            "13907\n",
            "26041\n"
          ],
          "name": "stdout"
        }
      ]
    },
    {
      "cell_type": "code",
      "metadata": {
        "colab": {
          "base_uri": "https://localhost:8080/"
        },
        "id": "WdHttgyHI4LL",
        "outputId": "510ee46b-12cb-4aa0-caa4-70abe2ea16cc"
      },
      "source": [
        "new_model = build_model(eng_vocab_size, frn_vocab_size, eng_length, frn_length, 512)\n",
        "rms = tf.optimizers.RMSprop(lr=0.001)\n",
        "new_model.compile(optimizer=rms, loss='sparse_categorical_crossentropy', metrics=['accuracy'])"
      ],
      "execution_count": null,
      "outputs": [
        {
          "output_type": "stream",
          "text": [
            "/usr/local/lib/python3.7/dist-packages/tensorflow/python/keras/optimizer_v2/optimizer_v2.py:375: UserWarning: The `lr` argument is deprecated, use `learning_rate` instead.\n",
            "  \"The `lr` argument is deprecated, use `learning_rate` instead.\")\n"
          ],
          "name": "stderr"
        }
      ]
    },
    {
      "cell_type": "code",
      "metadata": {
        "colab": {
          "base_uri": "https://localhost:8080/"
        },
        "id": "oij0q7AbJACa",
        "outputId": "716f2bab-ecaa-46c2-bd89-bd6c40a5be7a"
      },
      "source": [
        "filename = 'model_trial1_jul22'\n",
        "checkpoint = ModelCheckpoint(filename, monitor='accuracy', verbose=1, save_best_only=True, mode='min')\n",
        "history = new_model.fit(Xtrain, ytrain.reshape(ytrain.shape[0], ytrain.shape[1], 1), \n",
        "          epochs=30, batch_size=512, \n",
        "          validation_split = 0.2,\n",
        "          callbacks=[checkpoint], verbose=1)"
      ],
      "execution_count": null,
      "outputs": [
        {
          "output_type": "stream",
          "text": [
            "Epoch 1/30\n",
            "176/176 [==============================] - 118s 645ms/step - loss: 2.6308 - accuracy: 0.6741 - val_loss: 2.2846 - val_accuracy: 0.6842\n",
            "\n",
            "Epoch 00001: accuracy improved from inf to 0.67412, saving model to model_trial1_jul22\n",
            "INFO:tensorflow:Assets written to: model_trial1_jul22/assets\n",
            "Epoch 2/30\n",
            "176/176 [==============================] - 115s 654ms/step - loss: 2.1921 - accuracy: 0.6904 - val_loss: 2.1283 - val_accuracy: 0.6943\n",
            "\n",
            "Epoch 00002: accuracy did not improve from 0.67412\n",
            "Epoch 3/30\n",
            "176/176 [==============================] - 115s 654ms/step - loss: 2.0243 - accuracy: 0.7026 - val_loss: 1.9562 - val_accuracy: 0.7112\n",
            "\n",
            "Epoch 00003: accuracy did not improve from 0.67412\n",
            "Epoch 4/30\n",
            "176/176 [==============================] - 115s 654ms/step - loss: 1.8663 - accuracy: 0.7190 - val_loss: 1.8518 - val_accuracy: 0.7228\n",
            "\n",
            "Epoch 00004: accuracy did not improve from 0.67412\n",
            "Epoch 5/30\n",
            "176/176 [==============================] - 115s 654ms/step - loss: 1.7481 - accuracy: 0.7291 - val_loss: 1.7422 - val_accuracy: 0.7328\n",
            "\n",
            "Epoch 00005: accuracy did not improve from 0.67412\n",
            "Epoch 6/30\n",
            "176/176 [==============================] - 115s 656ms/step - loss: 1.6343 - accuracy: 0.7383 - val_loss: 1.6729 - val_accuracy: 0.7392\n",
            "\n",
            "Epoch 00006: accuracy did not improve from 0.67412\n",
            "Epoch 7/30\n",
            "176/176 [==============================] - 115s 655ms/step - loss: 1.5299 - accuracy: 0.7460 - val_loss: 1.6029 - val_accuracy: 0.7454\n",
            "\n",
            "Epoch 00007: accuracy did not improve from 0.67412\n",
            "Epoch 8/30\n",
            "176/176 [==============================] - 115s 655ms/step - loss: 1.4343 - accuracy: 0.7538 - val_loss: 1.5251 - val_accuracy: 0.7506\n",
            "\n",
            "Epoch 00008: accuracy did not improve from 0.67412\n",
            "Epoch 9/30\n",
            "176/176 [==============================] - 115s 655ms/step - loss: 1.3476 - accuracy: 0.7608 - val_loss: 1.4602 - val_accuracy: 0.7570\n",
            "\n",
            "Epoch 00009: accuracy did not improve from 0.67412\n",
            "Epoch 10/30\n",
            "176/176 [==============================] - 115s 656ms/step - loss: 1.2678 - accuracy: 0.7676 - val_loss: 1.4144 - val_accuracy: 0.7616\n",
            "\n",
            "Epoch 00010: accuracy did not improve from 0.67412\n",
            "Epoch 11/30\n",
            "176/176 [==============================] - 115s 655ms/step - loss: 1.1960 - accuracy: 0.7743 - val_loss: 1.3700 - val_accuracy: 0.7656\n",
            "\n",
            "Epoch 00011: accuracy did not improve from 0.67412\n",
            "Epoch 12/30\n",
            "176/176 [==============================] - 115s 656ms/step - loss: 1.1295 - accuracy: 0.7808 - val_loss: 1.3526 - val_accuracy: 0.7685\n",
            "\n",
            "Epoch 00012: accuracy did not improve from 0.67412\n",
            "Epoch 13/30\n",
            "176/176 [==============================] - 115s 654ms/step - loss: 1.0689 - accuracy: 0.7873 - val_loss: 1.3126 - val_accuracy: 0.7710\n",
            "\n",
            "Epoch 00013: accuracy did not improve from 0.67412\n",
            "Epoch 14/30\n",
            "176/176 [==============================] - 115s 655ms/step - loss: 1.0133 - accuracy: 0.7937 - val_loss: 1.2852 - val_accuracy: 0.7737\n",
            "\n",
            "Epoch 00014: accuracy did not improve from 0.67412\n",
            "Epoch 15/30\n",
            "176/176 [==============================] - 115s 656ms/step - loss: 0.9634 - accuracy: 0.7996 - val_loss: 1.2756 - val_accuracy: 0.7739\n",
            "\n",
            "Epoch 00015: accuracy did not improve from 0.67412\n",
            "Epoch 16/30\n",
            "176/176 [==============================] - 115s 654ms/step - loss: 0.9152 - accuracy: 0.8056 - val_loss: 1.2745 - val_accuracy: 0.7779\n",
            "\n",
            "Epoch 00016: accuracy did not improve from 0.67412\n",
            "Epoch 17/30\n",
            "176/176 [==============================] - 115s 656ms/step - loss: 0.8690 - accuracy: 0.8118 - val_loss: 1.2606 - val_accuracy: 0.7745\n",
            "\n",
            "Epoch 00017: accuracy did not improve from 0.67412\n",
            "Epoch 18/30\n",
            "176/176 [==============================] - 116s 657ms/step - loss: 0.8268 - accuracy: 0.8175 - val_loss: 1.2318 - val_accuracy: 0.7827\n",
            "\n",
            "Epoch 00018: accuracy did not improve from 0.67412\n",
            "Epoch 19/30\n",
            "176/176 [==============================] - 115s 653ms/step - loss: 0.7872 - accuracy: 0.8234 - val_loss: 1.2389 - val_accuracy: 0.7834\n",
            "\n",
            "Epoch 00019: accuracy did not improve from 0.67412\n",
            "Epoch 20/30\n",
            "176/176 [==============================] - 115s 656ms/step - loss: 0.7494 - accuracy: 0.8292 - val_loss: 1.2252 - val_accuracy: 0.7853\n",
            "\n",
            "Epoch 00020: accuracy did not improve from 0.67412\n",
            "Epoch 21/30\n",
            "176/176 [==============================] - 115s 654ms/step - loss: 0.7135 - accuracy: 0.8350 - val_loss: 1.2247 - val_accuracy: 0.7862\n",
            "\n",
            "Epoch 00021: accuracy did not improve from 0.67412\n",
            "Epoch 22/30\n",
            "176/176 [==============================] - 115s 652ms/step - loss: 0.6789 - accuracy: 0.8408 - val_loss: 1.2219 - val_accuracy: 0.7844\n",
            "\n",
            "Epoch 00022: accuracy did not improve from 0.67412\n",
            "Epoch 23/30\n",
            "176/176 [==============================] - 115s 655ms/step - loss: 0.6465 - accuracy: 0.8462 - val_loss: 1.2210 - val_accuracy: 0.7874\n",
            "\n",
            "Epoch 00023: accuracy did not improve from 0.67412\n",
            "Epoch 24/30\n",
            "176/176 [==============================] - 115s 652ms/step - loss: 0.6142 - accuracy: 0.8520 - val_loss: 1.2257 - val_accuracy: 0.7876\n",
            "\n",
            "Epoch 00024: accuracy did not improve from 0.67412\n",
            "Epoch 25/30\n",
            "176/176 [==============================] - 116s 657ms/step - loss: 0.5854 - accuracy: 0.8572 - val_loss: 1.2456 - val_accuracy: 0.7888\n",
            "\n",
            "Epoch 00025: accuracy did not improve from 0.67412\n",
            "Epoch 26/30\n",
            "176/176 [==============================] - 115s 654ms/step - loss: 0.5565 - accuracy: 0.8625 - val_loss: 1.2399 - val_accuracy: 0.7828\n",
            "\n",
            "Epoch 00026: accuracy did not improve from 0.67412\n",
            "Epoch 27/30\n",
            "176/176 [==============================] - 115s 656ms/step - loss: 0.5296 - accuracy: 0.8677 - val_loss: 1.2544 - val_accuracy: 0.7804\n",
            "\n",
            "Epoch 00027: accuracy did not improve from 0.67412\n",
            "Epoch 28/30\n",
            "176/176 [==============================] - 115s 655ms/step - loss: 0.5052 - accuracy: 0.8725 - val_loss: 1.2725 - val_accuracy: 0.7902\n",
            "\n",
            "Epoch 00028: accuracy did not improve from 0.67412\n",
            "Epoch 29/30\n",
            "176/176 [==============================] - 115s 656ms/step - loss: 0.4819 - accuracy: 0.8770 - val_loss: 1.2540 - val_accuracy: 0.7895\n",
            "\n",
            "Epoch 00029: accuracy did not improve from 0.67412\n",
            "Epoch 30/30\n",
            "176/176 [==============================] - 115s 656ms/step - loss: 0.4597 - accuracy: 0.8814 - val_loss: 1.2643 - val_accuracy: 0.7901\n",
            "\n",
            "Epoch 00030: accuracy did not improve from 0.67412\n"
          ],
          "name": "stdout"
        }
      ]
    },
    {
      "cell_type": "code",
      "metadata": {
        "colab": {
          "base_uri": "https://localhost:8080/",
          "height": 279
        },
        "id": "FX9Wx5kBYY_X",
        "outputId": "8be34df0-6af6-4f1a-bba4-2f5c38d18c84"
      },
      "source": [
        "sns.set_style('ticks')\n",
        "plt.plot(history.history['loss'], color='blue')\n",
        "plt.plot(history.history['val_loss'], color='red')\n",
        "sns.despine()\n",
        "plt.legend(['train','validation'])\n",
        "plt.xlabel('Epochs')\n",
        "plt.ylabel('Error')\n",
        "plt.show()"
      ],
      "execution_count": null,
      "outputs": [
        {
          "output_type": "display_data",
          "data": {
            "image/png": "[encoded data removed]",
            "text/plain": [
              "<Figure size 432x288 with 1 Axes>"
            ]
          },
          "metadata": {
            "tags": []
          }
        }
      ]
    },
    {
      "cell_type": "code",
      "metadata": {
        "colab": {
          "base_uri": "https://localhost:8080/",
          "height": 279
        },
        "id": "oa4WMq-qYeXu",
        "outputId": "58c8618e-e463-4d27-9f67-33ff313cf2ad"
      },
      "source": [
        "sns.set_style('ticks')\n",
        "plt.plot(history.history['accuracy'], color='blue')\n",
        "plt.plot(history.history['val_accuracy'], color='red')\n",
        "sns.despine()\n",
        "plt.legend(['train','validation'])\n",
        "plt.xlabel('Epochs')\n",
        "plt.ylabel('Accuracy')\n",
        "plt.show()"
      ],
      "execution_count": null,
      "outputs": [
        {
          "output_type": "display_data",
          "data": {
            "image/png": "[encoded data removed]",
            "text/plain": [
              "<Figure size 432x288 with 1 Axes>"
            ]
          },
          "metadata": {
            "tags": []
          }
        }
      ]
    },
    {
      "cell_type": "code",
      "metadata": {
        "colab": {
          "base_uri": "https://localhost:8080/"
        },
        "id": "CWTjD0PhJITd",
        "outputId": "e82fc0f1-e24c-4de3-b5c0-c57eb45046bd"
      },
      "source": [
        "preds = []\n",
        "\n",
        "for i in range(15):\n",
        "  preds.append(new_model.predict_classes(Xtest[i].reshape(1, 20)))"
      ],
      "execution_count": null,
      "outputs": [
        {
          "output_type": "stream",
          "text": [
            "/usr/local/lib/python3.7/dist-packages/tensorflow/python/keras/engine/sequential.py:455: UserWarning: `model.predict_classes()` is deprecated and will be removed after 2021-01-01. Please use instead:* `np.argmax(model.predict(x), axis=-1)`,   if your model does multi-class classification   (e.g. if it uses a `softmax` last-layer activation).* `(model.predict(x) > 0.5).astype(\"int32\")`,   if your model does binary classification   (e.g. if it uses a `sigmoid` last-layer activation).\n",
            "  warnings.warn('`model.predict_classes()` is deprecated and '\n"
          ],
          "name": "stderr"
        }
      ]
    },
    {
      "cell_type": "code",
      "metadata": {
        "id": "ofdwt923YoEU"
      },
      "source": [
        "preds_text = []\n",
        "for i in preds:\n",
        "    temp = []\n",
        "    for j in range(len(i)):\n",
        "      for k in i[j]:\n",
        "        t = get_word(k, frn_tokenizer)\n",
        "        if j > 0:\n",
        "            if (t == get_word(i[j-1], eng_tokenizer)) or (t == None):\n",
        "                temp.append('')\n",
        "            else:\n",
        "                temp.append(t)\n",
        "             \n",
        "        else:\n",
        "            if(t == None):\n",
        "                temp.append('')\n",
        "            else:\n",
        "                temp.append(t)            \n",
        "        \n",
        "    preds_text.append(' '.join(temp))"
      ],
      "execution_count": null,
      "outputs": []
    },
    {
      "cell_type": "code",
      "metadata": {
        "colab": {
          "base_uri": "https://localhost:8080/"
        },
        "id": "qIu6zVd9YyaN",
        "outputId": "f4a6d541-f211-42a6-ffd4-cdf2370866eb"
      },
      "source": [
        "preds_text"
      ],
      "execution_count": null,
      "outputs": [
        {
          "output_type": "execute_result",
          "data": {
            "text/plain": [
              "['le café et thé et en cartes             ',\n",
              " \"je pense simplement que vous devriez être plus prudent c'est tout         \",\n",
              " 'avez vous un place dans la barbe en            ',\n",
              " \"le police l'a fait le voleur              \",\n",
              " 'tom prit une autre bouchée               ',\n",
              " \"tom ne savait même pas que j'étais ici            \",\n",
              " 'il se dépêcha afin ne pas rater le train train          ',\n",
              " \"ils ne pas pas que je l'examine             \",\n",
              " 'les ans cinq cinq cinq année année             ',\n",
              " \"tom nous a demandé de l'aider l'aider             \",\n",
              " 'arrêtez de parler je vous prie              ',\n",
              " \"vous avez l'air japonaise                \",\n",
              " 'la route était la glace pieds              ',\n",
              " \"même n'y n'y n'y ne ne nous nous nous tout          \",\n",
              " 'si tu veux parler                ']"
            ]
          },
          "metadata": {
            "tags": []
          },
          "execution_count": 81
        }
      ]
    },
    {
      "cell_type": "code",
      "metadata": {
        "id": "0x03EP8uYzuD"
      },
      "source": [
        "actual_text = []\n",
        "for i in Xtest[:15]:\n",
        "    temp = []\n",
        "    for j in range(len(i)):\n",
        "        t = get_word(i[j], eng_tokenizer)\n",
        "        if j > 0:\n",
        "            if (t == get_word(i[j-1], eng_tokenizer)) or (t == None):\n",
        "                temp.append('')\n",
        "            else:\n",
        "                temp.append(t)\n",
        "             \n",
        "        else:\n",
        "            if(t == None):\n",
        "                temp.append('')\n",
        "            else:\n",
        "                temp.append(t)            \n",
        "        \n",
        "    actual_text.append(' '.join(temp))"
      ],
      "execution_count": null,
      "outputs": []
    },
    {
      "cell_type": "code",
      "metadata": {
        "colab": {
          "base_uri": "https://localhost:8080/"
        },
        "id": "VR8vtV8rY4tg",
        "outputId": "d6ffcc40-bafc-4d8c-ba58-298962089893"
      },
      "source": [
        "actual_text"
      ],
      "execution_count": null,
      "outputs": [
        {
          "output_type": "execute_result",
          "data": {
            "text/plain": [
              "['coffee please with cream and sugar              ',\n",
              " \"i just think you should be more careful that's all          \",\n",
              " 'do you have a crowbar in your toolbox            ',\n",
              " 'the police caught him at it              ',\n",
              " 'tom took another bite                ',\n",
              " \"tom didn't even know i was here             \",\n",
              " \"he hurried so he wouldn't miss the train            \",\n",
              " \"they didn't want me to examine it             \",\n",
              " 'ninety five percent of orphans are older than 5 years old         ',\n",
              " 'tom has asked us to help him             ',\n",
              " 'please stop talking                 ',\n",
              " 'you look japanese                 ',\n",
              " 'the road was blocked by fallen rocks             ',\n",
              " 'if it were not for the sun we could not live at all       ',\n",
              " 'if you want to talk               ']"
            ]
          },
          "metadata": {
            "tags": []
          },
          "execution_count": 83
        }
      ]
    },
    {
      "cell_type": "code",
      "metadata": {
        "colab": {
          "base_uri": "https://localhost:8080/"
        },
        "id": "Slx7X0q0Y7Eo",
        "outputId": "2a5b56f4-9b40-4aa0-c74c-1488f1f5ad8a"
      },
      "source": [
        "y_test[:15]"
      ],
      "execution_count": null,
      "outputs": [
        {
          "output_type": "execute_result",
          "data": {
            "text/plain": [
              "[\"du café lait et sucre, s'il vous plaît\",\n",
              " \"je pense simplement que vous devriez être plus prudente, c'est tout.\",\n",
              " \"disposez-vous d'une pince-monseigneur dans votre caisse à outils\",\n",
              " \"la police l'a pris en flagrant délit.\",\n",
              " 'tom a pris une autre bouchée.',\n",
              " \"tom ne savait même pas que j'étais là.\",\n",
              " \"il s'est dépêché pour ne pas rater le train.\",\n",
              " \"elles ne voulurent pas que je l'examine.\",\n",
              " 'quatre-vingt quinze pour cent des orphelins ont plus de cinq ans.',\n",
              " \"tom nous a demandé de l'aider.\",\n",
              " 'cessez de parler, je vous prie',\n",
              " \"tu as l'air japonais.\",\n",
              " 'la route était bloquée par des éboulements de roches.',\n",
              " \"si ce n'était pas pour le soleil nous ne pourrions pas vivre du tout.\",\n",
              " 'si vous voulez parler, parlez']"
            ]
          },
          "metadata": {
            "tags": []
          },
          "execution_count": 84
        }
      ]
    },
    {
      "cell_type": "markdown",
      "metadata": {
        "id": "rYCNAayGZjR6"
      },
      "source": [
        "Switch to French to English"
      ]
    },
    {
      "cell_type": "code",
      "metadata": {
        "id": "xorCHBsVZy5j"
      },
      "source": [
        "eng_length = 20\n",
        "frn_length = 20\n",
        "\n",
        "eng_tokenizer = tokenization(english_clean)\n",
        "eng_vocab_size = len(eng_tokenizer.word_index) + 1\n",
        "\n",
        "frn_tokenizer = tokenization(french_clean)\n",
        "frn_vocab_size = len(frn_tokenizer.word_index) + 1\n",
        "\n",
        "from sklearn.model_selection import train_test_split\n",
        "X_train, X_test, y_train, y_test = train_test_split(french_clean, english_clean, test_size=0.25, random_state=8)\n",
        "\n",
        "Xtrain = encode_sequences(frn_tokenizer, frn_length, X_train)\n",
        "ytrain = encode_sequences(eng_tokenizer, eng_length, y_train)\n",
        "\n",
        "Xtest = encode_sequences(frn_tokenizer, frn_length, X_test)\n",
        "ytest = encode_sequences(eng_tokenizer, eng_length, y_test)"
      ],
      "execution_count": null,
      "outputs": []
    },
    {
      "cell_type": "code",
      "metadata": {
        "colab": {
          "base_uri": "https://localhost:8080/"
        },
        "id": "62IVr1BQZi0u",
        "outputId": "4188a7b2-2e5b-4175-d841-3e9878df3dc8"
      },
      "source": [
        "switch_model = build_model(frn_vocab_size, eng_vocab_size, frn_length, eng_length, 512)\n",
        "rms = tf.optimizers.RMSprop(lr=0.001)\n",
        "switch_model.compile(optimizer=rms, loss='sparse_categorical_crossentropy', metrics=['accuracy'])"
      ],
      "execution_count": null,
      "outputs": [
        {
          "output_type": "stream",
          "text": [
            "/usr/local/lib/python3.7/dist-packages/tensorflow/python/keras/optimizer_v2/optimizer_v2.py:375: UserWarning: The `lr` argument is deprecated, use `learning_rate` instead.\n",
            "  \"The `lr` argument is deprecated, use `learning_rate` instead.\")\n"
          ],
          "name": "stderr"
        }
      ]
    },
    {
      "cell_type": "code",
      "metadata": {
        "colab": {
          "base_uri": "https://localhost:8080/"
        },
        "id": "lyHI_6_AZDTt",
        "outputId": "0e0282f1-19c9-4f6b-c532-bb5931fb3950"
      },
      "source": [
        "history_2 = switch_model.fit(Xtrain, ytrain.reshape(ytrain.shape[0], ytrain.shape[1], 1), \n",
        "          epochs=30, batch_size=512, \n",
        "          validation_split = 0.2,\n",
        "          verbose=1)"
      ],
      "execution_count": null,
      "outputs": [
        {
          "output_type": "stream",
          "text": [
            "Epoch 1/30\n",
            "176/176 [==============================] - 92s 497ms/step - loss: 2.2783 - accuracy: 0.7018 - val_loss: 2.0276 - val_accuracy: 0.7081\n",
            "Epoch 2/30\n",
            "176/176 [==============================] - 87s 494ms/step - loss: 1.9340 - accuracy: 0.7144 - val_loss: 1.9085 - val_accuracy: 0.7164\n",
            "Epoch 3/30\n",
            "176/176 [==============================] - 87s 495ms/step - loss: 1.8000 - accuracy: 0.7231 - val_loss: 1.7685 - val_accuracy: 0.7294\n",
            "Epoch 4/30\n",
            "176/176 [==============================] - 87s 497ms/step - loss: 1.6564 - accuracy: 0.7387 - val_loss: 1.6123 - val_accuracy: 0.7468\n",
            "Epoch 5/30\n",
            "176/176 [==============================] - 87s 496ms/step - loss: 1.5185 - accuracy: 0.7555 - val_loss: 1.4970 - val_accuracy: 0.7603\n",
            "Epoch 6/30\n",
            "176/176 [==============================] - 87s 495ms/step - loss: 1.3964 - accuracy: 0.7691 - val_loss: 1.4024 - val_accuracy: 0.7715\n",
            "Epoch 7/30\n",
            "176/176 [==============================] - 87s 494ms/step - loss: 1.2805 - accuracy: 0.7807 - val_loss: 1.3194 - val_accuracy: 0.7805\n",
            "Epoch 8/30\n",
            "176/176 [==============================] - 87s 497ms/step - loss: 1.1764 - accuracy: 0.7911 - val_loss: 1.2341 - val_accuracy: 0.7901\n",
            "Epoch 9/30\n",
            "176/176 [==============================] - 87s 495ms/step - loss: 1.0823 - accuracy: 0.8008 - val_loss: 1.1739 - val_accuracy: 0.7961\n",
            "Epoch 10/30\n",
            "176/176 [==============================] - 87s 496ms/step - loss: 1.0000 - accuracy: 0.8099 - val_loss: 1.1239 - val_accuracy: 0.8014\n",
            "Epoch 11/30\n",
            "176/176 [==============================] - 87s 494ms/step - loss: 0.9259 - accuracy: 0.8188 - val_loss: 1.0824 - val_accuracy: 0.8068\n",
            "Epoch 12/30\n",
            "176/176 [==============================] - 87s 497ms/step - loss: 0.8592 - accuracy: 0.8277 - val_loss: 1.0552 - val_accuracy: 0.8108\n",
            "Epoch 13/30\n",
            "176/176 [==============================] - 87s 493ms/step - loss: 0.7989 - accuracy: 0.8362 - val_loss: 1.0207 - val_accuracy: 0.8150\n",
            "Epoch 14/30\n",
            "176/176 [==============================] - 87s 494ms/step - loss: 0.7444 - accuracy: 0.8441 - val_loss: 1.0074 - val_accuracy: 0.8180\n",
            "Epoch 15/30\n",
            "176/176 [==============================] - 87s 494ms/step - loss: 0.6946 - accuracy: 0.8518 - val_loss: 0.9878 - val_accuracy: 0.8190\n",
            "Epoch 16/30\n",
            "176/176 [==============================] - 87s 497ms/step - loss: 0.6485 - accuracy: 0.8594 - val_loss: 0.9763 - val_accuracy: 0.8213\n",
            "Epoch 17/30\n",
            "176/176 [==============================] - 87s 496ms/step - loss: 0.6057 - accuracy: 0.8668 - val_loss: 0.9892 - val_accuracy: 0.8245\n",
            "Epoch 18/30\n",
            "176/176 [==============================] - 87s 494ms/step - loss: 0.5655 - accuracy: 0.8740 - val_loss: 0.9591 - val_accuracy: 0.8260\n",
            "Epoch 19/30\n",
            "176/176 [==============================] - 88s 498ms/step - loss: 0.5275 - accuracy: 0.8812 - val_loss: 0.9691 - val_accuracy: 0.8224\n",
            "Epoch 20/30\n",
            "176/176 [==============================] - 87s 497ms/step - loss: 0.4926 - accuracy: 0.8879 - val_loss: 0.9572 - val_accuracy: 0.8295\n",
            "Epoch 21/30\n",
            "176/176 [==============================] - 87s 495ms/step - loss: 0.4602 - accuracy: 0.8943 - val_loss: 0.9688 - val_accuracy: 0.8308\n",
            "Epoch 22/30\n",
            "176/176 [==============================] - 87s 494ms/step - loss: 0.4290 - accuracy: 0.9007 - val_loss: 0.9673 - val_accuracy: 0.8321\n",
            "Epoch 23/30\n",
            "176/176 [==============================] - 88s 498ms/step - loss: 0.3993 - accuracy: 0.9071 - val_loss: 0.9643 - val_accuracy: 0.8304\n",
            "Epoch 24/30\n",
            "176/176 [==============================] - 87s 496ms/step - loss: 0.3726 - accuracy: 0.9127 - val_loss: 0.9690 - val_accuracy: 0.8312\n",
            "Epoch 25/30\n",
            "176/176 [==============================] - 87s 497ms/step - loss: 0.3466 - accuracy: 0.9185 - val_loss: 0.9796 - val_accuracy: 0.8301\n",
            "Epoch 26/30\n",
            "176/176 [==============================] - 87s 495ms/step - loss: 0.3223 - accuracy: 0.9240 - val_loss: 0.9839 - val_accuracy: 0.8348\n",
            "Epoch 27/30\n",
            "176/176 [==============================] - 87s 496ms/step - loss: 0.2996 - accuracy: 0.9292 - val_loss: 0.9901 - val_accuracy: 0.8333\n",
            "Epoch 28/30\n",
            "176/176 [==============================] - 87s 493ms/step - loss: 0.2783 - accuracy: 0.9340 - val_loss: 0.9991 - val_accuracy: 0.8311\n",
            "Epoch 29/30\n",
            "176/176 [==============================] - 87s 492ms/step - loss: 0.2582 - accuracy: 0.9386 - val_loss: 1.0404 - val_accuracy: 0.8348\n",
            "Epoch 30/30\n",
            "176/176 [==============================] - 87s 495ms/step - loss: 0.2403 - accuracy: 0.9427 - val_loss: 1.0210 - val_accuracy: 0.8357\n"
          ],
          "name": "stdout"
        }
      ]
    },
    {
      "cell_type": "code",
      "metadata": {
        "colab": {
          "base_uri": "https://localhost:8080/"
        },
        "id": "9Iri3dAzJFQM",
        "outputId": "5edf5848-59e7-4399-d69e-b3bb3970ff9a"
      },
      "source": [
        "print(switch_model.summary())"
      ],
      "execution_count": null,
      "outputs": [
        {
          "output_type": "stream",
          "text": [
            "Model: \"sequential_5\"\n",
            "_________________________________________________________________\n",
            "Layer (type)                 Output Shape              Param #   \n",
            "=================================================================\n",
            "embedding_5 (Embedding)      (None, 20, 512)           13333504  \n",
            "_________________________________________________________________\n",
            "lstm_10 (LSTM)               (None, 512)               2099200   \n",
            "_________________________________________________________________\n",
            "repeat_vector_5 (RepeatVecto (None, 20, 512)           0         \n",
            "_________________________________________________________________\n",
            "lstm_11 (LSTM)               (None, 20, 512)           2099200   \n",
            "_________________________________________________________________\n",
            "dense_5 (Dense)              (None, 20, 13908)         7134804   \n",
            "=================================================================\n",
            "Total params: 24,666,708\n",
            "Trainable params: 24,666,708\n",
            "Non-trainable params: 0\n",
            "_________________________________________________________________\n",
            "None\n"
          ],
          "name": "stdout"
        }
      ]
    },
    {
      "cell_type": "code",
      "metadata": {
        "colab": {
          "base_uri": "https://localhost:8080/",
          "height": 279
        },
        "id": "pWYZitnhq98Z",
        "outputId": "6e6ff2ea-f60c-4443-fe3d-c53f990b2a69"
      },
      "source": [
        "sns.set_style('ticks')\n",
        "plt.plot(history_2.history['loss'], color='blue')\n",
        "plt.plot(history_2.history['val_loss'], color='red')\n",
        "sns.despine()\n",
        "plt.legend(['train','validation'])\n",
        "plt.xlabel('Epochs')\n",
        "plt.ylabel('Error')\n",
        "plt.show()"
      ],
      "execution_count": null,
      "outputs": [
        {
          "output_type": "display_data",
          "data": {
            "image/png": "[encoded data removed]",
            "text/plain": [
              "<Figure size 432x288 with 1 Axes>"
            ]
          },
          "metadata": {
            "tags": []
          }
        }
      ]
    },
    {
      "cell_type": "code",
      "metadata": {
        "colab": {
          "base_uri": "https://localhost:8080/",
          "height": 279
        },
        "id": "NdPX2kZprSyf",
        "outputId": "567f0a22-cc94-427f-d02a-ce5d3af6704e"
      },
      "source": [
        "sns.set_style('ticks')\n",
        "plt.plot(history_2.history['accuracy'], color='blue')\n",
        "plt.plot(history_2.history['val_accuracy'], color='red')\n",
        "sns.despine()\n",
        "plt.legend(['train','validation'])\n",
        "plt.xlabel('Epochs')\n",
        "plt.ylabel('Accuracy')\n",
        "plt.show()"
      ],
      "execution_count": null,
      "outputs": [
        {
          "output_type": "display_data",
          "data": {
            "image/png": "[encoded data removed]",
            "text/plain": [
              "<Figure size 432x288 with 1 Axes>"
            ]
          },
          "metadata": {
            "tags": []
          }
        }
      ]
    },
    {
      "cell_type": "code",
      "metadata": {
        "colab": {
          "base_uri": "https://localhost:8080/"
        },
        "id": "3DLNop9orewE",
        "outputId": "7c80e92d-a956-40f9-bc8b-0a07a723297f"
      },
      "source": [
        "preds = []\n",
        "\n",
        "for i in range(15):\n",
        "  preds.append(switch_model.predict_classes(Xtest[i].reshape(1, 20)))"
      ],
      "execution_count": null,
      "outputs": [
        {
          "output_type": "stream",
          "text": [
            "/usr/local/lib/python3.7/dist-packages/tensorflow/python/keras/engine/sequential.py:455: UserWarning: `model.predict_classes()` is deprecated and will be removed after 2021-01-01. Please use instead:* `np.argmax(model.predict(x), axis=-1)`,   if your model does multi-class classification   (e.g. if it uses a `softmax` last-layer activation).* `(model.predict(x) > 0.5).astype(\"int32\")`,   if your model does binary classification   (e.g. if it uses a `sigmoid` last-layer activation).\n",
            "  warnings.warn('`model.predict_classes()` is deprecated and '\n"
          ],
          "name": "stderr"
        }
      ]
    },
    {
      "cell_type": "code",
      "metadata": {
        "id": "58eGZ4DbrpQ0"
      },
      "source": [
        "preds_text = []\n",
        "for i in preds:\n",
        "    temp = []\n",
        "    for j in range(len(i)):\n",
        "      for k in i[j]:\n",
        "        t = get_word(k, eng_tokenizer)\n",
        "        if j > 0:\n",
        "            if (t == get_word(i[j-1], eng_tokenizer)) or (t == None):\n",
        "                temp.append('')\n",
        "            else:\n",
        "                temp.append(t)\n",
        "             \n",
        "        else:\n",
        "            if(t == None):\n",
        "                temp.append('')\n",
        "            else:\n",
        "                temp.append(t)            \n",
        "        \n",
        "    preds_text.append(' '.join(temp))"
      ],
      "execution_count": null,
      "outputs": []
    },
    {
      "cell_type": "code",
      "metadata": {
        "colab": {
          "base_uri": "https://localhost:8080/"
        },
        "id": "f12bztErruuG",
        "outputId": "20c7c7df-6a2e-4980-a36b-c5140b10f86c"
      },
      "source": [
        "preds_text"
      ],
      "execution_count": null,
      "outputs": [
        {
          "output_type": "execute_result",
          "data": {
            "text/plain": [
              "['coffee coffee coffee coffee sugar sugar              ',\n",
              " 'i just think you should be more careful all           ',\n",
              " 'do you have a small of a in in your          ',\n",
              " 'the police took the the red              ',\n",
              " 'tom took another bite                ',\n",
              " \"tom didn't even know i was there             \",\n",
              " \"he hurried so he wouldn't wouldn't the train            \",\n",
              " \"they didn't want me to examine it             \",\n",
              " 'there than hundred hundred more more four years years years years         ',\n",
              " 'tom asked us to help for              ',\n",
              " 'please stop talking                 ',\n",
              " 'you look japanese                 ',\n",
              " 'the road was by to be down down foot           ',\n",
              " \"if were were not water we we wouldn't wouldn't be          \",\n",
              " 'if you want to talk talk              ']"
            ]
          },
          "metadata": {
            "tags": []
          },
          "execution_count": 111
        }
      ]
    },
    {
      "cell_type": "code",
      "metadata": {
        "id": "aZcG5p8ysA3Y"
      },
      "source": [
        "actual_text = []\n",
        "for i in Xtest[:15]:\n",
        "    temp = []\n",
        "    for j in range(len(i)):\n",
        "        t = get_word(i[j], frn_tokenizer)\n",
        "        if j > 0:\n",
        "            if (t == get_word(i[j-1], frn_tokenizer)) or (t == None):\n",
        "                temp.append('')\n",
        "            else:\n",
        "                temp.append(t)\n",
        "             \n",
        "        else:\n",
        "            if(t == None):\n",
        "                temp.append('')\n",
        "            else:\n",
        "                temp.append(t)            \n",
        "        \n",
        "    actual_text.append(' '.join(temp))"
      ],
      "execution_count": null,
      "outputs": []
    },
    {
      "cell_type": "code",
      "metadata": {
        "colab": {
          "base_uri": "https://localhost:8080/"
        },
        "id": "Kp4BKvZQsHgT",
        "outputId": "aa6f6b28-3d15-48fb-dc01-aa6fd1697e9c"
      },
      "source": [
        "actual_text"
      ],
      "execution_count": null,
      "outputs": [
        {
          "output_type": "execute_result",
          "data": {
            "text/plain": [
              "[\"du café lait et sucre s'il vous plaît            \",\n",
              " \"je pense simplement que vous devriez être plus prudente c'est tout         \",\n",
              " \"disposez vous d'une pince monseigneur dans votre caisse à outils          \",\n",
              " \"la police l'a pris en flagrant délit             \",\n",
              " 'tom a pris une autre bouchée              ',\n",
              " \"tom ne savait même pas que j'étais là            \",\n",
              " \"il s'est dépêché pour ne pas rater le train           \",\n",
              " \"elles ne voulurent pas que je l'examine             \",\n",
              " 'quatre vingt quinze pour cent des orphelins ont plus de cinq ans        ',\n",
              " \"tom nous a demandé de l'aider              \",\n",
              " 'cessez de parler je vous prie              ',\n",
              " \"tu as l'air japonais                \",\n",
              " 'la route était bloquée par des éboulements de roches           ',\n",
              " \"si ce n'était pas pour le soleil nous ne pourrions pas vivre du tout      \",\n",
              " 'si vous voulez parler parlez               ']"
            ]
          },
          "metadata": {
            "tags": []
          },
          "execution_count": 115
        }
      ]
    },
    {
      "cell_type": "code",
      "metadata": {
        "colab": {
          "base_uri": "https://localhost:8080/"
        },
        "id": "QRPleA2ssYQf",
        "outputId": "3a714ff8-02d5-4f2f-94ac-bb8fdd96b229"
      },
      "source": [
        "y_test[:15]"
      ],
      "execution_count": null,
      "outputs": [
        {
          "output_type": "execute_result",
          "data": {
            "text/plain": [
              "['coffee, please, with cream and sugar.',\n",
              " \"i just think you should be more careful, that's all.\",\n",
              " 'do you have a crowbar in your toolbox?',\n",
              " 'the police caught him at it.',\n",
              " 'tom took another bite.',\n",
              " \"tom didn't even know i was here.\",\n",
              " \"he hurried so he wouldn't miss the train.\",\n",
              " \"they didn't want me to examine it.\",\n",
              " 'ninety-five percent of orphans are older than 5 years old.',\n",
              " 'tom has asked us to help him.',\n",
              " 'please stop talking.',\n",
              " 'you look japanese.',\n",
              " 'the road was blocked by fallen rocks.',\n",
              " 'if it were not for the sun, we could not live at all.',\n",
              " 'if you want to talk, talk.']"
            ]
          },
          "metadata": {
            "tags": []
          },
          "execution_count": 117
        }
      ]
    },
    {
      "cell_type": "code",
      "metadata": {
        "colab": {
          "base_uri": "https://localhost:8080/"
        },
        "id": "suz39K78Nk2A",
        "outputId": "dbfaec74-d27e-435e-8d91-fff35b9c8f45"
      },
      "source": [
        "from nltk.translate.bleu_score import sentence_bleu\n",
        "for i in range(0,15):\n",
        "    original = X_test[i]\n",
        "    references = y_test[i]\n",
        "    candidates = preds_text[i]\n",
        "    score = sentence_bleu(references, candidates)\n",
        "    print('\\nFRE: ', original)\n",
        "    print('ENG: ', references)\n",
        "    print('Pred: ', candidates)\n",
        "    print('BLEU score:', score)"
      ],
      "execution_count": null,
      "outputs": [
        {
          "output_type": "stream",
          "text": [
            "\n",
            "FRE:  du café lait et sucre, s'il vous plaît\n",
            "ENG:  coffee, please, with cream and sugar.\n",
            "Pred:  coffee coffee coffee coffee sugar sugar              \n",
            "BLEU score: 0.6590692245607205\n",
            "\n",
            "FRE:  je pense simplement que vous devriez être plus prudente, c'est tout.\n",
            "ENG:  i just think you should be more careful, that's all.\n",
            "Pred:  i just think you should be more careful all           \n",
            "BLEU score: 0.7801157731069053\n",
            "\n",
            "FRE:  disposez-vous d'une pince-monseigneur dans votre caisse à outils\n",
            "ENG:  do you have a crowbar in your toolbox?\n",
            "Pred:  do you have a small of a in in your          \n",
            "BLEU score: 0.7331329005620809\n",
            "\n",
            "FRE:  la police l'a pris en flagrant délit.\n",
            "ENG:  the police caught him at it.\n",
            "Pred:  the police took the the red              \n",
            "BLEU score: 0.6844861471686758\n",
            "\n",
            "FRE:  tom a pris une autre bouchée.\n",
            "ENG:  tom took another bite.\n",
            "Pred:  tom took another bite                \n",
            "BLEU score: 0.7546487907970829\n",
            "\n",
            "FRE:  tom ne savait même pas que j'étais là.\n",
            "ENG:  tom didn't even know i was here.\n",
            "Pred:  tom didn't even know i was there             \n",
            "BLEU score: 0.7721947901921794\n",
            "\n",
            "FRE:  il s'est dépêché pour ne pas rater le train.\n",
            "ENG:  he hurried so he wouldn't miss the train.\n",
            "Pred:  he hurried so he wouldn't wouldn't the train            \n",
            "BLEU score: 0.719408902854813\n",
            "\n",
            "FRE:  elles ne voulurent pas que je l'examine.\n",
            "ENG:  they didn't want me to examine it.\n",
            "Pred:  they didn't want me to examine it             \n",
            "BLEU score: 0.7427498127683173\n",
            "\n",
            "FRE:  quatre-vingt quinze pour cent des orphelins ont plus de cinq ans.\n",
            "ENG:  ninety-five percent of orphans are older than 5 years old.\n",
            "Pred:  there than hundred hundred more more four years years years years         \n",
            "BLEU score: 0.6345814629568174\n",
            "\n",
            "FRE:  tom nous a demandé de l'aider.\n",
            "ENG:  tom has asked us to help him.\n",
            "Pred:  tom asked us to help for              \n",
            "BLEU score: 0.7647860170437231\n",
            "\n",
            "FRE:  cessez de parler, je vous prie\n",
            "ENG:  please stop talking.\n",
            "Pred:  please stop talking                 \n",
            "BLEU score: 0.7598356856515925\n",
            "\n",
            "FRE:  tu as l'air japonais.\n",
            "ENG:  you look japanese.\n",
            "Pred:  you look japanese                 \n",
            "BLEU score: 0.7707713836060629\n",
            "\n",
            "FRE:  la route était bloquée par des éboulements de roches.\n",
            "ENG:  the road was blocked by fallen rocks.\n",
            "Pred:  the road was by to be down down foot           \n",
            "BLEU score: 0.7387670965262431\n",
            "\n",
            "FRE:  si ce n'était pas pour le soleil nous ne pourrions pas vivre du tout.\n",
            "ENG:  if it were not for the sun, we could not live at all.\n",
            "Pred:  if were were not water we we wouldn't wouldn't be          \n",
            "BLEU score: 0.6851297643791118\n",
            "\n",
            "FRE:  si vous voulez parler, parlez\n",
            "ENG:  if you want to talk, talk.\n",
            "Pred:  if you want to talk talk              \n",
            "BLEU score: 0.749634235443537\n"
          ],
          "name": "stdout"
        },
        {
          "output_type": "stream",
          "text": [
            "/usr/local/lib/python3.7/dist-packages/nltk/translate/bleu_score.py:490: UserWarning: \n",
            "Corpus/Sentence contains 0 counts of 2-gram overlaps.\n",
            "BLEU scores might be undesirable; use SmoothingFunction().\n",
            "  warnings.warn(_msg)\n"
          ],
          "name": "stderr"
        }
      ]
    },
    {
      "cell_type": "code",
      "metadata": {
        "id": "PGSXlkAmaL55"
      },
      "source": [
        "def build_new_model(in_vocab, out_vocab, in_timesteps, out_timesteps, units):\n",
        "    model = Sequential()\n",
        "    model.add(Embedding(in_vocab, units, input_length=in_timesteps, mask_zero=True))\n",
        "    model.add(Bidirectional(GRU(units)))\n",
        "    model.add(RepeatVector(out_timesteps))\n",
        "    model.add(Bidirectional(GRU(units, return_sequences=True)))\n",
        "    model.add(TimeDistributed(Dense(out_vocab, activation='relu')))\n",
        "    model.add(Dropout(0.5))\n",
        "    model.add(TimeDistributed(Dense(out_vocab, activation='softmax')))\n",
        "    return model"
      ],
      "execution_count": null,
      "outputs": []
    },
    {
      "cell_type": "code",
      "metadata": {
        "colab": {
          "base_uri": "https://localhost:8080/"
        },
        "id": "rU9N8-1Sq9M-",
        "outputId": "57036d3f-2e1d-4901-9ba8-02a4577b3b63"
      },
      "source": [
        "switch_model2 = build_new_model(frn_vocab_size, eng_vocab_size, frn_length, eng_length, 512)\n",
        "#rms = tf.optimizers.RMSprop(lr=0.001)\n",
        "switch_model2.compile(optimizer=tf.optimizers.Adam(lr=0.001), loss='sparse_categorical_crossentropy', metrics=['accuracy'])"
      ],
      "execution_count": null,
      "outputs": [
        {
          "output_type": "stream",
          "text": [
            "/usr/local/lib/python3.7/dist-packages/tensorflow/python/keras/optimizer_v2/optimizer_v2.py:375: UserWarning: The `lr` argument is deprecated, use `learning_rate` instead.\n",
            "  \"The `lr` argument is deprecated, use `learning_rate` instead.\")\n"
          ],
          "name": "stderr"
        }
      ]
    },
    {
      "cell_type": "code",
      "metadata": {
        "id": "JcM57iwKtpEv"
      },
      "source": [
        "def build_model2(in_vocab, out_vocab, in_timesteps, out_timesteps, units):\n",
        "    model = Sequential()\n",
        "    model.add(Embedding(in_vocab, units, input_length=in_timesteps, mask_zero=True))\n",
        "    model.add(Bidirectional(GRU(units)))\n",
        "    model.add(RepeatVector(out_timesteps))\n",
        "    model.add(Bidirectional(GRU(units, return_sequences=True)))\n",
        "    model.add(Dropout(0.2))\n",
        "    model.add(Dense(out_vocab, activation='softmax'))\n",
        "    return model"
      ],
      "execution_count": null,
      "outputs": []
    },
    {
      "cell_type": "code",
      "metadata": {
        "colab": {
          "base_uri": "https://localhost:8080/"
        },
        "id": "bq7I1JOkuA59",
        "outputId": "b0d93f19-d38f-4441-f953-8f7585438d1b"
      },
      "source": [
        "switch_model2 = build_model2(frn_vocab_size, eng_vocab_size, frn_length, eng_length, 512)\n",
        "#rms = tf.optimizers.RMSprop(lr=0.001)\n",
        "switch_model2.compile(optimizer=tf.optimizers.Adam(lr=0.001), loss='sparse_categorical_crossentropy', metrics=['accuracy'])"
      ],
      "execution_count": null,
      "outputs": [
        {
          "output_type": "stream",
          "text": [
            "/usr/local/lib/python3.7/dist-packages/tensorflow/python/keras/optimizer_v2/optimizer_v2.py:375: UserWarning: The `lr` argument is deprecated, use `learning_rate` instead.\n",
            "  \"The `lr` argument is deprecated, use `learning_rate` instead.\")\n"
          ],
          "name": "stderr"
        }
      ]
    },
    {
      "cell_type": "code",
      "metadata": {
        "colab": {
          "base_uri": "https://localhost:8080/"
        },
        "id": "TI_v8Ou02LvH",
        "outputId": "c1ee0efa-a4c0-452f-d692-818033e3c607"
      },
      "source": [
        "history3 = switch_model2.fit(Xtrain, ytrain.reshape(ytrain.shape[0], ytrain.shape[1], 1), \n",
        "          epochs=30, batch_size=512, \n",
        "          validation_split = 0.2,\n",
        "          verbose=1)"
      ],
      "execution_count": null,
      "outputs": [
        {
          "output_type": "stream",
          "text": [
            "Epoch 1/30\n",
            "176/176 [==============================] - 158s 855ms/step - loss: 2.3769 - accuracy: 0.6997 - val_loss: 1.9858 - val_accuracy: 0.7100\n",
            "Epoch 2/30\n",
            "176/176 [==============================] - 150s 851ms/step - loss: 1.9408 - accuracy: 0.7131 - val_loss: 1.9085 - val_accuracy: 0.7177\n",
            "Epoch 3/30\n",
            "176/176 [==============================] - 150s 853ms/step - loss: 1.8499 - accuracy: 0.7204 - val_loss: 1.8172 - val_accuracy: 0.7240\n",
            "Epoch 4/30\n",
            "176/176 [==============================] - 150s 852ms/step - loss: 1.7250 - accuracy: 0.7312 - val_loss: 1.6926 - val_accuracy: 0.7370\n",
            "Epoch 5/30\n",
            "176/176 [==============================] - 149s 849ms/step - loss: 1.5841 - accuracy: 0.7468 - val_loss: 1.5697 - val_accuracy: 0.7530\n",
            "Epoch 6/30\n",
            "176/176 [==============================] - 149s 848ms/step - loss: 1.4520 - accuracy: 0.7606 - val_loss: 1.4614 - val_accuracy: 0.7654\n",
            "Epoch 7/30\n",
            "176/176 [==============================] - 150s 851ms/step - loss: 1.3252 - accuracy: 0.7726 - val_loss: 1.3634 - val_accuracy: 0.7754\n",
            "Epoch 8/30\n",
            "176/176 [==============================] - 149s 847ms/step - loss: 1.2030 - accuracy: 0.7837 - val_loss: 1.2701 - val_accuracy: 0.7841\n",
            "Epoch 9/30\n",
            "176/176 [==============================] - 150s 851ms/step - loss: 1.0941 - accuracy: 0.7946 - val_loss: 1.1943 - val_accuracy: 0.7915\n",
            "Epoch 10/30\n",
            "176/176 [==============================] - 149s 845ms/step - loss: 0.9901 - accuracy: 0.8055 - val_loss: 1.1337 - val_accuracy: 0.7999\n",
            "Epoch 11/30\n",
            "176/176 [==============================] - 150s 853ms/step - loss: 0.8998 - accuracy: 0.8164 - val_loss: 1.0874 - val_accuracy: 0.8052\n",
            "Epoch 12/30\n",
            "176/176 [==============================] - 149s 847ms/step - loss: 0.8200 - accuracy: 0.8265 - val_loss: 1.0510 - val_accuracy: 0.8116\n",
            "Epoch 13/30\n",
            "176/176 [==============================] - 150s 854ms/step - loss: 0.7459 - accuracy: 0.8369 - val_loss: 1.0159 - val_accuracy: 0.8153\n",
            "Epoch 14/30\n",
            "176/176 [==============================] - 149s 849ms/step - loss: 0.6818 - accuracy: 0.8471 - val_loss: 0.9920 - val_accuracy: 0.8199\n",
            "Epoch 15/30\n",
            "176/176 [==============================] - 149s 848ms/step - loss: 0.6252 - accuracy: 0.8567 - val_loss: 0.9721 - val_accuracy: 0.8235\n",
            "Epoch 16/30\n",
            "176/176 [==============================] - 149s 848ms/step - loss: 0.5742 - accuracy: 0.8656 - val_loss: 0.9629 - val_accuracy: 0.8240\n",
            "Epoch 17/30\n",
            "176/176 [==============================] - 150s 851ms/step - loss: 0.5261 - accuracy: 0.8750 - val_loss: 0.9637 - val_accuracy: 0.8303\n",
            "Epoch 18/30\n",
            "176/176 [==============================] - 149s 849ms/step - loss: 0.4813 - accuracy: 0.8836 - val_loss: 0.9589 - val_accuracy: 0.8325\n",
            "Epoch 19/30\n",
            "176/176 [==============================] - 150s 850ms/step - loss: 0.4424 - accuracy: 0.8912 - val_loss: 0.9664 - val_accuracy: 0.8339\n",
            "Epoch 20/30\n",
            "176/176 [==============================] - 149s 849ms/step - loss: 0.4066 - accuracy: 0.8986 - val_loss: 0.9505 - val_accuracy: 0.8350\n",
            "Epoch 21/30\n",
            "176/176 [==============================] - 150s 851ms/step - loss: 0.3743 - accuracy: 0.9053 - val_loss: 0.9645 - val_accuracy: 0.8371\n",
            "Epoch 22/30\n",
            "176/176 [==============================] - 149s 849ms/step - loss: 0.3451 - accuracy: 0.9113 - val_loss: 0.9736 - val_accuracy: 0.8388\n",
            "Epoch 23/30\n",
            "176/176 [==============================] - 149s 849ms/step - loss: 0.3180 - accuracy: 0.9174 - val_loss: 0.9659 - val_accuracy: 0.8389\n",
            "Epoch 24/30\n",
            "176/176 [==============================] - 149s 848ms/step - loss: 0.2933 - accuracy: 0.9228 - val_loss: 0.9861 - val_accuracy: 0.8408\n",
            "Epoch 25/30\n",
            "176/176 [==============================] - 149s 849ms/step - loss: 0.2759 - accuracy: 0.9266 - val_loss: 1.0062 - val_accuracy: 0.8413\n",
            "Epoch 26/30\n",
            "176/176 [==============================] - 149s 847ms/step - loss: 0.2553 - accuracy: 0.9316 - val_loss: 1.0064 - val_accuracy: 0.8424\n",
            "Epoch 27/30\n",
            "176/176 [==============================] - 150s 852ms/step - loss: 0.2383 - accuracy: 0.9355 - val_loss: 1.0268 - val_accuracy: 0.8430\n",
            "Epoch 28/30\n",
            "176/176 [==============================] - 150s 851ms/step - loss: 0.2217 - accuracy: 0.9394 - val_loss: 1.0290 - val_accuracy: 0.8433\n",
            "Epoch 29/30\n",
            "176/176 [==============================] - 149s 849ms/step - loss: 0.2064 - accuracy: 0.9433 - val_loss: 1.0583 - val_accuracy: 0.8444\n",
            "Epoch 30/30\n",
            "176/176 [==============================] - 149s 848ms/step - loss: 0.1953 - accuracy: 0.9460 - val_loss: 1.0616 - val_accuracy: 0.8440\n"
          ],
          "name": "stdout"
        }
      ]
    },
    {
      "cell_type": "code",
      "metadata": {
        "colab": {
          "base_uri": "https://localhost:8080/"
        },
        "id": "1Ou-4MwB2uP0",
        "outputId": "0ab09573-df23-4a4e-f9c4-d0cae808ab18"
      },
      "source": [
        "print(switch_model2.summary())"
      ],
      "execution_count": null,
      "outputs": [
        {
          "output_type": "stream",
          "text": [
            "Model: \"sequential_13\"\n",
            "_________________________________________________________________\n",
            "Layer (type)                 Output Shape              Param #   \n",
            "=================================================================\n",
            "embedding_13 (Embedding)     (None, 20, 512)           13333504  \n",
            "_________________________________________________________________\n",
            "bidirectional_2 (Bidirection (None, 1024)              3148800   \n",
            "_________________________________________________________________\n",
            "repeat_vector_12 (RepeatVect (None, 20, 1024)          0         \n",
            "_________________________________________________________________\n",
            "bidirectional_3 (Bidirection (None, 20, 1024)          4721664   \n",
            "_________________________________________________________________\n",
            "dropout_6 (Dropout)          (None, 20, 1024)          0         \n",
            "_________________________________________________________________\n",
            "dense_13 (Dense)             (None, 20, 13908)         14255700  \n",
            "=================================================================\n",
            "Total params: 35,459,668\n",
            "Trainable params: 35,459,668\n",
            "Non-trainable params: 0\n",
            "_________________________________________________________________\n",
            "None\n"
          ],
          "name": "stdout"
        }
      ]
    },
    {
      "cell_type": "code",
      "metadata": {
        "colab": {
          "base_uri": "https://localhost:8080/",
          "height": 279
        },
        "id": "sd93LzNiIwnf",
        "outputId": "99cb0f8d-d011-4c55-eef1-6f9d0ab560c8"
      },
      "source": [
        "sns.set_style('ticks')\n",
        "plt.plot(history3.history['accuracy'], color='blue')\n",
        "plt.plot(history3.history['val_accuracy'], color='red')\n",
        "sns.despine()\n",
        "plt.legend(['train','validation'])\n",
        "plt.xlabel('Epochs')\n",
        "plt.ylabel('Accuracy')\n",
        "plt.show()"
      ],
      "execution_count": null,
      "outputs": [
        {
          "output_type": "display_data",
          "data": {
            "image/png": "[encoded data removed]",
            "text/plain": [
              "<Figure size 432x288 with 1 Axes>"
            ]
          },
          "metadata": {
            "tags": []
          }
        }
      ]
    },
    {
      "cell_type": "code",
      "metadata": {
        "colab": {
          "base_uri": "https://localhost:8080/",
          "height": 279
        },
        "id": "G_wFdC7KKsoK",
        "outputId": "96b332f7-790a-4fc4-ff0d-9a8436ab9247"
      },
      "source": [
        "sns.set_style('ticks')\n",
        "plt.plot(history3.history['loss'], color='blue')\n",
        "plt.plot(history3.history['val_loss'], color='red')\n",
        "sns.despine()\n",
        "plt.legend(['train','validation'])\n",
        "plt.xlabel('Epochs')\n",
        "plt.ylabel('Error')\n",
        "plt.show()"
      ],
      "execution_count": null,
      "outputs": [
        {
          "output_type": "display_data",
          "data": {
            "image/png": "[encoded data removed]",
            "text/plain": [
              "<Figure size 432x288 with 1 Axes>"
            ]
          },
          "metadata": {
            "tags": []
          }
        }
      ]
    },
    {
      "cell_type": "code",
      "metadata": {
        "id": "9ceGMrEcLJKA"
      },
      "source": [
        ""
      ],
      "execution_count": null,
      "outputs": []
    }
  ]
}