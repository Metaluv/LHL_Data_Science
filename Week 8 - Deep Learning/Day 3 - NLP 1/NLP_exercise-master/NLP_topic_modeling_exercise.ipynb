{
 "cells": [
  {
   "cell_type": "markdown",
   "metadata": {},
   "source": [
    "## NLP Topic Modeling Exercise"
   ]
  },
  {
   "cell_type": "code",
   "execution_count": 1,
   "metadata": {
    "ExecuteTime": {
     "end_time": "2020-04-29T12:18:12.932082Z",
     "start_time": "2020-04-29T12:18:12.200358Z"
    }
   },
   "outputs": [],
   "source": [
    "# import TfidfVectorizer and CountVectorizer from sklearn\n",
    "from sklearn.feature_extraction.text import TfidfVectorizer, CountVectorizer\n",
    "\n",
    "# import fetch_20newsgroups from sklearn.datasets\n",
    "from sklearn.datasets import fetch_20newsgroups\n",
    "\n",
    "# import NMF and LatentDirichletAllocation from sklearn\n",
    "from sklearn.decomposition import NMF, LatentDirichletAllocation"
   ]
  },
  {
   "cell_type": "code",
   "execution_count": 2,
   "metadata": {
    "ExecuteTime": {
     "end_time": "2020-04-29T12:18:14.463840Z",
     "start_time": "2020-04-29T12:18:13.020189Z"
    }
   },
   "outputs": [],
   "source": [
    "dataset = fetch_20newsgroups(shuffle=True, random_state=1, remove=('headers', 'footers', 'quotes'))\n",
    "documents = dataset.data"
   ]
  },
  {
   "cell_type": "markdown",
   "metadata": {},
   "source": [
    "* create a variable called `'no_features'` and set its value to 100."
   ]
  },
  {
   "cell_type": "code",
   "execution_count": 10,
   "metadata": {
    "ExecuteTime": {
     "end_time": "2020-04-29T12:18:15.590700Z",
     "start_time": "2020-04-29T12:18:15.585820Z"
    }
   },
   "outputs": [],
   "source": [
    "no_features = 100"
   ]
  },
  {
   "cell_type": "markdown",
   "metadata": {},
   "source": [
    "* create a variable `'no_topics'` and set its value to 100"
   ]
  },
  {
   "cell_type": "code",
   "execution_count": 11,
   "metadata": {
    "ExecuteTime": {
     "end_time": "2020-04-29T12:18:16.743304Z",
     "start_time": "2020-04-29T12:18:16.737763Z"
    }
   },
   "outputs": [],
   "source": [
    "no_topics = 100"
   ]
  },
  {
   "cell_type": "markdown",
   "metadata": {},
   "source": [
    "## NMF"
   ]
  },
  {
   "cell_type": "markdown",
   "metadata": {},
   "source": [
    "* instantiate a TfidfVectorizer with the following parameters:\n",
    "\n",
    "\n",
    "    * max_df = 0.95\n",
    "    * min_df = 2\n",
    "    * max_features = no_features\n",
    "    * stop_words = 'english'"
   ]
  },
  {
   "cell_type": "code",
   "execution_count": 12,
   "metadata": {
    "ExecuteTime": {
     "end_time": "2020-04-29T12:18:17.892838Z",
     "start_time": "2020-04-29T12:18:17.888668Z"
    }
   },
   "outputs": [],
   "source": [
    "tfidf_vect = TfidfVectorizer(max_df=0.95, min_df=2, max_features=no_features,stop_words='english')"
   ]
  },
  {
   "cell_type": "markdown",
   "metadata": {},
   "source": [
    "* use fit_transform method of TfidfVectorizer to transform the documents"
   ]
  },
  {
   "cell_type": "code",
   "execution_count": 6,
   "metadata": {
    "ExecuteTime": {
     "end_time": "2020-04-29T12:18:21.486038Z",
     "start_time": "2020-04-29T12:18:19.135830Z"
    },
    "tags": [
     "outputPrepend"
    ]
   },
   "outputs": [
    {
     "output_type": "stream",
     "name": "stderr",
     "text": [
      "ainly interested in setting up an international inspection system which will prevent Laos from being used as a base for Communist attacks on neighboring Thailand and South Viet Nam . They count on the aid of the neutral countries attending the Geneva conference to achieve this . The United States hopes that any future Lao Cabinet would not become Communist dominated . But it is apparent that no acceptable formula has been found to prevent such a possibility . Policies modified The inclination here is to accept a de facto cease-fire in Laos , rather than continue to insist on a verification of the cease-fire by the international control commission before participating in the Geneva conference . This is another of the modifications of policy on Laos that the Kennedy administration has felt compelled to make . It excuses these actions as being the chain reaction to basic errors made in the previous administration . Its spokesmen insist that there has not been time enough to institute reforms in military and economic aid policies in the critical areas . But with the months moving on -- and the immediate confrontations with the Communists showing no gain for the free world -- the question arises : How effective have Kennedy administration first foreign policy decisions been in dealing with Communist aggression ? ? Former Vice-President Richard M. Nixon in Detroit called for a firmer and tougher policy toward the Soviet Union . He was critical of what he feels is President Kennedy's tendency to be too conciliatory . GOP restrained It does not take a Gallup poll to find out that most Republicans in Congress feel this understates the situation as Republicans see it . They can hardly restrain themselves from raising the question of whether Republicans , if they had been in power , would have made `` amateurish and monumental blunders '' in Cuba . One Republican senator told this correspondent that he was constantly being asked why he didn't attack the Kennedy administration on this score . His reply , he said , was that he agreed to the need for unity in the country now . But he further said that it was better politics to let others question the wisdom of administration policies first . The Republicans some weeks ago served notice through Senator Thruston B. Morton ( R ) of Kentucky , chairman of the Republican National Committee , that the Kennedy administration would be held responsible if the outcome in Laos was a coalition government susceptible of Communist domination . Kennedy administration policies also have been assailed now from another direction by 70 Harvard , Boston University , Brandeis , and Massachusetts Institute of Technology educators . Detente urged This group pleads with the administration to `` give no further support for the invasion of Cuba by exile groups '' . It recommends that the United States `` seek instead to detach the Castro regime from the Communist bloc by working for a diplomatic detente and a resumption of trade relations ; ; and concentrate its constructive efforts on eliminating in other parts of Latin America the social conditions on which totalitarian nationalism feeds '' . Mr. Nixon , for his part , would oppose intervention in Cuba without specific provocation . But he did recommend that President Kennedy state clearly that if Communist countries shipped any further arms to Cuba that it would not be tolerated . Until the Cuban fiasco and the Communist military victories in Laos , almost any observer would have said that President Kennedy had blended a program that respected , generally , the opinions voiced both by Mr. Nixon and the professors . Aid plans revamped Very early in his administration he informed the Kremlin through diplomatic channels , a high official source disclosed , that the new administration would react even tougher than the Eisenhower administration would during the formative period of the administration . Strenuous efforts were made to remove pin pricking from administration statements . Policies on nuclear test ban negotiations were reviewed and changed . But thus far there has been no response in kind . Foreign aid programs were revamped to give greater emphasis to economic aid and to encourage political reform in recipient nations . In Laos , the administration looked at the Eisenhower administration efforts to show determination by sailing a naval fleet into Southeast Asian waters as a useless gesture . Again and again it asked the Communists to `` freeze '' the military situation in Laos . But the Communists aided the Pathet Lao at an even faster rate . And after several correspondents went into Pathet Lao territory and exposed the huge build-up , administration spokesmen acclaimed them for performing a `` great service '' and laid the matter before the Southeast Asia Treaty Organization . SEATO was steamed up and prepared contingency plans for coping with the military losses in Laos . But the Communists never gave sufficient provocation at any one time for the United States to want to risk a limited or an all-out war over Laos . ( Some SEATO nations disagreed , however . ) There was the further complication that the administration had very early concluded that Laos was ill suited to be an ally , unlike its more determined neighbors , Thailand and South Viet Nam . The administration declared itself in favor of a neutralized Laos . The pro-Western government , which the United States had helped in a revolt against the Souvanna Phouma `` neutralist '' government , never did appear to spark much fighting spirit in the Royal Lao Army . There certainly was not any more energy displayed after it was clear the United States would not back the pro-Western government to the hilt . If the administration ever had any ideas that it could find an acceptable alternative to Prince Souvanna Phouma , whom it felt was too trusting of Communists , it gradually had to relinquish them . One factor was the statement of Senator J. W. Fulbright ( D ) of Arkansas , chairman of the Senate Foreign Relations Committee . He declared on March 25 that the United States had erred a year and a half ago by `` encouraging the removal '' of Prince Souvanna . Washington The White House is taking extraordinary steps to check the rapid growth of juvenile delinquency in the United States . The President is deeply concerned over this problem and its effect upon the `` vitality of the nation '' . In an important assertion of national leadership in this field , he has issued an executive order establishing the President's committee on Juvenile Delinquency and Crime , to be supported and assisted by a Citizens Advisory Council of recognized authorities on juvenile problems . The President asks the support and cooperation of Congress in his efforts through the enactment of legislation to provide federal grants to states for specified efforts in combating this disturbing crime trend . Offenses multiply The President has also called upon the Attorney General , the Secretary of Health , Education and Welfare , and the Secretary of Labor to coordinate their efforts `` in the development of a program of federal leadership to assist states and local communities in their efforts to cope with the problem . Simultaneously the President announced Thursday the appointment of David L. Hackett , a special assistant to the Attorney General , as executive director of the new Committee on Juvenile Delinquency and Youth Crime . His sense of urgency in this matter stems from the fact that court cases and juvenile arrests have more than doubled since 1948 , each year showing an increase in offenders . Among arrests reported by the Federal Bureau of Investigation in 1959 , about half for burglary and larceny involved persons under 18 years of age .\", \"East Providence should organize its civil defense setup and begin by appointing a full-time director , Raymond H. Hawksley , the present city CD head , believes . Mr. Hawksley said yesterday he would be willing to go before the city council `` or anyone else locally '' to outline his proposal at the earliest possible time . East Providence now has no civil defense program . Mr. Hawksley , the state's general treasurer , has been a part-time CD director in the city for the last nine years . He is not interested in being named a full-time director . Noting that President Kennedy has handed the Defense Department the major responsibility for the nation's civil defense program , Mr. Hawksley said the federal government would pay half the salary of a full-time local director . He expressed the opinion the city could hire a CD director for about $3,500 a year and would only have to put up half that amount on a matching fund basis to defray the salary costs . Mr. Hawksley said he believed there are a number of qualified city residents who would be willing to take the full-time CD job . One of these men is former Fire Chief John A. Laughlin , he said . Along with a director , the city should provide a CD headquarters so that pertinent information about the local organization would be centralized . Mr. Hawksley said . One advantage that would come to the city in having a full-time director , he said , is that East Providence would become eligible to apply to the federal government for financial aid in purchasing equipment needed for a sound civil defense program . Matching funds also can be obtained for procurement of such items as radios , sirens and rescue trucks , he said . Mr. Hawksley believes that East Providence could use two more rescue trucks , similar to the CD vehicle obtained several years ago and now detailed to the Central Fire Station . He would assign one of the rescue trucks to the Riverside section of the city and the other to the Rumford area . Speaking of the present status of civil defense in the city , Mr. Hawksley said he would be willing to bet that not more than one person in a hundred would know what to do or where to go in the event of an enemy attack . The Narragansett Race Track grounds is one assembly point , he said , and a drive-in theater in Seekonk would be another . Riverside residents would go to the Seekonk assembly point . Mr. Hawksley said he was not critical of city residents for not knowing what to do or where to assemble in case of an air attack . Such vital information , he said , has to be made available to the public frequently and at regular intervals for residents to know . If the city council fails to consider appointment of a full-time CD director , Mr. Hawksley said , then he plans to call a meeting early in September so that a civil defense organization will be developed locally . One of the first things he would do , he said , would be to organize classes in first aid . Other steps would be developed after information drifts down to the local level from the federal government . Rhode Island is going to examine its Sunday sales law with possible revisions in mind . Governor Notte said last night he plans to name a committee to make the study and come up with recommendations for possible changes in time for the next session of the General Assembly . The governor's move into the so-called `` blue law '' controversy came in the form of a letter to Miss Mary R. Grant , deputy city clerk of Central Falls . A copy was released to the press . Mr. Notte was responding to a resolution adopted by the Central Falls City Council on July 10 and sent to the state house by Miss Grant . The resolution urges the governor to have a complete study of the Sunday sales laws made with an eye to their revision at the next session of the legislature . While the city council suggested that the Legislative Council might perform the review , Mr. Notte said that instead he will take up the matter with Atty. Gen. J. Joseph Nugent to get `` the benefit of his views '' . He will then appoint the study committee with Mr. Nugent's cooperation , the governor said . `` I would expect the proposed committee to hold public hearings '' , Mr. Notte said , `` to obtain the views of the general public and religious , labor and special-interest groups affected by these laws '' . The governor wrote Miss Grant that he has been concerned for some time `` with the continuous problem which confronts our local and state law enforcement officers as a result of the laws regulating Sunday sales '' . The attorney general has advised local police that it is their duty to enforce the blue laws . Should there be evidence they are shirking , he has said , the state police will step into the situation . There has been more activity across the state line in Massachusetts than in Rhode Island in recent weeks toward enforcement of the Sunday sales laws . The statutes , similar in both the Bay State and Rhode Island and dating back in some instances to colonial times , severely limit the types of merchandise that may be sold on the Sabbath . The Central Falls City Council expressed concern especially that more foods be placed on the eligible list and that neighborhood grocery and variety stores be allowed to do business on Sunday . The only day they `` have a chance to compete with large supermarkets is on Sunday '' , the council's resolution said . The small shops `` must be retained , for they provide essential service to the community '' , according to the resolution , which added that they `` also are the source of livelihood for thousands of our neighbors '' . It declares that Sunday sales licenses provide `` great revenue '' to the local government . The council advised the governor that `` large supermarkets , factory outlets and department stores not be allowed to do business '' on Sunday . They `` operate on a volume basis '' , it was contended , `` and are not essential to provide the more limited but vital shopping needs of the community '' . Liberals and conservatives in both parties -- Democratic and Republican -- should divorce themselves and form two independent parties , George H. Reama , nationally known labor-management expert , said here yesterday . Mr. Reama told the Rotary Club of Providence at its luncheon at the Sheraton-Biltmore Hotel that about half of the people in the country want the `` welfare '' type of government and the other half want a free enterprise system . He suggested that a regrouping of forces might allow the average voter a better pull at the right lever for him on election day . He said he was `` confessing that I was a member of the Socialist Party in 1910 '' . That , he added , was when he was `` a very young man , a machinist and toolmaker by trade . `` That was before I studied law . Some of my fellow workers were grooming me for an office in the Socialist Party . The lawyer with whom I studied law steered me off the Socialist track . He steered me to the right track -- the free enterprise track '' . He said that when he was a Socialist in 1910 , the party called for government operation of all utilities and the pooling of all resources . He suggested that without the Socialist Party ever gaining a national victory , most of its original program has come to pass under both major parties . Mr. Reama , who retired as vice president of the American Screw Co. in 1955 said , `` Both parties in the last election told us that we need a five per cent growth in the gross national product -- but neither told us how to achieve it '' . He said he favors wage increases for workers -- `` but manufacturers are caught in a profit squeeze '' -- and raises should only come when the public is conditioned to higher prices , he added . Indicating the way in which he has turned his back on his 1910 philosophy , Mr. Reama said : `` A Socialist is a person who believes in dividing everything he does not own '' . Mr. Reama , far from really being retired , is engaged in industrial relations counseling . A petition bearing the signatures of more than 1,700 Johnston taxpayers was presented to the town council last night as what is hoped will be the first step in obtaining a home rule charter for the town . William A. Martinelli , chairman of the Citizens Group of Johnston , transferred the petitions from his left hand to his right hand after the council voted to accept them at the suggestion of Council President Raymond Fortin Sr. . The law which governs home rule charter petitions states that they must be referred to the chairman of the board of canvassers for verification of the signatures within 10 days and Mr. Martinelli happens to hold that post . Mr. Martinelli explained that there should be more than enough signatures to assure the scheduling of a vote on the home rule charter and possible election of a nine member charter commission within 70 days . He explained that by law the council must establish procedures for a vote on the issue within 60 days after the board of canvassers completes its work . A difference of opinion arose between Mr. Martinelli and John P. Bourcier , town solicitor , over the exact manner in which the vote is handled . Mr. Martinelli has , in recent weeks , been of the opinion that a special town meeting would be called for the vote , while Mr. Bourcier said that a special election might be called instead . Mr. Bourcier said that he had consulted several Superior Court justices in the last week and received opinions favoring both procedures . He assured Mr. Martinelli and the council that he would study the correct method and report back to the council as soon as possible . Mr. Martinelli said yesterday that the Citizens Group of Johnston will meet again July 24 to plan further strategy in the charter movement . He said that the group has no candidates for the charter commission in mind at present , but that it will undoubtedly endorse candidates when the time comes . `` After inspiring this , I think we should certainly follow through on it '' , he declared . `` It has become our responsibility and I hope that the Citizens Group will spearhead the movement '' . He said he would not be surprised if some of the more than 30 members of the group are interested in running on the required non-partisan ballot for posts on the charter commission . `` Our most immediate goal is to increase public awareness of the movement '' , he indicated , `` and to tell them what this will mean for the town '' . He expects that if the present timetable is followed a vote will be scheduled during the last week in September . Some opposition to the home rule movement started to be heard yesterday , with spokesmen for the town's insurgent Democratic leadership speaking out against the home rule charter in favor of the model municipal league charter . Increasing opposition can be expected in coming weeks , it was indicated . Misunderstanding of the real meaning of a home rule charter was cited as a factor which has caused the Citizens Group to obtain signatures under what were termed `` false pretenses '' . Several signers affixed their names , it was learned , after being told that no tax increase would be possible without consent of the General Assembly and that a provision could be included in the charter to have the town take over the Johnston Sanitary District sewer system . Action on a new ordinance permitting motorists who plead guilty to minor traffic offenses to pay fines at the local police station may be taken at Monday's special North Providence Town Council meeting . Council president Frank SanAntonio said yesterday he may ask the council to formally request Town Solicitor Michael A. Abatuno to draft the ordinance . At the last session of the General Assembly , the town was authorized to adopt such an ordinance as a means of making enforcement of minor offenses more effective . Nothing has been done yet to take advantage of the enabling legislation . At present all offenses must be taken to Sixth District Court for disposition . Local police have hesitated to prosecute them because of the heavy court costs involved even for the simplest offense .\"]\n"
     ]
    }
   ],
   "source": [
    "import nltk\n",
    "nltk.download('brown')\n",
    "from nltk.corpus import brown\n",
    " \n",
    "data = []\n",
    " \n",
    "for fileid in brown.fileids():\n",
    "    document = ' '.join(brown.words(fileid))\n",
    "    data.append(document)\n",
    " \n",
    "NO_DOCUMENTS = len(data)\n",
    "print(NO_DOCUMENTS)\n",
    "print(data[:5])"
   ]
  },
  {
   "cell_type": "code",
   "execution_count": 13,
   "metadata": {},
   "outputs": [],
   "source": [
    "data_vectorized = tfidf_vect.fit_transform(data)"
   ]
  },
  {
   "cell_type": "markdown",
   "metadata": {},
   "source": [
    "* get the features names from TfidfVectorizer"
   ]
  },
  {
   "cell_type": "code",
   "execution_count": 16,
   "metadata": {
    "ExecuteTime": {
     "end_time": "2020-04-29T12:18:22.661253Z",
     "start_time": "2020-04-29T12:18:22.656169Z"
    }
   },
   "outputs": [
    {
     "output_type": "execute_result",
     "data": {
      "text/plain": [
       "['000',\n",
       " 'af',\n",
       " 'american',\n",
       " 'asked',\n",
       " 'away',\n",
       " 'better',\n",
       " 'business',\n",
       " 'called',\n",
       " 'came',\n",
       " 'children',\n",
       " 'city',\n",
       " 'come',\n",
       " 'course',\n",
       " 'day',\n",
       " 'days',\n",
       " 'did',\n",
       " 'didn',\n",
       " 'does',\n",
       " 'don',\n",
       " 'end',\n",
       " 'eyes',\n",
       " 'face',\n",
       " 'fact',\n",
       " 'far',\n",
       " 'form',\n",
       " 'general',\n",
       " 'given',\n",
       " 'going',\n",
       " 'good',\n",
       " 'got',\n",
       " 'government',\n",
       " 'great',\n",
       " 'group',\n",
       " 'half',\n",
       " 'hand',\n",
       " 'head',\n",
       " 'high',\n",
       " 'home',\n",
       " 'house',\n",
       " 'john',\n",
       " 'just',\n",
       " 'knew',\n",
       " 'know',\n",
       " 'large',\n",
       " 'later',\n",
       " 'left',\n",
       " 'let',\n",
       " 'life',\n",
       " 'like',\n",
       " 'little',\n",
       " 'll',\n",
       " 'long',\n",
       " 'look',\n",
       " 'make',\n",
       " 'man',\n",
       " 'men',\n",
       " 'mr',\n",
       " 'mrs',\n",
       " 'national',\n",
       " 'new',\n",
       " 'night',\n",
       " 'number',\n",
       " 'old',\n",
       " 'order',\n",
       " 'people',\n",
       " 'place',\n",
       " 'point',\n",
       " 'present',\n",
       " 'president',\n",
       " 'program',\n",
       " 'public',\n",
       " 'right',\n",
       " 'room',\n",
       " 'said',\n",
       " 'say',\n",
       " 'school',\n",
       " 'second',\n",
       " 'set',\n",
       " 'small',\n",
       " 'social',\n",
       " 'state',\n",
       " 'states',\n",
       " 'think',\n",
       " 'thought',\n",
       " 'time',\n",
       " 'told',\n",
       " 'took',\n",
       " 'united',\n",
       " 'use',\n",
       " 'used',\n",
       " 'war',\n",
       " 'water',\n",
       " 'way',\n",
       " 'went',\n",
       " 'white',\n",
       " 'work',\n",
       " 'world',\n",
       " 'year',\n",
       " 'years',\n",
       " 'young']"
      ]
     },
     "metadata": {},
     "execution_count": 16
    }
   ],
   "source": [
    "tfidf_vect.get_feature_names()"
   ]
  },
  {
   "cell_type": "markdown",
   "metadata": {},
   "source": [
    "* instantiate NMF and fit transformed data"
   ]
  },
  {
   "cell_type": "code",
   "execution_count": 17,
   "metadata": {
    "ExecuteTime": {
     "end_time": "2020-04-29T12:18:24.532755Z",
     "start_time": "2020-04-29T12:18:23.661009Z"
    }
   },
   "outputs": [],
   "source": [
    "from sklearn.decomposition import NMF, LatentDirichletAllocation, TruncatedSVD"
   ]
  },
  {
   "cell_type": "code",
   "execution_count": 19,
   "metadata": {},
   "outputs": [
    {
     "output_type": "stream",
     "name": "stderr",
     "text": [
      "C:\\ProgramData\\Anaconda3\\lib\\site-packages\\sklearn\\decomposition\\_nmf.py:312: FutureWarning: The 'init' value, when 'init=None' and n_components is less than n_samples and n_features, will be changed from 'nndsvd' to 'nndsvda' in 1.1 (renaming of 0.26).\n  warnings.warn((\"The 'init' value, when 'init=None' and \"\n"
     ]
    }
   ],
   "source": [
    "nmf_model = NMF(n_components=no_topics)\n",
    "nmf_Z = nmf_model.fit_transform(data_vectorized)"
   ]
  },
  {
   "cell_type": "code",
   "execution_count": 20,
   "metadata": {},
   "outputs": [
    {
     "output_type": "execute_result",
     "data": {
      "text/plain": [
       "array([[0.00000000e+00, 3.97212869e-07, 0.00000000e+00, ...,\n",
       "        3.49901632e-02, 0.00000000e+00, 1.06844184e-02],\n",
       "       [0.00000000e+00, 1.03124961e-01, 0.00000000e+00, ...,\n",
       "        2.27706511e-02, 0.00000000e+00, 0.00000000e+00],\n",
       "       [0.00000000e+00, 2.62684485e-02, 0.00000000e+00, ...,\n",
       "        8.70571863e-03, 0.00000000e+00, 3.98756538e-02],\n",
       "       ...,\n",
       "       [1.61628268e-02, 1.74134483e-07, 0.00000000e+00, ...,\n",
       "        1.85050949e-02, 0.00000000e+00, 8.47494443e-03],\n",
       "       [2.93318565e-02, 2.78107774e-06, 0.00000000e+00, ...,\n",
       "        0.00000000e+00, 0.00000000e+00, 2.30701228e-02],\n",
       "       [0.00000000e+00, 0.00000000e+00, 0.00000000e+00, ...,\n",
       "        8.88185003e-02, 3.61754918e-02, 0.00000000e+00]])"
      ]
     },
     "metadata": {},
     "execution_count": 20
    }
   ],
   "source": [
    "nmf_Z"
   ]
  },
  {
   "cell_type": "markdown",
   "metadata": {},
   "source": [
    "## LDA w/ Sklearn"
   ]
  },
  {
   "cell_type": "markdown",
   "metadata": {},
   "source": [
    "* instantiate a CountVectorizer with following parameters:\n",
    "\n",
    "\n",
    "    * max_df = 0.95\n",
    "    * min_df = 2\n",
    "    * max_features = no_features\n",
    "    * stop_words = 'english'"
   ]
  },
  {
   "cell_type": "code",
   "execution_count": 22,
   "metadata": {
    "ExecuteTime": {
     "end_time": "2020-04-29T12:18:25.547906Z",
     "start_time": "2020-04-29T12:18:25.540452Z"
    }
   },
   "outputs": [],
   "source": [
    "count_vect = CountVectorizer(max_df=0.95, min_df=2, max_features=no_features, stop_words='english')"
   ]
  },
  {
   "cell_type": "markdown",
   "metadata": {},
   "source": [
    "* use fit_transform method of CountVectorizer to transform documents"
   ]
  },
  {
   "cell_type": "code",
   "execution_count": 23,
   "metadata": {
    "ExecuteTime": {
     "end_time": "2020-04-29T12:18:29.307223Z",
     "start_time": "2020-04-29T12:18:26.637153Z"
    }
   },
   "outputs": [],
   "source": [
    "data_vectorized = count_vect.fit_transform(data)"
   ]
  },
  {
   "cell_type": "markdown",
   "metadata": {},
   "source": [
    "* get the features names from TfidfVectorizer"
   ]
  },
  {
   "cell_type": "code",
   "execution_count": 24,
   "metadata": {
    "ExecuteTime": {
     "end_time": "2020-04-29T12:18:31.516381Z",
     "start_time": "2020-04-29T12:18:31.498740Z"
    }
   },
   "outputs": [
    {
     "output_type": "execute_result",
     "data": {
      "text/plain": [
       "['000',\n",
       " 'af',\n",
       " 'american',\n",
       " 'asked',\n",
       " 'away',\n",
       " 'better',\n",
       " 'business',\n",
       " 'called',\n",
       " 'came',\n",
       " 'children',\n",
       " 'city',\n",
       " 'come',\n",
       " 'course',\n",
       " 'day',\n",
       " 'days',\n",
       " 'did',\n",
       " 'didn',\n",
       " 'does',\n",
       " 'don',\n",
       " 'end',\n",
       " 'eyes',\n",
       " 'face',\n",
       " 'fact',\n",
       " 'far',\n",
       " 'form',\n",
       " 'general',\n",
       " 'given',\n",
       " 'going',\n",
       " 'good',\n",
       " 'got',\n",
       " 'government',\n",
       " 'great',\n",
       " 'group',\n",
       " 'half',\n",
       " 'hand',\n",
       " 'head',\n",
       " 'high',\n",
       " 'home',\n",
       " 'house',\n",
       " 'john',\n",
       " 'just',\n",
       " 'knew',\n",
       " 'know',\n",
       " 'large',\n",
       " 'later',\n",
       " 'left',\n",
       " 'let',\n",
       " 'life',\n",
       " 'like',\n",
       " 'little',\n",
       " 'll',\n",
       " 'long',\n",
       " 'look',\n",
       " 'make',\n",
       " 'man',\n",
       " 'men',\n",
       " 'mr',\n",
       " 'mrs',\n",
       " 'national',\n",
       " 'new',\n",
       " 'night',\n",
       " 'number',\n",
       " 'old',\n",
       " 'order',\n",
       " 'people',\n",
       " 'place',\n",
       " 'point',\n",
       " 'present',\n",
       " 'president',\n",
       " 'program',\n",
       " 'public',\n",
       " 'right',\n",
       " 'room',\n",
       " 'said',\n",
       " 'say',\n",
       " 'school',\n",
       " 'second',\n",
       " 'set',\n",
       " 'small',\n",
       " 'social',\n",
       " 'state',\n",
       " 'states',\n",
       " 'think',\n",
       " 'thought',\n",
       " 'time',\n",
       " 'told',\n",
       " 'took',\n",
       " 'united',\n",
       " 'use',\n",
       " 'used',\n",
       " 'war',\n",
       " 'water',\n",
       " 'way',\n",
       " 'went',\n",
       " 'white',\n",
       " 'work',\n",
       " 'world',\n",
       " 'year',\n",
       " 'years',\n",
       " 'young']"
      ]
     },
     "metadata": {},
     "execution_count": 24
    }
   ],
   "source": [
    "count_vect.get_feature_names()"
   ]
  },
  {
   "cell_type": "markdown",
   "metadata": {},
   "source": [
    "* instantiate LatentDirichletAllocation and fit transformed data "
   ]
  },
  {
   "cell_type": "code",
   "execution_count": 26,
   "metadata": {
    "ExecuteTime": {
     "end_time": "2020-04-29T12:19:03.315322Z",
     "start_time": "2020-04-29T12:18:32.768365Z"
    }
   },
   "outputs": [],
   "source": [
    "lsi_model = TruncatedSVD(n_components=10)\n",
    "lsi_Z = lsi_model.fit_transform(data_vectorized)"
   ]
  },
  {
   "cell_type": "code",
   "execution_count": null,
   "metadata": {},
   "outputs": [],
   "source": []
  },
  {
   "cell_type": "markdown",
   "metadata": {},
   "source": [
    "* create a function `display_topics` that is able to display the top words in a topic for different models"
   ]
  },
  {
   "cell_type": "code",
   "execution_count": 27,
   "metadata": {
    "ExecuteTime": {
     "end_time": "2020-04-29T12:19:04.476192Z",
     "start_time": "2020-04-29T12:19:04.469045Z"
    }
   },
   "outputs": [],
   "source": [
    "\n",
    "def print_topics(model, vectorizer, top_n=10):\n",
    "    for idx, topic in enumerate(model.components_):\n",
    "        print(\"Topic %d:\" % (idx))\n",
    "        print([(vectorizer.get_feature_names()[i], topic[i])\n",
    "                        for i in topic.argsort()[:-top_n - 1:-1]])\n",
    " "
   ]
  },
  {
   "cell_type": "code",
   "execution_count": 28,
   "metadata": {},
   "outputs": [
    {
     "output_type": "stream",
     "name": "stdout",
     "text": [
      "Topic 0:\n[('said', 0.3692391634567834), ('time', 0.2397710480393271), ('new', 0.22421821776565362), ('like', 0.21414103558839429), ('man', 0.20979180327698285), ('af', 0.16734595948876485), ('did', 0.16112111937015908), ('mr', 0.14552097303578335), ('just', 0.14001793392085932), ('years', 0.13403180471426757)]\nTopic 1:\n[('af', 0.972320440304515), ('form', 0.055875141435542126), ('point', 0.051344425089258496), ('number', 0.04469496764026157), ('used', 0.033388669175006165), ('order', 0.03127891993951869), ('let', 0.027838807715546622), ('general', 0.02564973731376213), ('state', 0.025324135276413084), ('second', 0.017302794035884795)]\nTopic 2:\n[('state', 0.4531420740692523), ('new', 0.30527974023965826), ('states', 0.2746613016449504), ('year', 0.20706654220740833), ('united', 0.1905624276424762), ('government', 0.16172136561070521), ('program', 0.13264913388717584), ('years', 0.12479587513383822), ('world', 0.11851255873907648), ('000', 0.11612989392645844)]\nTopic 3:\n[('mrs', 0.8364029088607804), ('mr', 0.35111242958629374), ('said', 0.15349563011381273), ('home', 0.0764909195366956), ('president', 0.07074065814255578), ('house', 0.06768199176946203), ('year', 0.062011194755565144), ('state', 0.0601427579865535), ('john', 0.05824962635084212), ('white', 0.034506736947974126)]\nTopic 4:\n[('state', 0.6047766269719291), ('said', 0.5182563051404347), ('states', 0.15611566963449253), ('year', 0.08229728835814822), ('ll', 0.07591869199047481), ('000', 0.0674447558965796), ('government', 0.06414344497788901), ('united', 0.051660047571965934), ('didn', 0.04812651433510986), ('don', 0.04805478548954662)]\nTopic 5:\n[('state', 0.49812270641710854), ('man', 0.354348349781405), ('mrs', 0.21207625263779945), ('like', 0.15589726173784252), ('men', 0.13667740534975295), ('did', 0.10595500757750206), ('john', 0.08637140803096982), ('life', 0.08403329513315545), ('eyes', 0.061106061117963316), ('know', 0.05944685845855307)]\nTopic 6:\n[('school', 0.5291364919823924), ('children', 0.24149697460042815), ('time', 0.21249403769546335), ('state', 0.19674896117488178), ('high', 0.16957231630953626), ('used', 0.1420168536735507), ('work', 0.13113770574349035), ('like', 0.1229389965254287), ('use', 0.12173804988202692), ('mrs', 0.11152100313142112)]\nTopic 7:\n[('states', 0.5207020625738219), ('united', 0.5050723210160898), ('government', 0.32297343409074725), ('mrs', 0.15923653523237713), ('time', 0.10442566114343982), ('right', 0.08520192229824412), ('used', 0.08077831715883352), ('general', 0.07460916732428921), ('like', 0.061228769454265), ('make', 0.044555549676434006)]\nTopic 8:\n[('school', 0.4250681218209692), ('man', 0.2425883723533877), ('mr', 0.2403841236688649), ('social', 0.2022020107859836), ('people', 0.20122300382573377), ('children', 0.18017494431568215), ('world', 0.16155213751632885), ('said', 0.1325046536678429), ('american', 0.12211263460550205), ('group', 0.11328961928753097)]\nTopic 9:\n[('mr', 0.7952587277242775), ('time', 0.18677837458612967), ('good', 0.1054444443225327), ('american', 0.07808431017978566), ('little', 0.07688998462475022), ('state', 0.07084538505302461), ('make', 0.06296277127552408), ('business', 0.05841703218400368), ('don', 0.05019619984753673), ('like', 0.047615027620411275)]\n"
     ]
    }
   ],
   "source": [
    "print_topics(lsi_model, count_vect)"
   ]
  },
  {
   "cell_type": "markdown",
   "metadata": {},
   "source": [
    "* display top 10 words from each topic from NMF model"
   ]
  },
  {
   "cell_type": "code",
   "execution_count": 29,
   "metadata": {
    "ExecuteTime": {
     "end_time": "2020-04-29T12:19:05.672461Z",
     "start_time": "2020-04-29T12:19:05.656545Z"
    },
    "tags": [
     "outputPrepend"
    ]
   },
   "outputs": [
    {
     "output_type": "stream",
     "name": "stdout",
     "text": [
      ", ('good', 0.0), ('got', 0.0), ('government', 0.0)]\nTopic 20:\n[('house', 4.374534224768016), ('come', 1.5443589374104446e-05), ('face', 2.500553133447294e-06), ('year', 1.9586942427613948e-10), ('school', 1.560602591867271e-12), ('head', 0.0), ('going', 0.0), ('good', 0.0), ('got', 0.0), ('government', 0.0)]\nTopic 21:\n[('city', 3.315418817693784), ('home', 0.00010090732880566193), ('night', 7.619446502312185e-07), ('world', 2.2036341369946655e-08), ('old', 3.601067763737721e-16), ('young', 0.0), ('head', 0.0), ('going', 0.0), ('good', 0.0), ('got', 0.0)]\nTopic 22:\n[('american', 3.689096824620324), ('point', 0.09075373705377267), ('states', 0.003870624993479135), ('years', 1.96911209271172e-05), ('world', 1.307172581272092e-07), ('men', 2.2620312870806886e-08), ('group', 1.2106335823845674e-10), ('john', 3.662718240408694e-11), ('half', 1.3896186070033515e-11), ('young', 0.0)]\nTopic 23:\n[('public', 2.9657294565354824), ('home', 1.4669385036012732e-05), ('come', 6.412678464917038e-07), ('national', 2.902539142591293e-07), ('form', 2.7808180179693644e-08), ('men', 3.0127410368132695e-09), ('world', 2.7279350365083476e-09), ('fact', 9.325754219514457e-16), ('knew', 0.0), ('just', 0.0)]\nTopic 24:\n[('man', 12.136125002218163), ('old', 9.666204605974308e-16), ('young', 0.0), ('high', 0.0), ('going', 0.0), ('good', 0.0), ('got', 0.0), ('government', 0.0), ('great', 0.0), ('group', 0.0)]\nTopic 25:\n[('time', 3.0520432611886195), ('half', 3.1918675383491805e-10), ('small', 2.3193923188836401e-10), ('group', 1.1370314952145419e-10), ('john', 1.8985431514134743e-11), ('young', 0.0), ('hand', 0.0), ('given', 0.0), ('going', 0.0), ('good', 0.0)]\nTopic 26:\n[('men', 2.5655064507303016), ('united', 8.769711463416571e-05), ('high', 1.3526650166558674e-12), ('young', 0.0), ('given', 0.0), ('going', 0.0), ('good', 0.0), ('got', 0.0), ('government', 0.0), ('great', 0.0)]\nTopic 27:\n[('hand', 3.965231980763119), ('fact', 2.5949468668385222e-15), ('young', 0.0), ('high', 0.0), ('going', 0.0), ('good', 0.0), ('got', 0.0), ('government', 0.0), ('great', 0.0), ('group', 0.0)]\nTopic 28:\n[('does', 3.443485334548058), ('point', 0.4661952841715328), ('young', 0.0), ('head', 0.0), ('going', 0.0), ('good', 0.0), ('got', 0.0), ('government', 0.0), ('great', 0.0), ('group', 0.0)]\nTopic 29:\n[('long', 3.0670841890294382), ('national', 7.013989945279322e-06), ('work', 4.215329283761033e-09), ('old', 3.9968523149062596e-16), ('young', 0.0), ('head', 0.0), ('going', 0.0), ('good', 0.0), ('got', 0.0), ('government', 0.0)]\nTopic 30:\n[('people', 4.740701527240256), ('point', 0.045563584126024535), ('think', 1.0266979980774097e-06), ('old', 3.9687944594223796e-17), ('young', 0.0), ('general', 0.0), ('going', 0.0), ('good', 0.0), ('got', 0.0), ('government', 0.0)]\nTopic 31:\n[('number', 3.193572538454478), ('point', 0.12375090990777547), ('men', 2.90707603050284e-09), ('work', 1.6785314501922877e-09), ('given', 3.80153323896327e-15), ('fact', 1.4446759476730169e-15), ('going', 0.0), ('good', 0.0), ('got', 0.0), ('government', 0.0)]\nTopic 32:\n[('did', 6.367364139687491), ('young', 0.0), ('high', 0.0), ('going', 0.0), ('good', 0.0), ('got', 0.0), ('government', 0.0), ('great', 0.0), ('group', 0.0), ('half', 0.0)]\nTopic 33:\n[('old', 4.259892176391119), ('young', 0.0), ('given', 0.0), ('going', 0.0), ('good', 0.0), ('got', 0.0), ('government', 0.0), ('great', 0.0), ('group', 0.0), ('half', 0.0)]\nTopic 34:\n[('business', 2.5543913918404546), ('good', 2.1423614558628597e-05), ('come', 2.932839116979419e-07), ('room', 2.710057764602349e-08), ('took', 6.132883219338059e-09), ('high', 0.0), ('given', 0.0), ('going', 0.0), ('got', 0.0), ('government', 0.0)]\nTopic 35:\n[('room', 3.5189027668309003), ('didn', 0.0011392012757425682), ('asked', 0.0004926877957878023), ('told', 5.22615835782307e-05), ('face', 9.936700668157493e-06), ('going', 4.923392136740579e-06), ('night', 1.2622287455130808e-06), ('day', 2.1200797490911703e-07), ('water', 5.908994166655452e-09), ('ll', 3.4914970426310285e-09)]\nTopic 36:\n[('say', 3.242258679807213), ('point', 0.516822973822019), ('took', 3.107907436088106e-08), ('day', 1.4322758052490841e-08), ('head', 1.400621836118636e-08), ('ll', 3.361525996798764e-09), ('school', 3.0359206714016224e-13), ('old', 1.0367661138543119e-15), ('young', 0.0), ('half', 0.0)]\nTopic 37:\n[('children', 3.2835046937940864), ('place', 0.0020803245375784858), ('people', 0.0010328554835713451), ('going', 6.195802317789077e-07), ('think', 4.6061251195264593e-07), ('form', 1.6221654176813774e-08), ('day', 4.538722833301059e-09), ('good', 0.0), ('got', 0.0), ('government', 0.0)]\nTopic 38:\n[('day', 3.2710660849052955), ('national', 8.608568785107895e-07), ('mrs', 1.1858768788711884e-16), ('young', 0.0), ('going', 0.0), ('good', 0.0), ('got', 0.0), ('government', 0.0), ('great', 0.0), ('group', 0.0)]\nTopic 39:\n[('years', 2.3195073485153506), ('young', 0.0), ('high', 0.0), ('given', 0.0), ('going', 0.0), ('good', 0.0), ('got', 0.0), ('government', 0.0), ('great', 0.0), ('group', 0.0)]\nTopic 40:\n[('thought', 2.5517584000968196), ('course', 0.000543405698983715), ('form', 0.0), ('given', 0.0), ('going', 0.0), ('good', 0.0), ('got', 0.0), ('government', 0.0), ('great', 0.0), ('group', 0.0)]\nTopic 41:\n[('young', 3.5262006389510248), ('states', 0.0001620214262562467), ('night', 8.068355995238581e-07), ('men', 5.920485062149931e-08), ('life', 7.153267440762966e-10), ('world', 5.557497614375053e-10), ('school', 7.532600443273777e-12), ('old', 3.051259554470338e-17), ('asked', 0.0), ('given', 0.0)]\nTopic 42:\n[('like', 3.9969689851787957), ('ll', 8.777517368894938e-09), ('house', 1.617373066743232e-11), ('head', 0.0), ('given', 0.0), ('going', 0.0), ('good', 0.0), ('got', 0.0), ('government', 0.0), ('great', 0.0)]\nTopic 43:\n[('national', 3.3855783204593966), ('new', 0.03930230467670264), ('ll', 2.8504359351746994e-09), ('public', 3.248896095740338e-10), ('year', 7.409573883487137e-11), ('business', 2.8276987890433816e-11), ('fact', 1.6227537285602913e-15), ('later', 0.0), ('hand', 0.0), ('going', 0.0)]\nTopic 44:\n[('general', 3.2691407782345525), ('public', 5.695896828801245e-10), ('fact', 1.9877014024893654e-15), ('young', 0.0), ('head', 0.0), ('going', 0.0), ('good', 0.0), ('got', 0.0), ('government', 0.0), ('great', 0.0)]\nTopic 45:\n[('ll', 3.972650079460166), ('don', 0.0009967743682535684), ('away', 0.00024398853830509987), ('new', 0.00010638013161390918), ('come', 2.0852915583728455e-05), ('good', 1.1356696101886391e-05), ('let', 4.534833243927966e-07), ('half', 2.760587394898674e-10), ('john', 2.4445269446165848e-11), ('small', 2.252711328183814e-11)]\nTopic 46:\n[('small', 4.017342296539215), ('days', 2.7891998414900567e-05), ('young', 0.0), ('form', 0.0), ('given', 0.0), ('going', 0.0), ('good', 0.0), ('got', 0.0), ('government', 0.0), ('great', 0.0)]\nTopic 47:\n[('present', 2.935385429685034), ('point', 0.006386700959995382), ('away', 8.024112907299925e-06), ('used', 5.240017926728929e-08), ('fact', 1.6795730366591284e-15), ('young', 0.0), ('hand', 0.0), ('going', 0.0), ('good', 0.0), ('got', 0.0)]\nTopic 48:\n[('little', 2.73095376948909), ('old', 9.905650722724493e-17), ('given', 0.0), ('going', 0.0), ('good', 0.0), ('got', 0.0), ('government', 0.0), ('great', 0.0), ('group', 0.0), ('half', 0.0)]\nTopic 49:\n[('use', 2.470273608951386), ('point', 0.054717378609909495), ('young', 0.0), ('head', 0.0), ('given', 0.0), ('going', 0.0), ('good', 0.0), ('got', 0.0), ('government', 0.0), ('great', 0.0)]\nTopic 50:\n[('form', 2.0739641152359156), ('new', 8.422017124238235e-05), ('good', 3.7486070997117538e-06), ('face', 1.157398835486884e-06), ('thought', 3.9644193126389266e-08), ('used', 2.513879073250097e-08), ('going', 1.1349139248185043e-08), ('life', 4.2435792559248565e-11), ('school', 1.9815287293014368e-13), ('given', 0.0)]\nTopic 51:\n[('government', 2.6501994331225327), ('point', 0.04301282143811212), ('united', 0.009218262039132629), ('000', 4.6542431814831096e-07), ('general', 2.1869191383265008e-11), ('large', 0.0), ('half', 0.0), ('given', 0.0), ('going', 0.0), ('good', 0.0)]\nTopic 52:\n[('great', 2.3764239240527694), ('point', 0.13714879645277414), ('new', 4.1041213955402056e-05), ('young', 0.0), ('high', 0.0), ('going', 0.0), ('good', 0.0), ('got', 0.0), ('government', 0.0), ('group', 0.0)]\nTopic 53:\n[('group', 3.3041918685196183), ('days', 2.4049956162367557e-05), ('going', 1.912863845180736e-06), ('think', 4.4631490268529023e-07), ('work', 3.2892696828951247e-09), ('given', 2.9304311294378944e-16), ('young', 0.0), ('head', 0.0), ('good', 0.0), ('got', 0.0)]\nTopic 54:\n[('home', 2.8435660347836005), ('later', 0.01825327430838379), ('people', 0.0018600113078476883), ('don', 1.7599187844430726e-06), ('young', 0.0), ('hand', 0.0), ('going', 0.0), ('good', 0.0), ('got', 0.0), ('government', 0.0)]\nTopic 55:\n[('water', 2.1703911051708573), ('make', 0.000590160748804966), ('face', 4.019744202763192e-06), ('days', 3.4857437655382956e-06), ('school', 3.720788432975543e-15), ('young', 0.0), ('hand', 0.0), ('going', 0.0), ('good', 0.0), ('got', 0.0)]\nTopic 56:\n[('night', 2.025250420728325), ('united', 0.0020735911349544513), ('come', 3.001949727919929e-06), ('days', 2.009136825993078e-06), ('work', 1.3139342297670335e-09), ('called', 8.898310188151424e-11), ('going', 0.0), ('good', 0.0), ('got', 0.0), ('government', 0.0)]\nTopic 57:\n[('work', 1.8275834271246478), ('young', 0.0), ('high', 0.0), ('given', 0.0), ('going', 0.0), ('good', 0.0), ('got', 0.0), ('government', 0.0), ('great', 0.0), ('group', 0.0)]\nTopic 58:\n[('just', 2.2955104188084903), ('good', 6.2042356695498865e-06), ('night', 3.006082200882334e-07), ('young', 0.0), ('head', 0.0), ('given', 0.0), ('going', 0.0), ('got', 0.0), ('government', 0.0), ('great', 0.0)]\nTopic 59:\n[('better', 1.8846352405313531), ('good', 1.8793424704436236e-05), ('come', 2.106870951001879e-06), ('form', 3.0998939268025855e-09), ('high', 1.0092255684693594e-11), ('home', 0.0), ('going', 0.0), ('got', 0.0), ('government', 0.0), ('great', 0.0)]\nTopic 60:\n[('let', 2.185024600850023), ('don', 2.6680489119884157e-05), ('young', 0.0), ('high', 0.0), ('going', 0.0), ('good', 0.0), ('got', 0.0), ('government', 0.0), ('great', 0.0), ('group', 0.0)]\nTopic 61:\n[('eyes', 2.8018039738861322), ('place', 0.028993000281691945), ('say', 0.02638641595780434), ('later', 0.026291387827423508), ('use', 0.0020742807879941443), ('second', 0.0012970252966232772), ('people', 0.0011510560269753862), ('course', 0.0007114918052839356), ('away', 5.3553719575366205e-05), ('head', 3.6673142261855444e-08)]\nTopic 62:\n[('knew', 3.266396083744877), ('away', 0.00013760650901922), ('days', 2.326110147400039e-05), ('young', 0.0), ('high', 0.0), ('going', 0.0), ('good', 0.0), ('got', 0.0), ('government', 0.0), ('great', 0.0)]\nTopic 63:\n[('high', 2.5206315816369163), ('used', 4.962906691498111e-08), ('fact', 3.3917023981850415e-15), ('head', 0.0), ('given', 0.0), ('going', 0.0), ('good', 0.0), ('got', 0.0), ('government', 0.0), ('great', 0.0)]\nTopic 64:\n[('good', 3.0547151493567637), ('great', 0.011465441523809473), ('old', 3.433475356472581e-16), ('young', 0.0), ('given', 0.0), ('going', 0.0), ('got', 0.0), ('government', 0.0), ('group', 0.0), ('half', 0.0)]\nTopic 65:\n[('left', 1.896223747943317), ('come', 6.789114932391429e-06), ('home', 0.0), ('going', 0.0), ('good', 0.0), ('got', 0.0), ('government', 0.0), ('great', 0.0), ('group', 0.0), ('half', 0.0)]\nTopic 66:\n[('told', 1.5636984759228938), ('say', 0.006333782207658314), ('don', 6.144190355780896e-05), ('days', 1.7228929412828937e-05), ('come', 1.1869468832026105e-05), ('took', 1.7630772986313153e-08), ('look', 7.593458950318999e-11), ('head', 0.0), ('going', 0.0), ('good', 0.0)]\nTopic 67:\n[('look', 2.2021647721593167), ('way', 5.7062994112602386e-06), ('mrs', 9.197896233139494e-17), ('young', 0.0), ('head', 0.0), ('given', 0.0), ('going', 0.0), ('good', 0.0), ('got', 0.0), ('government', 0.0)]\nTopic 68:\n[('head', 2.4568051249589056), ('didn', 7.118757623534596e-05), ('good', 3.362277849255852e-05), ('make', 1.1069216316847834e-05), ('away', 5.679087222594599e-06), ('way', 7.458487993512045e-07), ('young', 9.942147809767694e-09), ('high', 0.0), ('going', 0.0), ('got', 0.0)]\nTopic 69:\n[('fact', 2.2922004597500654), ('think', 3.828204955686725e-08), ('young', 0.0), ('form', 0.0), ('given', 0.0), ('going', 0.0), ('good', 0.0), ('got', 0.0), ('government', 0.0), ('great', 0.0)]\nTopic 70:\n[('set', 4.602683190892176), ('used', 1.3341536108844073e-08), ('old', 6.173019646672861e-16), ('young', 0.0), ('hand', 0.0), ('given', 0.0), ('going', 0.0), ('good', 0.0), ('got', 0.0), ('government', 0.0)]\nTopic 71:\n[('order', 2.0404352661637004), ('point', 0.1889335320405259), ('united', 8.091532483570928e-05), ('away', 5.69247858021344e-06), ('days', 3.4198540751153524e-06), ('old', 1.4534309282695637e-16), ('young', 0.0), ('hand', 0.0), ('good', 0.0), ('got', 0.0)]\nTopic 72:\n[('used', 2.4467253006013574), ('thought', 2.5369808308761264e-09), ('given', 3.979918823682328e-15), ('young', 0.0), ('head', 0.0), ('going', 0.0), ('good', 0.0), ('got', 0.0), ('government', 0.0), ('great', 0.0)]\nTopic 73:\n[('way', 1.6777099425683704), ('going', 1.5029135841959858e-07), ('think', 2.7637781828608176e-08), ('old', 2.8402090685292e-16), ('young', 0.0), ('hand', 0.0), ('given', 0.0), ('good', 0.0), ('got', 0.0), ('government', 0.0)]\nTopic 74:\n[('don', 2.008974396057037), ('like', 0.0211683776842692), ('took', 7.318289684216995e-09), ('left', 0.0), ('hand', 0.0), ('given', 0.0), ('going', 0.0), ('good', 0.0), ('got', 0.0), ('let', 0.0)]\nTopic 75:\n[('course', 1.9518621994571468), ('point', 0.00868364448330826), ('national', 1.8728540418199758e-05), ('far', 8.477917365232884e-12), ('set', 8.871283430891399e-15), ('old', 5.9708508997688125e-16), ('head', 0.0), ('good', 0.0), ('got', 0.0), ('government', 0.0)]\nTopic 76:\n[('white', 2.017011959185726), ('does', 0.01738047335043261), ('place', 0.01220190648367192), ('great', 0.01121870733949829), ('later', 0.00337835871362699), ('order', 0.0028784462115346823), ('american', 0.001438339647034287), ('large', 0.0012766731525312542), ('people', 0.0011267516115976571), ('number', 0.0011057430065922716)]\nTopic 77:\n[('didn', 3.1499309504460147), ('said', 0.14430397538399203), ('like', 0.0759327828446902), ('say', 0.0707063599814351), ('place', 0.022481562298865606), ('just', 0.015820566246494763), ('right', 0.008981689907298342), ('went', 0.003909827295730341), ('know', 0.0005269488213259989), ('away', 6.367740112931563e-05)]\nTopic 78:\n[('half', 2.1002334858806018), ('days', 2.466426699698956e-05), ('young', 0.0), ('high', 0.0), ('going', 0.0), ('good', 0.0), ('got', 0.0), ('government', 0.0), ('great', 0.0), ('group', 0.0)]\nTopic 79:\n[('second', 1.8327155853923605), ('point', 0.01915750929212379), ('end', 1.2805231465626275e-13), ('fact', 4.106355092760511e-15), ('given', 5.295621719231386e-16), ('hand', 0.0), ('going', 0.0), ('good', 0.0), ('got', 0.0), ('government', 0.0)]\nTopic 80:\n[('went', 1.7299327667155435), ('going', 1.6267216227772572e-06), ('think', 1.055107978648894e-06), ('thought', 2.7107823825357564e-09), ('got', 1.3935174063362318e-09), ('young', 0.0), ('hand', 0.0), ('general', 0.0), ('given', 0.0), ('good', 0.0)]\nTopic 81:\n[('large', 2.4722543583030356), ('point', 0.02972495131055574), ('young', 0.0), ('head', 0.0), ('given', 0.0), ('going', 0.0), ('good', 0.0), ('got', 0.0), ('government', 0.0), ('great', 0.0)]\nTopic 82:\n[('asked', 3.3452188524730473), ('say', 0.069323691010627), ('later', 0.05464760807388587), ('place', 0.047073133844814055), ('great', 0.029811497921653524), ('does', 0.006589644307026351), ('order', 0.006506772859273025), ('people', 0.0022213237539994274), ('said', 0.0017895477801557103), ('course', 0.0010508308368231336)]\nTopic 83:\n[('far', 3.4234606563912804), ('high', 0.0), ('given', 0.0), ('going', 0.0), ('good', 0.0), ('got', 0.0), ('government', 0.0), ('great', 0.0), ('group', 0.0), ('half', 0.0)]\nTopic 84:\n[('think', 2.915329297058745), ('said', 0.0010089533229140281), ('days', 7.20912951115703e-06), ('right', 3.991893781302075e-06), ('night', 8.604918210842755e-07), ('world', 2.0876022432384536e-08), ('came', 8.286786179733038e-10), ('general', 0.0), ('given', 0.0), ('going', 0.0)]\nTopic 85:\n[('states', 2.4645192157048266), ('does', 0.004029737445356607), ('government', 0.00030863288496742067), ('new', 0.0002491127051519254), ('course', 3.9482960861960194e-05), ('state', 4.533373112740605e-08), ('called', 1.0455781965959225e-11), ('business', 8.625430281427521e-12), ('general', 1.1974129798429486e-12), ('just', 0.0)]\nTopic 86:\n[('called', 2.4359505048276318), ('good', 3.2211736168065594e-05), ('thought', 4.736308426427399e-08), ('water', 1.4903576697963503e-08), ('came', 5.901605277967163e-09), ('young', 0.0), ('high', 0.0), ('going', 0.0), ('got', 0.0), ('government', 0.0)]\nTopic 87:\n[('going', 3.703739068524759), ('said', 0.004561987599170267), ('just', 0.0014851745035470484), ('right', 0.0005721406767051026), ('know', 0.00019948549939973793), ('face', 6.674378088356759e-06), ('days', 2.2022593434882544e-06), ('knew', 3.120768067492931e-07), ('little', 4.457516827944021e-09), ('john', 0.0)]\nTopic 88:\n[('end', 2.2853420607554105), ('house', 2.324051385593862e-12), ('set', 2.298230176075602e-15), ('young', 0.0), ('hand', 0.0), ('given', 0.0), ('going', 0.0), ('good', 0.0), ('got', 0.0), ('government', 0.0)]\nTopic 89:\n[('life', 2.651138922674618), ('young', 0.0), ('high', 0.0), ('given', 0.0), ('going', 0.0), ('good', 0.0), ('got', 0.0), ('government', 0.0), ('great', 0.0), ('group', 0.0)]\nTopic 90:\n[('came', 3.1488851115143515), ('away', 1.2357207480746917e-05), ('young', 0.0), ('home', 0.0), ('going', 0.0), ('good', 0.0), ('got', 0.0), ('government', 0.0), ('great', 0.0), ('group', 0.0)]\nTopic 91:\n[('given', 2.1659210062709042), ('young', 0.0), ('high', 0.0), ('going', 0.0), ('good', 0.0), ('got', 0.0), ('government', 0.0), ('great', 0.0), ('group', 0.0), ('half', 0.0)]\nTopic 92:\n[('face', 1.9523194049448909), ('said', 0.004256368484786022), ('like', 0.0007671632933812707), ('knew', 2.06049384503259e-07), ('small', 3.560191425632563e-12), ('hand', 7.067904435697539e-13), ('old', 4.920799119465377e-17), ('american', 0.0), ('head', 0.0), ('going', 0.0)]\nTopic 93:\n[('later', 1.7188917674493887), ('point', 0.4122790926401221), ('good', 9.456947105943541e-06), ('city', 1.582256468155266e-09), ('ll', 7.199276637521783e-10), ('public', 4.1599342637324734e-11), ('look', 1.67440395251467e-11), ('young', 0.0), ('head', 0.0), ('got', 0.0)]\nTopic 94:\n[('right', 2.3081302864894933), ('just', 0.0004394556223714877), ('like', 0.00022846189236905892), ('good', 7.1714336233023155e-06), ('got', 5.116814949551924e-09), ('general', 1.0930481253300699e-13), ('hand', 0.0), ('given', 0.0), ('going', 0.0), ('government', 0.0)]\nTopic 95:\n[('come', 1.8898285699897714), ('like', 0.003416363606623835), ('knew', 8.429079340405001e-09), ('life', 0.0), ('high', 0.0), ('going', 0.0), ('good', 0.0), ('got', 0.0), ('government', 0.0), ('great', 0.0)]\nTopic 96:\n[('place', 2.693700922045145), ('point', 0.26384337844725725), ('time', 0.013672667981192418), ('old', 2.5088338311415526e-16), ('young', 0.0), ('general', 0.0), ('going', 0.0), ('good', 0.0), ('got', 0.0), ('government', 0.0)]\nTopic 97:\n[('make', 2.1082099811801025), ('like', 0.0007371480725651925), ('young', 0.0), ('head', 0.0), ('given', 0.0), ('going', 0.0), ('good', 0.0), ('got', 0.0), ('government', 0.0), ('great', 0.0)]\nTopic 98:\n[('away', 2.2664915867454436), ('time', 0.03806021324079669), ('left', 1.2178704517151744e-06), ('long', 2.0723122702569711e-07), ('knew', 5.182941726723286e-08), ('water', 8.368099026353478e-10), ('school', 2.0914112897611336e-12), ('hand', 2.7836547638394735e-13), ('government', 0.0), ('group', 0.0)]\nTopic 99:\n[('days', 3.22217188431973), ('time', 0.04975962423910618), ('long', 8.70530756255358e-09), ('water', 1.8890917752728595e-09), ('young', 0.0), ('given', 0.0), ('going', 0.0), ('good', 0.0), ('got', 0.0), ('government', 0.0)]\n"
     ]
    }
   ],
   "source": [
    "print_topics(nmf_model, tfidf_vect)"
   ]
  },
  {
   "cell_type": "markdown",
   "metadata": {},
   "source": [
    "* display top 10 words from each topic from LDA model"
   ]
  },
  {
   "cell_type": "code",
   "execution_count": null,
   "metadata": {
    "ExecuteTime": {
     "end_time": "2020-04-29T12:19:06.842806Z",
     "start_time": "2020-04-29T12:19:06.831721Z"
    }
   },
   "outputs": [],
   "source": []
  },
  {
   "cell_type": "code",
   "execution_count": null,
   "metadata": {},
   "outputs": [],
   "source": []
  },
  {
   "cell_type": "markdown",
   "metadata": {},
   "source": [
    "### Stretch: Use LDA w/ Gensim to do the same thing."
   ]
  },
  {
   "cell_type": "code",
   "execution_count": null,
   "metadata": {},
   "outputs": [],
   "source": []
  },
  {
   "cell_type": "code",
   "execution_count": null,
   "metadata": {},
   "outputs": [],
   "source": []
  },
  {
   "cell_type": "code",
   "execution_count": null,
   "metadata": {},
   "outputs": [],
   "source": []
  }
 ],
 "metadata": {
  "kernelspec": {
   "name": "python3",
   "display_name": "Python 3.8.8 64-bit ('base': conda)"
  },
  "language_info": {
   "codemirror_mode": {
    "name": "ipython",
    "version": 3
   },
   "file_extension": ".py",
   "mimetype": "text/x-python",
   "name": "python",
   "nbconvert_exporter": "python",
   "pygments_lexer": "ipython3",
   "version": "3.8.8"
  },
  "toc": {
   "base_numbering": 1,
   "nav_menu": {},
   "number_sections": true,
   "sideBar": true,
   "skip_h1_title": false,
   "title_cell": "Table of Contents",
   "title_sidebar": "Contents",
   "toc_cell": false,
   "toc_position": {},
   "toc_section_display": true,
   "toc_window_display": false
  },
  "varInspector": {
   "cols": {
    "lenName": 16,
    "lenType": 16,
    "lenVar": 40
   },
   "kernels_config": {
    "python": {
     "delete_cmd_postfix": "",
     "delete_cmd_prefix": "del ",
     "library": "var_list.py",
     "varRefreshCmd": "print(var_dic_list())"
    },
    "r": {
     "delete_cmd_postfix": ") ",
     "delete_cmd_prefix": "rm(",
     "library": "var_list.r",
     "varRefreshCmd": "cat(var_dic_list()) "
    }
   },
   "types_to_exclude": [
    "module",
    "function",
    "builtin_function_or_method",
    "instance",
    "_Feature"
   ],
   "window_display": false
  },
  "interpreter": {
   "hash": "b3ba2566441a7c06988d0923437866b63cedc61552a5af99d1f4fb67d367b25f"
  }
 },
 "nbformat": 4,
 "nbformat_minor": 2
}