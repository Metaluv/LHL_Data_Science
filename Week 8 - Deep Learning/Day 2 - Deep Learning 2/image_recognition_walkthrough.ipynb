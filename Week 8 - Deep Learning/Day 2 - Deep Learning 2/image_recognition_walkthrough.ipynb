{
 "cells": [
  {
   "cell_type": "code",
   "execution_count": 1,
   "id": "7136b51b-9dca-42b9-8316-ebf117bffb0e",
   "metadata": {},
   "outputs": [],
   "source": [
    "from tensorflow.keras.models import Sequential\n",
    "from tensorflow.keras.layers import Convolution2D\n",
    "from tensorflow.keras.layers import MaxPooling2D\n",
    "from tensorflow.keras.layers import Flatten\n",
    "from tensorflow.keras.layers import Dense"
   ]
  },
  {
   "cell_type": "code",
   "execution_count": 2,
   "id": "903ba660-c620-46e7-93de-25e389c0df2a",
   "metadata": {},
   "outputs": [
    {
     "name": "stderr",
     "output_type": "stream",
     "text": [
      "2021-12-15 00:53:39.021002: W tensorflow/stream_executor/platform/default/dso_loader.cc:64] Could not load dynamic library 'libcuda.so.1'; dlerror: libcuda.so.1: cannot open shared object file: No such file or directory\n",
      "2021-12-15 00:53:39.021040: W tensorflow/stream_executor/cuda/cuda_driver.cc:269] failed call to cuInit: UNKNOWN ERROR (303)\n",
      "2021-12-15 00:53:39.021093: I tensorflow/stream_executor/cuda/cuda_diagnostics.cc:156] kernel driver does not appear to be running on this host (7a02c8cdf070): /proc/driver/nvidia/version does not exist\n",
      "2021-12-15 00:53:39.021361: I tensorflow/core/platform/cpu_feature_guard.cc:142] This TensorFlow binary is optimized with oneAPI Deep Neural Network Library (oneDNN) to use the following CPU instructions in performance-critical operations:  SSE4.1 SSE4.2 AVX AVX2\n",
      "To enable them in other operations, rebuild TensorFlow with the appropriate compiler flags.\n"
     ]
    }
   ],
   "source": [
    "# Initialising the CNN\n",
    "classifier = Sequential()\n",
    "\n",
    "# Step 1 - Convolution\n",
    "classifier.add(Convolution2D(32, 3, 3, input_shape = (64, 64, 3), activation = 'relu'))\n",
    "\n",
    "# Step 2 - Pooling\n",
    "classifier.add(MaxPooling2D(pool_size = (2, 2)))\n",
    "\n",
    "# Step 3 - Flattening\n",
    "classifier.add(Flatten())\n",
    "\n",
    "# Step 4 - Full connection\n",
    "classifier.add(Dense(128, activation = 'relu'))\n",
    "classifier.add(Dense(1, activation = 'sigmoid'))\n",
    "\n",
    "# Compiling the CNN\n",
    "classifier.compile(optimizer = 'adam', loss = 'binary_crossentropy', metrics = ['accuracy'])"
   ]
  },
  {
   "cell_type": "markdown",
   "id": "466d8544-85f4-4b0e-81f1-5aef23c08521",
   "metadata": {},
   "source": [
    "Apply transform to images to extend our train and test samples"
   ]
  },
  {
   "cell_type": "code",
   "execution_count": 3,
   "id": "cc63a48c-9209-4e90-94c3-0159b1ff1607",
   "metadata": {},
   "outputs": [
    {
     "name": "stdout",
     "output_type": "stream",
     "text": [
      "Found 8000 images belonging to 2 classes.\n",
      "Found 2000 images belonging to 2 classes.\n"
     ]
    }
   ],
   "source": [
    "from tensorflow.keras.preprocessing.image import ImageDataGenerator\n",
    "\n",
    "train_datagen = ImageDataGenerator(rescale = 1./255,\n",
    "                                   shear_range = 0.2,\n",
    "                                   zoom_range = 0.2,\n",
    "                                   horizontal_flip = True)\n",
    "\n",
    "test_datagen = ImageDataGenerator(rescale = 1./255)\n",
    "\n",
    "training_set = train_datagen.flow_from_directory('dataset/training_set',\n",
    "                                                 target_size = (64, 64),\n",
    "                                                 batch_size = 32,\n",
    "                                                 class_mode = 'binary')\n",
    "\n",
    "test_set = test_datagen.flow_from_directory('dataset/test_set',\n",
    "                                            target_size = (64, 64),\n",
    "                                            batch_size = 32,\n",
    "                                            class_mode = 'binary')"
   ]
  },
  {
   "cell_type": "raw",
   "id": "68fa5f9d-0389-4d74-b7f6-25eec9d3412b",
   "metadata": {},
   "source": [
    "Training"
   ]
  },
  {
   "cell_type": "code",
   "execution_count": 16,
   "id": "7cd73460-a14f-41fe-b154-03c322bf9f56",
   "metadata": {},
   "outputs": [
    {
     "name": "stdout",
     "output_type": "stream",
     "text": [
      "Epoch 1/10\n",
      "50/50 [==============================] - 11s 224ms/step - loss: 0.4931 - accuracy: 0.7600 - val_loss: 0.5056 - val_accuracy: 0.7670\n",
      "Epoch 2/10\n",
      "50/50 [==============================] - 11s 229ms/step - loss: 0.4648 - accuracy: 0.7756 - val_loss: 0.5182 - val_accuracy: 0.7675\n",
      "Epoch 3/10\n",
      "50/50 [==============================] - 11s 227ms/step - loss: 0.4723 - accuracy: 0.7688 - val_loss: 0.5547 - val_accuracy: 0.7380\n",
      "Epoch 4/10\n",
      "50/50 [==============================] - 11s 221ms/step - loss: 0.4802 - accuracy: 0.7725 - val_loss: 0.5457 - val_accuracy: 0.7335\n",
      "Epoch 5/10\n",
      "50/50 [==============================] - 11s 221ms/step - loss: 0.4638 - accuracy: 0.7756 - val_loss: 0.5178 - val_accuracy: 0.7525\n",
      "Epoch 6/10\n",
      "50/50 [==============================] - 12s 238ms/step - loss: 0.4909 - accuracy: 0.7650 - val_loss: 0.5178 - val_accuracy: 0.7520\n",
      "Epoch 7/10\n",
      "50/50 [==============================] - 11s 219ms/step - loss: 0.4692 - accuracy: 0.7819 - val_loss: 0.5232 - val_accuracy: 0.7510\n",
      "Epoch 8/10\n",
      "50/50 [==============================] - 11s 223ms/step - loss: 0.4994 - accuracy: 0.7531 - val_loss: 0.5007 - val_accuracy: 0.7595\n",
      "Epoch 9/10\n",
      "50/50 [==============================] - 11s 223ms/step - loss: 0.4803 - accuracy: 0.7719 - val_loss: 0.5354 - val_accuracy: 0.7475\n",
      "Epoch 10/10\n",
      "50/50 [==============================] - 11s 222ms/step - loss: 0.4742 - accuracy: 0.7725 - val_loss: 0.5382 - val_accuracy: 0.7360\n"
     ]
    }
   ],
   "source": [
    "history = classifier.fit(training_set,\n",
    "                                   steps_per_epoch = 50,\n",
    "                                   epochs = 10,\n",
    "                                   validation_data = test_set)"
   ]
  },
  {
   "cell_type": "code",
   "execution_count": 17,
   "id": "b1acb9b3-81cd-45bf-9d89-70f700e7e919",
   "metadata": {},
   "outputs": [
    {
     "data": {
      "image/png": "[encoded data removed]",
      "text/plain": [
       "<Figure size 432x288 with 1 Axes>"
      ]
     },
     "metadata": {
      "needs_background": "light"
     },
     "output_type": "display_data"
    }
   ],
   "source": [
    "from matplotlib import pyplot as plt\n",
    "# plot history\n",
    "plt.plot(history.history['loss'], label='train')\n",
    "plt.plot(history.history['val_loss'], label='test')\n",
    "plt.legend()\n",
    "plt.show()"
   ]
  },
  {
   "cell_type": "markdown",
   "id": "eecd3734-d1e7-43e1-9717-56cb20336dfd",
   "metadata": {},
   "source": [
    "Testing an image\n"
   ]
  },
  {
   "cell_type": "code",
   "execution_count": 25,
   "id": "06507317-aa8a-475a-9b85-76532f82269a",
   "metadata": {},
   "outputs": [
    {
     "name": "stdout",
     "output_type": "stream",
     "text": [
      "1.0\n"
     ]
    }
   ],
   "source": [
    "import numpy as np\n",
    "from tensorflow.keras.preprocessing import image\n",
    "# loading an image from the disk\n",
    "test_image = image.load_img(\"cat2.jpeg\", target_size = (64, 64))\n",
    "# converting the image to a numpy array\n",
    "test_image = image.img_to_array(test_image)\n",
    "test_image = np.expand_dims(test_image, axis = 0)\n",
    "result = classifier.predict(test_image)\n",
    "# print(training_set.class_indices)\n",
    "# our cut-off\n",
    "if result[0][0] >= 0.5:\n",
    "    prediction = 'dog'\n",
    "else:\n",
    "    prediction = 'cat'\n",
    "print(result[0][0])"
   ]
  },
  {
   "cell_type": "code",
   "execution_count": null,
   "id": "dad9a1ef-391f-4f98-acb2-757e0a4a4204",
   "metadata": {},
   "outputs": [],
   "source": []
  },
  {
   "cell_type": "code",
   "execution_count": null,
   "id": "9df4d363-e73b-4807-b002-50ce5e2e6be2",
   "metadata": {},
   "outputs": [],
   "source": []
  }
 ],
 "metadata": {
  "kernelspec": {
   "display_name": "Python 3 (ipykernel)",
   "language": "python",
   "name": "python3"
  },
  "language_info": {
   "codemirror_mode": {
    "name": "ipython",
    "version": 3
   },
   "file_extension": ".py",
   "mimetype": "text/x-python",
   "name": "python",
   "nbconvert_exporter": "python",
   "pygments_lexer": "ipython3",
   "version": "3.9.7"
  }
 },
 "nbformat": 4,
 "nbformat_minor": 5
}
