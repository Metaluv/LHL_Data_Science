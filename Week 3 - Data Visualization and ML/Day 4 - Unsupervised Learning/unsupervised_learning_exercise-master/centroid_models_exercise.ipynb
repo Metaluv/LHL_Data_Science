{
 "cells": [
  {
   "cell_type": "markdown",
   "source": [
    "Dec 10, 2021\n",
    "\n",
    "Jason Cardinal Exercise Notebook Lighthouse Labs - Centroid Models\n",
    "\n",
    "[https://data.compass.lighthouselabs.ca/days/w03d4/activities/477]\n",
    "\n",
    "this notebook contains the code along notes"
   ],
   "metadata": {
    "collapsed": false
   }
  },
  {
   "cell_type": "markdown",
   "metadata": {},
   "source": [
    "## Centroid Models Assignment"
   ]
  },
  {
   "cell_type": "code",
   "execution_count": 1,
   "metadata": {
    "ExecuteTime": {
     "end_time": "2020-04-23T18:49:13.019261Z",
     "start_time": "2020-04-23T18:49:11.598033Z"
    }
   },
   "outputs": [],
   "source": [
    "# import pandas\n",
    "import pandas as pd\n",
    "\n",
    "# import Kmeans \n",
    "from sklearn.cluster import KMeans\n",
    "\n",
    "# import numpy\n",
    "import numpy as np\n",
    "\n",
    "# import matplotlib\n",
    "import matplotlib.pyplot as plt\n",
    "\n",
    "# set figure size\n",
    "plt.rcParams[\"figure.figsize\"] = (12,8)"
   ]
  },
  {
   "cell_type": "code",
   "execution_count": 2,
   "metadata": {
    "ExecuteTime": {
     "end_time": "2020-04-23T18:49:13.389568Z",
     "start_time": "2020-04-23T18:49:13.066942Z"
    }
   },
   "outputs": [],
   "source": [
    "# Load dataframe\n",
    "df = pd.read_csv('https://raw.githubusercontent.com/lucko515/clustering-python/master/Customer%20in%20Mall%20clusterng/Mall_Customers.csv')"
   ]
  },
  {
   "cell_type": "markdown",
   "metadata": {},
   "source": [
    "**Take some time to explore the dataframe above.**"
   ]
  },
  {
   "cell_type": "code",
   "execution_count": 3,
   "metadata": {},
   "outputs": [
    {
     "data": {
      "text/plain": "   CustomerID   Genre  Age  Annual Income (k$)  Spending Score (1-100)\n0           1    Male   19                  15                      39\n1           2    Male   21                  15                      81\n2           3  Female   20                  16                       6\n3           4  Female   23                  16                      77\n4           5  Female   31                  17                      40",
      "text/html": "<div>\n<style scoped>\n    .dataframe tbody tr th:only-of-type {\n        vertical-align: middle;\n    }\n\n    .dataframe tbody tr th {\n        vertical-align: top;\n    }\n\n    .dataframe thead th {\n        text-align: right;\n    }\n</style>\n<table border=\"1\" class=\"dataframe\">\n  <thead>\n    <tr style=\"text-align: right;\">\n      <th></th>\n      <th>CustomerID</th>\n      <th>Genre</th>\n      <th>Age</th>\n      <th>Annual Income (k$)</th>\n      <th>Spending Score (1-100)</th>\n    </tr>\n  </thead>\n  <tbody>\n    <tr>\n      <th>0</th>\n      <td>1</td>\n      <td>Male</td>\n      <td>19</td>\n      <td>15</td>\n      <td>39</td>\n    </tr>\n    <tr>\n      <th>1</th>\n      <td>2</td>\n      <td>Male</td>\n      <td>21</td>\n      <td>15</td>\n      <td>81</td>\n    </tr>\n    <tr>\n      <th>2</th>\n      <td>3</td>\n      <td>Female</td>\n      <td>20</td>\n      <td>16</td>\n      <td>6</td>\n    </tr>\n    <tr>\n      <th>3</th>\n      <td>4</td>\n      <td>Female</td>\n      <td>23</td>\n      <td>16</td>\n      <td>77</td>\n    </tr>\n    <tr>\n      <th>4</th>\n      <td>5</td>\n      <td>Female</td>\n      <td>31</td>\n      <td>17</td>\n      <td>40</td>\n    </tr>\n  </tbody>\n</table>\n</div>"
     },
     "execution_count": 3,
     "metadata": {},
     "output_type": "execute_result"
    }
   ],
   "source": [
    "# Checks the first 5 rows of data\n",
    "df.head()"
   ]
  },
  {
   "cell_type": "code",
   "execution_count": 4,
   "outputs": [
    {
     "data": {
      "text/plain": "       CustomerID         Age  Annual Income (k$)  Spending Score (1-100)\ncount  200.000000  200.000000          200.000000              200.000000\nmean   100.500000   38.850000           60.560000               50.200000\nstd     57.879185   13.969007           26.264721               25.823522\nmin      1.000000   18.000000           15.000000                1.000000\n25%     50.750000   28.750000           41.500000               34.750000\n50%    100.500000   36.000000           61.500000               50.000000\n75%    150.250000   49.000000           78.000000               73.000000\nmax    200.000000   70.000000          137.000000               99.000000",
      "text/html": "<div>\n<style scoped>\n    .dataframe tbody tr th:only-of-type {\n        vertical-align: middle;\n    }\n\n    .dataframe tbody tr th {\n        vertical-align: top;\n    }\n\n    .dataframe thead th {\n        text-align: right;\n    }\n</style>\n<table border=\"1\" class=\"dataframe\">\n  <thead>\n    <tr style=\"text-align: right;\">\n      <th></th>\n      <th>CustomerID</th>\n      <th>Age</th>\n      <th>Annual Income (k$)</th>\n      <th>Spending Score (1-100)</th>\n    </tr>\n  </thead>\n  <tbody>\n    <tr>\n      <th>count</th>\n      <td>200.000000</td>\n      <td>200.000000</td>\n      <td>200.000000</td>\n      <td>200.000000</td>\n    </tr>\n    <tr>\n      <th>mean</th>\n      <td>100.500000</td>\n      <td>38.850000</td>\n      <td>60.560000</td>\n      <td>50.200000</td>\n    </tr>\n    <tr>\n      <th>std</th>\n      <td>57.879185</td>\n      <td>13.969007</td>\n      <td>26.264721</td>\n      <td>25.823522</td>\n    </tr>\n    <tr>\n      <th>min</th>\n      <td>1.000000</td>\n      <td>18.000000</td>\n      <td>15.000000</td>\n      <td>1.000000</td>\n    </tr>\n    <tr>\n      <th>25%</th>\n      <td>50.750000</td>\n      <td>28.750000</td>\n      <td>41.500000</td>\n      <td>34.750000</td>\n    </tr>\n    <tr>\n      <th>50%</th>\n      <td>100.500000</td>\n      <td>36.000000</td>\n      <td>61.500000</td>\n      <td>50.000000</td>\n    </tr>\n    <tr>\n      <th>75%</th>\n      <td>150.250000</td>\n      <td>49.000000</td>\n      <td>78.000000</td>\n      <td>73.000000</td>\n    </tr>\n    <tr>\n      <th>max</th>\n      <td>200.000000</td>\n      <td>70.000000</td>\n      <td>137.000000</td>\n      <td>99.000000</td>\n    </tr>\n  </tbody>\n</table>\n</div>"
     },
     "execution_count": 4,
     "metadata": {},
     "output_type": "execute_result"
    }
   ],
   "source": [
    "# Checks the count, mean, std, min, quantiles.\n",
    "df.describe()"
   ],
   "metadata": {
    "collapsed": false,
    "pycharm": {
     "name": "#%%\n"
    }
   }
  },
  {
   "cell_type": "code",
   "execution_count": 5,
   "outputs": [
    {
     "data": {
      "text/plain": "CustomerID                 int64\nGenre                     object\nAge                        int64\nAnnual Income (k$)         int64\nSpending Score (1-100)     int64\ndtype: object"
     },
     "execution_count": 5,
     "metadata": {},
     "output_type": "execute_result"
    }
   ],
   "source": [
    "# Checks the dtypes of the columns.\n",
    "df.dtypes"
   ],
   "metadata": {
    "collapsed": false,
    "pycharm": {
     "name": "#%%\n"
    }
   }
  },
  {
   "cell_type": "code",
   "execution_count": 6,
   "outputs": [
    {
     "data": {
      "text/plain": "CustomerID                0\nGenre                     0\nAge                       0\nAnnual Income (k$)        0\nSpending Score (1-100)    0\ndtype: int64"
     },
     "execution_count": 6,
     "metadata": {},
     "output_type": "execute_result"
    }
   ],
   "source": [
    "# Checks for null values and returns the sum for each column in the DataFrame.\n",
    "df.isnull().sum()"
   ],
   "metadata": {
    "collapsed": false,
    "pycharm": {
     "name": "#%%\n"
    }
   }
  },
  {
   "cell_type": "markdown",
   "source": [],
   "metadata": {
    "collapsed": false
   }
  },
  {
   "cell_type": "markdown",
   "metadata": {
    "ExecuteTime": {
     "end_time": "2020-02-19T08:33:55.508169Z",
     "start_time": "2020-02-19T08:33:55.504670Z"
    }
   },
   "source": [
    "----------------------\n",
    "## Objective: \n",
    "#### 1. Fit K-Means, \n",
    "#### 2. Find the optimal number of clusters using the elbow rule and plot the clusters.\n",
    "\n",
    "\n",
    "It may be difficult to visualize clusters on dataframes with many features. To simplify the task, we can plot the clusters in 2-D, by creating a clustering model on the last two columns of the dataset. \n",
    "\n",
    "> **Note:** There are ways to lower the dimension of your data so it can plotted in two dimensions and we will get to those in the beginning of next week.\n",
    "\n",
    "We shouldn't forget to scale the data using some technique from sklearn, even though it's **not a must** in the case because we take only the last two columns, and they have already have similar scale.\n"
   ]
  },
  {
   "cell_type": "code",
   "execution_count": 7,
   "metadata": {},
   "outputs": [
    {
     "data": {
      "text/plain": "   Annual Income (k$)  Spending Score (1-100)\n0                  15                      39\n1                  15                      81\n2                  16                       6\n3                  16                      77\n4                  17                      40",
      "text/html": "<div>\n<style scoped>\n    .dataframe tbody tr th:only-of-type {\n        vertical-align: middle;\n    }\n\n    .dataframe tbody tr th {\n        vertical-align: top;\n    }\n\n    .dataframe thead th {\n        text-align: right;\n    }\n</style>\n<table border=\"1\" class=\"dataframe\">\n  <thead>\n    <tr style=\"text-align: right;\">\n      <th></th>\n      <th>Annual Income (k$)</th>\n      <th>Spending Score (1-100)</th>\n    </tr>\n  </thead>\n  <tbody>\n    <tr>\n      <th>0</th>\n      <td>15</td>\n      <td>39</td>\n    </tr>\n    <tr>\n      <th>1</th>\n      <td>15</td>\n      <td>81</td>\n    </tr>\n    <tr>\n      <th>2</th>\n      <td>16</td>\n      <td>6</td>\n    </tr>\n    <tr>\n      <th>3</th>\n      <td>16</td>\n      <td>77</td>\n    </tr>\n    <tr>\n      <th>4</th>\n      <td>17</td>\n      <td>40</td>\n    </tr>\n  </tbody>\n</table>\n</div>"
     },
     "execution_count": 7,
     "metadata": {},
     "output_type": "execute_result"
    }
   ],
   "source": [
    "last_two = df.iloc[:,-2:]\n",
    "last_two.head()"
   ]
  },
  {
   "cell_type": "markdown",
   "metadata": {},
   "source": [
    "- elbow rule"
   ]
  },
  {
   "cell_type": "code",
   "execution_count": 8,
   "metadata": {
    "ExecuteTime": {
     "end_time": "2020-04-23T18:49:14.289468Z",
     "start_time": "2020-04-23T18:49:13.646392Z"
    }
   },
   "outputs": [],
   "source": [
    "def plot_distortion(X, max_clusters=10):\n",
    "    distortions = []\n",
    "    for i in range(1, max_clusters +1):\n",
    "        km = KMeans(n_clusters = i,\n",
    "                    init = 'k-means++',\n",
    "                    n_init=10,\n",
    "                    random_state=0)\n",
    "        km.fit(X)\n",
    "        distortions.append(km.inertia_)\n",
    "\n",
    "    plt.plot(range(1, max_clusters +1), distortions)\n",
    "    plt.show()"
   ]
  },
  {
   "cell_type": "code",
   "execution_count": 9,
   "metadata": {},
   "outputs": [
    {
     "name": "stderr",
     "output_type": "stream",
     "text": [
      "C:\\Users\\jason\\anaconda3\\lib\\site-packages\\sklearn\\cluster\\_kmeans.py:881: UserWarning: KMeans is known to have a memory leak on Windows with MKL, when there are less chunks than available threads. You can avoid it by setting the environment variable OMP_NUM_THREADS=1.\n",
      "  warnings.warn(\n"
     ]
    },
    {
     "data": {
      "text/plain": "<Figure size 864x576 with 1 Axes>",
      "image/png": "[encoded data removed]"
     },
     "metadata": {
      "needs_background": "light"
     },
     "output_type": "display_data"
    }
   ],
   "source": [
    "plot_distortion(last_two, max_clusters =10)"
   ]
  },
  {
   "cell_type": "markdown",
   "metadata": {},
   "source": [
    "* fit model with optimal number of clusters"
   ]
  },
  {
   "cell_type": "code",
   "execution_count": 10,
   "metadata": {
    "ExecuteTime": {
     "end_time": "2020-04-23T18:49:14.458083Z",
     "start_time": "2020-04-23T18:49:14.407738Z"
    }
   },
   "outputs": [],
   "source": [
    "km = KMeans(n_clusters = 5,\n",
    "            init = 'k-means++',\n",
    "            n_init=10,\n",
    "            random_state=0)\n",
    "y_km = km.fit_predict(last_two)"
   ]
  },
  {
   "cell_type": "markdown",
   "metadata": {},
   "source": [
    "* define function plot_clusters"
   ]
  },
  {
   "cell_type": "code",
   "execution_count": 11,
   "metadata": {
    "ExecuteTime": {
     "end_time": "2020-04-23T18:49:14.521508Z",
     "start_time": "2020-04-23T18:49:14.512112Z"
    }
   },
   "outputs": [],
   "source": [
    "def plot_clusters(X, y_km, plot_cluster_centers = False):\n",
    "    X_centroids = []\n",
    "    Y_centroids = []\n",
    "\n",
    "    for cluster in set(y_km):\n",
    "        x = X[y_km == cluster].iloc[:,0]\n",
    "        y = X[y_km == cluster].iloc[:,1]\n",
    "\n",
    "        X_centroids.append(np.mean(x))\n",
    "        Y_centroids.append(np.mean(y))\n",
    "\n",
    "        plt.scatter(x,\n",
    "                    y,\n",
    "                    label = f'cluster {cluster}')\n",
    "\n",
    "    if plot_cluster_centers:\n",
    "        plt.scatter(X_centroids,\n",
    "                    Y_centroids,\n",
    "                    marker=\"*\",\n",
    "                    s=250,\n",
    "                    color='red',\n",
    "                    label = 'centers')\n",
    "\n",
    "    plt.xlabel('income')\n",
    "    plt.ylabel('spending score')\n",
    "    plt.show()"
   ]
  },
  {
   "cell_type": "markdown",
   "metadata": {},
   "source": [
    "* plot clusters"
   ]
  },
  {
   "cell_type": "code",
   "execution_count": 12,
   "metadata": {
    "ExecuteTime": {
     "end_time": "2020-04-23T18:49:14.989930Z",
     "start_time": "2020-04-23T18:49:14.719639Z"
    },
    "pycharm": {
     "name": "#%%\n"
    }
   },
   "outputs": [
    {
     "data": {
      "text/plain": "<Figure size 864x576 with 1 Axes>",
      "image/png": "[encoded data removed]"
     },
     "metadata": {
      "needs_background": "light"
     },
     "output_type": "display_data"
    }
   ],
   "source": [
    "plot_clusters(last_two, y_km, plot_cluster_centers = True)"
   ]
  }
 ],
 "metadata": {
  "kernelspec": {
   "display_name": "Python 3",
   "language": "python",
   "name": "python3"
  },
  "language_info": {
   "codemirror_mode": {
    "name": "ipython",
    "version": 3
   },
   "file_extension": ".py",
   "mimetype": "text/x-python",
   "name": "python",
   "nbconvert_exporter": "python",
   "pygments_lexer": "ipython3",
   "version": "3.7.9"
  },
  "toc": {
   "base_numbering": 1,
   "nav_menu": {},
   "number_sections": true,
   "sideBar": true,
   "skip_h1_title": false,
   "title_cell": "Table of Contents",
   "title_sidebar": "Contents",
   "toc_cell": false,
   "toc_position": {},
   "toc_section_display": true,
   "toc_window_display": false
  },
  "varInspector": {
   "cols": {
    "lenName": 16,
    "lenType": 16,
    "lenVar": 40
   },
   "kernels_config": {
    "python": {
     "delete_cmd_postfix": "",
     "delete_cmd_prefix": "del ",
     "library": "var_list.py",
     "varRefreshCmd": "print(var_dic_list())"
    },
    "r": {
     "delete_cmd_postfix": ") ",
     "delete_cmd_prefix": "rm(",
     "library": "var_list.r",
     "varRefreshCmd": "cat(var_dic_list()) "
    }
   },
   "types_to_exclude": [
    "module",
    "function",
    "builtin_function_or_method",
    "instance",
    "_Feature"
   ],
   "window_display": false
  }
 },
 "nbformat": 4,
 "nbformat_minor": 4
}