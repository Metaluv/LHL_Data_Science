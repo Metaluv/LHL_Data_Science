{
 "cells": [
  {
   "cell_type": "markdown",
   "metadata": {},
   "source": [
    "## Matplotlib 3D Assignment"
   ]
  },
  {
   "cell_type": "code",
   "execution_count": null,
   "metadata": {
    "ExecuteTime": {
     "end_time": "2020-04-23T18:36:45.456945Z",
     "start_time": "2020-04-23T18:36:45.452458Z"
    }
   },
   "outputs": [],
   "source": [
    "# import mplot3d\n",
    "from mpl_toolkits import mplot3d\n",
    "\n",
    "# import numpy\n",
    "import numpy as np\n",
    "\n",
    "# import matplotlib\n",
    "import matplotlib.pyplot as plt"
   ]
  },
  {
   "cell_type": "markdown",
   "metadata": {
    "ExecuteTime": {
     "end_time": "2020-02-12T18:22:53.342930Z",
     "start_time": "2020-02-12T18:22:53.340003Z"
    }
   },
   "source": [
    "------------\n",
    "\n",
    "#### Task 1: Create wireframe of hyperbolic paraboloid on the domain made from intervals `<-10,10>` x `<-10,10>`\n",
    "\n",
    "* hyperbolic paraboloid equation is: z = x*x - y*y"
   ]
  },
  {
   "cell_type": "code",
   "execution_count": null,
   "metadata": {
    "ExecuteTime": {
     "end_time": "2020-04-23T18:36:45.928915Z",
     "start_time": "2020-04-23T18:36:45.918558Z"
    }
   },
   "outputs": [],
   "source": [
    "# wireframe\n"
   ]
  },
  {
   "cell_type": "markdown",
   "metadata": {
    "ExecuteTime": {
     "end_time": "2020-04-23T18:34:59.711512Z",
     "start_time": "2020-04-23T18:34:59.703126Z"
    }
   },
   "source": [
    "\n",
    "-------------\n",
    "#### Task 2: Create surface plot of eliptical paraboloid on the domain made from intervals `<-10,10>` x `<-10,10>`\n",
    "\n",
    "* eliptical paraboloid : z = x*x + y*y"
   ]
  },
  {
   "cell_type": "code",
   "execution_count": null,
   "metadata": {
    "ExecuteTime": {
     "end_time": "2020-04-23T18:36:46.328261Z",
     "start_time": "2020-04-23T18:36:46.321972Z"
    }
   },
   "outputs": [],
   "source": [
    "# surface plot\n"
   ]
  },
  {
   "cell_type": "markdown",
   "metadata": {
    "ExecuteTime": {
     "end_time": "2020-04-23T18:35:37.956885Z",
     "start_time": "2020-04-23T18:35:37.931983Z"
    }
   },
   "source": [
    "#### Task 3: Repeat the surface plot of eliptical paraboloid on the domain made from intervals `<-10,10>` x `<-10,10>` from the previous task.\n",
    "\n",
    "* Create a contour projection on the plane z=0 (HINT: use ax.contour method with X, Y and Z and parameters `cmap='jet'`, `zdir='z'`,`offset=0`)\n",
    "\n",
    "* eliptical paraboloid : z = x*x + y*y"
   ]
  },
  {
   "cell_type": "code",
   "execution_count": null,
   "metadata": {
    "ExecuteTime": {
     "end_time": "2020-04-23T18:36:46.683649Z",
     "start_time": "2020-04-23T18:36:46.678232Z"
    }
   },
   "outputs": [],
   "source": [
    "# contour plot\n"
   ]
  },
  {
   "cell_type": "code",
   "execution_count": null,
   "metadata": {},
   "outputs": [],
   "source": []
  },
  {
   "cell_type": "code",
   "execution_count": null,
   "metadata": {},
   "outputs": [],
   "source": []
  },
  {
   "cell_type": "code",
   "execution_count": null,
   "metadata": {},
   "outputs": [],
   "source": []
  }
 ],
 "metadata": {
  "kernelspec": {
   "display_name": "Python 3 (ipykernel)",
   "language": "python",
   "name": "python3"
  },
  "language_info": {
   "codemirror_mode": {
    "name": "ipython",
    "version": 3
   },
   "file_extension": ".py",
   "mimetype": "text/x-python",
   "name": "python",
   "nbconvert_exporter": "python",
   "pygments_lexer": "ipython3",
   "version": "3.9.7"
  },
  "toc": {
   "base_numbering": 1,
   "nav_menu": {},
   "number_sections": true,
   "sideBar": true,
   "skip_h1_title": false,
   "title_cell": "Table of Contents",
   "title_sidebar": "Contents",
   "toc_cell": false,
   "toc_position": {},
   "toc_section_display": true,
   "toc_window_display": false
  },
  "varInspector": {
   "cols": {
    "lenName": 16,
    "lenType": 16,
    "lenVar": 40
   },
   "kernels_config": {
    "python": {
     "delete_cmd_postfix": "",
     "delete_cmd_prefix": "del ",
     "library": "var_list.py",
     "varRefreshCmd": "print(var_dic_list())"
    },
    "r": {
     "delete_cmd_postfix": ") ",
     "delete_cmd_prefix": "rm(",
     "library": "var_list.r",
     "varRefreshCmd": "cat(var_dic_list()) "
    }
   },
   "types_to_exclude": [
    "module",
    "function",
    "builtin_function_or_method",
    "instance",
    "_Feature"
   ],
   "window_display": false
  }
 },
 "nbformat": 4,
 "nbformat_minor": 4
}
