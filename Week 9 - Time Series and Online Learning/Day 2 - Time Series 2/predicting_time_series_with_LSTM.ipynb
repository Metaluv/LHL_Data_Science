{
 "cells": [
  {
   "cell_type": "markdown",
   "id": "3b23d511-f682-426a-bc36-f1b0c082e6a5",
   "metadata": {},
   "source": [
    "# Predicting Time Series with LSTMs\n",
    "Kyle Kulas\n",
    "\n",
    "Tutorial:https://heartbeat.comet.ml/using-a-keras-long-shortterm-memory-lstm-model-to-predict-stock-prices-a08c9f69aa74"
   ]
  },
  {
   "cell_type": "code",
   "execution_count": 1,
   "id": "171ae114-3222-4283-a0d9-8f483cd322c6",
   "metadata": {},
   "outputs": [],
   "source": [
    "import numpy as np\n",
    "import matplotlib.pyplot as plt\n",
    "import pandas as pd\n",
    "\n",
    "from sklearn.preprocessing import MinMaxScaler\n",
    "\n",
    "from keras.models import Sequential\n",
    "from keras.layers import Dense\n",
    "from keras.layers import LSTM\n",
    "from keras.layers import Dropout"
   ]
  },
  {
   "cell_type": "code",
   "execution_count": 10,
   "id": "59ca2941-eb8f-4f99-86ef-4563aaa1bea4",
   "metadata": {},
   "outputs": [
    {
     "data": {
      "text/plain": [
       "(2035, 1)"
      ]
     },
     "execution_count": 10,
     "metadata": {},
     "output_type": "execute_result"
    }
   ],
   "source": [
    "dataset_train = pd.read_csv('data/NSE-TATAGLOBAL.csv')\n",
    "training_set = dataset_train.iloc[:,1:2].values\n",
    "training_set.shape"
   ]
  },
  {
   "cell_type": "markdown",
   "id": "9750ad71-9391-4450-8e6f-17fd66e3c3b0",
   "metadata": {},
   "source": [
    "## Feature Scaling"
   ]
  },
  {
   "cell_type": "code",
   "execution_count": 3,
   "id": "2982ddd6-9204-4890-a546-57ea12046652",
   "metadata": {},
   "outputs": [],
   "source": [
    "sc = MinMaxScaler(feature_range = (0, 1))\n",
    "training_set_scaled = sc.fit_transform(training_set)"
   ]
  },
  {
   "cell_type": "markdown",
   "id": "b73c1715-3928-4bb9-ad0d-fcae4056e4d6",
   "metadata": {},
   "source": [
    "## Creating Data with Timesteps"
   ]
  },
  {
   "cell_type": "code",
   "execution_count": 14,
   "id": "df684f1e-0597-4196-9165-8faf3eaa4575",
   "metadata": {},
   "outputs": [
    {
     "name": "stdout",
     "output_type": "stream",
     "text": [
      "(1975, 60)\n",
      "(1975, 60, 1)\n"
     ]
    }
   ],
   "source": [
    "X_train = []\n",
    "y_train = []\n",
    "for i in range(60, 2035):\n",
    "    X_train.append(training_set_scaled[i-60:i, 0])\n",
    "    y_train.append(training_set_scaled[i, 0])\n",
    "    \n",
    "\n",
    "X_train, y_train = np.array(X_train), np.array(y_train)\n",
    "print(X_train.shape)\n",
    "\n",
    "X_train = np.reshape(X_train, (X_train.shape[0], X_train.shape[1], 1))\n",
    "print(X_train.shape)"
   ]
  },
  {
   "cell_type": "code",
   "execution_count": 5,
   "id": "21336cef-0023-497f-a296-2fc3878bdaa2",
   "metadata": {},
   "outputs": [
    {
     "name": "stderr",
     "output_type": "stream",
     "text": [
      "2022-01-05 00:35:02.059538: W tensorflow/stream_executor/platform/default/dso_loader.cc:64] Could not load dynamic library 'libcuda.so.1'; dlerror: libcuda.so.1: cannot open shared object file: No such file or directory\n",
      "2022-01-05 00:35:02.059640: W tensorflow/stream_executor/cuda/cuda_driver.cc:269] failed call to cuInit: UNKNOWN ERROR (303)\n",
      "2022-01-05 00:35:02.059670: I tensorflow/stream_executor/cuda/cuda_diagnostics.cc:156] kernel driver does not appear to be running on this host (bb0e80c14a3d): /proc/driver/nvidia/version does not exist\n",
      "2022-01-05 00:35:02.068487: I tensorflow/core/platform/cpu_feature_guard.cc:142] This TensorFlow binary is optimized with oneAPI Deep Neural Network Library (oneDNN) to use the following CPU instructions in performance-critical operations:  SSE4.1 SSE4.2\n",
      "To enable them in other operations, rebuild TensorFlow with the appropriate compiler flags.\n",
      "2022-01-05 00:35:03.128082: I tensorflow/compiler/mlir/mlir_graph_optimization_pass.cc:185] None of the MLIR Optimization Passes are enabled (registered 2)\n"
     ]
    },
    {
     "name": "stdout",
     "output_type": "stream",
     "text": [
      "Epoch 1/100\n",
      "62/62 [==============================] - 23s 265ms/step - loss: 0.0140\n",
      "Epoch 2/100\n",
      "62/62 [==============================] - 16s 257ms/step - loss: 0.0031\n",
      "Epoch 3/100\n",
      "62/62 [==============================] - 16s 259ms/step - loss: 0.0029\n",
      "Epoch 4/100\n",
      "62/62 [==============================] - 15s 249ms/step - loss: 0.0028\n",
      "Epoch 5/100\n",
      "62/62 [==============================] - 16s 252ms/step - loss: 0.0024\n",
      "Epoch 6/100\n",
      "62/62 [==============================] - 16s 258ms/step - loss: 0.0023\n",
      "Epoch 7/100\n",
      "62/62 [==============================] - 16s 253ms/step - loss: 0.0021\n",
      "Epoch 8/100\n",
      "62/62 [==============================] - 16s 263ms/step - loss: 0.0021\n",
      "Epoch 9/100\n",
      "62/62 [==============================] - 16s 251ms/step - loss: 0.0020\n",
      "Epoch 10/100\n",
      "62/62 [==============================] - 15s 245ms/step - loss: 0.0018\n",
      "Epoch 11/100\n",
      "62/62 [==============================] - 16s 253ms/step - loss: 0.0017\n",
      "Epoch 12/100\n",
      "62/62 [==============================] - 16s 252ms/step - loss: 0.0018\n",
      "Epoch 13/100\n",
      "62/62 [==============================] - 18s 285ms/step - loss: 0.0016\n",
      "Epoch 14/100\n",
      "62/62 [==============================] - 17s 272ms/step - loss: 0.0019\n",
      "Epoch 15/100\n",
      "62/62 [==============================] - 17s 267ms/step - loss: 0.0017\n",
      "Epoch 16/100\n",
      "62/62 [==============================] - 16s 255ms/step - loss: 0.0015\n",
      "Epoch 17/100\n",
      "62/62 [==============================] - 16s 261ms/step - loss: 0.0014\n",
      "Epoch 18/100\n",
      "62/62 [==============================] - 15s 244ms/step - loss: 0.0014\n",
      "Epoch 19/100\n",
      "62/62 [==============================] - 15s 250ms/step - loss: 0.0014\n",
      "Epoch 20/100\n",
      "62/62 [==============================] - 17s 275ms/step - loss: 0.0014\n",
      "Epoch 21/100\n",
      "62/62 [==============================] - 20s 327ms/step - loss: 0.0014\n",
      "Epoch 22/100\n",
      "62/62 [==============================] - 20s 330ms/step - loss: 0.0013\n",
      "Epoch 23/100\n",
      "62/62 [==============================] - 21s 334ms/step - loss: 0.0012\n",
      "Epoch 24/100\n",
      "62/62 [==============================] - 20s 326ms/step - loss: 0.0014\n",
      "Epoch 25/100\n",
      "62/62 [==============================] - 20s 321ms/step - loss: 0.0011\n",
      "Epoch 26/100\n",
      "62/62 [==============================] - 19s 309ms/step - loss: 0.0012\n",
      "Epoch 27/100\n",
      "62/62 [==============================] - 20s 316ms/step - loss: 0.0011\n",
      "Epoch 28/100\n",
      "62/62 [==============================] - 20s 317ms/step - loss: 0.0011\n",
      "Epoch 29/100\n",
      "62/62 [==============================] - 21s 332ms/step - loss: 0.0012\n",
      "Epoch 30/100\n",
      "62/62 [==============================] - 21s 341ms/step - loss: 0.0011\n",
      "Epoch 31/100\n",
      "62/62 [==============================] - 21s 332ms/step - loss: 0.0012\n",
      "Epoch 32/100\n",
      "62/62 [==============================] - 20s 327ms/step - loss: 0.0011\n",
      "Epoch 33/100\n",
      "62/62 [==============================] - 21s 339ms/step - loss: 0.0011\n",
      "Epoch 34/100\n",
      "62/62 [==============================] - 20s 319ms/step - loss: 0.0011\n",
      "Epoch 35/100\n",
      "62/62 [==============================] - 20s 327ms/step - loss: 0.0010\n",
      "Epoch 36/100\n",
      "62/62 [==============================] - 20s 329ms/step - loss: 9.6787e-04\n",
      "Epoch 37/100\n",
      "62/62 [==============================] - 21s 337ms/step - loss: 0.0010\n",
      "Epoch 38/100\n",
      "62/62 [==============================] - 21s 343ms/step - loss: 0.0011\n",
      "Epoch 39/100\n",
      "62/62 [==============================] - 22s 352ms/step - loss: 9.9493e-04\n",
      "Epoch 40/100\n",
      "62/62 [==============================] - 20s 328ms/step - loss: 0.0011\n",
      "Epoch 41/100\n",
      "62/62 [==============================] - 20s 329ms/step - loss: 9.4266e-04\n",
      "Epoch 42/100\n",
      "62/62 [==============================] - 20s 323ms/step - loss: 9.7625e-04\n",
      "Epoch 43/100\n",
      "62/62 [==============================] - 20s 326ms/step - loss: 8.2959e-04\n",
      "Epoch 44/100\n",
      "62/62 [==============================] - 24s 383ms/step - loss: 9.5196e-04\n",
      "Epoch 45/100\n",
      "62/62 [==============================] - 23s 364ms/step - loss: 0.0010\n",
      "Epoch 46/100\n",
      "62/62 [==============================] - 21s 331ms/step - loss: 9.1897e-04\n",
      "Epoch 47/100\n",
      "62/62 [==============================] - 20s 329ms/step - loss: 8.7168e-04\n",
      "Epoch 48/100\n",
      "62/62 [==============================] - 20s 323ms/step - loss: 8.4605e-04\n",
      "Epoch 49/100\n",
      "62/62 [==============================] - 20s 326ms/step - loss: 8.4168e-04\n",
      "Epoch 50/100\n",
      "62/62 [==============================] - 20s 315ms/step - loss: 8.2323e-04\n",
      "Epoch 51/100\n",
      "62/62 [==============================] - 19s 312ms/step - loss: 8.9208e-04\n",
      "Epoch 52/100\n",
      "62/62 [==============================] - 20s 322ms/step - loss: 9.5775e-04\n",
      "Epoch 53/100\n",
      "62/62 [==============================] - 20s 323ms/step - loss: 9.2692e-04\n",
      "Epoch 54/100\n",
      "62/62 [==============================] - 20s 315ms/step - loss: 7.4839e-04\n",
      "Epoch 55/100\n",
      "62/62 [==============================] - 20s 316ms/step - loss: 7.6386e-04\n",
      "Epoch 56/100\n",
      "62/62 [==============================] - 19s 314ms/step - loss: 8.7456e-04\n",
      "Epoch 57/100\n",
      "62/62 [==============================] - 20s 326ms/step - loss: 7.2520e-04\n",
      "Epoch 58/100\n",
      "62/62 [==============================] - 20s 323ms/step - loss: 7.6173e-04\n",
      "Epoch 59/100\n",
      "62/62 [==============================] - 20s 328ms/step - loss: 7.8651e-04\n",
      "Epoch 60/100\n",
      "62/62 [==============================] - 20s 324ms/step - loss: 7.7955e-04\n",
      "Epoch 61/100\n",
      "62/62 [==============================] - 20s 323ms/step - loss: 8.9766e-04\n",
      "Epoch 62/100\n",
      "62/62 [==============================] - 20s 321ms/step - loss: 7.9578e-04\n",
      "Epoch 63/100\n",
      "62/62 [==============================] - 20s 316ms/step - loss: 6.7868e-04\n",
      "Epoch 64/100\n",
      "62/62 [==============================] - 20s 321ms/step - loss: 8.0138e-04\n",
      "Epoch 65/100\n",
      "62/62 [==============================] - 20s 317ms/step - loss: 6.7332e-04\n",
      "Epoch 66/100\n",
      "62/62 [==============================] - 20s 314ms/step - loss: 7.3576e-04\n",
      "Epoch 67/100\n",
      "62/62 [==============================] - 19s 306ms/step - loss: 6.9833e-04\n",
      "Epoch 68/100\n",
      "62/62 [==============================] - 18s 293ms/step - loss: 8.8328e-04\n",
      "Epoch 69/100\n",
      "62/62 [==============================] - 16s 253ms/step - loss: 7.9179e-04\n",
      "Epoch 70/100\n",
      "62/62 [==============================] - 16s 262ms/step - loss: 7.2166e-04\n",
      "Epoch 71/100\n",
      "62/62 [==============================] - 19s 299ms/step - loss: 7.1828e-04\n",
      "Epoch 72/100\n",
      "62/62 [==============================] - 17s 270ms/step - loss: 7.3772e-04\n",
      "Epoch 73/100\n",
      "62/62 [==============================] - 17s 266ms/step - loss: 6.3160e-04\n",
      "Epoch 74/100\n",
      "62/62 [==============================] - 16s 254ms/step - loss: 7.0893e-04\n",
      "Epoch 75/100\n",
      "62/62 [==============================] - 17s 267ms/step - loss: 7.7682e-04\n",
      "Epoch 76/100\n",
      "62/62 [==============================] - 16s 258ms/step - loss: 7.2293e-04\n",
      "Epoch 77/100\n",
      "62/62 [==============================] - 15s 248ms/step - loss: 7.7477e-04\n",
      "Epoch 78/100\n",
      "62/62 [==============================] - 15s 244ms/step - loss: 7.8582e-04\n",
      "Epoch 79/100\n",
      "62/62 [==============================] - 15s 248ms/step - loss: 7.8429e-04\n",
      "Epoch 80/100\n",
      "62/62 [==============================] - 15s 248ms/step - loss: 7.3608e-04\n",
      "Epoch 81/100\n",
      "62/62 [==============================] - 15s 247ms/step - loss: 7.1966e-04\n",
      "Epoch 82/100\n",
      "62/62 [==============================] - 15s 244ms/step - loss: 6.3900e-04\n",
      "Epoch 83/100\n",
      "62/62 [==============================] - 15s 239ms/step - loss: 7.1296e-04\n",
      "Epoch 84/100\n",
      "62/62 [==============================] - 15s 246ms/step - loss: 9.0095e-04\n",
      "Epoch 85/100\n",
      "62/62 [==============================] - 15s 244ms/step - loss: 6.1564e-04\n",
      "Epoch 86/100\n",
      "62/62 [==============================] - 15s 245ms/step - loss: 6.5614e-04\n",
      "Epoch 87/100\n",
      "62/62 [==============================] - 15s 247ms/step - loss: 7.7331e-04\n",
      "Epoch 88/100\n",
      "62/62 [==============================] - 16s 251ms/step - loss: 6.4560e-04\n",
      "Epoch 89/100\n",
      "62/62 [==============================] - 19s 307ms/step - loss: 6.6256e-04\n",
      "Epoch 90/100\n",
      "62/62 [==============================] - 17s 277ms/step - loss: 5.9402e-04\n",
      "Epoch 91/100\n",
      "62/62 [==============================] - 16s 258ms/step - loss: 8.4089e-04\n",
      "Epoch 92/100\n",
      "62/62 [==============================] - 16s 254ms/step - loss: 6.6970e-04\n",
      "Epoch 93/100\n",
      "62/62 [==============================] - 16s 251ms/step - loss: 6.7838e-04\n",
      "Epoch 94/100\n",
      "62/62 [==============================] - 16s 262ms/step - loss: 5.8900e-04\n",
      "Epoch 95/100\n",
      "62/62 [==============================] - 16s 254ms/step - loss: 5.8080e-04\n",
      "Epoch 96/100\n",
      "62/62 [==============================] - 16s 252ms/step - loss: 5.8005e-04\n",
      "Epoch 97/100\n",
      "62/62 [==============================] - 15s 249ms/step - loss: 5.9651e-04\n",
      "Epoch 98/100\n",
      "62/62 [==============================] - 16s 260ms/step - loss: 6.5832e-04\n",
      "Epoch 99/100\n",
      "62/62 [==============================] - 17s 266ms/step - loss: 7.4223e-04\n",
      "Epoch 100/100\n",
      "62/62 [==============================] - 17s 276ms/step - loss: 6.5585e-04\n"
     ]
    },
    {
     "data": {
      "text/plain": [
       "<keras.callbacks.History at 0x7fcbb4249fa0>"
      ]
     },
     "execution_count": 5,
     "metadata": {},
     "output_type": "execute_result"
    }
   ],
   "source": [
    "regressor = Sequential()\n",
    "\n",
    "regressor.add(LSTM(units = 50, return_sequences = True, input_shape = (X_train.shape[1], 1)))\n",
    "regressor.add(Dropout(0.2))\n",
    "\n",
    "regressor.add(LSTM(units = 50, return_sequences = True))\n",
    "regressor.add(Dropout(0.2))\n",
    "\n",
    "regressor.add(LSTM(units = 50, return_sequences = True))\n",
    "regressor.add(Dropout(0.2))\n",
    "\n",
    "regressor.add(LSTM(units = 50))\n",
    "regressor.add(Dropout(0.2))\n",
    "\n",
    "regressor.add(Dense(units = 1))\n",
    "\n",
    "regressor.compile(optimizer = 'adam', loss = 'mean_squared_error')\n",
    "\n",
    "regressor.fit(X_train, y_train, epochs = 100, batch_size = 32)\n"
   ]
  },
  {
   "cell_type": "code",
   "execution_count": 7,
   "id": "44561336-90dd-45da-979d-6130ac15c860",
   "metadata": {},
   "outputs": [],
   "source": [
    "dataset_test = pd.read_csv('data/tatatest.csv')\n",
    "real_stock_price = dataset_test.iloc[:, 1:2].values"
   ]
  },
  {
   "cell_type": "code",
   "execution_count": 8,
   "id": "2676b71a-0155-4485-b7b8-cea19d7c95cd",
   "metadata": {},
   "outputs": [],
   "source": [
    "dataset_total = pd.concat((dataset_train['Open'], dataset_test['Open']), axis = 0)\n",
    "inputs = dataset_total[len(dataset_total) - len(dataset_test) - 60:].values\n",
    "inputs = inputs.reshape(-1,1)\n",
    "inputs = sc.transform(inputs)\n",
    "X_test = []\n",
    "for i in range(60, 76):\n",
    "    X_test.append(inputs[i-60:i, 0])\n",
    "X_test = np.array(X_test)\n",
    "X_test = np.reshape(X_test, (X_test.shape[0], X_test.shape[1], 1))\n",
    "predicted_stock_price = regressor.predict(X_test)\n",
    "predicted_stock_price = sc.inverse_transform(predicted_stock_price)"
   ]
  },
  {
   "cell_type": "code",
   "execution_count": 9,
   "id": "8c1300bc-a830-41f8-b607-16c9baa0393c",
   "metadata": {},
   "outputs": [
    {
     "data": {
      "image/png": "[encoded data removed]",
      "text/plain": [
       "<Figure size 432x288 with 1 Axes>"
      ]
     },
     "metadata": {
      "needs_background": "light"
     },
     "output_type": "display_data"
    }
   ],
   "source": [
    "\n",
    "plt.plot(real_stock_price, color = 'black', label = 'TATA Stock Price')\n",
    "plt.plot(predicted_stock_price, color = 'green', label = 'Predicted TATA Stock Price')\n",
    "plt.title('TATA Stock Price Prediction')\n",
    "plt.xlabel('Time')\n",
    "plt.ylabel('TATA Stock Price')\n",
    "plt.legend()\n",
    "plt.show()"
   ]
  },
  {
   "cell_type": "code",
   "execution_count": null,
   "id": "6d489681-d153-4c67-bef0-b78d31c01fa1",
   "metadata": {},
   "outputs": [],
   "source": []
  }
 ],
 "metadata": {
  "kernelspec": {
   "display_name": "Python 3 (ipykernel)",
   "language": "python",
   "name": "python3"
  },
  "language_info": {
   "codemirror_mode": {
    "name": "ipython",
    "version": 3
   },
   "file_extension": ".py",
   "mimetype": "text/x-python",
   "name": "python",
   "nbconvert_exporter": "python",
   "pygments_lexer": "ipython3",
   "version": "3.9.7"
  }
 },
 "nbformat": 4,
 "nbformat_minor": 5
}
