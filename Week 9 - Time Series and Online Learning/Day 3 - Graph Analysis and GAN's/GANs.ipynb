{
 "cells": [
  {
   "cell_type": "code",
   "execution_count": 1,
   "id": "3b048835-0932-4e94-83c7-c65497eb15b1",
   "metadata": {},
   "outputs": [],
   "source": [
    "# Nicely formatted time string\n",
    "def hms_string(sec_elapsed):\n",
    "    h = int(sec_elapsed / (60 * 60))\n",
    "    m = int((sec_elapsed % (60 * 60)) / 60)\n",
    "    s = sec_elapsed % 60\n",
    "    return \"{}:{:>02}:{:>05.2f}\".format(h, m, s)"
   ]
  },
  {
   "cell_type": "code",
   "execution_count": 2,
   "id": "720d0f9c-b856-47de-8dbf-10b2488cd328",
   "metadata": {},
   "outputs": [],
   "source": [
    "import tensorflow as tf\n",
    "from tensorflow.keras.layers import Input, Reshape, Dropout, Dense \n",
    "from tensorflow.keras.layers import Flatten, BatchNormalization\n",
    "from tensorflow.keras.layers import Activation, ZeroPadding2D\n",
    "from tensorflow.keras.layers import LeakyReLU\n",
    "from tensorflow.keras.layers import UpSampling2D, Conv2D\n",
    "from tensorflow.keras.models import Sequential, Model, load_model\n",
    "from tensorflow.keras.optimizers import Adam\n",
    "import numpy as np\n",
    "from PIL import Image\n",
    "from tqdm import tqdm\n",
    "import os \n",
    "import time\n",
    "import matplotlib.pyplot as plt"
   ]
  },
  {
   "cell_type": "code",
   "execution_count": 3,
   "id": "5f07f23b-cb80-46f2-b49d-819d737ec687",
   "metadata": {},
   "outputs": [
    {
     "name": "stdout",
     "output_type": "stream",
     "text": [
      "Will generate 64px square images.\n"
     ]
    }
   ],
   "source": [
    "# Generation resolution - Must be square \n",
    "# Training data is also scaled to this.\n",
    "# Note GENERATE_RES 4 or higher  \n",
    "# will blow Google CoLab's memory and have not\n",
    "# been tested extensivly.\n",
    "GENERATE_RES = 2 # Generation resolution factor \n",
    "# (1=32, 2=64, 3=96, 4=128, etc.)\n",
    "GENERATE_SQUARE = 32 * GENERATE_RES # rows/cols (should be square)\n",
    "IMAGE_CHANNELS = 3\n",
    "\n",
    "# Preview image \n",
    "PREVIEW_ROWS = 4\n",
    "PREVIEW_COLS = 7\n",
    "PREVIEW_MARGIN = 16\n",
    "\n",
    "# Size vector to generate images from\n",
    "SEED_SIZE = 100\n",
    "\n",
    "# Configuration\n",
    "DATA_PATH = 'data/'\n",
    "EPOCHS = 50\n",
    "BATCH_SIZE = 32\n",
    "BUFFER_SIZE = 60000\n",
    "\n",
    "print(f\"Will generate {GENERATE_SQUARE}px square images.\")"
   ]
  },
  {
   "cell_type": "code",
   "execution_count": 4,
   "id": "7ba7f11e-9a03-48b8-84af-df6808c7cc39",
   "metadata": {},
   "outputs": [
    {
     "name": "stdout",
     "output_type": "stream",
     "text": [
      "Looking for file: data/training_data_64_64.npy\n",
      "Loading previous training pickle...\n"
     ]
    }
   ],
   "source": [
    "training_binary_path = os.path.join(DATA_PATH,\n",
    "        f'training_data_{GENERATE_SQUARE}_{GENERATE_SQUARE}.npy')\n",
    "\n",
    "print(f\"Looking for file: {training_binary_path}\")\n",
    "\n",
    "if not os.path.isfile(training_binary_path):\n",
    "    start = time.time()\n",
    "    print(\"Loading training images...\")\n",
    "\n",
    "    training_data = []\n",
    "    faces_path = os.path.join(DATA_PATH,'images')\n",
    "    for filename in tqdm(os.listdir(faces_path)):\n",
    "        path = os.path.join(faces_path,filename)\n",
    "        image = Image.open(path).resize((GENERATE_SQUARE,\n",
    "            GENERATE_SQUARE),Image.ANTIALIAS)\n",
    "        training_data.append(np.asarray(image))\n",
    "    training_data = np.reshape(training_data,(-1,GENERATE_SQUARE,\n",
    "            GENERATE_SQUARE,IMAGE_CHANNELS))\n",
    "    training_data = training_data.astype(np.float32)\n",
    "    training_data = training_data / 127.5 - 1.\n",
    "\n",
    "\n",
    "    print(\"Saving training image binary...\")\n",
    "    np.save(training_binary_path,training_data)\n",
    "    elapsed = time.time()-start\n",
    "    print (f'Image preprocess time: {hms_string(elapsed)}')\n",
    "else:\n",
    "    print(\"Loading previous training pickle...\")\n",
    "    training_data = np.load(training_binary_path)"
   ]
  },
  {
   "cell_type": "code",
   "execution_count": 5,
   "id": "16725314-7ac2-4f1e-8b83-f85ad3366b3d",
   "metadata": {},
   "outputs": [
    {
     "name": "stderr",
     "output_type": "stream",
     "text": [
      "2022-01-06 05:18:04.658896: W tensorflow/stream_executor/platform/default/dso_loader.cc:64] Could not load dynamic library 'libcuda.so.1'; dlerror: libcuda.so.1: cannot open shared object file: No such file or directory\n",
      "2022-01-06 05:18:04.659000: W tensorflow/stream_executor/cuda/cuda_driver.cc:269] failed call to cuInit: UNKNOWN ERROR (303)\n",
      "2022-01-06 05:18:04.659031: I tensorflow/stream_executor/cuda/cuda_diagnostics.cc:156] kernel driver does not appear to be running on this host (924be8630b35): /proc/driver/nvidia/version does not exist\n",
      "2022-01-06 05:18:04.669584: I tensorflow/core/platform/cpu_feature_guard.cc:142] This TensorFlow binary is optimized with oneAPI Deep Neural Network Library (oneDNN) to use the following CPU instructions in performance-critical operations:  SSE4.1 SSE4.2\n",
      "To enable them in other operations, rebuild TensorFlow with the appropriate compiler flags.\n"
     ]
    }
   ],
   "source": [
    "# Batch and shuffle the data\n",
    "train_dataset = tf.data.Dataset.from_tensor_slices(training_data) \\\n",
    "    .shuffle(BUFFER_SIZE).batch(BATCH_SIZE)"
   ]
  },
  {
   "cell_type": "code",
   "execution_count": 6,
   "id": "c549917d-3184-4033-9704-bd3114cb6a24",
   "metadata": {},
   "outputs": [],
   "source": [
    "def build_generator(seed_size, channels):\n",
    "    model = Sequential()\n",
    "\n",
    "    model.add(Dense(4*4*256,activation=\"relu\",input_dim=seed_size))\n",
    "    model.add(Reshape((4,4,256)))\n",
    "\n",
    "    model.add(UpSampling2D())\n",
    "    model.add(Conv2D(256,kernel_size=3,padding=\"same\"))\n",
    "    model.add(BatchNormalization(momentum=0.8))\n",
    "    model.add(Activation(\"relu\"))\n",
    "\n",
    "    model.add(UpSampling2D())\n",
    "    model.add(Conv2D(256,kernel_size=3,padding=\"same\"))\n",
    "    model.add(BatchNormalization(momentum=0.8))\n",
    "    model.add(Activation(\"relu\"))\n",
    "   \n",
    "    # Output resolution, additional upsampling\n",
    "    model.add(UpSampling2D())\n",
    "    model.add(Conv2D(128,kernel_size=3,padding=\"same\"))\n",
    "    model.add(BatchNormalization(momentum=0.8))\n",
    "    model.add(Activation(\"relu\"))\n",
    "\n",
    "    if GENERATE_RES>1:\n",
    "        model.add(UpSampling2D(size=(GENERATE_RES,GENERATE_RES)))\n",
    "        model.add(Conv2D(128,kernel_size=3,padding=\"same\"))\n",
    "        model.add(BatchNormalization(momentum=0.8))\n",
    "        model.add(Activation(\"relu\"))\n",
    "\n",
    "    # Final CNN layer\n",
    "    model.add(Conv2D(channels,kernel_size=3,padding=\"same\"))\n",
    "    model.add(Activation(\"tanh\"))\n",
    "\n",
    "    return model\n",
    "\n",
    "\n",
    "def build_discriminator(image_shape):\n",
    "    model = Sequential()\n",
    "\n",
    "    model.add(Conv2D(32, kernel_size=3, strides=2, input_shape=image_shape, \n",
    "                     padding=\"same\"))\n",
    "    model.add(LeakyReLU(alpha=0.2))\n",
    "\n",
    "    model.add(Dropout(0.25))\n",
    "    model.add(Conv2D(64, kernel_size=3, strides=2, padding=\"same\"))\n",
    "    model.add(ZeroPadding2D(padding=((0,1),(0,1))))\n",
    "    model.add(BatchNormalization(momentum=0.8))\n",
    "    model.add(LeakyReLU(alpha=0.2))\n",
    "\n",
    "    model.add(Dropout(0.25))\n",
    "    model.add(Conv2D(128, kernel_size=3, strides=2, padding=\"same\"))\n",
    "    model.add(BatchNormalization(momentum=0.8))\n",
    "    model.add(LeakyReLU(alpha=0.2))\n",
    "\n",
    "    model.add(Dropout(0.25))\n",
    "    model.add(Conv2D(256, kernel_size=3, strides=1, padding=\"same\"))\n",
    "    model.add(BatchNormalization(momentum=0.8))\n",
    "    model.add(LeakyReLU(alpha=0.2))\n",
    "\n",
    "    model.add(Dropout(0.25))\n",
    "    model.add(Conv2D(512, kernel_size=3, strides=1, padding=\"same\"))\n",
    "    model.add(BatchNormalization(momentum=0.8))\n",
    "    model.add(LeakyReLU(alpha=0.2))\n",
    "\n",
    "    model.add(Dropout(0.25))\n",
    "    model.add(Flatten())\n",
    "    model.add(Dense(1, activation='sigmoid'))\n",
    "\n",
    "    return model"
   ]
  },
  {
   "cell_type": "code",
   "execution_count": 7,
   "id": "a992943d-410e-4f5a-8612-020400ec2454",
   "metadata": {},
   "outputs": [],
   "source": [
    "def save_images(cnt,noise):\n",
    "    image_array = np.full(( \n",
    "      PREVIEW_MARGIN + (PREVIEW_ROWS * (GENERATE_SQUARE+PREVIEW_MARGIN)), \n",
    "      PREVIEW_MARGIN + (PREVIEW_COLS * (GENERATE_SQUARE+PREVIEW_MARGIN)), IMAGE_CHANNELS), \n",
    "      255, dtype=np.uint8)\n",
    "\n",
    "    generated_images = generator.predict(noise)\n",
    "\n",
    "    generated_images = 0.5 * generated_images + 0.5\n",
    "\n",
    "    image_count = 0\n",
    "    for row in range(PREVIEW_ROWS):\n",
    "        for col in range(PREVIEW_COLS):\n",
    "            r = row * (GENERATE_SQUARE+16) + PREVIEW_MARGIN\n",
    "            c = col * (GENERATE_SQUARE+16) + PREVIEW_MARGIN\n",
    "            image_array[r:r+GENERATE_SQUARE,c:c+GENERATE_SQUARE] \\\n",
    "                = generated_images[image_count] * 255\n",
    "            image_count += 1\n",
    "\n",
    "\n",
    "    output_path = os.path.join(DATA_PATH,'output')\n",
    "    if not os.path.exists(output_path):\n",
    "        os.makedirs(output_path)\n",
    "\n",
    "    filename = os.path.join(output_path,f\"train-{cnt}.png\")\n",
    "    im = Image.fromarray(image_array)\n",
    "    im.save(filename)"
   ]
  },
  {
   "cell_type": "code",
   "execution_count": 8,
   "id": "6eeb6411-557d-4cca-b36d-abd8e0fbfd71",
   "metadata": {},
   "outputs": [
    {
     "data": {
      "text/plain": [
       "<matplotlib.image.AxesImage at 0x7f7681e87700>"
      ]
     },
     "execution_count": 8,
     "metadata": {},
     "output_type": "execute_result"
    },
    {
     "data": {
      "image/png": "[encoded data removed]",
      "text/plain": [
       "<Figure size 432x288 with 1 Axes>"
      ]
     },
     "metadata": {
      "needs_background": "light"
     },
     "output_type": "display_data"
    }
   ],
   "source": [
    "generator = build_generator(SEED_SIZE, IMAGE_CHANNELS)\n",
    "\n",
    "noise = tf.random.normal([1, SEED_SIZE])\n",
    "generated_image = generator(noise, training=False)\n",
    "\n",
    "plt.imshow(generated_image[0, :, :, 0])"
   ]
  },
  {
   "cell_type": "code",
   "execution_count": 9,
   "id": "9ae52b9b-9f0b-41d5-bfbe-9a0ecca49b7e",
   "metadata": {},
   "outputs": [
    {
     "name": "stdout",
     "output_type": "stream",
     "text": [
      "tf.Tensor([[0.5001335]], shape=(1, 1), dtype=float32)\n"
     ]
    }
   ],
   "source": [
    "image_shape = (GENERATE_SQUARE,GENERATE_SQUARE,IMAGE_CHANNELS)\n",
    "\n",
    "discriminator = build_discriminator(image_shape)\n",
    "decision = discriminator(generated_image)\n",
    "print (decision)"
   ]
  },
  {
   "cell_type": "code",
   "execution_count": 10,
   "id": "4c153c95-221a-488b-a1fc-e341b5dd3a69",
   "metadata": {},
   "outputs": [],
   "source": [
    "# This method returns a helper function to compute cross entropy loss\n",
    "cross_entropy = tf.keras.losses.BinaryCrossentropy()\n",
    "\n",
    "def discriminator_loss(real_output, fake_output):\n",
    "    real_loss = cross_entropy(tf.ones_like(real_output), real_output)\n",
    "    fake_loss = cross_entropy(tf.zeros_like(fake_output), fake_output)\n",
    "    total_loss = real_loss + fake_loss\n",
    "    return total_loss\n",
    "\n",
    "def generator_loss(fake_output):\n",
    "    return cross_entropy(tf.ones_like(fake_output), fake_output)"
   ]
  },
  {
   "cell_type": "code",
   "execution_count": 11,
   "id": "f6497c0f-c097-42dc-a542-797b19c9036b",
   "metadata": {},
   "outputs": [],
   "source": [
    "generator_optimizer = tf.keras.optimizers.Adam(1.5e-4,0.5)\n",
    "discriminator_optimizer = tf.keras.optimizers.Adam(1.5e-4,0.5)"
   ]
  },
  {
   "cell_type": "code",
   "execution_count": 12,
   "id": "2c4c300c-4904-48ab-8013-86d69526d015",
   "metadata": {},
   "outputs": [],
   "source": [
    "# Notice the use of `tf.function`\n",
    "# This annotation causes the function to be \"compiled\".\n",
    "@tf.function\n",
    "def train_step(images):\n",
    "    seed = tf.random.normal([BATCH_SIZE, SEED_SIZE])\n",
    "\n",
    "    with tf.GradientTape() as gen_tape, tf.GradientTape() as disc_tape:\n",
    "        generated_images = generator(seed, training=True)\n",
    "\n",
    "        real_output = discriminator(images, training=True)\n",
    "        fake_output = discriminator(generated_images, training=True)\n",
    "\n",
    "        gen_loss = generator_loss(fake_output)\n",
    "        disc_loss = discriminator_loss(real_output, fake_output)\n",
    "\n",
    "\n",
    "        gradients_of_generator = gen_tape.gradient(\\\n",
    "            gen_loss, generator.trainable_variables)\n",
    "        gradients_of_discriminator = disc_tape.gradient(\\\n",
    "            disc_loss, discriminator.trainable_variables)\n",
    "\n",
    "        generator_optimizer.apply_gradients(zip(\n",
    "            gradients_of_generator, generator.trainable_variables))\n",
    "        discriminator_optimizer.apply_gradients(zip(\n",
    "            gradients_of_discriminator, \n",
    "            discriminator.trainable_variables))\n",
    "    return gen_loss,disc_loss"
   ]
  },
  {
   "cell_type": "code",
   "execution_count": 13,
   "id": "ddacfebe-7388-4935-b951-f3037bb2a0a0",
   "metadata": {},
   "outputs": [],
   "source": [
    "def train(dataset, epochs):\n",
    "    fixed_seed = np.random.normal(0, 1, (PREVIEW_ROWS * PREVIEW_COLS, \n",
    "                                       SEED_SIZE))\n",
    "    start = time.time()\n",
    "\n",
    "    for epoch in range(epochs):\n",
    "        epoch_start = time.time()\n",
    "\n",
    "        gen_loss_list = []\n",
    "        disc_loss_list = []\n",
    "\n",
    "        for image_batch in dataset:\n",
    "            t = train_step(image_batch)\n",
    "            gen_loss_list.append(t[0])\n",
    "            disc_loss_list.append(t[1])\n",
    "\n",
    "        g_loss = sum(gen_loss_list) / len(gen_loss_list)\n",
    "        d_loss = sum(disc_loss_list) / len(disc_loss_list)\n",
    "\n",
    "        epoch_elapsed = time.time()-epoch_start\n",
    "        print (f'Epoch {epoch+1}, gen loss={g_loss},disc loss={d_loss},'\\\n",
    "               f' {hms_string(epoch_elapsed)}')\n",
    "        save_images(epoch,fixed_seed)\n",
    "\n",
    "    elapsed = time.time()-start\n",
    "    print (f'Training time: {hms_string(elapsed)}')"
   ]
  },
  {
   "cell_type": "code",
   "execution_count": 14,
   "id": "d24bba17-c2ce-4397-b077-d00db87aee2b",
   "metadata": {},
   "outputs": [
    {
     "name": "stderr",
     "output_type": "stream",
     "text": [
      "2022-01-06 05:18:30.199670: I tensorflow/compiler/mlir/mlir_graph_optimization_pass.cc:185] None of the MLIR Optimization Passes are enabled (registered 2)\n"
     ]
    },
    {
     "name": "stdout",
     "output_type": "stream",
     "text": [
      "Epoch 1, gen loss=2.310373306274414,disc loss=0.9776051044464111, 0:13:11.94\n",
      "Epoch 2, gen loss=2.58000111579895,disc loss=0.8042697310447693, 0:12:40.38\n",
      "Epoch 3, gen loss=2.2430570125579834,disc loss=0.9294167757034302, 0:12:37.43\n",
      "Epoch 4, gen loss=1.9666825532913208,disc loss=0.9753084182739258, 0:12:45.65\n",
      "Epoch 5, gen loss=1.9868149757385254,disc loss=0.9805097579956055, 0:12:37.15\n",
      "Epoch 6, gen loss=2.031205415725708,disc loss=0.9532597661018372, 0:13:22.48\n",
      "Epoch 7, gen loss=2.02156662940979,disc loss=0.9142941236495972, 0:12:35.02\n",
      "Epoch 8, gen loss=2.0608811378479004,disc loss=0.9084380269050598, 0:12:42.74\n",
      "Epoch 9, gen loss=2.0980224609375,disc loss=0.8488625288009644, 0:12:37.56\n",
      "Epoch 10, gen loss=2.1544477939605713,disc loss=0.8103958368301392, 0:12:37.76\n",
      "Epoch 11, gen loss=2.1960201263427734,disc loss=0.8216128349304199, 0:12:36.67\n",
      "Epoch 12, gen loss=2.228930711746216,disc loss=0.8319682478904724, 0:12:37.86\n",
      "Epoch 13, gen loss=2.23305082321167,disc loss=0.8027093410491943, 0:12:44.39\n",
      "Epoch 14, gen loss=2.2663519382476807,disc loss=0.7836199998855591, 0:12:39.82\n",
      "Epoch 15, gen loss=2.3026278018951416,disc loss=0.7686265110969543, 0:12:40.13\n",
      "Epoch 16, gen loss=2.323758363723755,disc loss=0.7479112148284912, 0:12:40.36\n",
      "Epoch 17, gen loss=2.371694564819336,disc loss=0.7600381374359131, 0:12:40.70\n",
      "Epoch 18, gen loss=2.394408702850342,disc loss=0.7261129021644592, 0:13:01.55\n",
      "Epoch 19, gen loss=2.3799760341644287,disc loss=0.7333831191062927, 0:13:22.47\n",
      "Epoch 20, gen loss=2.40054988861084,disc loss=0.7271547317504883, 0:12:35.17\n",
      "Epoch 21, gen loss=2.435875177383423,disc loss=0.663672924041748, 0:12:36.56\n",
      "Epoch 22, gen loss=2.499124526977539,disc loss=0.6898740530014038, 0:12:38.30\n",
      "Epoch 23, gen loss=2.563854932785034,disc loss=0.6457920074462891, 0:12:40.68\n",
      "Epoch 24, gen loss=2.6597859859466553,disc loss=0.6443472504615784, 0:12:36.65\n",
      "Epoch 25, gen loss=2.675776481628418,disc loss=0.6442112922668457, 0:12:37.52\n",
      "Epoch 26, gen loss=2.6943421363830566,disc loss=0.6099873781204224, 0:12:35.86\n",
      "Epoch 27, gen loss=2.773120880126953,disc loss=0.5797088146209717, 0:12:42.08\n",
      "Epoch 28, gen loss=2.791393995285034,disc loss=0.5852121710777283, 0:12:37.39\n",
      "Epoch 29, gen loss=2.8162481784820557,disc loss=0.5986796021461487, 0:12:37.25\n",
      "Epoch 30, gen loss=2.8811421394348145,disc loss=0.5610870718955994, 0:12:37.67\n",
      "Epoch 31, gen loss=2.9741592407226562,disc loss=0.5599101185798645, 0:12:37.56\n",
      "Epoch 32, gen loss=3.063704252243042,disc loss=0.5369910597801208, 0:12:41.59\n",
      "Epoch 33, gen loss=3.065122127532959,disc loss=0.5443647503852844, 0:12:51.34\n",
      "Epoch 34, gen loss=3.0417680740356445,disc loss=0.5320367217063904, 0:12:39.01\n",
      "Epoch 35, gen loss=3.13004469871521,disc loss=0.4948335886001587, 0:13:01.11\n",
      "Epoch 36, gen loss=3.1598126888275146,disc loss=0.5235324501991272, 0:12:39.25\n",
      "Epoch 37, gen loss=3.3123419284820557,disc loss=0.521721601486206, 0:12:44.81\n",
      "Epoch 38, gen loss=3.25468111038208,disc loss=0.4802650213241577, 0:12:36.93\n",
      "Epoch 39, gen loss=3.287923574447632,disc loss=0.4667496681213379, 0:12:36.87\n",
      "Epoch 40, gen loss=3.3581950664520264,disc loss=0.4686422646045685, 0:12:35.65\n",
      "Epoch 41, gen loss=3.392441987991333,disc loss=0.46719515323638916, 0:12:42.11\n",
      "Epoch 42, gen loss=3.5413243770599365,disc loss=0.46382853388786316, 0:12:37.19\n",
      "Epoch 43, gen loss=3.5502004623413086,disc loss=0.4352995455265045, 0:12:40.05\n",
      "Epoch 44, gen loss=3.562563180923462,disc loss=0.4441851079463959, 0:13:29.87\n",
      "Epoch 45, gen loss=3.6167376041412354,disc loss=0.41449880599975586, 0:12:39.59\n",
      "Epoch 46, gen loss=3.7377445697784424,disc loss=0.3939416706562042, 0:12:45.93\n",
      "Epoch 47, gen loss=3.7424116134643555,disc loss=0.4106883704662323, 0:12:41.14\n",
      "Epoch 48, gen loss=3.806938409805298,disc loss=0.43825167417526245, 0:12:39.86\n",
      "Epoch 49, gen loss=3.807311773300171,disc loss=0.3870851993560791, 0:12:45.50\n",
      "Epoch 50, gen loss=3.7893643379211426,disc loss=0.41484543681144714, 0:12:40.13\n",
      "Training time: 10:37:07.09\n"
     ]
    }
   ],
   "source": [
    "train(train_dataset, EPOCHS)"
   ]
  },
  {
   "cell_type": "code",
   "execution_count": 15,
   "id": "d7bd6cd0-7dc3-48c6-b4e3-b67c2944d10e",
   "metadata": {},
   "outputs": [
    {
     "name": "stdout",
     "output_type": "stream",
     "text": [
      "WARNING:tensorflow:Compiled the loaded model, but the compiled metrics have yet to be built. `model.compile_metrics` will be empty until you train or evaluate the model.\n"
     ]
    }
   ],
   "source": [
    "generator.save(os.path.join(DATA_PATH,\"face_generator.h5\"))"
   ]
  },
  {
   "cell_type": "code",
   "execution_count": null,
   "id": "93ce080a-5815-4270-9e4e-b289d76b6517",
   "metadata": {},
   "outputs": [],
   "source": []
  }
 ],
 "metadata": {
  "kernelspec": {
   "display_name": "Python 3 (ipykernel)",
   "language": "python",
   "name": "python3"
  },
  "language_info": {
   "codemirror_mode": {
    "name": "ipython",
    "version": 3
   },
   "file_extension": ".py",
   "mimetype": "text/x-python",
   "name": "python",
   "nbconvert_exporter": "python",
   "pygments_lexer": "ipython3",
   "version": "3.9.7"
  }
 },
 "nbformat": 4,
 "nbformat_minor": 5
}
