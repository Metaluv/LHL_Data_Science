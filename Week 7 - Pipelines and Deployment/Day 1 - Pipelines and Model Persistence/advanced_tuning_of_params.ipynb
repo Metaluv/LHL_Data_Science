{
 "cells": [
  {
   "cell_type": "markdown",
   "id": "9c256a9f-c4bd-473b-836b-12fee975fd61",
   "metadata": {},
   "source": [
    "# Advanced tuning of parameters\n",
    "Kyle Kulas\n",
    "Tutorial: https://iaml.it/blog/optimizing-sklearn-pipelines"
   ]
  },
  {
   "cell_type": "code",
   "execution_count": 34,
   "id": "c6dee3c0-4ffb-4f77-97d0-11f19495368e",
   "metadata": {},
   "outputs": [],
   "source": [
    "import numpy as np\n",
    "from sklearn.datasets import fetch_california_housing\n",
    "from sklearn.model_selection import train_test_split\n",
    "from sklearn.preprocessing import StandardScaler, RobustScaler, QuantileTransformer\n",
    "from sklearn.feature_selection import SelectKBest, f_regression\n",
    "from sklearn.decomposition import PCA\n",
    "from sklearn.linear_model import Ridge"
   ]
  },
  {
   "cell_type": "code",
   "execution_count": 27,
   "id": "3bf5c8cf-294e-4f71-a21f-1c89cf3f100d",
   "metadata": {},
   "outputs": [],
   "source": [
    "data = fetch_california_housing()\n",
    "X_train, X_test, y_train, y_test = train_test_split(data['data'], data['target'])"
   ]
  },
  {
   "cell_type": "markdown",
   "id": "a9382e7e-a676-4cbf-98ac-fb5b74556d0b",
   "metadata": {},
   "source": [
    "## Manual pipeline implementation"
   ]
  },
  {
   "cell_type": "code",
   "execution_count": 28,
   "id": "7f710fe7-3e52-4991-adae-29a825dbf14a",
   "metadata": {},
   "outputs": [],
   "source": [
    "scaler = StandardScaler()\n",
    "pca = PCA()\n",
    "ridge = Ridge()"
   ]
  },
  {
   "cell_type": "code",
   "execution_count": 32,
   "id": "16393e57-2ba3-446d-8006-0d715d2005c9",
   "metadata": {},
   "outputs": [
    {
     "name": "stdout",
     "output_type": "stream",
     "text": [
      "0.5917413967148111\n"
     ]
    }
   ],
   "source": [
    "X_train_scaled = scaler.fit_transform(X_train)\n",
    "X_train_pca = pca.fit_transform(X_train_scaled)\n",
    "ridge.fit(X_train_pca, y_train)\n",
    "\n",
    "\n",
    "X_test_scaled = scaler.transform(X_test)\n",
    "X_test_pca = pca.transform(X_test_scaled)\n",
    "print(ridge.score(X_test_pca, y_test))"
   ]
  },
  {
   "cell_type": "markdown",
   "id": "6e630790-5c77-4c27-b2f4-3c1a99fe2a30",
   "metadata": {},
   "source": [
    "## Pipeline object"
   ]
  },
  {
   "cell_type": "code",
   "execution_count": 30,
   "id": "67b317f7-bd3f-44d7-8a51-021648854e5e",
   "metadata": {},
   "outputs": [],
   "source": [
    "from sklearn.pipeline import Pipeline\n",
    "pipe = Pipeline([\n",
    "    ('scaler', StandardScaler()),\n",
    "    ('reduce_dim', PCA()),\n",
    "    ('regressor', Ridge())\n",
    "    ])"
   ]
  },
  {
   "cell_type": "code",
   "execution_count": 31,
   "id": "7b86de9a-f71a-4f40-9207-9eb083ecafed",
   "metadata": {},
   "outputs": [
    {
     "name": "stdout",
     "output_type": "stream",
     "text": [
      "Testing score: 0.5917413967148111\n"
     ]
    }
   ],
   "source": [
    "pipe = pipe.fit(X_train, y_train)\n",
    "print('Testing score:', pipe.score(X_test, y_test))"
   ]
  },
  {
   "cell_type": "code",
   "execution_count": 33,
   "id": "17dc5035-8f29-4322-9fef-8ffb521a56e8",
   "metadata": {},
   "outputs": [
    {
     "name": "stdout",
     "output_type": "stream",
     "text": [
      "[2.02263391 1.89805012 1.2697972  1.03522585 0.99310842 0.65911555\n",
      " 0.07796744 0.04461834]\n"
     ]
    }
   ],
   "source": [
    "print(pipe.steps[1][1].explained_variance_)"
   ]
  },
  {
   "cell_type": "markdown",
   "id": "98e69564-4924-4346-af80-9a802a634764",
   "metadata": {},
   "source": [
    "## GridSearch parameter tuning"
   ]
  },
  {
   "cell_type": "code",
   "execution_count": 37,
   "id": "fed4a4b7-f1e5-487a-90e5-c3dbe577182d",
   "metadata": {},
   "outputs": [],
   "source": [
    "n_features_to_test = np.arange(1, 9)\n",
    "alpha_to_test = 2.0**np.arange(-6, 6)"
   ]
  },
  {
   "cell_type": "code",
   "execution_count": 38,
   "id": "483aa4ca-d85b-4e09-aee8-891821f4917b",
   "metadata": {},
   "outputs": [],
   "source": [
    "params = {'reduce_dim__n_components': n_features_to_test,\n",
    "          'regressor__alpha': alpha_to_test}"
   ]
  },
  {
   "cell_type": "code",
   "execution_count": 39,
   "id": "4122dfe8-7d83-466d-bcbc-9a9f5829a504",
   "metadata": {},
   "outputs": [
    {
     "name": "stdout",
     "output_type": "stream",
     "text": [
      "Fitting 5 folds for each of 96 candidates, totalling 480 fits\n",
      "final score is: 0.5917367739296608\n"
     ]
    }
   ],
   "source": [
    "from sklearn.model_selection import GridSearchCV\n",
    "gridsearch = GridSearchCV(pipe, params, verbose=1).fit(X_train, y_train)\n",
    "print('final score is:', gridsearch.score(X_test, y_test))"
   ]
  },
  {
   "cell_type": "code",
   "execution_count": 40,
   "id": "cdcfc1c2-f9eb-41cd-af3c-5c082bc74834",
   "metadata": {},
   "outputs": [
    {
     "data": {
      "text/plain": [
       "{'reduce_dim__n_components': 8, 'regressor__alpha': 4.0}"
      ]
     },
     "execution_count": 40,
     "metadata": {},
     "output_type": "execute_result"
    }
   ],
   "source": [
    "gridsearch.best_params_"
   ]
  },
  {
   "cell_type": "markdown",
   "id": "2fdaf5eb-8608-4250-9084-037d7905bb4e",
   "metadata": {},
   "source": [
    "## Pipeline tuning"
   ]
  },
  {
   "cell_type": "code",
   "execution_count": 41,
   "id": "6b8eb9ae-a445-4d02-8230-40ca8feae515",
   "metadata": {},
   "outputs": [],
   "source": [
    "scalers_to_test = [StandardScaler(), RobustScaler(), QuantileTransformer()]\n"
   ]
  },
  {
   "cell_type": "code",
   "execution_count": 43,
   "id": "c71b7732-332e-451d-bbd2-ba365e607deb",
   "metadata": {},
   "outputs": [],
   "source": [
    "params = {'scaler': scalers_to_test,\n",
    "          'reduce_dim__n_components': n_features_to_test,\n",
    "          'regressor__alpha': alpha_to_test}"
   ]
  },
  {
   "cell_type": "markdown",
   "id": "42a4b00f-c2b8-458b-b64b-0d1b7552bd89",
   "metadata": {},
   "source": [
    "Using grid search for more than on dim reduction technique"
   ]
  },
  {
   "cell_type": "code",
   "execution_count": 46,
   "id": "f33134a1-c278-424a-94c4-1b20f4b394cc",
   "metadata": {},
   "outputs": [],
   "source": [
    "params = [\n",
    "        {'scaler': scalers_to_test,\n",
    "         'reduce_dim': [PCA()],\n",
    "         'reduce_dim__n_components': n_features_to_test,\n",
    "         'regressor__alpha': alpha_to_test},\n",
    "        \n",
    "        {'scaler': scalers_to_test,\n",
    "         'reduce_dim': [SelectKBest(f_regression)],\n",
    "         'reduce_dim__k': n_features_to_test,\n",
    "         'regressor__alpha': alpha_to_test}\n",
    "        ]"
   ]
  },
  {
   "cell_type": "code",
   "execution_count": 47,
   "id": "641007b0-680b-4af9-a082-9767df280c11",
   "metadata": {},
   "outputs": [
    {
     "name": "stdout",
     "output_type": "stream",
     "text": [
      "Fitting 5 folds for each of 576 candidates, totalling 2880 fits\n",
      "Final score is: 0.5768894179599835\n"
     ]
    }
   ],
   "source": [
    "gridsearch = GridSearchCV(pipe, params, verbose=1).fit(X_train, y_train)\n",
    "print('Final score is:', gridsearch.score(X_test, y_test))"
   ]
  },
  {
   "cell_type": "code",
   "execution_count": 48,
   "id": "b04fb74e-c70a-46af-968f-b1d3caebfed8",
   "metadata": {},
   "outputs": [
    {
     "data": {
      "text/plain": [
       "{'reduce_dim': PCA(n_components=8),\n",
       " 'reduce_dim__n_components': 8,\n",
       " 'regressor__alpha': 0.03125,\n",
       " 'scaler': QuantileTransformer()}"
      ]
     },
     "execution_count": 48,
     "metadata": {},
     "output_type": "execute_result"
    }
   ],
   "source": [
    "gridsearch.best_params_"
   ]
  },
  {
   "cell_type": "code",
   "execution_count": null,
   "id": "51277b0a-5095-482c-9388-808f39ee5102",
   "metadata": {},
   "outputs": [],
   "source": []
  }
 ],
 "metadata": {
  "kernelspec": {
   "display_name": "Python 3 (ipykernel)",
   "language": "python",
   "name": "python3"
  },
  "language_info": {
   "codemirror_mode": {
    "name": "ipython",
    "version": 3
   },
   "file_extension": ".py",
   "mimetype": "text/x-python",
   "name": "python",
   "nbconvert_exporter": "python",
   "pygments_lexer": "ipython3",
   "version": "3.8.8"
  }
 },
 "nbformat": 4,
 "nbformat_minor": 5
}
