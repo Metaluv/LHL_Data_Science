{
 "cells": [
  {
   "cell_type": "code",
   "execution_count": 1,
   "id": "c210accd-0ed0-48d8-878e-719fcb426948",
   "metadata": {},
   "outputs": [],
   "source": [
    "from sklearn.svm import SVC\n",
    "from sklearn.datasets import load_iris\n",
    "\n",
    "from sklearn.model_selection import GridSearchCV\n",
    "from sklearn.pipeline import Pipeline, FeatureUnion\n",
    "\n",
    "from sklearn.decomposition import PCA\n",
    "from sklearn.feature_selection import SelectKBest"
   ]
  },
  {
   "cell_type": "code",
   "execution_count": 2,
   "id": "871b013d-766e-425d-940e-eeb4a08d8d0e",
   "metadata": {},
   "outputs": [],
   "source": [
    "iris = load_iris()\n",
    "X, y = iris['data'], iris['target']"
   ]
  },
  {
   "cell_type": "code",
   "execution_count": 3,
   "id": "6f361bcc-9369-4a5a-a9db-976a3a517d9f",
   "metadata": {},
   "outputs": [],
   "source": [
    "pca = PCA(n_components=2)\n",
    "selection = SelectKBest(k=3)"
   ]
  },
  {
   "cell_type": "code",
   "execution_count": 4,
   "id": "e8acdd1a-1073-483d-a11f-12628e246035",
   "metadata": {},
   "outputs": [],
   "source": [
    "combined_features = FeatureUnion([('pca', pca), ('univ_select', selection)])"
   ]
  },
  {
   "cell_type": "code",
   "execution_count": 5,
   "id": "587e4330-aff9-42a6-a34b-9b8f515d9463",
   "metadata": {},
   "outputs": [],
   "source": [
    "svm = SVC(kernel='linear')"
   ]
  },
  {
   "cell_type": "code",
   "execution_count": 8,
   "id": "e8f3e180-78de-4647-a881-14982bc77c65",
   "metadata": {},
   "outputs": [
    {
     "name": "stdout",
     "output_type": "stream",
     "text": [
      "Fitting 5 folds for each of 27 candidates, totalling 135 fits\n"
     ]
    },
    {
     "data": {
      "text/plain": [
       "GridSearchCV(estimator=Pipeline(steps=[('features',\n",
       "                                        FeatureUnion(transformer_list=[('pca',\n",
       "                                                                        PCA(n_components=2)),\n",
       "                                                                       ('univ_select',\n",
       "                                                                        SelectKBest(k=3))])),\n",
       "                                       ('svm', SVC(kernel='linear'))]),\n",
       "             param_grid={'features__pca__n_components': [1, 2, 3],\n",
       "                         'features__univ_select__k': [1, 2, 3],\n",
       "                         'svm__C': [0.1, 1, 10]},\n",
       "             verbose=1)"
      ]
     },
     "execution_count": 8,
     "metadata": {},
     "output_type": "execute_result"
    }
   ],
   "source": [
    "pipeline = Pipeline([('features', combined_features), \n",
    "                     ('svm', svm)])\n",
    "\n",
    "param_grid = {'features__pca__n_components': [1, 2, 3],\n",
    "              'features__univ_select__k': [1, 2, 3],\n",
    "              'svm__C': [0.1, 1, 10]}\n",
    "\n",
    "grid_search = GridSearchCV(pipeline, param_grid, verbose=1, refit=True)\n",
    "\n",
    "grid_search.fit(X, y)"
   ]
  },
  {
   "cell_type": "code",
   "execution_count": 9,
   "id": "c9220e0e-ed17-41e6-85cc-4dfb348b67ac",
   "metadata": {},
   "outputs": [
    {
     "name": "stdout",
     "output_type": "stream",
     "text": [
      "{'features__pca__n_components': 2, 'features__univ_select__k': 3, 'svm__C': 1}\n"
     ]
    }
   ],
   "source": [
    "print(grid_search.best_params_)"
   ]
  },
  {
   "cell_type": "code",
   "execution_count": null,
   "id": "86009df1-faa9-49dc-a6af-23960238674c",
   "metadata": {},
   "outputs": [],
   "source": []
  }
 ],
 "metadata": {
  "kernelspec": {
   "display_name": "Python 3 (ipykernel)",
   "language": "python",
   "name": "python3"
  },
  "language_info": {
   "codemirror_mode": {
    "name": "ipython",
    "version": 3
   },
   "file_extension": ".py",
   "mimetype": "text/x-python",
   "name": "python",
   "nbconvert_exporter": "python",
   "pygments_lexer": "ipython3",
   "version": "3.8.8"
  }
 },
 "nbformat": 4,
 "nbformat_minor": 5
}
