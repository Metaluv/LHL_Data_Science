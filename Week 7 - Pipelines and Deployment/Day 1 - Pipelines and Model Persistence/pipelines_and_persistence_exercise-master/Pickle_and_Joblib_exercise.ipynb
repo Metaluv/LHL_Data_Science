{
 "cells": [
  {
   "cell_type": "markdown",
   "metadata": {},
   "source": [
    "# Pickle & Joblib exercise\n",
    "____________________________"
   ]
  },
  {
   "cell_type": "code",
   "execution_count": 17,
   "metadata": {
    "ExecuteTime": {
     "end_time": "2020-04-27T12:33:07.974787Z",
     "start_time": "2020-04-27T12:33:07.971202Z"
    }
   },
   "outputs": [],
   "source": [
    "# import numpy\n",
    "import numpy as np \n",
    "\n",
    "from sklearn.model_selection import train_test_split\n"
   ]
  },
  {
   "cell_type": "code",
   "execution_count": 7,
   "metadata": {
    "ExecuteTime": {
     "end_time": "2020-04-27T12:33:09.150112Z",
     "start_time": "2020-04-27T12:33:08.328246Z"
    }
   },
   "outputs": [],
   "source": [
    " # Load iris dataset from sklearn.datasets\n",
    "from sklearn.datasets import load_iris \n",
    "iris = load_iris() "
   ]
  },
  {
   "cell_type": "markdown",
   "metadata": {},
   "source": [
    "## Go through the following tasks to get familar with the syntax of saving your models.\n",
    "_____________________"
   ]
  },
  {
   "cell_type": "markdown",
   "metadata": {},
   "source": [
    "**Task 1: Create x, y from the iris dataset.**"
   ]
  },
  {
   "cell_type": "code",
   "execution_count": 8,
   "metadata": {
    "ExecuteTime": {
     "end_time": "2020-04-27T12:33:09.226257Z",
     "start_time": "2020-04-27T12:33:09.222486Z"
    }
   },
   "outputs": [],
   "source": [
    "X = iris.data\n",
    "y = iris.target"
   ]
  },
  {
   "cell_type": "markdown",
   "metadata": {},
   "source": [
    "**Task 2: Split the dataset into a train and test set.**"
   ]
  },
  {
   "cell_type": "code",
   "execution_count": 9,
   "metadata": {
    "ExecuteTime": {
     "end_time": "2020-04-27T12:33:09.367381Z",
     "start_time": "2020-04-27T12:33:09.337912Z"
    }
   },
   "outputs": [],
   "source": [
    "X_train, X_test, y_train, y_test = train_test_split(X, y, test_size=0.3)"
   ]
  },
  {
   "cell_type": "markdown",
   "metadata": {},
   "source": [
    "**Task 3: Import `KNeighborsClassifier` model from sklearn.**"
   ]
  },
  {
   "cell_type": "code",
   "execution_count": 12,
   "metadata": {
    "ExecuteTime": {
     "end_time": "2020-04-27T12:33:09.606733Z",
     "start_time": "2020-04-27T12:33:09.540574Z"
    }
   },
   "outputs": [],
   "source": [
    "from sklearn.neighbors import KNeighborsClassifier"
   ]
  },
  {
   "cell_type": "markdown",
   "metadata": {},
   "source": [
    "**Task 4: Create KNeighborsClassifier model with n_neighbors = 3.**"
   ]
  },
  {
   "cell_type": "code",
   "execution_count": 13,
   "metadata": {
    "ExecuteTime": {
     "end_time": "2020-04-27T12:33:09.921937Z",
     "start_time": "2020-04-27T12:33:09.916013Z"
    }
   },
   "outputs": [],
   "source": [
    "model = KNeighborsClassifier(n_neighbors=3)"
   ]
  },
  {
   "cell_type": "markdown",
   "metadata": {},
   "source": [
    "**Task 5: Train model**"
   ]
  },
  {
   "cell_type": "code",
   "execution_count": 14,
   "metadata": {
    "ExecuteTime": {
     "end_time": "2020-04-27T12:33:10.277672Z",
     "start_time": "2020-04-27T12:33:10.259522Z"
    }
   },
   "outputs": [
    {
     "data": {
      "text/plain": [
       "KNeighborsClassifier(n_neighbors=3)"
      ]
     },
     "execution_count": 14,
     "metadata": {},
     "output_type": "execute_result"
    }
   ],
   "source": [
    "model.fit(X_train,y_train)"
   ]
  },
  {
   "cell_type": "markdown",
   "metadata": {},
   "source": [
    "________________________\n",
    "#### Pickle"
   ]
  },
  {
   "cell_type": "markdown",
   "metadata": {},
   "source": [
    "**Task 6: import pickle**"
   ]
  },
  {
   "cell_type": "code",
   "execution_count": 19,
   "metadata": {
    "ExecuteTime": {
     "end_time": "2020-04-27T12:33:10.665175Z",
     "start_time": "2020-04-27T12:33:10.656352Z"
    }
   },
   "outputs": [],
   "source": [
    "import pickle"
   ]
  },
  {
   "cell_type": "markdown",
   "metadata": {},
   "source": [
    "**Task 7: Save the trained model as a pickle file.**"
   ]
  },
  {
   "cell_type": "code",
   "execution_count": 20,
   "metadata": {
    "ExecuteTime": {
     "end_time": "2020-04-27T12:33:11.074246Z",
     "start_time": "2020-04-27T12:33:11.070272Z"
    }
   },
   "outputs": [],
   "source": [
    "with open('KN_model.sav', 'wb') as fh:\n",
    "    pickle.dump(model, fh)"
   ]
  },
  {
   "cell_type": "markdown",
   "metadata": {},
   "source": [
    "**Task 8: Load the pickle file as a new sklearn model.**"
   ]
  },
  {
   "cell_type": "code",
   "execution_count": 21,
   "metadata": {
    "ExecuteTime": {
     "end_time": "2020-04-27T12:33:11.440727Z",
     "start_time": "2020-04-27T12:33:11.434953Z"
    }
   },
   "outputs": [],
   "source": [
    "with open('KN_model.sav', 'rb') as openfile:\n",
    "    model_load = pickle.load(openfile)\n",
    "    "
   ]
  },
  {
   "cell_type": "markdown",
   "metadata": {},
   "source": [
    "**Task 9: Use the new model to make predictions.**"
   ]
  },
  {
   "cell_type": "code",
   "execution_count": 22,
   "metadata": {
    "ExecuteTime": {
     "end_time": "2020-04-27T12:33:11.831619Z",
     "start_time": "2020-04-27T12:33:11.822068Z"
    }
   },
   "outputs": [
    {
     "data": {
      "text/plain": [
       "array([1, 1, 1, 0, 0, 1, 2, 1, 0, 2, 0, 0, 1, 0, 2, 2, 1, 2, 0, 2, 0, 2,\n",
       "       0, 2, 2, 1, 1, 1, 0, 1, 2, 0, 0, 0, 2, 1, 1, 0, 2, 1, 1, 1, 0, 1,\n",
       "       2])"
      ]
     },
     "execution_count": 22,
     "metadata": {},
     "output_type": "execute_result"
    }
   ],
   "source": [
    "pred = model.predict(X_test)\n",
    "pred"
   ]
  },
  {
   "cell_type": "markdown",
   "metadata": {},
   "source": [
    "_________________________\n",
    "### joblib\n",
    "\n",
    "**Task 10: Import joblib from sklearn.externals**"
   ]
  },
  {
   "cell_type": "code",
   "execution_count": 23,
   "metadata": {
    "ExecuteTime": {
     "end_time": "2020-04-27T12:33:13.322831Z",
     "start_time": "2020-04-27T12:33:13.313959Z"
    }
   },
   "outputs": [],
   "source": [
    "import joblib"
   ]
  },
  {
   "cell_type": "markdown",
   "metadata": {},
   "source": [
    "**Task 11: Save the model using joblib.**"
   ]
  },
  {
   "cell_type": "code",
   "execution_count": 24,
   "metadata": {
    "ExecuteTime": {
     "end_time": "2020-04-27T12:33:13.678948Z",
     "start_time": "2020-04-27T12:33:13.667211Z"
    }
   },
   "outputs": [
    {
     "data": {
      "text/plain": [
       "['KN_model_joblib.sav']"
      ]
     },
     "execution_count": 24,
     "metadata": {},
     "output_type": "execute_result"
    }
   ],
   "source": [
    "joblib.dump(model, 'KN_model_joblib.sav')"
   ]
  },
  {
   "cell_type": "markdown",
   "metadata": {},
   "source": [
    "**Task 12: Load the model from the file.**"
   ]
  },
  {
   "cell_type": "code",
   "execution_count": 25,
   "metadata": {
    "ExecuteTime": {
     "end_time": "2020-04-27T12:33:14.057130Z",
     "start_time": "2020-04-27T12:33:14.044397Z"
    }
   },
   "outputs": [],
   "source": [
    "joblib_model_load = joblib.load('KN_model_joblib.sav')"
   ]
  },
  {
   "cell_type": "markdown",
   "metadata": {},
   "source": [
    "**Task 13: Use the loaded model to make predictions.**"
   ]
  },
  {
   "cell_type": "code",
   "execution_count": 26,
   "metadata": {
    "ExecuteTime": {
     "end_time": "2020-04-27T12:33:14.413383Z",
     "start_time": "2020-04-27T12:33:14.401445Z"
    }
   },
   "outputs": [],
   "source": [
    "pred = joblib_model_load.predict(X_test)"
   ]
  },
  {
   "cell_type": "code",
   "execution_count": 27,
   "metadata": {},
   "outputs": [
    {
     "data": {
      "text/plain": [
       "array([1, 1, 1, 0, 0, 1, 2, 1, 0, 2, 0, 0, 1, 0, 2, 2, 1, 2, 0, 2, 0, 2,\n",
       "       0, 2, 2, 1, 1, 1, 0, 1, 2, 0, 0, 0, 2, 1, 1, 0, 2, 1, 1, 1, 0, 1,\n",
       "       2])"
      ]
     },
     "execution_count": 27,
     "metadata": {},
     "output_type": "execute_result"
    }
   ],
   "source": [
    "pred"
   ]
  },
  {
   "cell_type": "code",
   "execution_count": null,
   "metadata": {},
   "outputs": [],
   "source": []
  }
 ],
 "metadata": {
  "kernelspec": {
   "display_name": "Python 3 (ipykernel)",
   "language": "python",
   "name": "python3"
  },
  "language_info": {
   "codemirror_mode": {
    "name": "ipython",
    "version": 3
   },
   "file_extension": ".py",
   "mimetype": "text/x-python",
   "name": "python",
   "nbconvert_exporter": "python",
   "pygments_lexer": "ipython3",
   "version": "3.8.8"
  },
  "toc": {
   "base_numbering": 1,
   "nav_menu": {},
   "number_sections": true,
   "sideBar": true,
   "skip_h1_title": false,
   "title_cell": "Table of Contents",
   "title_sidebar": "Contents",
   "toc_cell": false,
   "toc_position": {},
   "toc_section_display": true,
   "toc_window_display": false
  },
  "varInspector": {
   "cols": {
    "lenName": 16,
    "lenType": 16,
    "lenVar": 40
   },
   "kernels_config": {
    "python": {
     "delete_cmd_postfix": "",
     "delete_cmd_prefix": "del ",
     "library": "var_list.py",
     "varRefreshCmd": "print(var_dic_list())"
    },
    "r": {
     "delete_cmd_postfix": ") ",
     "delete_cmd_prefix": "rm(",
     "library": "var_list.r",
     "varRefreshCmd": "cat(var_dic_list()) "
    }
   },
   "types_to_exclude": [
    "module",
    "function",
    "builtin_function_or_method",
    "instance",
    "_Feature"
   ],
   "window_display": false
  }
 },
 "nbformat": 4,
 "nbformat_minor": 4
}
