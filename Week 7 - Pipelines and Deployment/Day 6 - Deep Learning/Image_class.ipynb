{
 "cells": [
  {
   "cell_type": "code",
   "execution_count": 1,
   "id": "63f4db5e-b4fc-490c-ba56-e8b5665a130f",
   "metadata": {},
   "outputs": [],
   "source": [
    "from tensorflow.keras.datasets import mnist\n",
    "from tensorflow.keras import models\n",
    "from tensorflow.keras import layers\n",
    "from tensorflow.keras.utils import to_categorical"
   ]
  },
  {
   "cell_type": "code",
   "execution_count": 2,
   "id": "6b785550-f69e-4445-b7ce-56fc45541364",
   "metadata": {},
   "outputs": [],
   "source": [
    "(train_images, train_labels), (test_images, test_labels) = mnist.load_data()"
   ]
  },
  {
   "cell_type": "code",
   "execution_count": 3,
   "id": "55fe71df-62c3-4c4b-ab7b-e8c0528a9741",
   "metadata": {},
   "outputs": [
    {
     "name": "stdout",
     "output_type": "stream",
     "text": [
      "(60000, 28, 28)\n",
      "(60000,)\n"
     ]
    }
   ],
   "source": [
    "print(train_images.shape)\n",
    "print(train_labels.shape)"
   ]
  },
  {
   "cell_type": "code",
   "execution_count": 4,
   "id": "adfc3f82-ed53-4444-a70b-9cb41545e759",
   "metadata": {},
   "outputs": [
    {
     "name": "stderr",
     "output_type": "stream",
     "text": [
      "2021-12-14 03:57:32.155349: W tensorflow/stream_executor/platform/default/dso_loader.cc:64] Could not load dynamic library 'libcuda.so.1'; dlerror: libcuda.so.1: cannot open shared object file: No such file or directory\n",
      "2021-12-14 03:57:32.155412: W tensorflow/stream_executor/cuda/cuda_driver.cc:269] failed call to cuInit: UNKNOWN ERROR (303)\n",
      "2021-12-14 03:57:32.155444: I tensorflow/stream_executor/cuda/cuda_diagnostics.cc:156] kernel driver does not appear to be running on this host (bb78afac7a3d): /proc/driver/nvidia/version does not exist\n",
      "2021-12-14 03:57:32.155915: I tensorflow/core/platform/cpu_feature_guard.cc:142] This TensorFlow binary is optimized with oneAPI Deep Neural Network Library (oneDNN) to use the following CPU instructions in performance-critical operations:  SSE4.1 SSE4.2 AVX AVX2\n",
      "To enable them in other operations, rebuild TensorFlow with the appropriate compiler flags.\n"
     ]
    }
   ],
   "source": [
    "network = models.Sequential()\n",
    "network.add(layers.Dense(784, activation='relu', input_shape=(28 * 28,)))\n",
    "network.add(layers.Dense(784, activation='relu', input_shape=(28 * 28,)))\n",
    "network.add(layers.Dense(10, activation='softmax'))\n",
    "network.compile(optimizer='adam',\n",
    "                loss='categorical_crossentropy',\n",
    "                metrics=['accuracy'])"
   ]
  },
  {
   "cell_type": "code",
   "execution_count": 5,
   "id": "1af2e138-ac39-49a4-9956-0f45f2b1b7c8",
   "metadata": {},
   "outputs": [],
   "source": [
    "train_images = train_images.reshape((60000, 28 * 28))\n",
    "train_images = train_images.astype('float32') / 255\n",
    "test_images = test_images.reshape((10000, 28 * 28))\n",
    "test_images = test_images.astype('float32') / 255"
   ]
  },
  {
   "cell_type": "code",
   "execution_count": 6,
   "id": "c619ff8b-68f1-4272-b0b1-361ae5903d9a",
   "metadata": {},
   "outputs": [],
   "source": [
    "train_labels = to_categorical(train_labels)\n",
    "test_labels = to_categorical(test_labels)"
   ]
  },
  {
   "cell_type": "code",
   "execution_count": 7,
   "id": "bcb87fd8-d937-4898-ae0a-7c805f2c12e0",
   "metadata": {},
   "outputs": [
    {
     "name": "stderr",
     "output_type": "stream",
     "text": [
      "2021-12-14 03:57:32.821768: I tensorflow/compiler/mlir/mlir_graph_optimization_pass.cc:185] None of the MLIR Optimization Passes are enabled (registered 2)\n"
     ]
    },
    {
     "name": "stdout",
     "output_type": "stream",
     "text": [
      "Epoch 1/10\n",
      "300/300 [==============================] - 4s 11ms/step - loss: 0.2173 - accuracy: 0.9358\n",
      "Epoch 2/10\n",
      "300/300 [==============================] - 3s 12ms/step - loss: 0.0756 - accuracy: 0.9768\n",
      "Epoch 3/10\n",
      "300/300 [==============================] - 4s 12ms/step - loss: 0.0504 - accuracy: 0.9843\n",
      "Epoch 4/10\n",
      "300/300 [==============================] - 3s 11ms/step - loss: 0.0315 - accuracy: 0.9899\n",
      "Epoch 5/10\n",
      "300/300 [==============================] - 4s 12ms/step - loss: 0.0246 - accuracy: 0.9918\n",
      "Epoch 6/10\n",
      "300/300 [==============================] - 4s 12ms/step - loss: 0.0177 - accuracy: 0.9940\n",
      "Epoch 7/10\n",
      "300/300 [==============================] - 4s 12ms/step - loss: 0.0165 - accuracy: 0.9943\n",
      "Epoch 8/10\n",
      "300/300 [==============================] - 4s 12ms/step - loss: 0.0156 - accuracy: 0.9947\n",
      "Epoch 9/10\n",
      "300/300 [==============================] - 4s 12ms/step - loss: 0.0159 - accuracy: 0.9943\n",
      "Epoch 10/10\n",
      "300/300 [==============================] - 4s 12ms/step - loss: 0.0127 - accuracy: 0.9958\n"
     ]
    },
    {
     "data": {
      "text/plain": [
       "<keras.callbacks.History at 0x7f8ff52fdb50>"
      ]
     },
     "execution_count": 7,
     "metadata": {},
     "output_type": "execute_result"
    }
   ],
   "source": [
    "network.fit(train_images, train_labels, epochs=10, batch_size=200)"
   ]
  },
  {
   "cell_type": "code",
   "execution_count": 8,
   "id": "d615f984-acab-4138-939a-9e52afe08919",
   "metadata": {},
   "outputs": [
    {
     "name": "stdout",
     "output_type": "stream",
     "text": [
      "313/313 [==============================] - 1s 3ms/step - loss: 0.0748 - accuracy: 0.9830\n",
      "test_acc: 0.9829999804496765 test_loss 0.07483728975057602\n"
     ]
    }
   ],
   "source": [
    "test_loss, test_acc = network.evaluate(test_images, test_labels)\n",
    "print('test_acc:', test_acc, 'test_loss', test_loss)"
   ]
  },
  {
   "cell_type": "code",
   "execution_count": null,
   "id": "1e992f26-595a-40f9-b8ce-5149119976da",
   "metadata": {},
   "outputs": [],
   "source": []
  }
 ],
 "metadata": {
  "kernelspec": {
   "display_name": "Python 3 (ipykernel)",
   "language": "python",
   "name": "python3"
  },
  "language_info": {
   "codemirror_mode": {
    "name": "ipython",
    "version": 3
   },
   "file_extension": ".py",
   "mimetype": "text/x-python",
   "name": "python",
   "nbconvert_exporter": "python",
   "pygments_lexer": "ipython3",
   "version": "3.9.7"
  }
 },
 "nbformat": 4,
 "nbformat_minor": 5
}
