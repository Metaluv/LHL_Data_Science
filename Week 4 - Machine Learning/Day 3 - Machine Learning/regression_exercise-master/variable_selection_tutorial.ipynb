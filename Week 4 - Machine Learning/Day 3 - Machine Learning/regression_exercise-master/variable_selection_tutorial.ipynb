{
 "cells": [
  {
   "cell_type": "code",
   "execution_count": 38,
   "id": "ef9f8533-b051-4640-9b71-325353c57419",
   "metadata": {},
   "outputs": [],
   "source": [
    "import pandas as pd\n",
    "import numpy as np\n",
    "from sklearn.feature_selection import VarianceThreshold, f_regression, SelectKBest\n",
    "import statsmodels.api as sm\n",
    "from sklearn.linear_model import LinearRegression"
   ]
  },
  {
   "cell_type": "code",
   "execution_count": 18,
   "id": "f6d9e9f6-ba35-477a-857d-fd32af40465c",
   "metadata": {},
   "outputs": [
    {
     "data": {
      "text/plain": [
       "(1458, 60)"
      ]
     },
     "execution_count": 18,
     "metadata": {},
     "output_type": "execute_result"
    }
   ],
   "source": [
    "df_numeric = pd.read_csv('data/df_numeric.csv')\n",
    "df_numeric.shape"
   ]
  },
  {
   "cell_type": "code",
   "execution_count": 19,
   "id": "4d82e308-4e1a-4c61-b919-3dc6d86f890e",
   "metadata": {},
   "outputs": [],
   "source": [
    "y = df_numeric.SalePrice\n",
    "df_numeric.drop(\"SalePrice\", axis=1,inplace=True)"
   ]
  },
  {
   "cell_type": "markdown",
   "id": "c5526a0c-5188-4161-9820-d1c4299cca87",
   "metadata": {},
   "source": [
    "## Removing Features With Small Variance"
   ]
  },
  {
   "cell_type": "code",
   "execution_count": 20,
   "id": "f9b5d9b2-82cb-4053-90c9-288ade60165e",
   "metadata": {},
   "outputs": [],
   "source": [
    "vt = VarianceThreshold(0.1)\n",
    "df_transformed = vt.fit_transform(df_numeric)"
   ]
  },
  {
   "cell_type": "code",
   "execution_count": 21,
   "id": "69d9b6d6-8736-4156-a819-f12b8f99330b",
   "metadata": {},
   "outputs": [
    {
     "data": {
      "text/plain": [
       "(1458, 50)"
      ]
     },
     "execution_count": 21,
     "metadata": {},
     "output_type": "execute_result"
    }
   ],
   "source": [
    "df_transformed.shape"
   ]
  },
  {
   "cell_type": "code",
   "execution_count": 22,
   "id": "42e99b4c-1afb-4da8-a536-d6e3e79a2852",
   "metadata": {},
   "outputs": [],
   "source": [
    "# columns we have selected\n",
    "# get_support() is method of VarianceThreshold and stores boolean of each variable in the numpy array.\n",
    "selected_columns = df_numeric.columns[vt.get_support()]\n",
    "# transforming an array back to a data-frame preserves column labels\n",
    "df_transformed = pd.DataFrame(df_transformed, columns = selected_columns)"
   ]
  },
  {
   "cell_type": "markdown",
   "id": "8c5007c8-8caf-4001-ba06-9d4dbdde10f1",
   "metadata": {},
   "source": [
    "## Removing Correlated Features"
   ]
  },
  {
   "cell_type": "markdown",
   "id": "f03105ef-020e-4e66-9c90-0451154e7146",
   "metadata": {},
   "source": [
    "The goal of this part is to remove one feature from each highly correlated pair.\n",
    "\n",
    "We are going to do this in 3 steps:\n",
    "\n",
    "1 Calculate a correlation matrix  \n",
    "2 Get pairs of highly correlated features  \n",
    "3 Remove correlated columns  "
   ]
  },
  {
   "cell_type": "code",
   "execution_count": 25,
   "id": "0b5f3e54-b2d2-4112-a1af-84f22dd62e3c",
   "metadata": {},
   "outputs": [],
   "source": [
    "# step 1\n",
    "df_corr = df_transformed.corr().abs()\n",
    "\n",
    "# step 2\n",
    "indices = np.where(df_corr > 0.8) \n",
    "indices = [(df_corr.index[x], df_corr.columns[y]) \n",
    "for x, y in zip(*indices)\n",
    "    if x != y and x < y]\n",
    "\n",
    "# step 3\n",
    "for idx in indices: #each pair\n",
    "    try:\n",
    "        df_transformed.drop(idx[1], axis = 1, inplace=True)\n",
    "    except KeyError:\n",
    "        pass"
   ]
  },
  {
   "cell_type": "code",
   "execution_count": 26,
   "id": "2ad97ef7-b4a9-410f-b974-ce87d849981e",
   "metadata": {},
   "outputs": [
    {
     "name": "stdout",
     "output_type": "stream",
     "text": [
      "[('TotalBsmtSF', '1stFlrSF'), ('GrLivArea', 'TotRmsAbvGrd'), ('GrLivArea', '1stFlr_2ndFlr_SF'), ('TotRmsAbvGrd', '1stFlr_2ndFlr_SF'), ('GarageCars', 'GarageArea'), ('GarageQual', 'GarageCond')]\n"
     ]
    }
   ],
   "source": [
    "print(indices)"
   ]
  },
  {
   "cell_type": "code",
   "execution_count": 27,
   "id": "7ab09195-1ed1-4b01-bd56-ff5e891752f0",
   "metadata": {},
   "outputs": [
    {
     "data": {
      "text/plain": [
       "(1458, 45)"
      ]
     },
     "execution_count": 27,
     "metadata": {},
     "output_type": "execute_result"
    }
   ],
   "source": [
    "df_transformed.shape"
   ]
  },
  {
   "cell_type": "markdown",
   "id": "7e861dcb-9a93-4386-8533-faa6a2b7a47e",
   "metadata": {},
   "source": [
    "## Forward Regression"
   ]
  },
  {
   "cell_type": "markdown",
   "id": "7c1d7930-eecf-4a39-b60c-d3eaa60d1391",
   "metadata": {},
   "source": [
    "We have removed the features with no information and correlated features so far. The last thing we will do before modeling is to select the k-best features in terms of the relationship with the target variable. We will use the forward wrapper method for that:"
   ]
  },
  {
   "cell_type": "code",
   "execution_count": 29,
   "id": "5a0a4fe0-4fa4-4035-857b-952feacb8594",
   "metadata": {},
   "outputs": [],
   "source": [
    "skb = SelectKBest(f_regression, k=10)\n",
    "X = skb.fit_transform(df_transformed, y)"
   ]
  },
  {
   "cell_type": "code",
   "execution_count": 30,
   "id": "0ef85fd4-0377-4121-8456-df9a669e73ce",
   "metadata": {},
   "outputs": [],
   "source": [
    "# this will give us the position of top 10 columns\n",
    "skb.get_support()\n",
    "# column names\n",
    "df_transformed.columns[skb.get_support()]\n",
    "X = pd.DataFrame(X,columns=df_transformed.columns[skb.get_support()])"
   ]
  },
  {
   "cell_type": "code",
   "execution_count": 31,
   "id": "6936fb69-8f09-40b6-83d4-b32ee5267301",
   "metadata": {},
   "outputs": [
    {
     "data": {
      "text/plain": [
       "(1458, 10)"
      ]
     },
     "execution_count": 31,
     "metadata": {},
     "output_type": "execute_result"
    }
   ],
   "source": []
  },
  {
   "cell_type": "markdown",
   "id": "a6b3eef9-2d5b-427f-bcc6-b2062fb4b554",
   "metadata": {},
   "source": [
    "# Linear Regression"
   ]
  },
  {
   "cell_type": "markdown",
   "id": "bc5522bd-d585-4d9f-be67-c64f746d330d",
   "metadata": {},
   "source": [
    "## statsmodels"
   ]
  },
  {
   "cell_type": "markdown",
   "id": "2e8d9b60-492e-4b5e-bb26-828efa0817ad",
   "metadata": {},
   "source": [
    "We have to add an intercept to our predictive dataset to also estimate the intercept. If we don't do that the intercept will be considered 0."
   ]
  },
  {
   "cell_type": "code",
   "execution_count": 34,
   "id": "1c658a92-04f9-42c7-90d3-6ff8cb839146",
   "metadata": {},
   "outputs": [],
   "source": [
    "X = sm.add_constant(X)"
   ]
  },
  {
   "cell_type": "code",
   "execution_count": 35,
   "id": "9bb306cb-88c8-4ee2-b98d-dc121085d25a",
   "metadata": {},
   "outputs": [],
   "source": [
    "lin_reg = sm.OLS(y,X)"
   ]
  },
  {
   "cell_type": "code",
   "execution_count": 36,
   "id": "902183ff-b41a-4c53-b13d-effc05fe1887",
   "metadata": {},
   "outputs": [
    {
     "data": {
      "text/plain": [
       "statsmodels.regression.linear_model.OLS"
      ]
     },
     "execution_count": 36,
     "metadata": {},
     "output_type": "execute_result"
    }
   ],
   "source": [
    "type(lin_reg)"
   ]
  },
  {
   "cell_type": "code",
   "execution_count": 37,
   "id": "f42878fd-2416-428c-8dbb-67cec2ea1d7e",
   "metadata": {},
   "outputs": [
    {
     "name": "stdout",
     "output_type": "stream",
     "text": [
      "                            OLS Regression Results                            \n",
      "==============================================================================\n",
      "Dep. Variable:              SalePrice   R-squared:                       0.835\n",
      "Model:                            OLS   Adj. R-squared:                  0.834\n",
      "Method:                 Least Squares   F-statistic:                     732.0\n",
      "Date:                Wed, 17 Nov 2021   Prob (F-statistic):               0.00\n",
      "Time:                        20:34:27   Log-Likelihood:                -17206.\n",
      "No. Observations:                1458   AIC:                         3.443e+04\n",
      "Df Residuals:                    1447   BIC:                         3.449e+04\n",
      "Df Model:                          10                                         \n",
      "Covariance Type:            nonrobust                                         \n",
      "================================================================================\n",
      "                   coef    std err          t      P>|t|      [0.025      0.975]\n",
      "--------------------------------------------------------------------------------\n",
      "const        -8.992e+05   8.93e+04    -10.069      0.000   -1.07e+06   -7.24e+05\n",
      "OverallQual   5507.5419   1492.215      3.691      0.000    2580.406    8434.678\n",
      "YearBuilt      392.2864     47.578      8.245      0.000     298.958     485.615\n",
      "ExterQual     1.447e+04   2498.908      5.789      0.000    9564.917    1.94e+04\n",
      "BsmtQual       920.7862   1443.233      0.638      0.524   -1910.266    3751.839\n",
      "TotalBsmtSF     42.1385      2.705     15.581      0.000      36.833      47.444\n",
      "GrLivArea       66.8550      2.624     25.476      0.000      61.707      72.003\n",
      "FullBath     -1.122e+04   2268.762     -4.945      0.000   -1.57e+04   -6768.180\n",
      "KitchenQual   1.147e+04   1981.665      5.788      0.000    7582.652    1.54e+04\n",
      "GarageCars    9314.4359   1565.232      5.951      0.000    6244.069    1.24e+04\n",
      "OverallGrade  1078.1960    150.946      7.143      0.000     782.100    1374.292\n",
      "==============================================================================\n",
      "Omnibus:                      574.228   Durbin-Watson:                   1.967\n",
      "Prob(Omnibus):                  0.000   Jarque-Bera (JB):             5878.203\n",
      "Skew:                           1.540   Prob(JB):                         0.00\n",
      "Kurtosis:                      12.342   Cond. No.                     2.87e+05\n",
      "==============================================================================\n",
      "\n",
      "Notes:\n",
      "[1] Standard Errors assume that the covariance matrix of the errors is correctly specified.\n",
      "[2] The condition number is large, 2.87e+05. This might indicate that there are\n",
      "strong multicollinearity or other numerical problems.\n"
     ]
    }
   ],
   "source": [
    "model = lin_reg.fit()\n",
    "print_model = model.summary()\n",
    "print(print_model)"
   ]
  },
  {
   "cell_type": "markdown",
   "id": "47606990-8de6-4a4d-8c77-0f9605bf38cc",
   "metadata": {},
   "source": [
    "## sklearn"
   ]
  },
  {
   "cell_type": "code",
   "execution_count": 39,
   "id": "e419985e-b1f5-43ca-874c-a5b97b804692",
   "metadata": {},
   "outputs": [
    {
     "data": {
      "text/plain": [
       "LinearRegression()"
      ]
     },
     "execution_count": 39,
     "metadata": {},
     "output_type": "execute_result"
    }
   ],
   "source": [
    "regressor = LinearRegression()\n",
    "regressor.fit(X,y)"
   ]
  },
  {
   "cell_type": "markdown",
   "id": "cd8e8371-6bd6-47a7-9cd1-e706345d6810",
   "metadata": {},
   "source": [
    " In sklearn, we don't have to add a constant to a dataset. We have to set this parameter to the value True if we want to compute an intercept as well."
   ]
  },
  {
   "cell_type": "code",
   "execution_count": 41,
   "id": "5dd8d209-b40e-41e7-bd9d-bd67597ef1c6",
   "metadata": {},
   "outputs": [
    {
     "name": "stdout",
     "output_type": "stream",
     "text": [
      "[     0.           5507.54189138    392.2863556   14466.78601472\n",
      "    920.78618122     42.13854481     66.85496149 -11218.59562134\n",
      "  11469.89475761   9314.43585305   1078.19597724]\n"
     ]
    }
   ],
   "source": [
    "print(regressor.coef_)"
   ]
  },
  {
   "cell_type": "code",
   "execution_count": 42,
   "id": "39ff1730-8c0b-4d3d-b334-583060946038",
   "metadata": {},
   "outputs": [
    {
     "data": {
      "text/plain": [
       "0.83494920713919"
      ]
     },
     "execution_count": 42,
     "metadata": {},
     "output_type": "execute_result"
    }
   ],
   "source": [
    "regressor.score(X,y)"
   ]
  },
  {
   "cell_type": "code",
   "execution_count": null,
   "id": "bc2b4cc9-c4ec-4cf0-9c0e-f5b440bdf77e",
   "metadata": {},
   "outputs": [],
   "source": []
  }
 ],
 "metadata": {
  "kernelspec": {
   "display_name": "py3.6",
   "language": "python",
   "name": "py3.6"
  },
  "language_info": {
   "codemirror_mode": {
    "name": "ipython",
    "version": 3
   },
   "file_extension": ".py",
   "mimetype": "text/x-python",
   "name": "python",
   "nbconvert_exporter": "python",
   "pygments_lexer": "ipython3",
   "version": "3.6.13"
  }
 },
 "nbformat": 4,
 "nbformat_minor": 5
}
