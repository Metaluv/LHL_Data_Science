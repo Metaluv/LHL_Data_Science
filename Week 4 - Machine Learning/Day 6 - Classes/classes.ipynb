{
 "cells": [
  {
   "cell_type": "markdown",
   "id": "7f91e122-bb6e-4c07-a99a-65048a3a532f",
   "metadata": {},
   "source": [
    "# Classes in python"
   ]
  },
  {
   "cell_type": "code",
   "execution_count": 1,
   "id": "62ca1aa3-433d-48f1-b202-08cf1d0e5857",
   "metadata": {},
   "outputs": [],
   "source": [
    "class Employee:\n",
    "    \n",
    "    num_of_emps = 0\n",
    "    raise_amount = 1.04\n",
    "        \n",
    "    def __init__(self,first, last, pay):\n",
    "        self.first = first\n",
    "        self.last = last\n",
    "        self.pay = pay\n",
    "        \n",
    "        Employee.num_of_emps += 1\n",
    "    \n",
    "    \n",
    "    @property\n",
    "    def full_name(self):\n",
    "        return f'{self.first} {self.last}'\n",
    "    \n",
    "    @full_name.setter\n",
    "    def full_name(self, name):\n",
    "        first, last = name.split(' ')\n",
    "        self.first = first\n",
    "        self.last = last\n",
    "        \n",
    "    @full_name.deleter\n",
    "    def full_name(self):\n",
    "        print('Delete Name!')\n",
    "        self.first = None\n",
    "        self.last = None\n",
    "        \n",
    "    @property\n",
    "    def email(self):\n",
    "        return f'{self.first}.{self.last}@company.com'\n",
    "    \n",
    "    def apply_raise(self):\n",
    "        self.pay = int(self.pay * self.raise_amount)\n",
    "    \n",
    "    def __repr__(self):\n",
    "        return \"Employee('{}', '{}', '{}')\".format(self.first, self.last, self.pay)\n",
    "    \n",
    "    def __str__(self):\n",
    "        return \"{} - {}\".format(self.full_name, self.email)\n",
    "    \n",
    "    def __add__(self, other):\n",
    "        return self.pay + other.pay\n",
    "    \n",
    "    def __len__(self):\n",
    "        return len(self.full_name)\n",
    "    \n",
    "    @classmethod\n",
    "    def set_raise_amount(cls, amount):\n",
    "        cls.raise_amount = amount\n",
    "        \n",
    "    @classmethod\n",
    "    def from_string(cls, string):\n",
    "        first, last, pay = string.split('-')\n",
    "        return cls(first, last, pay)\n",
    "    \n",
    "    @staticmethod\n",
    "    def is_weekday(day):\n",
    "        if day.weekday() == 5 or day.weekday() == 6:\n",
    "            return False\n",
    "        return True\n",
    "        \n",
    "class Developer(Employee):\n",
    "    raise_amount = 1.10\n",
    "    \n",
    "    def __init__(self, first, last, pay, prog_lang):\n",
    "        super().__init__(first, last, pay)\n",
    "        self.prog_lang = prog_lang\n",
    "        \n",
    "class Manager(Employee):\n",
    "    \n",
    "    def __init__(self, first, last, pay, employees=None):\n",
    "        super().__init__(first, last, pay)\n",
    "        if employees is None:\n",
    "            self.employees = []\n",
    "        else:\n",
    "            self.employees = employees\n",
    "            \n",
    "    def add_emp(self, emp):\n",
    "        if emp not in self.employees:\n",
    "            self.employees.append(emp)\n",
    "            \n",
    "    def remove_emp(self, emp):\n",
    "        if emp in self.employees:\n",
    "            self.employees.remove(emp)\n",
    "            \n",
    "    def print_employees(self):\n",
    "        for emp in self.employees:\n",
    "            print(emp.full_name)\n",
    "        "
   ]
  },
  {
   "cell_type": "code",
   "execution_count": 21,
   "id": "0b2e3394-3d36-4eec-857c-da2555802c18",
   "metadata": {},
   "outputs": [
    {
     "name": "stdout",
     "output_type": "stream",
     "text": [
      "100000\n"
     ]
    }
   ],
   "source": [
    "emp1 = Employee('Kyle', 'Kulas', 50000)\n",
    "emp2 = Employee('Test', 'Case', 30000)\n",
    "\n",
    "emp_str_3 = 'Alternate-constructor-40000'\n",
    "\n",
    "emp3 = Employee.from_string(emp_str_3)\n",
    "\n",
    "emp1.set_raise_amount(2)\n",
    "emp1.apply_raise()\n",
    "print(emp1.pay)"
   ]
  },
  {
   "cell_type": "code",
   "execution_count": 3,
   "id": "3cb1cbaf-5e48-44ef-a5eb-e449a80bf754",
   "metadata": {},
   "outputs": [
    {
     "name": "stdout",
     "output_type": "stream",
     "text": [
      "True\n"
     ]
    }
   ],
   "source": [
    "\n",
    "import datetime\n",
    "my_date = datetime.date(2016, 7, 11)\n",
    "print(Employee.is_weekday(my_date))"
   ]
  },
  {
   "cell_type": "code",
   "execution_count": 4,
   "id": "49b35c46-7cd3-492b-bcb7-334cdb952716",
   "metadata": {},
   "outputs": [
    {
     "data": {
      "text/plain": [
       "'Python'"
      ]
     },
     "execution_count": 4,
     "metadata": {},
     "output_type": "execute_result"
    }
   ],
   "source": [
    "dev_1 = Developer('Corey', 'Schaffer', 50000, 'Python')\n",
    "dev_2 = Developer('Bobby', 'Schaffer', 50000, 'Python')\n",
    "dev_1.apply_raise()\n",
    "dev_1.prog_lang"
   ]
  },
  {
   "cell_type": "code",
   "execution_count": 5,
   "id": "7db961cb-fb9d-4ef4-94ca-e5276b5df79a",
   "metadata": {},
   "outputs": [
    {
     "name": "stdout",
     "output_type": "stream",
     "text": [
      "5\n"
     ]
    }
   ],
   "source": [
    "print(Employee.num_of_emps)"
   ]
  },
  {
   "cell_type": "code",
   "execution_count": 6,
   "id": "d298b77f-8107-4935-9ed8-89e0a72409cf",
   "metadata": {},
   "outputs": [],
   "source": [
    "mgr_1 = Manager('Sue', 'Smith', 90000, [dev_1])\n",
    "mgr_1.add_emp(dev_2)"
   ]
  },
  {
   "cell_type": "code",
   "execution_count": 7,
   "id": "c30b81af-d78d-4628-ae74-2d6e6abaf08f",
   "metadata": {},
   "outputs": [
    {
     "name": "stdout",
     "output_type": "stream",
     "text": [
      "Sue.Smith@company.com\n",
      "Corey Schaffer\n",
      "Bobby Schaffer\n"
     ]
    }
   ],
   "source": [
    "print(mgr_1.email)\n",
    "mgr_1.print_employees()"
   ]
  },
  {
   "cell_type": "code",
   "execution_count": 8,
   "id": "f0ee65e8-0822-4433-bcf3-57d99c8eff50",
   "metadata": {},
   "outputs": [
    {
     "data": {
      "text/plain": [
       "True"
      ]
     },
     "execution_count": 8,
     "metadata": {},
     "output_type": "execute_result"
    }
   ],
   "source": [
    "isinstance(mgr_1, Manager)"
   ]
  },
  {
   "cell_type": "code",
   "execution_count": 9,
   "id": "ed6c90a7-ea61-4f93-905b-fa3a3457947a",
   "metadata": {},
   "outputs": [
    {
     "data": {
      "text/plain": [
       "True"
      ]
     },
     "execution_count": 9,
     "metadata": {},
     "output_type": "execute_result"
    }
   ],
   "source": [
    "issubclass(Developer, Employee)"
   ]
  },
  {
   "cell_type": "code",
   "execution_count": 10,
   "id": "ccc93b26-212a-4404-ad63-cbeb27665d09",
   "metadata": {},
   "outputs": [
    {
     "name": "stdout",
     "output_type": "stream",
     "text": [
      "Employee('Kyle', 'Kulas', '100000')\n",
      "Kyle Kulas - Kyle.Kulas@company.com\n"
     ]
    }
   ],
   "source": [
    "print(repr(emp1))\n",
    "print(str(emp1))"
   ]
  },
  {
   "cell_type": "code",
   "execution_count": 11,
   "id": "62b6693c-d29a-401d-82af-bcad7a472832",
   "metadata": {},
   "outputs": [
    {
     "name": "stdout",
     "output_type": "stream",
     "text": [
      "Kyle Kulas - Kyle.Kulas@company.com\n"
     ]
    }
   ],
   "source": [
    "print(emp1)"
   ]
  },
  {
   "cell_type": "code",
   "execution_count": 12,
   "id": "c4b472a1-ef81-472c-851b-1659e70a535c",
   "metadata": {},
   "outputs": [
    {
     "name": "stdout",
     "output_type": "stream",
     "text": [
      "ab\n"
     ]
    }
   ],
   "source": [
    "print(str.__add__('a', 'b'))"
   ]
  },
  {
   "cell_type": "code",
   "execution_count": 13,
   "id": "b5be835b-517c-40c0-984a-7459f5426ca1",
   "metadata": {},
   "outputs": [
    {
     "name": "stdout",
     "output_type": "stream",
     "text": [
      "130000\n"
     ]
    }
   ],
   "source": [
    "\n",
    "print(emp1 + emp2)"
   ]
  },
  {
   "cell_type": "code",
   "execution_count": 14,
   "id": "656de9fd-63f0-4257-9ab5-6f4d34df73c4",
   "metadata": {},
   "outputs": [
    {
     "name": "stdout",
     "output_type": "stream",
     "text": [
      "10\n"
     ]
    }
   ],
   "source": [
    "print(len(emp1))"
   ]
  },
  {
   "cell_type": "code",
   "execution_count": 15,
   "id": "9fcb4671-49d0-4119-9b30-1193f48ae783",
   "metadata": {},
   "outputs": [
    {
     "name": "stdout",
     "output_type": "stream",
     "text": [
      "Kyle Kulas\n",
      "Kyle.Kulas@company.com\n"
     ]
    }
   ],
   "source": [
    "print(emp1.full_name)\n",
    "print(emp1.email)"
   ]
  },
  {
   "cell_type": "code",
   "execution_count": 16,
   "id": "a8368099-753a-4ffa-8616-6886d6e0a3da",
   "metadata": {},
   "outputs": [],
   "source": [
    "emp1.full_name = 'Foo Bar'"
   ]
  },
  {
   "cell_type": "code",
   "execution_count": 17,
   "id": "d6eecdd9-a4b9-439d-a14b-2d70b6096bfc",
   "metadata": {},
   "outputs": [
    {
     "data": {
      "text/plain": [
       "'Foo Bar'"
      ]
     },
     "execution_count": 17,
     "metadata": {},
     "output_type": "execute_result"
    }
   ],
   "source": [
    "emp1.full_name"
   ]
  },
  {
   "cell_type": "code",
   "execution_count": 18,
   "id": "36e5c3d1-3925-4cbc-ba31-39b899262c3a",
   "metadata": {},
   "outputs": [
    {
     "name": "stdout",
     "output_type": "stream",
     "text": [
      "Delete Name!\n"
     ]
    }
   ],
   "source": [
    "del emp1.full_name"
   ]
  },
  {
   "cell_type": "code",
   "execution_count": 19,
   "id": "b469a9a0-caa6-486d-adea-607dafdc32fe",
   "metadata": {},
   "outputs": [
    {
     "name": "stdout",
     "output_type": "stream",
     "text": [
      "None\n"
     ]
    }
   ],
   "source": [
    "print(emp1.first)"
   ]
  },
  {
   "cell_type": "code",
   "execution_count": null,
   "id": "008b0815-5855-492d-bef4-508a4f2cebf2",
   "metadata": {},
   "outputs": [],
   "source": []
  }
 ],
 "metadata": {
  "kernelspec": {
   "display_name": "py3.6",
   "language": "python",
   "name": "py3.6"
  },
  "language_info": {
   "codemirror_mode": {
    "name": "ipython",
    "version": 3
   },
   "file_extension": ".py",
   "mimetype": "text/x-python",
   "name": "python",
   "nbconvert_exporter": "python",
   "pygments_lexer": "ipython3",
   "version": "3.6.13"
  }
 },
 "nbformat": 4,
 "nbformat_minor": 5
}
