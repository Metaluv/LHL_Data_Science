{
 "cells": [
  {
   "cell_type": "markdown",
   "id": "1e1c1901-fce9-45bf-91e4-ddc066c6501d",
   "metadata": {},
   "source": [
    "# Grid Search Walkthrough\n",
    "Kyle Kulas\n",
    "Tutorial: https://chrisalbon.com/code/machine_learning/model_evaluation/cross_validation_parameter_tuning_grid_search/"
   ]
  },
  {
   "cell_type": "code",
   "execution_count": 2,
   "id": "3766ee9b-6ca7-461a-99d7-01d99eb97933",
   "metadata": {},
   "outputs": [],
   "source": [
    "import numpy as np\n",
    "from sklearn.model_selection import GridSearchCV\n",
    "from sklearn import datasets, svm\n",
    "import matplotlib.pyplot as plt"
   ]
  },
  {
   "cell_type": "markdown",
   "id": "776542fe-5c78-4fba-9874-00ffcae98647",
   "metadata": {},
   "source": [
    "In the code below, we load the digits dataset, which contains 64 feature variables. Each feature denotes the darkness of a pixel in an 8 by 8 image of a handwritten digit. We can see these features for the first observation:"
   ]
  },
  {
   "cell_type": "code",
   "execution_count": 3,
   "id": "e46f6bb4-127f-4415-a110-aebda95db79b",
   "metadata": {},
   "outputs": [],
   "source": [
    "digits = datasets.load_digits()"
   ]
  },
  {
   "cell_type": "code",
   "execution_count": 4,
   "id": "3f7e2924-832f-42fa-b0f6-3e25299fbfe2",
   "metadata": {},
   "outputs": [
    {
     "data": {
      "text/plain": [
       "array([[ 0.,  0.,  5., 13.,  9.,  1.,  0.,  0.,  0.,  0., 13., 15., 10.,\n",
       "        15.,  5.,  0.,  0.,  3., 15.,  2.,  0., 11.,  8.,  0.,  0.,  4.,\n",
       "        12.,  0.,  0.,  8.,  8.,  0.,  0.,  5.,  8.,  0.,  0.,  9.,  8.,\n",
       "         0.,  0.,  4., 11.,  0.,  1., 12.,  7.,  0.,  0.,  2., 14.,  5.,\n",
       "        10., 12.,  0.,  0.,  0.,  0.,  6., 13., 10.,  0.,  0.,  0.]])"
      ]
     },
     "execution_count": 4,
     "metadata": {},
     "output_type": "execute_result"
    }
   ],
   "source": [
    "digits.data[0:1]"
   ]
  },
  {
   "cell_type": "markdown",
   "id": "1a94bec7-e7ce-4d5c-82d4-98ec7fe221d2",
   "metadata": {},
   "source": [
    "The target data is a vector containing the image’s true digit. For example, the first observation is a handwritten digit for ‘0’."
   ]
  },
  {
   "cell_type": "code",
   "execution_count": 5,
   "id": "b8731ee6-5b6c-4269-87d7-84ebdd8d603b",
   "metadata": {},
   "outputs": [
    {
     "data": {
      "text/plain": [
       "array([0])"
      ]
     },
     "execution_count": 5,
     "metadata": {},
     "output_type": "execute_result"
    }
   ],
   "source": [
    "digits.target[0:1]"
   ]
  },
  {
   "cell_type": "code",
   "execution_count": 6,
   "id": "39092dee-74f9-44d4-b4cd-870e8784df4e",
   "metadata": {},
   "outputs": [],
   "source": [
    "data1_features = digits.data[:1000]\n",
    "data1_target = digits.target[:1000]\n",
    "\n",
    "data2_features = digits.data[1000:]\n",
    "data2_target = digits.target[1000:]"
   ]
  },
  {
   "cell_type": "markdown",
   "id": "ba8fbcd5-9ea9-41d3-b5c0-6a21f2aff117",
   "metadata": {},
   "source": [
    "## Create Paramete Candidates"
   ]
  },
  {
   "cell_type": "code",
   "execution_count": 7,
   "id": "aa59acd6-2ebf-4986-88e0-595c6d94fbfa",
   "metadata": {},
   "outputs": [],
   "source": [
    "parameter_candidates = [\n",
    "    {'C': [1, 10, 100, 1000], 'kernel': ['linear']},\n",
    "    {'C': [1, 10, 100, 1000], 'gamma': [0.001, 0.0001], 'kernel': ['rbf']},\n",
    "]\n"
   ]
  },
  {
   "cell_type": "markdown",
   "id": "16fea35b-b34f-4435-9b3d-bb0200358646",
   "metadata": {},
   "source": [
    "## Conduct Grid Search to find parametes producing highest score"
   ]
  },
  {
   "cell_type": "code",
   "execution_count": 8,
   "id": "246fe32e-f487-42cd-9f33-a97ad438bfc0",
   "metadata": {},
   "outputs": [
    {
     "data": {
      "text/plain": [
       "GridSearchCV(estimator=SVC(), n_jobs=-1,\n",
       "             param_grid=[{'C': [1, 10, 100, 1000], 'kernel': ['linear']},\n",
       "                         {'C': [1, 10, 100, 1000], 'gamma': [0.001, 0.0001],\n",
       "                          'kernel': ['rbf']}])"
      ]
     },
     "execution_count": 8,
     "metadata": {},
     "output_type": "execute_result"
    }
   ],
   "source": [
    "clf = GridSearchCV(estimator=svm.SVC(), param_grid=parameter_candidates, n_jobs=-1)\n",
    "\n",
    "clf.fit(data1_features, data1_target)"
   ]
  },
  {
   "cell_type": "markdown",
   "id": "701a6a78-1089-4608-986f-2b451b4bf43b",
   "metadata": {},
   "source": [
    "Check accuracy score"
   ]
  },
  {
   "cell_type": "code",
   "execution_count": 9,
   "id": "2fda7ad0-e3b9-49c3-bba0-7826db096b67",
   "metadata": {},
   "outputs": [
    {
     "name": "stdout",
     "output_type": "stream",
     "text": [
      "Best score for data1: 0.966\n"
     ]
    }
   ],
   "source": [
    "print('Best score for data1:', clf.best_score_)"
   ]
  },
  {
   "cell_type": "code",
   "execution_count": 10,
   "id": "57f98dd4-7988-44bd-829c-f56b8578d1e5",
   "metadata": {},
   "outputs": [
    {
     "name": "stdout",
     "output_type": "stream",
     "text": [
      "Best C: 10\n",
      "Best Kernel: rbf\n",
      "Best Gamma: 0.001\n"
     ]
    }
   ],
   "source": [
    "print('Best C:', clf.best_estimator_.C)\n",
    "print('Best Kernel:', clf.best_estimator_.kernel)\n",
    "print('Best Gamma:', clf.best_estimator_.gamma)"
   ]
  },
  {
   "cell_type": "markdown",
   "id": "59c12a88-abc0-4ece-a5bf-d1e106785b44",
   "metadata": {},
   "source": [
    "## Sanity Check using second Dataset\n",
    "\n",
    "Remember the second dataset we created? Now we will use it to prove that those parameters are actually used by the model. First, we apply the classifier we just trained to the second dataset. Then we will train a new support vector classifier from scratch using the parameters found using the grid search. We should get the same results for both models."
   ]
  },
  {
   "cell_type": "code",
   "execution_count": 11,
   "id": "d10282c6-554b-4a7c-b0ca-313e05e96377",
   "metadata": {},
   "outputs": [
    {
     "data": {
      "text/plain": [
       "0.9698870765370138"
      ]
     },
     "execution_count": 11,
     "metadata": {},
     "output_type": "execute_result"
    }
   ],
   "source": [
    "clf.score(data2_features, data2_target)"
   ]
  },
  {
   "cell_type": "code",
   "execution_count": 12,
   "id": "b5766e3d-1d89-4304-be71-7640faa588ec",
   "metadata": {},
   "outputs": [
    {
     "data": {
      "text/plain": [
       "0.9698870765370138"
      ]
     },
     "execution_count": 12,
     "metadata": {},
     "output_type": "execute_result"
    }
   ],
   "source": [
    "svm.SVC(C=10, kernel='rbf', gamma=0.001).fit(data1_features, data1_target).score(data2_features, data2_target)"
   ]
  },
  {
   "cell_type": "code",
   "execution_count": null,
   "id": "1b4d9a63-4b58-4e12-92f9-ad64dff7d8c7",
   "metadata": {},
   "outputs": [],
   "source": []
  }
 ],
 "metadata": {
  "kernelspec": {
   "display_name": "py3.6",
   "language": "python",
   "name": "py3.6"
  },
  "language_info": {
   "codemirror_mode": {
    "name": "ipython",
    "version": 3
   },
   "file_extension": ".py",
   "mimetype": "text/x-python",
   "name": "python",
   "nbconvert_exporter": "python",
   "pygments_lexer": "ipython3",
   "version": "3.6.13"
  }
 },
 "nbformat": 4,
 "nbformat_minor": 5
}
