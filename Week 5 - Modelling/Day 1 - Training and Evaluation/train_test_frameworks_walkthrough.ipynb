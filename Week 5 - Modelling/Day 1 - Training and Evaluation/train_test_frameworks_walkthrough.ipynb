{
 "cells": [
  {
   "cell_type": "markdown",
   "id": "b3ae74b3-ecde-42c3-988e-908ed4cbd99a",
   "metadata": {},
   "source": [
    "# Train Test Frameworks walkthrough"
   ]
  },
  {
   "cell_type": "code",
   "execution_count": 8,
   "id": "d566fb4e-688a-4f75-a847-dcf6e7d60273",
   "metadata": {},
   "outputs": [
    {
     "name": "stdout",
     "output_type": "stream",
     "text": [
      "[0, 1, 2, 3, 4, 5, 6, 7, 8, 9]\n"
     ]
    }
   ],
   "source": [
    "X = list(range(10))\n",
    "print(X)"
   ]
  },
  {
   "cell_type": "code",
   "execution_count": 9,
   "id": "6238ad77-5585-4a38-ba1a-f33d710f42e7",
   "metadata": {},
   "outputs": [
    {
     "name": "stdout",
     "output_type": "stream",
     "text": [
      "[0, 1, 4, 9, 16, 25, 36, 49, 64, 81]\n"
     ]
    }
   ],
   "source": [
    "y = [x*x for x in X]\n",
    "print(y)"
   ]
  },
  {
   "cell_type": "markdown",
   "id": "e63b1992-812b-451d-b5fb-95cd0a279831",
   "metadata": {},
   "source": [
    "## Split Data"
   ]
  },
  {
   "cell_type": "code",
   "execution_count": 14,
   "id": "3a8a35f5-6ac1-418a-a1bc-be7a4e11d1d7",
   "metadata": {},
   "outputs": [
    {
     "name": "stdout",
     "output_type": "stream",
     "text": [
      "X_train:  [4 9 3 5 7 6 1]\n",
      "y_train:  [16 81  9 25 49 36  1]\n",
      "X_test:  [8 2 0]\n",
      "y_test:  [64  4  0]\n"
     ]
    }
   ],
   "source": [
    "import sklearn.model_selection as model_selection\n",
    "\n",
    "X_train, X_test, y_train, y_test = model_selection.train_test_split(X, y, train_size=0.75,test_size=0.25, random_state=101)\n",
    "\n",
    "print (\"X_train: \", X_train)\n",
    "print (\"y_train: \", y_train)\n",
    "print(\"X_test: \", X_test)\n",
    "print (\"y_test: \", y_test)\n"
   ]
  },
  {
   "cell_type": "markdown",
   "id": "e7c7bba5-66a2-477c-81d5-ec055a4da1cf",
   "metadata": {},
   "source": [
    "## Cross Validation"
   ]
  },
  {
   "cell_type": "code",
   "execution_count": 15,
   "id": "427fac38-5d4b-4e5c-a0cd-8435172ca4e5",
   "metadata": {},
   "outputs": [
    {
     "name": "stdout",
     "output_type": "stream",
     "text": [
      "[2 3 4 5 6 7 8 9] [0 1]\n",
      "X_test:  [8 2 0]\n",
      "[0 1 4 5 6 7 8 9] [2 3]\n",
      "X_test:  [8 2 0]\n",
      "[0 1 2 3 6 7 8 9] [4 5]\n",
      "X_test:  [8 2 0]\n",
      "[0 1 2 3 4 5 8 9] [6 7]\n",
      "X_test:  [8 2 0]\n",
      "[0 1 2 3 4 5 6 7] [8 9]\n",
      "X_test:  [8 2 0]\n"
     ]
    }
   ],
   "source": [
    "from sklearn.model_selection import KFold\n",
    "import numpy as np\n",
    "\n",
    "kf = KFold(n_splits=5)\n",
    "X = np.array(X)\n",
    "y = np.array(y)\n",
    "for train_index, test_index in kf.split(X):\n",
    "    print(train_index, test_index)\n",
    "    # X_train, X_test = X[train_index], X[test_index]\n",
    "    # y_train, y_test = y[train_index], y[test_index]\n",
    "    print(\"X_test: \", X_test)"
   ]
  },
  {
   "cell_type": "code",
   "execution_count": null,
   "id": "af76b810-9b3a-47f2-9f21-549c4a11d06d",
   "metadata": {},
   "outputs": [],
   "source": []
  }
 ],
 "metadata": {
  "kernelspec": {
   "display_name": "py3.6",
   "language": "python",
   "name": "py3.6"
  },
  "language_info": {
   "codemirror_mode": {
    "name": "ipython",
    "version": 3
   },
   "file_extension": ".py",
   "mimetype": "text/x-python",
   "name": "python",
   "nbconvert_exporter": "python",
   "pygments_lexer": "ipython3",
   "version": "3.6.13"
  }
 },
 "nbformat": 4,
 "nbformat_minor": 5
}
