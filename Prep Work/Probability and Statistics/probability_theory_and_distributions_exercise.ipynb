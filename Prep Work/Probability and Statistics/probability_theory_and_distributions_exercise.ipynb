{
 "cells": [
  {
   "cell_type": "code",
   "execution_count": 2,
   "metadata": {
    "ExecuteTime": {
     "end_time": "2020-02-05T17:54:42.062131Z",
     "start_time": "2020-02-05T17:54:41.626763Z"
    }
   },
   "outputs": [],
   "source": [
    "# import numpy\n",
    "import numpy as np\n",
    "\n",
    "# import matplotlib.pyplot\n",
    "import matplotlib.pyplot as plt\n",
    "\n",
    "# import Counter\n",
    "from collections import Counter\n",
    "\n",
    "# use style 'fivethirtyeight' (optional)\n",
    "plt.style.use('fivethirtyeight')"
   ]
  },
  {
   "cell_type": "markdown",
   "metadata": {
    "ExecuteTime": {
     "end_time": "2020-02-05T17:54:42.113199Z",
     "start_time": "2020-02-05T17:54:42.101587Z"
    }
   },
   "source": [
    "#### Create function `perform_bernoulli_trial` with parameters n and p\n",
    "\n",
    "PARAMS:\n",
    "- n (int) - number of trials\n",
    "- p (float) - probability of success\n",
    "\n",
    "RETURNS:\n",
    "- n_success (int) - number of successes\n",
    "\n"
   ]
  },
  {
   "cell_type": "code",
   "execution_count": 3,
   "metadata": {},
   "outputs": [],
   "source": [
    "def perform_bernouli_trial(n, p):\n",
    "    return np.random.binomial(n,p)"
   ]
  },
  {
   "cell_type": "code",
   "execution_count": 3,
   "metadata": {},
   "outputs": [],
   "source": []
  },
  {
   "cell_type": "markdown",
   "metadata": {
    "ExecuteTime": {
     "end_time": "2020-02-05T17:54:42.610756Z",
     "start_time": "2020-02-05T17:54:42.602316Z"
    }
   },
   "source": [
    "#### Use function `perform_bernoulli_trial` with inputs n = 100, p = 0.5"
   ]
  },
  {
   "cell_type": "code",
   "execution_count": 4,
   "metadata": {},
   "outputs": [
    {
     "data": {
      "text/plain": "54"
     },
     "execution_count": 4,
     "metadata": {},
     "output_type": "execute_result"
    }
   ],
   "source": [
    "perform_bernouli_trial(100,0.5)"
   ]
  },
  {
   "cell_type": "code",
   "execution_count": 5,
   "metadata": {},
   "outputs": [
    {
     "name": "stdout",
     "output_type": "stream",
     "text": [
      "[60, 53, 50, 56, 47, 48, 55, 54, 42, 51, 47, 41, 52, 56, 45, 50, 43, 48, 62, 53, 50, 58, 46, 51, 36, 45, 51, 53, 54, 58, 51, 52, 45, 50, 52, 49, 44, 49, 55, 49, 57, 38, 52, 57, 45, 55, 46, 55, 56, 57, 49, 46, 50, 43, 51, 53, 41, 54, 52, 44, 47, 49, 50, 47, 50, 51, 52, 53, 53, 55, 56, 50, 46, 47, 46, 47, 42, 46, 44, 41, 48, 49, 50, 55, 49, 41, 46, 54, 52, 45, 53, 50, 52, 55, 54, 50, 55, 55, 52, 46, 48, 50, 47, 52, 48, 54, 55, 52, 52, 48, 47, 46, 49, 54, 50, 51, 41, 50, 55, 53, 49, 50, 49, 54, 50, 50, 48, 47, 49, 47, 45, 49, 50, 53, 49, 53, 52, 49, 48, 55, 48, 54, 48, 59, 56, 63, 50, 49, 52, 36, 46, 55, 48, 39, 51, 51, 43, 53, 53, 52, 49, 50, 43, 49, 52, 58, 57, 50, 50, 41, 38, 50, 54, 42, 52, 47, 54, 49, 43, 46, 52, 51, 45, 52, 50, 42, 50, 53, 49, 45, 56, 53, 49, 49, 47, 55, 55, 46, 41, 48, 51, 49, 55, 51, 52, 62, 50, 50, 52, 53, 61, 50, 49, 42, 49, 53, 46, 51, 48, 51, 41, 54, 58, 51, 49, 46, 50, 48, 47, 50, 41, 52, 60, 49, 49, 54, 50, 43, 46, 51, 64, 49, 62, 50, 53, 57, 56, 47, 43, 47, 55, 51, 56, 53, 54, 44, 49, 52, 46, 50, 48, 57, 41, 55, 48, 52, 57, 50, 57, 55, 45, 54, 54, 36, 52, 50, 54, 47, 50, 46, 54, 48, 48, 58, 46, 44, 52, 52, 47, 44, 56, 49, 54, 52, 45, 51, 43, 49, 50, 50, 43, 45, 50, 49, 52, 45, 52, 51, 52, 52, 51, 52, 48, 51, 49, 51, 49, 52, 49, 46, 52, 56, 37, 44, 49, 47, 54, 55, 41, 41, 57, 39, 57, 46, 52, 55, 56, 56, 50, 40, 55, 41, 53, 46, 53, 43, 44, 44, 47, 50, 53, 53, 45, 51, 58, 55, 51, 47, 55, 56, 45, 46, 55, 55, 53, 47, 51, 57, 51, 53, 56, 50, 48, 49, 47, 59, 55, 54, 50, 47, 43, 46, 51, 51, 42, 59, 41, 49, 58, 49, 54, 50, 50, 44, 56, 58, 54, 55, 54, 49, 42, 57, 51, 53, 50, 51, 52, 58, 56, 45, 59, 45, 44, 42, 53, 46, 44, 50, 49, 52, 43, 49, 46, 52, 51, 60, 46, 46, 58, 50, 46, 53, 54, 53, 49, 49, 53, 48, 54, 48, 45, 55, 54, 52, 46, 56, 50, 47, 44, 51, 55, 54, 57, 47, 56, 47, 46, 55, 48, 55, 47, 54, 51, 51, 53, 50, 60, 45, 57, 49, 58, 52, 50, 54, 60, 44, 60, 51, 41, 48, 52, 46, 54, 53, 54, 39, 53, 52, 45, 57, 57, 54, 52, 51, 38, 38, 56, 58, 47, 45, 51, 51, 50, 49, 57, 49, 47, 52, 56, 54, 47, 46, 56, 44, 45, 45, 44, 56, 47, 53, 47, 60, 50, 48, 52, 51, 49, 55, 53, 51, 44, 48, 51, 50, 46, 44, 52, 56, 49, 50, 52, 54, 48, 52, 47, 52, 54, 43, 44, 44, 45, 55, 45, 47, 45, 47, 45, 38, 56, 51, 50, 49, 45, 58, 56, 55, 49, 53, 47, 49, 50, 48, 59, 55, 59, 49, 35, 50, 39, 36, 60, 50, 48, 51, 57, 47, 45, 60, 42, 49, 44, 44, 55, 47, 46, 52, 46, 49, 46, 45, 48, 56, 50, 52, 48, 52, 48, 44, 51, 46, 53, 52, 50, 43, 51, 51, 45, 53, 49, 56, 52, 46, 59, 53, 53, 53, 51, 59, 55, 48, 46, 41, 56, 50, 41, 44, 49, 51, 45, 52, 41, 50, 43, 52, 58, 41, 50, 58, 52, 52, 50, 47, 46, 50, 53, 49, 50, 44, 43, 51, 51, 53, 51, 50, 50, 45, 48, 61, 49, 57, 54, 47, 51, 47, 46, 52, 48, 44, 51, 51, 41, 60, 52, 44, 45, 49, 44, 40, 42, 48, 47, 52, 49, 43, 51, 47, 51, 45, 52, 49, 44, 52, 47, 52, 52, 48, 54, 41, 58, 47, 51, 50, 50, 48, 62, 57, 47, 40, 56, 53, 49, 49, 49, 41, 53, 52, 52, 47, 42, 53, 43, 49, 57, 55, 43, 45, 56, 51, 45, 51, 51, 48, 55, 56, 50, 47, 42, 55, 49, 52, 49, 46, 44, 54, 52, 52, 54, 51, 53, 55, 40, 53, 55, 50, 53, 47, 41, 41, 52, 44, 41, 48, 52, 45, 46, 50, 42, 45, 56, 59, 55, 55, 50, 54, 54, 56, 50, 51, 53, 53, 54, 49, 47, 50, 44, 49, 49, 54, 49, 48, 51, 47, 54, 52, 48, 59, 51, 45, 43, 51, 52, 50, 55, 57, 53, 43, 47, 46, 44, 41, 45, 54, 45, 53, 54, 54, 58, 51, 49, 60, 56, 45, 45, 38, 54, 55, 48, 61, 54, 40, 50, 44, 38, 38, 51, 44, 48, 53, 49, 52, 46, 46, 51, 58, 49, 52, 57, 51, 54, 46, 46, 54, 61, 55, 57, 50, 61, 49, 47, 42, 53, 47, 57, 51, 52, 48, 51, 57, 45, 49, 52, 47, 58, 58, 52, 53, 39, 48, 58, 58, 46, 57, 43, 49, 54, 49, 53, 42, 43, 42, 52, 58, 48, 50, 46, 57, 51, 50, 49, 52, 44, 52, 49, 41, 53, 43, 42, 46, 49, 41, 47, 55, 49, 44, 52, 48, 55, 39, 46, 38, 50, 45, 53, 52, 50, 58, 50, 51, 59, 55, 39, 52, 52, 48, 55, 54, 51, 58, 51, 45, 46, 55, 59, 50, 49, 52, 40, 45, 46, 55, 57, 57, 45, 56, 41, 58, 52, 61, 47, 47, 49, 59, 39, 49, 52, 55, 47, 45, 52, 47, 54, 54, 54, 46, 51, 59, 62, 48, 44, 54, 37, 48, 56, 52, 55, 46, 49, 55, 53, 51]\n"
     ]
    }
   ],
   "source": [
    "successes_list = [perform_bernouli_trial(100,0.5) for successes in range(1000)]\n",
    "print(successes_list)"
   ]
  },
  {
   "cell_type": "markdown",
   "metadata": {
    "ExecuteTime": {
     "end_time": "2020-02-05T17:54:43.020097Z",
     "start_time": "2020-02-05T17:54:42.962800Z"
    }
   },
   "source": [
    "#### Call function _perform_bernoulli_trial_ 1000-times with same parameters as before and store the result in `successes_list`"
   ]
  },
  {
   "cell_type": "code",
   "execution_count": 6,
   "metadata": {},
   "outputs": [
    {
     "name": "stdout",
     "output_type": "stream",
     "text": [
      "[59, 53, 50, 51, 53, 51, 51, 52, 54, 43, 48, 44, 45, 52, 39, 45, 54, 61, 45, 51, 52, 51, 48, 42, 61, 49, 57, 48, 49, 52, 52, 56, 46, 48, 53, 59, 45, 50, 51, 49, 48, 56, 41, 62, 56, 46, 53, 44, 59, 44, 59, 51, 39, 46, 50, 42, 53, 44, 51, 44, 45, 41, 49, 51, 52, 42, 43, 47, 49, 49, 56, 49, 35, 49, 53, 53, 56, 52, 42, 55, 51, 49, 51, 56, 48, 54, 44, 60, 41, 48, 48, 44, 57, 48, 48, 55, 51, 48, 46, 59, 56, 51, 52, 55, 46, 38, 53, 50, 52, 50, 64, 60, 48, 53, 52, 46, 51, 48, 49, 54, 58, 54, 43, 48, 48, 52, 54, 56, 57, 49, 44, 55, 45, 48, 45, 56, 55, 49, 53, 47, 52, 50, 57, 50, 52, 48, 58, 53, 47, 50, 46, 48, 51, 54, 55, 54, 55, 46, 48, 53, 49, 54, 43, 46, 49, 45, 44, 42, 58, 48, 56, 51, 47, 58, 57, 55, 51, 47, 47, 58, 49, 50, 45, 49, 46, 46, 47, 54, 49, 57, 51, 60, 51, 51, 49, 40, 44, 51, 49, 57, 44, 47, 51, 39, 41, 52, 44, 45, 55, 49, 51, 49, 50, 52, 57, 50, 44, 44, 53, 45, 51, 55, 53, 56, 48, 51, 54, 53, 42, 56, 43, 47, 41, 52, 44, 52, 56, 46, 49, 49, 50, 45, 44, 52, 52, 53, 49, 56, 51, 45, 39, 44, 37, 58, 56, 52, 50, 51, 44, 45, 49, 46, 56, 51, 62, 52, 55, 59, 46, 51, 47, 56, 56, 47, 51, 47, 52, 49, 49, 49, 53, 56, 57, 53, 50, 45, 54, 52, 43, 62, 50, 51, 56, 33, 47, 50, 45, 47, 48, 52, 52, 55, 47, 46, 51, 50, 45, 46, 56, 50, 44, 51, 53, 44, 46, 53, 49, 47, 48, 47, 48, 57, 53, 48, 57, 57, 55, 39, 53, 54, 59, 59, 45, 49, 49, 55, 39, 54, 42, 47, 41, 51, 55, 52, 52, 58, 49, 59, 58, 44, 42, 42, 65, 55, 58, 50, 52, 48, 46, 52, 52, 61, 51, 45, 49, 50, 48, 47, 59, 53, 54, 61, 47, 47, 60, 44, 54, 47, 55, 45, 47, 45, 55, 48, 56, 54, 49, 45, 46, 56, 48, 45, 43, 54, 47, 55, 58, 47, 49, 50, 49, 58, 48, 48, 51, 48, 55, 44, 48, 55, 47, 49, 42, 49, 51, 57, 52, 51, 51, 49, 51, 49, 58, 48, 45, 53, 40, 48, 42, 48, 54, 49, 54, 56, 55, 46, 49, 58, 39, 61, 49, 57, 59, 48, 50, 52, 49, 45, 54, 49, 49, 54, 45, 56, 50, 47, 44, 48, 52, 49, 51, 46, 55, 50, 44, 52, 49, 50, 50, 46, 56, 45, 55, 53, 53, 52, 58, 56, 43, 46, 53, 50, 47, 54, 49, 46, 54, 50, 47, 54, 52, 49, 43, 50, 49, 53, 47, 53, 49, 53, 48, 49, 47, 52, 54, 54, 53, 55, 54, 50, 47, 44, 37, 46, 49, 52, 55, 53, 54, 39, 47, 43, 51, 42, 48, 46, 55, 46, 48, 48, 49, 53, 56, 46, 55, 50, 60, 54, 53, 34, 50, 50, 58, 54, 49, 58, 43, 46, 44, 50, 50, 44, 41, 51, 54, 50, 48, 47, 49, 47, 56, 45, 51, 53, 41, 43, 43, 44, 37, 44, 51, 55, 51, 57, 50, 48, 54, 48, 52, 46, 50, 62, 46, 49, 55, 48, 37, 46, 55, 61, 53, 54, 47, 55, 55, 53, 46, 52, 45, 53, 48, 52, 57, 55, 47, 44, 44, 49, 49, 45, 44, 45, 50, 52, 46, 47, 55, 54, 51, 53, 50, 48, 39, 42, 54, 55, 49, 47, 47, 54, 47, 52, 47, 46, 45, 54, 51, 50, 44, 48, 46, 48, 52, 53, 47, 44, 52, 53, 51, 47, 47, 54, 49, 48, 50, 49, 53, 53, 55, 55, 44, 56, 47, 53, 48, 42, 54, 44, 49, 46, 45, 47, 53, 51, 49, 43, 49, 50, 50, 52, 45, 52, 53, 47, 60, 43, 52, 52, 51, 56, 51, 55, 45, 53, 52, 59, 53, 48, 53, 50, 45, 52, 44, 45, 52, 54, 50, 57, 53, 55, 46, 44, 49, 48, 48, 53, 54, 47, 51, 56, 47, 51, 51, 50, 51, 62, 44, 52, 53, 51, 49, 56, 46, 46, 49, 53, 49, 49, 45, 51, 45, 50, 44, 38, 44, 44, 43, 48, 47, 51, 46, 52, 38, 37, 56, 58, 53, 48, 54, 47, 52, 49, 56, 52, 53, 46, 52, 48, 50, 51, 53, 37, 46, 58, 54, 48, 53, 52, 48, 44, 48, 46, 44, 48, 48, 48, 59, 46, 45, 51, 41, 49, 43, 54, 53, 49, 52, 53, 39, 55, 44, 43, 49, 55, 52, 50, 51, 65, 58, 42, 59, 46, 51, 58, 50, 47, 46, 43, 51, 45, 48, 49, 56, 47, 47, 50, 45, 50, 57, 51, 51, 55, 51, 51, 47, 58, 50, 51, 53, 44, 56, 50, 49, 41, 42, 54, 46, 54, 58, 47, 58, 59, 52, 53, 50, 48, 60, 59, 50, 44, 51, 51, 54, 53, 51, 42, 37, 52, 51, 55, 47, 47, 53, 49, 64, 42, 44, 57, 51, 49, 50, 54, 52, 57, 46, 53, 49, 45, 38, 49, 59, 43, 45, 49, 49, 56, 53, 45, 49, 42, 47, 48, 46, 51, 49, 47, 52, 43, 52, 54, 49, 50, 58, 49, 51, 49, 50, 55, 54, 50, 52, 56, 52, 47, 48, 52, 45, 45, 51, 51, 53, 48, 51, 47, 53, 40, 60, 46, 46, 51, 62, 63, 51, 52, 49, 63, 57, 45, 57, 46, 52, 62, 46, 52, 45, 58, 52, 40, 50, 46, 39, 50, 52, 60, 54, 59, 44, 55, 50, 52, 45, 47, 57, 53, 48, 35, 52, 61, 47, 48, 51, 47, 50, 51, 50, 51, 50, 54, 56, 51, 47, 48, 50, 48, 51, 44, 52, 46, 43, 55]\n"
     ]
    }
   ],
   "source": [
    "successes_list = [perform_bernouli_trial(100,0.5) for successes in range(1000)]\n",
    "print(successes_list)"
   ]
  },
  {
   "cell_type": "markdown",
   "metadata": {
    "ExecuteTime": {
     "end_time": "2020-02-05T17:54:43.296477Z",
     "start_time": "2020-02-05T17:54:43.289959Z"
    }
   },
   "source": [
    "#### Count occurence of each number from `successes_list` using Counter and store the result in `count_occurence`\n",
    "\n",
    "You can find for more info about Counter [**here**](https://docs.python.org/2/library/collections.html#collections.Counter)."
   ]
  },
  {
   "cell_type": "code",
   "execution_count": 7,
   "metadata": {},
   "outputs": [
    {
     "name": "stdout",
     "output_type": "stream",
     "text": [
      "Counter({49: 89, 51: 86, 52: 76, 48: 73, 53: 68, 50: 68, 47: 67, 46: 56, 54: 53, 44: 51, 45: 50, 55: 47, 56: 40, 58: 25, 57: 23, 43: 22, 42: 19, 59: 18, 39: 11, 41: 10, 60: 9, 61: 7, 62: 7, 37: 7, 38: 4, 40: 4, 35: 2, 64: 2, 65: 2, 63: 2, 33: 1, 34: 1})\n"
     ]
    }
   ],
   "source": [
    "count_occurence = Counter(successes_list)\n",
    "print(count_occurence)"
   ]
  },
  {
   "cell_type": "code",
   "execution_count": 7,
   "metadata": {},
   "outputs": [],
   "source": []
  },
  {
   "cell_type": "markdown",
   "metadata": {
    "ExecuteTime": {
     "end_time": "2020-02-05T17:54:43.571225Z",
     "start_time": "2020-02-05T17:54:43.568147Z"
    }
   },
   "source": [
    "#### Count the probability for each number from `count_occurence` and store the result in `probas`\n"
   ]
  },
  {
   "cell_type": "code",
   "execution_count": 8,
   "metadata": {},
   "outputs": [
    {
     "name": "stdout",
     "output_type": "stream",
     "text": [
      "[0.018, 0.068, 0.068, 0.086, 0.076, 0.053, 0.022, 0.073, 0.051, 0.05, 0.011, 0.007, 0.019, 0.089, 0.023, 0.04, 0.056, 0.01, 0.007, 0.067, 0.002, 0.047, 0.009, 0.004, 0.002, 0.025, 0.004, 0.007, 0.001, 0.002, 0.001, 0.002]\n"
     ]
    }
   ],
   "source": [
    "probas = [count/len(successes_list) for count in count_occurence.values()]\n",
    "print(probas)"
   ]
  },
  {
   "cell_type": "code",
   "execution_count": 8,
   "metadata": {},
   "outputs": [],
   "source": []
  },
  {
   "cell_type": "markdown",
   "metadata": {},
   "source": [
    "Below you have some information about how to do plots in Python. We will be covering all of this during the bootcamp. But you can find these basics here so we can visualize the distributions."
   ]
  },
  {
   "cell_type": "code",
   "execution_count": 9,
   "metadata": {
    "ExecuteTime": {
     "end_time": "2020-02-05T17:54:44.056628Z",
     "start_time": "2020-02-05T17:54:43.850076Z"
    }
   },
   "outputs": [
    {
     "data": {
      "text/plain": "<Figure size 432x288 with 1 Axes>",
      "image/png": "[encoded data removed]"
     },
     "metadata": {},
     "output_type": "display_data"
    }
   ],
   "source": [
    "# plot distribution (PMF) of 'succes_list'\n",
    "plt.scatter(x=count_occurence.keys(), y=probas)\n",
    "plt.xlabel('number of succeess out of 100')\n",
    "plt.ylabel('probability')\n",
    "# Show the plot\n",
    "plt.show()"
   ]
  },
  {
   "cell_type": "markdown",
   "metadata": {
    "ExecuteTime": {
     "end_time": "2020-02-05T17:54:44.112264Z",
     "start_time": "2020-02-05T17:54:44.096570Z"
    }
   },
   "source": [
    "#### Generate 100000 numbers from uniform distribution with parameters a = 1, b = 6\n"
   ]
  },
  {
   "cell_type": "code",
   "execution_count": 10,
   "metadata": {},
   "outputs": [],
   "source": [
    "uniform_data = np.random.uniform(1, 6, size=100000)"
   ]
  },
  {
   "cell_type": "code",
   "execution_count": 10,
   "metadata": {},
   "outputs": [],
   "source": []
  },
  {
   "cell_type": "code",
   "execution_count": 10,
   "metadata": {
    "ExecuteTime": {
     "end_time": "2020-02-05T17:54:44.515039Z",
     "start_time": "2020-02-05T17:54:44.330746Z"
    },
    "tags": []
   },
   "outputs": [],
   "source": []
  },
  {
   "cell_type": "markdown",
   "metadata": {
    "ExecuteTime": {
     "end_time": "2020-02-05T17:54:44.583762Z",
     "start_time": "2020-02-05T17:54:44.555162Z"
    }
   },
   "source": [
    "#### Check the mean of uniform data (using NumPy)"
   ]
  },
  {
   "cell_type": "code",
   "execution_count": 11,
   "metadata": {},
   "outputs": [
    {
     "data": {
      "text/plain": "3.500721830799773"
     },
     "execution_count": 11,
     "metadata": {},
     "output_type": "execute_result"
    }
   ],
   "source": [
    "np.mean(uniform_data)"
   ]
  },
  {
   "cell_type": "code",
   "execution_count": 11,
   "metadata": {},
   "outputs": [],
   "source": []
  },
  {
   "cell_type": "markdown",
   "metadata": {
    "ExecuteTime": {
     "end_time": "2020-02-05T17:54:44.758510Z",
     "start_time": "2020-02-05T17:54:44.752087Z"
    }
   },
   "source": [
    "#### Generate 100000 numbers from exponential distribution with parameter beta = 0.5\n",
    "\n",
    "The exponential distribution is sometimes parametrized in terms of the scale parameter **β = 1/λ**. We were reading about the **λ** in the previous reading."
   ]
  },
  {
   "cell_type": "code",
   "execution_count": 12,
   "metadata": {},
   "outputs": [],
   "source": [
    "exponential_data = np.random.exponential(0.5, size=100000)"
   ]
  },
  {
   "cell_type": "code",
   "execution_count": 12,
   "metadata": {},
   "outputs": [],
   "source": []
  },
  {
   "cell_type": "markdown",
   "metadata": {
    "ExecuteTime": {
     "end_time": "2020-02-05T17:54:45.134091Z",
     "start_time": "2020-02-05T17:54:44.956351Z"
    }
   },
   "source": [
    "#### Plot histogram of exponential distribution with params `density=True`, `bins=100`\n"
   ]
  },
  {
   "cell_type": "code",
   "execution_count": 13,
   "metadata": {},
   "outputs": [
    {
     "data": {
      "text/plain": "<Figure size 432x288 with 1 Axes>",
      "image/png": "[encoded data removed]"
     },
     "metadata": {},
     "output_type": "display_data"
    }
   ],
   "source": [
    "plt.hist(exponential_data, density=True, bins=100)\n",
    "plt.show()"
   ]
  },
  {
   "cell_type": "code",
   "execution_count": 13,
   "metadata": {},
   "outputs": [],
   "source": []
  },
  {
   "cell_type": "markdown",
   "metadata": {
    "ExecuteTime": {
     "end_time": "2020-02-05T17:54:45.187080Z",
     "start_time": "2020-02-05T17:54:45.171406Z"
    }
   },
   "source": [
    "#### Check the mean of exponential data"
   ]
  },
  {
   "cell_type": "code",
   "execution_count": 14,
   "metadata": {},
   "outputs": [
    {
     "data": {
      "text/plain": "0.4991353390696826"
     },
     "execution_count": 14,
     "metadata": {},
     "output_type": "execute_result"
    }
   ],
   "source": [
    "np.mean(exponential_data)"
   ]
  },
  {
   "cell_type": "code",
   "execution_count": 14,
   "metadata": {},
   "outputs": [],
   "source": []
  }
 ],
 "metadata": {
  "kernelspec": {
   "display_name": "Python 3",
   "language": "python",
   "name": "python3"
  },
  "language_info": {
   "codemirror_mode": {
    "name": "ipython",
    "version": 3
   },
   "file_extension": ".py",
   "mimetype": "text/x-python",
   "name": "python",
   "nbconvert_exporter": "python",
   "pygments_lexer": "ipython3",
   "version": "3.8.8"
  },
  "toc": {
   "base_numbering": 1,
   "nav_menu": {},
   "number_sections": true,
   "sideBar": true,
   "skip_h1_title": false,
   "title_cell": "Table of Contents",
   "title_sidebar": "Contents",
   "toc_cell": false,
   "toc_position": {},
   "toc_section_display": true,
   "toc_window_display": false
  },
  "varInspector": {
   "cols": {
    "lenName": 16,
    "lenType": 16,
    "lenVar": 40
   },
   "kernels_config": {
    "python": {
     "delete_cmd_postfix": "",
     "delete_cmd_prefix": "del ",
     "library": "var_list.py",
     "varRefreshCmd": "print(var_dic_list())"
    },
    "r": {
     "delete_cmd_postfix": ") ",
     "delete_cmd_prefix": "rm(",
     "library": "var_list.r",
     "varRefreshCmd": "cat(var_dic_list()) "
    }
   },
   "types_to_exclude": [
    "module",
    "function",
    "builtin_function_or_method",
    "instance",
    "_Feature"
   ],
   "window_display": false
  }
 },
 "nbformat": 4,
 "nbformat_minor": 4
}