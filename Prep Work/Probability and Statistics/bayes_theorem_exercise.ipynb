{
 "cells": [
  {
   "cell_type": "markdown",
   "metadata": {
    "ExecuteTime": {
     "end_time": "2020-02-05T17:56:18.818219Z",
     "start_time": "2020-02-05T17:56:18.810698Z"
    }
   },
   "source": [
    "## Exercise 1\n",
    "In Orange County, 51% of the adults are males. (It doesn't take too much advanced\n",
    "mathematics to deduce that the other 49% are females.) One adult is randomly selected\n",
    "for a survey involving credit card usage.\n",
    "\n",
    "- **(a)** Find the probability that the selected person is a male.\n",
    "\n",
    "- **(b)** It is later learned that the selected survey subject was smoking a cigar. Also, 9.5% of males smoke cigars, whereas 1.7% of females smoke cigars (based on data from the Substance Abuse and Mental Health Services Administration). Use this additional information to find the probability that the cigar−smoking respondent is a male\n",
    "\n",
    "Use following notation:\n",
    "M = male <br>\n",
    "F = female <br>\n",
    "C = cigar smoker<br>\n",
    "NC = not a cigar smoker<br>\n"
   ]
  },
  {
   "cell_type": "code",
   "execution_count": 1,
   "metadata": {},
   "outputs": [],
   "source": [
    "import numpy as np"
   ]
  },
  {
   "cell_type": "code",
   "execution_count": 14,
   "metadata": {},
   "outputs": [],
   "source": [
    "n_runs = 3176000"
   ]
  },
  {
   "cell_type": "code",
   "execution_count": 2,
   "metadata": {},
   "outputs": [],
   "source": [
    "M = 0\n",
    "M_C = 0\n",
    "M_NC = 0\n",
    "F = 0\n",
    "F_C = 0\n",
    "F_NC = 0\n",
    "C = 0\n",
    "NC = 0"
   ]
  },
  {
   "cell_type": "code",
   "execution_count": 15,
   "metadata": {},
   "outputs": [],
   "source": [
    "for _ in range(n_runs):\n",
    "    if np.random.random()<0.51:\n",
    "        M += 1\n",
    "        \n",
    "        if np.random.random()<0.095:\n",
    "            M_C += 1\n",
    "            C += 1\n",
    "            \n",
    "        else:\n",
    "            M_NC += 1\n",
    "            NC += 1\n",
    "            \n",
    "    else:\n",
    "        F += 1\n",
    "        \n",
    "        if np.random.random()<0.017:\n",
    "            F_C += 1\n",
    "            C += 1\n",
    "            \n",
    "        else:\n",
    "            F_NC += 1\n",
    "            NC += 1\n",
    "            \n",
    "# Create probabilities:\n",
    "            \n",
    "P_M = M/n_runs * 100\n",
    "P_M_C = M_C/n_runs * 100\n",
    "P_M_NC = M_NC/n_runs * 100\n",
    "P_F = F/n_runs * 100\n",
    "P_F_C = F_C/n_runs * 100\n",
    "P_F_NC = F_NC/n_runs * 100\n",
    "P_C = C/n_runs * 100\n",
    "P_NC = NC/n_runs * 100\n",
    "\n",
    "# P(M | C)\n",
    "\n",
    "PCM = (P_M_C/P_C) * 100"
   ]
  },
  {
   "cell_type": "code",
   "execution_count": 16,
   "metadata": {},
   "outputs": [
    {
     "name": "stdout",
     "output_type": "stream",
     "text": [
      "The probability of the person selected being a male is 70.32918765743072%\n",
      "The probability that the cigar-smoking respondent is a male is 85.14092927568674%\n"
     ]
    }
   ],
   "source": [
    "print(f\"The probability of the person selected being a male is {P_M}%\")\n",
    "print(f\"The probability that the cigar-smoking respondent is a male is {PCM}%\")\n"
   ]
  },
  {
   "cell_type": "markdown",
   "metadata": {
    "ExecuteTime": {
     "end_time": "2020-02-05T17:56:20.532960Z",
     "start_time": "2020-02-05T17:56:20.525450Z"
    }
   },
   "source": [
    "# Exercise 2\n",
    "\n",
    "A diagnostic test has a probability 0.95 of giving a positive result when applied to a person suffering\n",
    "from a certain disease, and a probability 0.10 of giving a (false) positive when applied to a non-sufferer. It is\n",
    "estimated that 0.5 % of the population are sufferers. Suppose that the test is now administered to a person about\n",
    "whom we have no relevant information relating to the disease (apart from the fact that he/she comes from this\n",
    "population). \n",
    "\n",
    "Calculate the following probabilities:\n",
    "- **(a)** that the test result will be positive;\n",
    "- **(b)** that, given a positive result, the person is a sufferer;\n",
    "- **(c)** that, given a negative result, the person is a non-sufferer;\n",
    "- **(d)** that the person will be misclassified.\n",
    "\n",
    "Use following notation:\n",
    "\n",
    "T = test positive <br>\n",
    "NT = test negative<br>\n",
    "S = sufferer<br>\n",
    "NS = non-sufferer<br>\n",
    "M = misclassified<br>\n",
    "\n",
    "Solve it by two approaches:\n",
    "1. Arithmetically\n",
    "2. By simulation"
   ]
  },
  {
   "cell_type": "code",
   "execution_count": 17,
   "metadata": {
    "pycharm": {
     "name": "#%%\n"
    }
   },
   "outputs": [
    {
     "name": "stdout",
     "output_type": "stream",
     "text": [
      " A. The probability that the test result will be positive is 10.313%\n",
      " B. The probability that given a positive result, the person is a sufferer is 4.2858528071366235%\n",
      " C. The probability that given a negative result, the person is a non-sufferer is 99.96320536978604%\n",
      " D. The probability that the person will be misclassified is 9.904%\n"
     ]
    }
   ],
   "source": [
    "import numpy as np\n",
    "# number of trials:\n",
    "n_runs=100000\n",
    "\n",
    "#setting up the variables:\n",
    "T=0\n",
    "NT=0\n",
    "S=0\n",
    "NS=0\n",
    "M=0\n",
    "M_T=0\n",
    "M_NT=0\n",
    "S_T=0\n",
    "NS_NT=0\n",
    "\n",
    "# process simulation:\n",
    "\n",
    "for _ in range(n_runs):\n",
    "    # Sufferer (probability of person tested being a sufferer)\n",
    "    if np.random.random()<0.005:\n",
    "        S+=1\n",
    "        # True result:\n",
    "        if np.random.random()<0.95:\n",
    "            S_T+=1\n",
    "            T+=1\n",
    "            \n",
    "        # False negative:\n",
    "        else:\n",
    "            M+=1\n",
    "            NT+=1\n",
    "            M_NT+=1\n",
    "            \n",
    "    # not sufferer\n",
    "    else:\n",
    "        NS+=1\n",
    "        \n",
    "        # false positive:\n",
    "        if np.random.random()<0.10:\n",
    "            M+=1\n",
    "            T+=1\n",
    "            M_T+=1\n",
    "            \n",
    "        # True negative:\n",
    "        else:\n",
    "            NS_NT+=1\n",
    "            NT+=1\n",
    "\n",
    "# Create probabilities:\n",
    "\n",
    "P_T = T/n_runs * 100\n",
    "P_S_T = S_T/n_runs * 100\n",
    "P_NS_NT = NS_NT/n_runs * 100\n",
    "P_NT = NT/n_runs * 100\n",
    "P_M_T = M_T/n_runs * 100\n",
    "P_M_NT = M_NT/n_runs * 100\n",
    "P_M= M/n_runs * 100\n",
    "\n",
    "# P(S | T)\n",
    "PST = (P_S_T/P_T) * 100\n",
    "\n",
    "# P(NS | NT)\n",
    "PNS_NT = (P_NS_NT/P_NT) * 100\n",
    "\n",
    "\n",
    "# Answering the questions:\n",
    "\n",
    "print(f\" A. The probability that the test result will be positive is {P_T}%\")\n",
    "print(f\" B. The probability that given a positive result, the person is a sufferer is {PST}%\")\n",
    "print(f\" C. The probability that given a negative result, the person is a non-sufferer is {PNS_NT}%\")\n",
    "print(f\" D. The probability that the person will be misclassified is {P_M}%\")\n",
    "\n"
   ]
  }
 ],
 "metadata": {
  "kernelspec": {
   "display_name": "Python 3",
   "language": "python",
   "name": "python3"
  },
  "language_info": {
   "codemirror_mode": {
    "name": "ipython",
    "version": 3
   },
   "file_extension": ".py",
   "mimetype": "text/x-python",
   "name": "python",
   "nbconvert_exporter": "python",
   "pygments_lexer": "ipython3",
   "version": "3.8.8"
  },
  "toc": {
   "base_numbering": 1,
   "nav_menu": {},
   "number_sections": true,
   "sideBar": true,
   "skip_h1_title": false,
   "title_cell": "Table of Contents",
   "title_sidebar": "Contents",
   "toc_cell": false,
   "toc_position": {},
   "toc_section_display": true,
   "toc_window_display": false
  },
  "varInspector": {
   "cols": {
    "lenName": 16,
    "lenType": 16,
    "lenVar": 40
   },
   "kernels_config": {
    "python": {
     "delete_cmd_postfix": "",
     "delete_cmd_prefix": "del ",
     "library": "var_list.py",
     "varRefreshCmd": "print(var_dic_list())"
    },
    "r": {
     "delete_cmd_postfix": ") ",
     "delete_cmd_prefix": "rm(",
     "library": "var_list.r",
     "varRefreshCmd": "cat(var_dic_list()) "
    }
   },
   "types_to_exclude": [
    "module",
    "function",
    "builtin_function_or_method",
    "instance",
    "_Feature"
   ],
   "window_display": false
  }
 },
 "nbformat": 4,
 "nbformat_minor": 4
}