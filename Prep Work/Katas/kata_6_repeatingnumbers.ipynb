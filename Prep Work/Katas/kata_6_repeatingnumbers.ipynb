{
 "cells": [
  {
   "cell_type": "markdown",
   "id": "552ac078-14c7-4bdc-b8d1-0d36466c6171",
   "metadata": {
    "pycharm": {
     "name": "#%% md\n"
    }
   },
   "source": [
    "### Lighthouse Data Science - Kata 6 - Repeating Numbers\n",
    "Create a function named repeatNumbers that will return a string with each of the given values repeated the appropriate number of times. If there are multiple sets of values each set should be separated by a comma. If there is only one set of values then you should omit the comma."
   ]
  },
  {
   "cell_type": "code",
   "execution_count": 1,
   "outputs": [
    {
     "name": "stdout",
     "output_type": "stream",
     "text": [
      "1111111111\n",
      "11, 222\n",
      "10101010, 343434343434, 9292\n"
     ]
    }
   ],
   "source": [
    "def repeatNumbers(data):\n",
    "    \n",
    "    if len(data) == 0:\n",
    "        raise ValueError('Empty list provided!')\n",
    "        \n",
    "    if not all(len(value_set) == 2 for value_set in data):\n",
    "        raise ValueError('All sub-lists must be equal to a length of 2.')\n",
    "    \n",
    "    numString = ''\n",
    "    \n",
    "    for value_set in range(len(data)- 1):\n",
    "        \n",
    "        numString += str(data[value_set][0]) * data[value_set][1] + ', '\n",
    "    \n",
    "    numString += str(data[-1][0]) * data[-1][1]\n",
    "    \n",
    "    return numString\n",
    "\n",
    "\n",
    "print(repeatNumbers([[1, 10]]))\n",
    "print(repeatNumbers([[1, 2], [2, 3]]))\n",
    "print(repeatNumbers([[10, 4], [34, 6], [92, 2]]))\n",
    "\n"
   ],
   "metadata": {
    "collapsed": false,
    "pycharm": {
     "name": "#%%\n"
    }
   }
  }
 ],
 "metadata": {
  "kernelspec": {
   "display_name": "Python 3",
   "language": "python",
   "name": "python3"
  },
  "language_info": {
   "codemirror_mode": {
    "name": "ipython",
    "version": 3
   },
   "file_extension": ".py",
   "mimetype": "text/x-python",
   "name": "python",
   "nbconvert_exporter": "python",
   "pygments_lexer": "ipython3",
   "version": "3.8.8"
  }
 },
 "nbformat": 4,
 "nbformat_minor": 5
}