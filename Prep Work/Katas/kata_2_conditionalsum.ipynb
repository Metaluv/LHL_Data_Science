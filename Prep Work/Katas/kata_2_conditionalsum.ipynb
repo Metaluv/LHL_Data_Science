{
 "cells": [
  {
   "cell_type": "markdown",
   "id": "6cff6070-0852-46d5-a7f4-8f098106e6eb",
   "metadata": {
    "pycharm": {
     "name": "#%% md\n"
    }
   },
   "source": [
    "### Lighthouse Data Science - Kata 2 - Conditional Sums\n",
    "Create a function named conditionalSum that will be given a list of numbers and a condition, in this case odd or even. Given this condition, add up only the values which match that condition. If no values match the condition, return 0."
   ]
  },
  {
   "cell_type": "code",
   "execution_count": 3,
   "outputs": [
    {
     "name": "stdout",
     "output_type": "stream",
     "text": [
      "6\n",
      "9\n",
      "144\n",
      "0\n"
     ]
    }
   ],
   "source": [
    "def conditionalSum(values, condition):\n",
    "    \n",
    "    sum_values = 0\n",
    "    remainder = 0\n",
    "    \n",
    "    if condition.lower() == 'even':\n",
    "        pass\n",
    "    elif condition.lower() == 'odd':\n",
    "        remainder = 1\n",
    "    else:\n",
    "        raise ValueError(\"Condition provided must be 'even' or 'odd'\")\n",
    "            \n",
    "    sum_values = sum(value for value in values if value % 2 == remainder)      \n",
    "    return sum_values\n",
    "\n",
    "\n",
    "print(conditionalSum([1, 2, 3, 4, 5], \"even\"))\n",
    "print(conditionalSum([1, 2, 3, 4, 5], \"odd\"))\n",
    "print(conditionalSum([13, 88, 12, 44, 99], \"even\"))\n",
    "print(conditionalSum([], \"odd\"))\n",
    "\n"
   ],
   "metadata": {
    "collapsed": false,
    "pycharm": {
     "name": "#%%\n"
    }
   }
  }
 ],
 "metadata": {
  "kernelspec": {
   "display_name": "Python 3",
   "language": "python",
   "name": "python3"
  },
  "language_info": {
   "codemirror_mode": {
    "name": "ipython",
    "version": 3
   },
   "file_extension": ".py",
   "mimetype": "text/x-python",
   "name": "python",
   "nbconvert_exporter": "python",
   "pygments_lexer": "ipython3",
   "version": "3.8.8"
  }
 },
 "nbformat": 4,
 "nbformat_minor": 5
}