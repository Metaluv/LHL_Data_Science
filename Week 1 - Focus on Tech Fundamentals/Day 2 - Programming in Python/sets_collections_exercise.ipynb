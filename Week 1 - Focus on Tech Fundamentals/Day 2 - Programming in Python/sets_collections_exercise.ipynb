{
 "cells": [
  {
   "cell_type": "markdown",
   "metadata": {},
   "source": [
    "# Sets, Collections, & Exception Handling \n",
    "\n",
    "## Sets"
   ]
  },
  {
   "cell_type": "markdown",
   "metadata": {},
   "source": [
    "* create a new empty set\n",
    "* print that set"
   ]
  },
  {
   "cell_type": "code",
   "execution_count": 2,
   "metadata": {
    "ExecuteTime": {
     "end_time": "2020-04-23T12:46:18.460389Z",
     "start_time": "2020-04-23T12:46:18.455558Z"
    }
   },
   "outputs": [
    {
     "name": "stdout",
     "output_type": "stream",
     "text": [
      "set()\n"
     ]
    }
   ],
   "source": [
    "empty_set = set()\n",
    "print(empty_set)"
   ]
  },
  {
   "cell_type": "markdown",
   "metadata": {},
   "source": [
    "* create a non empty set\n",
    "* print that set"
   ]
  },
  {
   "cell_type": "code",
   "execution_count": 4,
   "metadata": {
    "ExecuteTime": {
     "end_time": "2020-04-23T12:46:19.054630Z",
     "start_time": "2020-04-23T12:46:19.049150Z"
    }
   },
   "outputs": [
    {
     "name": "stdout",
     "output_type": "stream",
     "text": [
      "{1, 2, 3, 4}\n"
     ]
    }
   ],
   "source": [
    "non_empty_set = set([1,2,3,3,4])\n",
    "print(non_empty_set)"
   ]
  },
  {
   "cell_type": "markdown",
   "metadata": {},
   "source": [
    "* iterate over the set and print results"
   ]
  },
  {
   "cell_type": "code",
   "execution_count": 5,
   "metadata": {
    "ExecuteTime": {
     "end_time": "2020-04-23T12:46:19.563824Z",
     "start_time": "2020-04-23T12:46:19.559855Z"
    }
   },
   "outputs": [
    {
     "name": "stdout",
     "output_type": "stream",
     "text": [
      "1\n",
      "2\n",
      "3\n",
      "4\n"
     ]
    }
   ],
   "source": [
    "for x in non_empty_set:\n",
    "    print(x)"
   ]
  },
  {
   "cell_type": "markdown",
   "metadata": {},
   "source": [
    "* add one item to the set"
   ]
  },
  {
   "cell_type": "code",
   "execution_count": 7,
   "metadata": {
    "ExecuteTime": {
     "end_time": "2020-04-23T12:46:20.119320Z",
     "start_time": "2020-04-23T12:46:20.112837Z"
    }
   },
   "outputs": [
    {
     "name": "stdout",
     "output_type": "stream",
     "text": [
      "{1, 2, 3, 4, 6}\n"
     ]
    }
   ],
   "source": [
    "non_empty_set.add(6)\n",
    "print(non_empty_set)"
   ]
  },
  {
   "cell_type": "markdown",
   "metadata": {
    "ExecuteTime": {
     "end_time": "2020-04-23T12:45:07.836265Z",
     "start_time": "2020-04-23T12:45:07.828657Z"
    }
   },
   "source": [
    "* add multiple items to the set"
   ]
  },
  {
   "cell_type": "code",
   "execution_count": 9,
   "metadata": {
    "ExecuteTime": {
     "end_time": "2020-04-23T12:46:20.661141Z",
     "start_time": "2020-04-23T12:46:20.650715Z"
    }
   },
   "outputs": [
    {
     "name": "stdout",
     "output_type": "stream",
     "text": [
      "{1, 2, 3, 4, 6, 7, 8, 9}\n"
     ]
    }
   ],
   "source": [
    "non_empty_set.update([7,8,9])\n",
    "print(non_empty_set)"
   ]
  },
  {
   "cell_type": "markdown",
   "metadata": {
    "ExecuteTime": {
     "end_time": "2020-04-23T12:45:14.108185Z",
     "start_time": "2020-04-23T12:45:14.102482Z"
    }
   },
   "source": [
    "* remove an item from a set if it is present in the set"
   ]
  },
  {
   "cell_type": "code",
   "execution_count": 10,
   "metadata": {
    "ExecuteTime": {
     "end_time": "2020-04-23T12:46:21.067703Z",
     "start_time": "2020-04-23T12:46:21.061624Z"
    }
   },
   "outputs": [
    {
     "data": {
      "text/plain": [
       "{1, 2, 3, 4, 7, 8, 9}"
      ]
     },
     "execution_count": 10,
     "metadata": {},
     "output_type": "execute_result"
    }
   ],
   "source": [
    "non_empty_set.remove(6)\n",
    "non_empty_set"
   ]
  },
  {
   "cell_type": "markdown",
   "metadata": {},
   "source": [
    "* find maximum and minimum values of the set"
   ]
  },
  {
   "cell_type": "code",
   "execution_count": 14,
   "metadata": {
    "ExecuteTime": {
     "end_time": "2020-04-23T12:46:21.801693Z",
     "start_time": "2020-04-23T12:46:21.794587Z"
    }
   },
   "outputs": [
    {
     "name": "stdout",
     "output_type": "stream",
     "text": [
      "9\n",
      "1\n"
     ]
    }
   ],
   "source": [
    "print(max(non_empty_set))\n",
    "print(min(non_empty_set))"
   ]
  },
  {
   "cell_type": "markdown",
   "metadata": {},
   "source": [
    "* print the length of the set"
   ]
  },
  {
   "cell_type": "code",
   "execution_count": 15,
   "metadata": {
    "ExecuteTime": {
     "end_time": "2020-04-23T12:46:22.281394Z",
     "start_time": "2020-04-23T12:46:22.275978Z"
    }
   },
   "outputs": [
    {
     "name": "stdout",
     "output_type": "stream",
     "text": [
      "7\n"
     ]
    }
   ],
   "source": [
    "print(len(non_empty_set))"
   ]
  },
  {
   "cell_type": "code",
   "execution_count": null,
   "metadata": {
    "ExecuteTime": {
     "end_time": "2020-04-23T12:46:22.783616Z",
     "start_time": "2020-04-23T12:46:22.779193Z"
    }
   },
   "outputs": [],
   "source": []
  },
  {
   "cell_type": "markdown",
   "metadata": {},
   "source": [
    "* create an intersection of x and y"
   ]
  },
  {
   "cell_type": "code",
   "execution_count": 17,
   "metadata": {
    "ExecuteTime": {
     "end_time": "2020-04-23T12:46:23.277505Z",
     "start_time": "2020-04-23T12:46:23.270998Z"
    }
   },
   "outputs": [
    {
     "name": "stdout",
     "output_type": "stream",
     "text": [
      "{2, 3}\n"
     ]
    }
   ],
   "source": [
    "x = set([1,2,3])\n",
    "y = set([2,3,4])\n",
    "print(x.intersection(y))"
   ]
  },
  {
   "cell_type": "markdown",
   "metadata": {},
   "source": [
    "* create an union of x and y"
   ]
  },
  {
   "cell_type": "code",
   "execution_count": 18,
   "metadata": {
    "ExecuteTime": {
     "end_time": "2020-04-23T12:46:23.716826Z",
     "start_time": "2020-04-23T12:46:23.709614Z"
    }
   },
   "outputs": [
    {
     "name": "stdout",
     "output_type": "stream",
     "text": [
      "{1, 2, 3, 4}\n"
     ]
    }
   ],
   "source": [
    "print(x|y)"
   ]
  },
  {
   "cell_type": "markdown",
   "metadata": {},
   "source": [
    "* create difference between x and y"
   ]
  },
  {
   "cell_type": "code",
   "execution_count": 19,
   "metadata": {
    "ExecuteTime": {
     "end_time": "2020-04-23T12:46:24.122128Z",
     "start_time": "2020-04-23T12:46:24.109428Z"
    }
   },
   "outputs": [
    {
     "name": "stdout",
     "output_type": "stream",
     "text": [
      "{1}\n"
     ]
    }
   ],
   "source": [
    "print(x.difference(y))"
   ]
  },
  {
   "cell_type": "markdown",
   "metadata": {
    "ExecuteTime": {
     "end_time": "2020-03-11T15:45:04.754557Z",
     "start_time": "2020-03-11T15:45:04.734426Z"
    }
   },
   "source": [
    "---------------\n",
    "## Collections"
   ]
  },
  {
   "cell_type": "markdown",
   "metadata": {},
   "source": [
    "* for each word in a sentence count the occurence\n",
    "* **sentence:** *black cat jumped over white cat*"
   ]
  },
  {
   "cell_type": "code",
   "execution_count": 38,
   "metadata": {
    "ExecuteTime": {
     "end_time": "2020-04-23T12:46:24.725222Z",
     "start_time": "2020-04-23T12:46:24.718367Z"
    }
   },
   "outputs": [],
   "source": [
    "from collections import Counter, defaultdict, deque, namedtuple"
   ]
  },
  {
   "cell_type": "code",
   "execution_count": 23,
   "metadata": {},
   "outputs": [
    {
     "data": {
      "text/plain": [
       "Counter({'black': 1, 'cat': 2, 'jumped': 1, 'over': 1, 'white': 1})"
      ]
     },
     "execution_count": 23,
     "metadata": {},
     "output_type": "execute_result"
    }
   ],
   "source": [
    "sentence = 'black cat jumped over white cat'\n",
    "word_count = Counter(sentence.split(' '))\n",
    "word_count"
   ]
  },
  {
   "cell_type": "markdown",
   "metadata": {},
   "source": [
    "* print the most common words"
   ]
  },
  {
   "cell_type": "code",
   "execution_count": 24,
   "metadata": {
    "ExecuteTime": {
     "end_time": "2020-04-23T12:46:25.137822Z",
     "start_time": "2020-04-23T12:46:25.125541Z"
    }
   },
   "outputs": [
    {
     "data": {
      "text/plain": [
       "[('cat', 2)]"
      ]
     },
     "execution_count": 24,
     "metadata": {},
     "output_type": "execute_result"
    }
   ],
   "source": [
    "word_count.most_common(1)"
   ]
  },
  {
   "cell_type": "markdown",
   "metadata": {},
   "source": [
    "* count the occurences of words in the same sentence but now use **defaultdict**"
   ]
  },
  {
   "cell_type": "code",
   "execution_count": 28,
   "metadata": {
    "ExecuteTime": {
     "end_time": "2020-04-23T12:46:25.584924Z",
     "start_time": "2020-04-23T12:46:25.576870Z"
    }
   },
   "outputs": [
    {
     "name": "stdout",
     "output_type": "stream",
     "text": [
      "dict_items([('black', 1), ('cat', 2), ('jumped', 1), ('over', 1), ('white', 1)])\n"
     ]
    }
   ],
   "source": [
    "d = defaultdict(int)\n",
    "\n",
    "for k in sentence.split(' '):\n",
    "    d[k] += 1\n",
    "    \n",
    "print(d.items())"
   ]
  },
  {
   "cell_type": "markdown",
   "metadata": {
    "ExecuteTime": {
     "end_time": "2020-04-23T12:42:40.229428Z",
     "start_time": "2020-04-23T12:42:40.222302Z"
    }
   },
   "source": [
    "* create deque from list set used in first exercise"
   ]
  },
  {
   "cell_type": "code",
   "execution_count": 32,
   "metadata": {
    "ExecuteTime": {
     "end_time": "2020-04-23T12:46:26.011195Z",
     "start_time": "2020-04-23T12:46:26.007688Z"
    }
   },
   "outputs": [
    {
     "data": {
      "text/plain": [
       "deque([1, 2, 3, 4, 7, 8, 9])"
      ]
     },
     "execution_count": 32,
     "metadata": {},
     "output_type": "execute_result"
    }
   ],
   "source": [
    "d = deque(non_empty_set)\n",
    "d"
   ]
  },
  {
   "cell_type": "markdown",
   "metadata": {},
   "source": [
    "* append number 10 to deque"
   ]
  },
  {
   "cell_type": "code",
   "execution_count": 33,
   "metadata": {
    "ExecuteTime": {
     "end_time": "2020-04-23T12:46:26.406289Z",
     "start_time": "2020-04-23T12:46:26.397483Z"
    }
   },
   "outputs": [
    {
     "data": {
      "text/plain": [
       "deque([1, 2, 3, 4, 7, 8, 9, 10])"
      ]
     },
     "execution_count": 33,
     "metadata": {},
     "output_type": "execute_result"
    }
   ],
   "source": [
    "d.append(10)\n",
    "d"
   ]
  },
  {
   "cell_type": "markdown",
   "metadata": {},
   "source": [
    "* remove element from the right end from deque"
   ]
  },
  {
   "cell_type": "code",
   "execution_count": 34,
   "metadata": {
    "ExecuteTime": {
     "end_time": "2020-04-23T12:46:26.788077Z",
     "start_time": "2020-04-23T12:46:26.776926Z"
    }
   },
   "outputs": [
    {
     "data": {
      "text/plain": [
       "deque([1, 2, 3, 4, 7, 8, 9])"
      ]
     },
     "execution_count": 34,
     "metadata": {},
     "output_type": "execute_result"
    }
   ],
   "source": [
    "d.pop()\n",
    "d"
   ]
  },
  {
   "cell_type": "markdown",
   "metadata": {},
   "source": [
    "* remove element from the left end from deque"
   ]
  },
  {
   "cell_type": "code",
   "execution_count": 35,
   "metadata": {
    "ExecuteTime": {
     "end_time": "2020-04-23T12:46:27.379076Z",
     "start_time": "2020-04-23T12:46:27.373076Z"
    }
   },
   "outputs": [
    {
     "data": {
      "text/plain": [
       "deque([2, 3, 4, 7, 8, 9])"
      ]
     },
     "execution_count": 35,
     "metadata": {},
     "output_type": "execute_result"
    }
   ],
   "source": [
    "d.popleft()\n",
    "d"
   ]
  },
  {
   "cell_type": "markdown",
   "metadata": {},
   "source": [
    "* delete all elements from deque"
   ]
  },
  {
   "cell_type": "code",
   "execution_count": 37,
   "metadata": {
    "ExecuteTime": {
     "end_time": "2020-04-23T12:46:27.788235Z",
     "start_time": "2020-04-23T12:46:27.778162Z"
    }
   },
   "outputs": [
    {
     "data": {
      "text/plain": [
       "deque([])"
      ]
     },
     "execution_count": 37,
     "metadata": {},
     "output_type": "execute_result"
    }
   ],
   "source": [
    "d.clear()\n",
    "d"
   ]
  },
  {
   "cell_type": "markdown",
   "metadata": {},
   "source": [
    "* create named tuple (people) with name and surname as position names"
   ]
  },
  {
   "cell_type": "code",
   "execution_count": 39,
   "metadata": {
    "ExecuteTime": {
     "end_time": "2020-04-23T12:46:28.173030Z",
     "start_time": "2020-04-23T12:46:28.165072Z"
    }
   },
   "outputs": [],
   "source": [
    "People = namedtuple('People', ['name', 'surname'])\n",
    "p = People('Kyle', 'Kulas')"
   ]
  },
  {
   "cell_type": "markdown",
   "metadata": {},
   "source": [
    "* print name and surname"
   ]
  },
  {
   "cell_type": "code",
   "execution_count": 40,
   "metadata": {},
   "outputs": [
    {
     "name": "stdout",
     "output_type": "stream",
     "text": [
      "Kyle Kulas\n"
     ]
    }
   ],
   "source": [
    "print(p.name, p.surname)"
   ]
  },
  {
   "cell_type": "code",
   "execution_count": null,
   "metadata": {
    "ExecuteTime": {
     "end_time": "2020-04-23T12:46:28.538932Z",
     "start_time": "2020-04-23T12:46:28.535095Z"
    }
   },
   "outputs": [],
   "source": []
  },
  {
   "cell_type": "markdown",
   "metadata": {},
   "source": [
    "_________________\n",
    "## Exception handling\n",
    "Now, let's practice with **errors and exception handling**\n",
    "\n",
    "* Transform all string elements from a list to upper, if the element is not a string don't transform it.\n",
    "* Use a try & except block without using the 'if' statement."
   ]
  },
  {
   "cell_type": "code",
   "execution_count": 44,
   "metadata": {
    "ExecuteTime": {
     "end_time": "2020-04-23T12:46:29.120210Z",
     "start_time": "2020-04-23T12:46:29.109343Z"
    }
   },
   "outputs": [
    {
     "name": "stdout",
     "output_type": "stream",
     "text": [
      "['A', 'B', 'C', 1]\n"
     ]
    }
   ],
   "source": [
    "l = ['a','b','c',1]\n",
    "for index, element in enumerate(l):\n",
    "    try:\n",
    "        l[index] = element.upper()\n",
    "    except:\n",
    "        pass\n",
    "print(l)"
   ]
  },
  {
   "cell_type": "code",
   "execution_count": null,
   "metadata": {},
   "outputs": [],
   "source": []
  },
  {
   "cell_type": "code",
   "execution_count": null,
   "metadata": {},
   "outputs": [],
   "source": []
  },
  {
   "cell_type": "markdown",
   "metadata": {},
   "source": [
    "### We have created a function below:\n",
    "\n",
    "Luke Skywalker has family and friends. Help him remind himself the type of relation he has with his family and friends. \n",
    "\n",
    "Given a string with a name, return the relation of that person to Luke.\n",
    "\n",
    "**Person --> Relation**\n",
    "- Darth Vader --> father\n",
    "- Leia --> sister\n",
    "- Han --> brother in law\n",
    "- R2D2 --> droid\n",
    "\n",
    "#### Examples\n",
    "\n",
    "> relation_to_luke(\"Darth Vader\") ➞ \"Luke, I am your father.\"\n",
    ">\n",
    "> relation_to_luke(\"Leia\") ➞ \"Luke, I am your sister.\"\n",
    ">\n",
    "> relation_to_luke(\"Han\") ➞ \"Luke, I am your brother in law.\""
   ]
  },
  {
   "cell_type": "code",
   "execution_count": 49,
   "metadata": {},
   "outputs": [],
   "source": [
    "def relation_to_luke(text):\n",
    "    _dict = {}\n",
    "    _dict[\"Darth Vader\"] = \"father\"\n",
    "    _dict[\"Leia\"] = \"sister\"\n",
    "    _dict[\"Han\"] = \"brother in law\"\n",
    "    _dict[\"R2D2\"] = \"droid\"\n",
    "    print(f\"Luke, I am your {_dict[text]}\")"
   ]
  },
  {
   "cell_type": "markdown",
   "metadata": {},
   "source": [
    "#### Task I\n",
    "Fix errors in the function above so we can run following code"
   ]
  },
  {
   "cell_type": "code",
   "execution_count": 50,
   "metadata": {},
   "outputs": [
    {
     "name": "stdout",
     "output_type": "stream",
     "text": [
      "Luke, I am your father\n",
      "Luke, I am your sister\n",
      "Luke, I am your brother in law\n",
      "Luke, I am your droid\n"
     ]
    }
   ],
   "source": [
    "relation_to_luke(\"Darth Vader\")\n",
    "relation_to_luke(\"Leia\")\n",
    "relation_to_luke(\"Han\")\n",
    "relation_to_luke(\"R2D2\")"
   ]
  },
  {
   "cell_type": "code",
   "execution_count": null,
   "metadata": {},
   "outputs": [],
   "source": []
  },
  {
   "cell_type": "markdown",
   "metadata": {},
   "source": [
    "#### Task II\n",
    "Use exception handling so we can run the function with any string. In this case, the function will return following:\n",
    "\n",
    "**relation_to_luke(\"aaaa\") ➞ \"aaaa is not in the relation with Luke\"**\n",
    "\n",
    "**Note:** Do **Not** use an **if** statement for this"
   ]
  },
  {
   "cell_type": "code",
   "execution_count": 51,
   "metadata": {},
   "outputs": [],
   "source": [
    "def relation_to_luke(text):\n",
    "    _dict = {}\n",
    "    _dict[\"Darth Vader\"] = \"father\"\n",
    "    _dict[\"Leia\"] = \"sister\"\n",
    "    _dict[\"Han\"] = \"brother in law\"\n",
    "    _dict[\"R2D2\"] = \"droid\"\n",
    "    try:\n",
    "        print(f\"Luke, I am your {_dict[text]}\")\n",
    "    except:\n",
    "        print(f\"{text} is not in the relation with Luke\")"
   ]
  },
  {
   "cell_type": "code",
   "execution_count": 52,
   "metadata": {},
   "outputs": [
    {
     "name": "stdout",
     "output_type": "stream",
     "text": [
      "aaa is not in the relation with Luke\n"
     ]
    }
   ],
   "source": [
    "relation_to_luke('aaa')"
   ]
  },
  {
   "cell_type": "code",
   "execution_count": null,
   "metadata": {},
   "outputs": [],
   "source": []
  }
 ],
 "metadata": {
  "kernelspec": {
   "display_name": "Python 3 (ipykernel)",
   "language": "python",
   "name": "python3"
  },
  "language_info": {
   "codemirror_mode": {
    "name": "ipython",
    "version": 3
   },
   "file_extension": ".py",
   "mimetype": "text/x-python",
   "name": "python",
   "nbconvert_exporter": "python",
   "pygments_lexer": "ipython3",
   "version": "3.8.8"
  },
  "toc": {
   "base_numbering": 1,
   "nav_menu": {},
   "number_sections": true,
   "sideBar": true,
   "skip_h1_title": false,
   "title_cell": "Table of Contents",
   "title_sidebar": "Contents",
   "toc_cell": false,
   "toc_position": {},
   "toc_section_display": true,
   "toc_window_display": false
  },
  "varInspector": {
   "cols": {
    "lenName": 16,
    "lenType": 16,
    "lenVar": 40
   },
   "kernels_config": {
    "python": {
     "delete_cmd_postfix": "",
     "delete_cmd_prefix": "del ",
     "library": "var_list.py",
     "varRefreshCmd": "print(var_dic_list())"
    },
    "r": {
     "delete_cmd_postfix": ") ",
     "delete_cmd_prefix": "rm(",
     "library": "var_list.r",
     "varRefreshCmd": "cat(var_dic_list()) "
    }
   },
   "types_to_exclude": [
    "module",
    "function",
    "builtin_function_or_method",
    "instance",
    "_Feature"
   ],
   "window_display": false
  }
 },
 "nbformat": 4,
 "nbformat_minor": 4
}
