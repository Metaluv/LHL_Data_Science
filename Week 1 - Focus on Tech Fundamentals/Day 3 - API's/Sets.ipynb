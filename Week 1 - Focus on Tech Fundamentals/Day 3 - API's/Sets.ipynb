{
 "cells": [
  {
   "cell_type": "markdown",
   "id": "acc7a76a-6817-4966-a4f4-71a4ee258104",
   "metadata": {},
   "source": [
    "# Sets"
   ]
  },
  {
   "cell_type": "markdown",
   "id": "a3122eba-846e-4947-b101-369ab41f6d62",
   "metadata": {},
   "source": [
    "## Union of sets"
   ]
  },
  {
   "cell_type": "code",
   "execution_count": 1,
   "id": "ef9b7222-87df-43f1-bd7e-4efeb337aa38",
   "metadata": {},
   "outputs": [
    {
     "data": {
      "text/plain": [
       "{'bar', 'baz', 'foo', 'qux', 'quxx'}"
      ]
     },
     "execution_count": 1,
     "metadata": {},
     "output_type": "execute_result"
    }
   ],
   "source": [
    "x1 = {'foo', 'bar', 'baz'}\n",
    "x2 = {'baz', 'qux', 'quxx'}\n",
    "\n",
    "x1 | x2"
   ]
  },
  {
   "cell_type": "code",
   "execution_count": 2,
   "id": "85eaee67-a12e-4f14-a671-a262c0ea2350",
   "metadata": {},
   "outputs": [
    {
     "data": {
      "text/plain": [
       "{'bar', 'baz', 'foo', 'qux', 'quxx'}"
      ]
     },
     "execution_count": 2,
     "metadata": {},
     "output_type": "execute_result"
    }
   ],
   "source": [
    "x1.union(x2)"
   ]
  },
  {
   "cell_type": "code",
   "execution_count": 3,
   "id": "bf4437b7-60c1-46c2-b39a-177994c476da",
   "metadata": {},
   "outputs": [
    {
     "data": {
      "text/plain": [
       "{'bar', 'baz', 'foo', 'qux', 'quxx'}"
      ]
     },
     "execution_count": 3,
     "metadata": {},
     "output_type": "execute_result"
    }
   ],
   "source": [
    "x1.union(('baz', 'qux', 'quxx'))"
   ]
  },
  {
   "cell_type": "code",
   "execution_count": 4,
   "id": "a8e76076-1fc0-4f06-9f7b-c26fdbd83d5e",
   "metadata": {},
   "outputs": [
    {
     "data": {
      "text/plain": [
       "{1, 2, 3, 4, 5, 6, 7}"
      ]
     },
     "execution_count": 4,
     "metadata": {},
     "output_type": "execute_result"
    }
   ],
   "source": [
    "a = {1,2,3,4}\n",
    "b = {2, 3,4,5}\n",
    "c = {3,4,5,6}\n",
    "d = {4,5,6,7}\n",
    "\n",
    "a.union(b, c, d)"
   ]
  },
  {
   "cell_type": "code",
   "execution_count": 5,
   "id": "031f5aee-968a-4d80-be96-fd874509bfa9",
   "metadata": {},
   "outputs": [
    {
     "data": {
      "text/plain": [
       "{1, 2, 3, 4, 5, 6, 7}"
      ]
     },
     "execution_count": 5,
     "metadata": {},
     "output_type": "execute_result"
    }
   ],
   "source": [
    "a | b | c | d"
   ]
  },
  {
   "cell_type": "markdown",
   "id": "ad1f2c92-5ce6-424f-a9b7-a15185c273d5",
   "metadata": {},
   "source": [
    "## Intersection"
   ]
  },
  {
   "cell_type": "code",
   "execution_count": 6,
   "id": "7865dae0-1f8f-4e53-840b-d2370ca232d4",
   "metadata": {},
   "outputs": [
    {
     "data": {
      "text/plain": [
       "{'baz'}"
      ]
     },
     "execution_count": 6,
     "metadata": {},
     "output_type": "execute_result"
    }
   ],
   "source": [
    "x1 = {'foo', 'bar', 'baz'}\n",
    "x2 = {'baz', 'qux', 'quxx'}\n",
    "\n",
    "x1.intersection(x2)"
   ]
  },
  {
   "cell_type": "code",
   "execution_count": 7,
   "id": "25c376da-bc08-4e01-8a35-a365f4d3e019",
   "metadata": {},
   "outputs": [
    {
     "data": {
      "text/plain": [
       "{'baz'}"
      ]
     },
     "execution_count": 7,
     "metadata": {},
     "output_type": "execute_result"
    }
   ],
   "source": [
    "x1 & x2"
   ]
  },
  {
   "cell_type": "code",
   "execution_count": 9,
   "id": "bc4a7f07-4052-4e3d-b95e-5957a630e6a3",
   "metadata": {},
   "outputs": [
    {
     "data": {
      "text/plain": [
       "{4}"
      ]
     },
     "execution_count": 9,
     "metadata": {},
     "output_type": "execute_result"
    }
   ],
   "source": [
    "a = {1,2,3,4}\n",
    "b = {2, 3,4,5}\n",
    "c = {3,4,5,6}\n",
    "d = {4,5,6,7}\n",
    "\n",
    "a.intersection(b, c, d)"
   ]
  },
  {
   "cell_type": "code",
   "execution_count": 10,
   "id": "a285369d-5dcd-489d-8dc8-587343f02555",
   "metadata": {},
   "outputs": [
    {
     "data": {
      "text/plain": [
       "{4}"
      ]
     },
     "execution_count": 10,
     "metadata": {},
     "output_type": "execute_result"
    }
   ],
   "source": [
    "a & b & c & d"
   ]
  },
  {
   "cell_type": "markdown",
   "id": "a09551df-2236-478b-bd81-cf8d14a049ed",
   "metadata": {},
   "source": [
    "## Difference"
   ]
  },
  {
   "cell_type": "code",
   "execution_count": 11,
   "id": "71b20e6f-11cd-4ceb-9349-78a6e2b388b1",
   "metadata": {},
   "outputs": [
    {
     "data": {
      "text/plain": [
       "{'bar', 'foo'}"
      ]
     },
     "execution_count": 11,
     "metadata": {},
     "output_type": "execute_result"
    }
   ],
   "source": [
    "x1 = {'foo', 'bar', 'baz'}\n",
    "x2 = {'baz', 'qux', 'quxx'}\n",
    "\n",
    "x1.difference(x2)"
   ]
  },
  {
   "cell_type": "code",
   "execution_count": 12,
   "id": "9f5bc22c-0b13-4e46-a990-55bacdb91b21",
   "metadata": {},
   "outputs": [
    {
     "data": {
      "text/plain": [
       "{'bar', 'foo'}"
      ]
     },
     "execution_count": 12,
     "metadata": {},
     "output_type": "execute_result"
    }
   ],
   "source": [
    "x1 - x2"
   ]
  },
  {
   "cell_type": "code",
   "execution_count": 13,
   "id": "10f4a1a2-cb53-4221-bebf-ffd2f8fdc61b",
   "metadata": {},
   "outputs": [
    {
     "data": {
      "text/plain": [
       "{1, 2, 3}"
      ]
     },
     "execution_count": 13,
     "metadata": {},
     "output_type": "execute_result"
    }
   ],
   "source": [
    "a = {1, 2, 3, 30, 300}\n",
    "b = {10, 20, 30, 40}\n",
    "c = {100, 200, 300, 400}\n",
    "\n",
    "a.difference(b, c)"
   ]
  },
  {
   "cell_type": "code",
   "execution_count": 14,
   "id": "b5249efa-dccc-4908-9436-2a506c3e9c12",
   "metadata": {},
   "outputs": [
    {
     "data": {
      "text/plain": [
       "{1, 2, 3}"
      ]
     },
     "execution_count": 14,
     "metadata": {},
     "output_type": "execute_result"
    }
   ],
   "source": [
    "a - b - c"
   ]
  },
  {
   "cell_type": "markdown",
   "id": "b805db5a-447c-4af7-854c-2555f119868a",
   "metadata": {},
   "source": [
    "When mulitple sets are specified, the operatioin is performed from left to right. a - b then - c"
   ]
  },
  {
   "cell_type": "markdown",
   "id": "e604b1ef-0cda-4fa0-9a83-e60d13e364e7",
   "metadata": {},
   "source": [
    "## Symmetric Difference\n",
    "\n",
    "return the set of all elements in either x1 or x2 but not both"
   ]
  },
  {
   "cell_type": "code",
   "execution_count": 15,
   "id": "d2053b2b-4b2d-4260-bf75-16309ff73766",
   "metadata": {},
   "outputs": [
    {
     "data": {
      "text/plain": [
       "{'bar', 'foo', 'qux', 'quxx'}"
      ]
     },
     "execution_count": 15,
     "metadata": {},
     "output_type": "execute_result"
    }
   ],
   "source": [
    "x1 = {'foo', 'bar', 'baz'}\n",
    "x2 = {'baz', 'qux', 'quxx'}\n",
    "\n",
    "x1.symmetric_difference(x2)"
   ]
  },
  {
   "cell_type": "code",
   "execution_count": 16,
   "id": "63bd3348-eaf1-4336-9fb2-4c6caa0324e0",
   "metadata": {},
   "outputs": [
    {
     "data": {
      "text/plain": [
       "{'bar', 'foo', 'qux', 'quxx'}"
      ]
     },
     "execution_count": 16,
     "metadata": {},
     "output_type": "execute_result"
    }
   ],
   "source": [
    "x1 ^ x2"
   ]
  },
  {
   "cell_type": "code",
   "execution_count": 17,
   "id": "97f27b8f-2d0a-410b-83c3-efd82f93b5ff",
   "metadata": {},
   "outputs": [
    {
     "data": {
      "text/plain": [
       "{5, 10, 100}"
      ]
     },
     "execution_count": 17,
     "metadata": {},
     "output_type": "execute_result"
    }
   ],
   "source": [
    "a = {1, 2, 3, 4, 5}\n",
    "b = {10, 2, 3, 4, 50}\n",
    "c = {1, 50, 100}\n",
    "\n",
    "a ^ b ^ c"
   ]
  },
  {
   "cell_type": "markdown",
   "id": "db372fac-7bba-4e21-975a-3f677d914ffc",
   "metadata": {},
   "source": [
    "### x1.isdisjoint(x2)\n",
    "\n",
    "Determines whether or not two sets have any elements in common. Returns True if x1 and x2 have no elements in common"
   ]
  },
  {
   "cell_type": "code",
   "execution_count": 18,
   "id": "167268fb-5006-430d-936c-07165df4783c",
   "metadata": {},
   "outputs": [
    {
     "data": {
      "text/plain": [
       "False"
      ]
     },
     "execution_count": 18,
     "metadata": {},
     "output_type": "execute_result"
    }
   ],
   "source": [
    "x1 = {'foo', 'bar', 'baz'}\n",
    "x2 = {'baz', 'qux', 'quxx'}\n",
    "\n",
    "x1.isdisjoint(x2)"
   ]
  },
  {
   "cell_type": "code",
   "execution_count": 19,
   "id": "5095ba46-e6aa-44f6-a380-9342d17ba945",
   "metadata": {},
   "outputs": [
    {
     "data": {
      "text/plain": [
       "{'baz', 'qux', 'quxx'}"
      ]
     },
     "execution_count": 19,
     "metadata": {},
     "output_type": "execute_result"
    }
   ],
   "source": [
    "x2 - {'baz\"'}"
   ]
  },
  {
   "cell_type": "code",
   "execution_count": 20,
   "id": "0cc2fedb-9749-4af2-99f8-5953fda90d55",
   "metadata": {},
   "outputs": [
    {
     "data": {
      "text/plain": [
       "True"
      ]
     },
     "execution_count": 20,
     "metadata": {},
     "output_type": "execute_result"
    }
   ],
   "source": [
    "x1.isdisjoint(x2 - {'baz'})"
   ]
  },
  {
   "cell_type": "code",
   "execution_count": 21,
   "id": "275599e1-d1e2-41d7-94c5-4d09eee92750",
   "metadata": {},
   "outputs": [
    {
     "data": {
      "text/plain": [
       "True"
      ]
     },
     "execution_count": 21,
     "metadata": {},
     "output_type": "execute_result"
    }
   ],
   "source": [
    "x1 = {1, 3, 5}\n",
    "x2 = {2, 4, 6}\n",
    "\n",
    "x1.isdisjoint(x2)"
   ]
  },
  {
   "cell_type": "code",
   "execution_count": 22,
   "id": "44ca78ef-403b-4d14-8d8c-63992b46e774",
   "metadata": {},
   "outputs": [
    {
     "data": {
      "text/plain": [
       "set()"
      ]
     },
     "execution_count": 22,
     "metadata": {},
     "output_type": "execute_result"
    }
   ],
   "source": [
    "x1 & x2"
   ]
  },
  {
   "cell_type": "markdown",
   "id": "17d9001f-87f5-47ec-8388-7e73b01491fb",
   "metadata": {},
   "source": [
    "### x1.issubset(x2)\n",
    "\n",
    "Determines whether one set is a subset of the other\n",
    "\n",
    "In set theor, a set x1 is considered a subset of another set x2 if every element of x1 is in x2. \n",
    "\n",
    "Return True if x1 is a subset of x2"
   ]
  },
  {
   "cell_type": "code",
   "execution_count": 23,
   "id": "b26de838-29ad-450c-92ce-fd25d74626ee",
   "metadata": {},
   "outputs": [
    {
     "data": {
      "text/plain": [
       "True"
      ]
     },
     "execution_count": 23,
     "metadata": {},
     "output_type": "execute_result"
    }
   ],
   "source": [
    "x1 = {'foo', 'bar', 'baz'}\n",
    "x1.issubset({'foo', 'bar', 'baz', 'qux', 'quux'})"
   ]
  },
  {
   "cell_type": "code",
   "execution_count": 24,
   "id": "a1e9997e-1fd4-434c-870c-4d5fc938797b",
   "metadata": {},
   "outputs": [
    {
     "data": {
      "text/plain": [
       "False"
      ]
     },
     "execution_count": 24,
     "metadata": {},
     "output_type": "execute_result"
    }
   ],
   "source": [
    "x2 = {'baz', 'qux', 'quux'}\n",
    "x1 <= x2"
   ]
  },
  {
   "cell_type": "code",
   "execution_count": 25,
   "id": "08987288-d312-4a68-ba29-d398c9a11537",
   "metadata": {},
   "outputs": [
    {
     "data": {
      "text/plain": [
       "True"
      ]
     },
     "execution_count": 25,
     "metadata": {},
     "output_type": "execute_result"
    }
   ],
   "source": [
    "x = {1, 2, 3, 4, 5}\n",
    "x.issubset(x)"
   ]
  },
  {
   "cell_type": "code",
   "execution_count": 26,
   "id": "708f561d-9920-4b60-b5fb-5992aa389872",
   "metadata": {},
   "outputs": [
    {
     "data": {
      "text/plain": [
       "True"
      ]
     },
     "execution_count": 26,
     "metadata": {},
     "output_type": "execute_result"
    }
   ],
   "source": [
    "x <= x"
   ]
  },
  {
   "cell_type": "markdown",
   "id": "0b9d8fdf-7595-43ac-88fd-b5d5350b4c28",
   "metadata": {},
   "source": [
    "x1 < x2\n",
    "\n",
    "Determines whether one set is a proper subset of the other. \n",
    "A proper subset is the same as a subset except that the sets can't be identical"
   ]
  },
  {
   "cell_type": "code",
   "execution_count": 27,
   "id": "52266697-3f24-49fb-9ef2-a5ad84937c8e",
   "metadata": {},
   "outputs": [
    {
     "data": {
      "text/plain": [
       "True"
      ]
     },
     "execution_count": 27,
     "metadata": {},
     "output_type": "execute_result"
    }
   ],
   "source": [
    "x1 = {'foo', 'bar'}\n",
    "x2 = {'foo', 'bar', 'baz'}\n",
    "\n",
    "x1 < x2"
   ]
  },
  {
   "cell_type": "code",
   "execution_count": 28,
   "id": "831a553a-9e5e-498e-9159-e941ec34eeb8",
   "metadata": {},
   "outputs": [
    {
     "data": {
      "text/plain": [
       "False"
      ]
     },
     "execution_count": 28,
     "metadata": {},
     "output_type": "execute_result"
    }
   ],
   "source": [
    "x1 = {'foo', 'bar', 'baz'}\n",
    "x2 = {'foo', 'bar', 'baz'}\n",
    "x1 < x2"
   ]
  },
  {
   "cell_type": "code",
   "execution_count": 29,
   "id": "5fcd668d-faf9-4c41-aba6-4681bc086456",
   "metadata": {},
   "outputs": [
    {
     "data": {
      "text/plain": [
       "False"
      ]
     },
     "execution_count": 29,
     "metadata": {},
     "output_type": "execute_result"
    }
   ],
   "source": [
    "x < x"
   ]
  },
  {
   "cell_type": "markdown",
   "id": "b30b382f-3e1f-477d-8f6c-216e62fae633",
   "metadata": {},
   "source": [
    "### x1.issuperset(x2)\n",
    "\n",
    "Determine whether one set is a superset of the other. \n",
    "\n",
    "A superset is the reverse of a subset. A set x1 is considered a superset of another set x2 if x1 contains every element of x2. Return True if x1 is a superset of x2"
   ]
  },
  {
   "cell_type": "code",
   "execution_count": 30,
   "id": "744db7dc-fd47-4887-91af-259abb608c12",
   "metadata": {},
   "outputs": [
    {
     "data": {
      "text/plain": [
       "True"
      ]
     },
     "execution_count": 30,
     "metadata": {},
     "output_type": "execute_result"
    }
   ],
   "source": [
    "x1 = {'foo', 'bar', 'baz'}\n",
    "x1.issuperset({'foo', 'bar'})"
   ]
  },
  {
   "cell_type": "code",
   "execution_count": 31,
   "id": "156d803a-17a8-4889-9127-a5acc4cc4775",
   "metadata": {},
   "outputs": [
    {
     "data": {
      "text/plain": [
       "False"
      ]
     },
     "execution_count": 31,
     "metadata": {},
     "output_type": "execute_result"
    }
   ],
   "source": [
    "x2 = {'baz', 'qux', 'quux'}\n",
    "x1 >= x2"
   ]
  },
  {
   "cell_type": "code",
   "execution_count": 32,
   "id": "511e6c64-9a37-4641-af25-6c2021c30a66",
   "metadata": {},
   "outputs": [
    {
     "data": {
      "text/plain": [
       "True"
      ]
     },
     "execution_count": 32,
     "metadata": {},
     "output_type": "execute_result"
    }
   ],
   "source": [
    "x = {1, 2, 3, 4, 5}\n",
    "x.issuperset(x)"
   ]
  },
  {
   "cell_type": "code",
   "execution_count": 33,
   "id": "e902c1fe-5c34-4f94-9f95-16b07f91bb54",
   "metadata": {},
   "outputs": [
    {
     "data": {
      "text/plain": [
       "True"
      ]
     },
     "execution_count": 33,
     "metadata": {},
     "output_type": "execute_result"
    }
   ],
   "source": [
    "x >= x"
   ]
  },
  {
   "cell_type": "markdown",
   "id": "6954ffb5-68ea-43fb-859a-4633c4b3fd39",
   "metadata": {},
   "source": [
    "x1 > x2\n",
    "\n",
    "Determines whether one set is a proper superset of the other.\n",
    "\n",
    "Same as superset but can't be identical"
   ]
  },
  {
   "cell_type": "code",
   "execution_count": 34,
   "id": "550b3479-7669-4ac8-87c7-ec057698cc6d",
   "metadata": {},
   "outputs": [
    {
     "data": {
      "text/plain": [
       "True"
      ]
     },
     "execution_count": 34,
     "metadata": {},
     "output_type": "execute_result"
    }
   ],
   "source": [
    "x1 = {'foo', 'bar', 'baz'}\n",
    "x2 = {'foo', 'bar'}\n",
    "x1 > x2"
   ]
  },
  {
   "cell_type": "code",
   "execution_count": 35,
   "id": "b28aafeb-742b-49e5-ac82-f1d178e91ae5",
   "metadata": {},
   "outputs": [
    {
     "data": {
      "text/plain": [
       "False"
      ]
     },
     "execution_count": 35,
     "metadata": {},
     "output_type": "execute_result"
    }
   ],
   "source": [
    "x1 = {'foo', 'bar', 'baz'}\n",
    "x2 = {'foo', 'bar', 'baz'}\n",
    "x1 > x2"
   ]
  },
  {
   "cell_type": "code",
   "execution_count": 36,
   "id": "5e090fec-6177-4127-964a-f41f885cae96",
   "metadata": {},
   "outputs": [
    {
     "data": {
      "text/plain": [
       "False"
      ]
     },
     "execution_count": 36,
     "metadata": {},
     "output_type": "execute_result"
    }
   ],
   "source": [
    "x = {1, 2, 3, 4, 5}\n",
    "x > x"
   ]
  },
  {
   "cell_type": "markdown",
   "id": "4723667d-4ab2-428b-864f-379e44875cb1",
   "metadata": {},
   "source": [
    "## Modifying a Set"
   ]
  },
  {
   "cell_type": "markdown",
   "id": "3bd1a236-e251-47d3-9291-ac881acb630b",
   "metadata": {},
   "source": [
    "Modify a set by union"
   ]
  },
  {
   "cell_type": "code",
   "execution_count": 38,
   "id": "2d1abddc-15b5-440f-b06b-370b9ffea233",
   "metadata": {},
   "outputs": [
    {
     "data": {
      "text/plain": [
       "{'bar', 'baz', 'foo', 'qux'}"
      ]
     },
     "execution_count": 38,
     "metadata": {},
     "output_type": "execute_result"
    }
   ],
   "source": [
    "x1 = {'foo', 'bar', 'baz'}\n",
    "x2 = {'foo', 'baz', 'qux'}\n",
    "\n",
    "x1 |= x2\n",
    "x1"
   ]
  },
  {
   "cell_type": "code",
   "execution_count": 39,
   "id": "25d3ea83-ab96-4f75-a7f1-84c52116d477",
   "metadata": {},
   "outputs": [
    {
     "data": {
      "text/plain": [
       "{'bar', 'baz', 'corge', 'foo', 'garply', 'qux'}"
      ]
     },
     "execution_count": 39,
     "metadata": {},
     "output_type": "execute_result"
    }
   ],
   "source": [
    "x1.update(['corge', 'garply'])\n",
    "x1"
   ]
  },
  {
   "cell_type": "markdown",
   "id": "4544c48e-578c-48c0-877f-ccb0883c5047",
   "metadata": {},
   "source": [
    "Modify a set by intersection"
   ]
  },
  {
   "cell_type": "code",
   "execution_count": 41,
   "id": "c1b8457d-4ea6-4cea-ae37-b44b868f07b1",
   "metadata": {},
   "outputs": [
    {
     "data": {
      "text/plain": [
       "{'baz', 'foo'}"
      ]
     },
     "execution_count": 41,
     "metadata": {},
     "output_type": "execute_result"
    }
   ],
   "source": [
    "x1 = {'foo', 'bar', 'baz'}\n",
    "x2 = {'foo', 'baz', 'qux'}\n",
    "\n",
    "x1 &= x2\n",
    "x1"
   ]
  },
  {
   "cell_type": "code",
   "execution_count": 42,
   "id": "2d4efc43-470e-4e04-9337-de511b9269c3",
   "metadata": {},
   "outputs": [
    {
     "data": {
      "text/plain": [
       "{'baz'}"
      ]
     },
     "execution_count": 42,
     "metadata": {},
     "output_type": "execute_result"
    }
   ],
   "source": [
    "x1.intersection_update(['baz', 'qux'])\n",
    "x1"
   ]
  },
  {
   "cell_type": "markdown",
   "id": "9bb8e4c8-578d-4e86-8227-20172fdaafba",
   "metadata": {},
   "source": [
    "Modify a set by difference"
   ]
  },
  {
   "cell_type": "code",
   "execution_count": 43,
   "id": "c6c2e152-7e07-43a5-8765-5401ae2b5df3",
   "metadata": {},
   "outputs": [
    {
     "data": {
      "text/plain": [
       "{'bar'}"
      ]
     },
     "execution_count": 43,
     "metadata": {},
     "output_type": "execute_result"
    }
   ],
   "source": [
    "x1 = {'foo', 'bar', 'baz'}\n",
    "x2 = {'foo', 'baz', 'qux'}\n",
    "\n",
    "x1 -= x2\n",
    "x1"
   ]
  },
  {
   "cell_type": "code",
   "execution_count": 44,
   "id": "bf372fb6-8e35-4709-a961-b1d3ac20b18d",
   "metadata": {},
   "outputs": [
    {
     "data": {
      "text/plain": [
       "set()"
      ]
     },
     "execution_count": 44,
     "metadata": {},
     "output_type": "execute_result"
    }
   ],
   "source": [
    "x1.difference_update(['foo', 'bar', 'qux'])\n",
    "x1"
   ]
  },
  {
   "cell_type": "markdown",
   "id": "a4d2a67f-661e-4ffb-845d-ed270c9eccff",
   "metadata": {},
   "source": [
    "Modify set by symmetric diffence"
   ]
  },
  {
   "cell_type": "code",
   "execution_count": 45,
   "id": "dd568976-d58c-4100-a662-d19b1f2d3520",
   "metadata": {},
   "outputs": [
    {
     "data": {
      "text/plain": [
       "{'bar', 'qux'}"
      ]
     },
     "execution_count": 45,
     "metadata": {},
     "output_type": "execute_result"
    }
   ],
   "source": [
    "x1 = {'foo', 'bar', 'baz'}\n",
    "x2 = {'foo', 'baz', 'qux'}\n",
    "\n",
    "x1 ^= x2\n",
    "x1"
   ]
  },
  {
   "cell_type": "code",
   "execution_count": 46,
   "id": "2e4bf019-bb2c-41da-8f6c-ee9bf829edb3",
   "metadata": {},
   "outputs": [
    {
     "data": {
      "text/plain": [
       "{'bar', 'corge'}"
      ]
     },
     "execution_count": 46,
     "metadata": {},
     "output_type": "execute_result"
    }
   ],
   "source": [
    "x1.symmetric_difference_update(['qux', 'corge'])\n",
    "x1"
   ]
  },
  {
   "cell_type": "markdown",
   "id": "3134e931-1b32-4768-bc7d-0fd214074729",
   "metadata": {},
   "source": [
    "### Other methods for modifying sets"
   ]
  },
  {
   "cell_type": "code",
   "execution_count": 50,
   "id": "967cbb70-f119-4ff7-a7a2-1751fa67b42d",
   "metadata": {},
   "outputs": [
    {
     "data": {
      "text/plain": [
       "{'bar', 'baz', 'foo', 'qux'}"
      ]
     },
     "execution_count": 50,
     "metadata": {},
     "output_type": "execute_result"
    }
   ],
   "source": [
    "x = {'foo', 'bar', 'baz'}\n",
    "\n",
    "x.add('qux')\n",
    "x"
   ]
  },
  {
   "cell_type": "code",
   "execution_count": 51,
   "id": "11d2d73b-6ab7-493f-a3ab-dd80a1d65661",
   "metadata": {},
   "outputs": [
    {
     "data": {
      "text/plain": [
       "{'bar', 'foo', 'qux'}"
      ]
     },
     "execution_count": 51,
     "metadata": {},
     "output_type": "execute_result"
    }
   ],
   "source": [
    "x.remove('baz')\n",
    "x"
   ]
  },
  {
   "cell_type": "raw",
   "id": "f793e5a8-97e1-4ebd-a6cb-2d70840dde8d",
   "metadata": {},
   "source": [
    ".remove raises exception if element not in set. .discard does not raise exception"
   ]
  },
  {
   "cell_type": "code",
   "execution_count": 53,
   "id": "2166cbb3-325d-48ab-b74e-f5c5ca5c2945",
   "metadata": {},
   "outputs": [
    {
     "data": {
      "text/plain": [
       "{'bar', 'foo'}"
      ]
     },
     "execution_count": 53,
     "metadata": {},
     "output_type": "execute_result"
    }
   ],
   "source": [
    "x.discard('qux')\n",
    "x"
   ]
  },
  {
   "cell_type": "code",
   "execution_count": 56,
   "id": "fffa6d7a-1fbe-46f7-b031-18effbfdf07e",
   "metadata": {},
   "outputs": [
    {
     "data": {
      "text/plain": [
       "'foo'"
      ]
     },
     "execution_count": 56,
     "metadata": {},
     "output_type": "execute_result"
    }
   ],
   "source": [
    "x = {'foo', 'bar', 'baz'}\n",
    "x.pop()"
   ]
  },
  {
   "cell_type": "code",
   "execution_count": 57,
   "id": "4ffdb8f6-a4c4-4e31-8511-c95ff9c5136c",
   "metadata": {},
   "outputs": [
    {
     "data": {
      "text/plain": [
       "{'bar', 'baz'}"
      ]
     },
     "execution_count": 57,
     "metadata": {},
     "output_type": "execute_result"
    }
   ],
   "source": [
    "x"
   ]
  },
  {
   "cell_type": "code",
   "execution_count": 58,
   "id": "31b31129-34a9-4591-84fc-b3ba1fec0b30",
   "metadata": {},
   "outputs": [
    {
     "data": {
      "text/plain": [
       "{'bar'}"
      ]
     },
     "execution_count": 58,
     "metadata": {},
     "output_type": "execute_result"
    }
   ],
   "source": [
    "x.pop()\n",
    "x"
   ]
  },
  {
   "cell_type": "code",
   "execution_count": 60,
   "id": "cbc2cab3-a893-473f-b5b4-e7baa7d0a814",
   "metadata": {},
   "outputs": [
    {
     "data": {
      "text/plain": [
       "set()"
      ]
     },
     "execution_count": 60,
     "metadata": {},
     "output_type": "execute_result"
    }
   ],
   "source": [
    "x = {'foo', 'bar', 'baz'}\n",
    "x.clear()\n",
    "x"
   ]
  },
  {
   "cell_type": "markdown",
   "id": "ca1a5775-db77-480d-8f2a-70e17f159df2",
   "metadata": {},
   "source": [
    "## Frozen Sets\n",
    "\n",
    "exactly like a set except that a frozenset is immutable"
   ]
  },
  {
   "cell_type": "code",
   "execution_count": 61,
   "id": "b01030f2-7353-4c9a-90bc-24b601413902",
   "metadata": {},
   "outputs": [
    {
     "data": {
      "text/plain": [
       "frozenset({'bar', 'baz', 'foo'})"
      ]
     },
     "execution_count": 61,
     "metadata": {},
     "output_type": "execute_result"
    }
   ],
   "source": [
    "x = frozenset(['foo', 'bar', 'baz'])\n",
    "x"
   ]
  },
  {
   "cell_type": "code",
   "execution_count": 62,
   "id": "34d9896c-cce3-440e-8da8-6236bb1d16e9",
   "metadata": {},
   "outputs": [
    {
     "data": {
      "text/plain": [
       "3"
      ]
     },
     "execution_count": 62,
     "metadata": {},
     "output_type": "execute_result"
    }
   ],
   "source": [
    "len(x)"
   ]
  },
  {
   "cell_type": "code",
   "execution_count": 63,
   "id": "ef9daed7-96aa-4765-96d0-22785f0dc368",
   "metadata": {},
   "outputs": [
    {
     "data": {
      "text/plain": [
       "frozenset({'baz'})"
      ]
     },
     "execution_count": 63,
     "metadata": {},
     "output_type": "execute_result"
    }
   ],
   "source": [
    "x & {'baz', 'qux', 'quux'}"
   ]
  },
  {
   "cell_type": "markdown",
   "id": "268d6288-e357-4565-a236-2993a77bf30a",
   "metadata": {},
   "source": [
    "you can define a set of frozensets because they are immutable"
   ]
  },
  {
   "cell_type": "code",
   "execution_count": 64,
   "id": "7851fcf0-01b4-4586-be97-b83616c0b2bf",
   "metadata": {},
   "outputs": [
    {
     "data": {
      "text/plain": [
       "{frozenset({'baz'}), frozenset({'foo'}), frozenset({'bar'})}"
      ]
     },
     "execution_count": 64,
     "metadata": {},
     "output_type": "execute_result"
    }
   ],
   "source": [
    "x1 = frozenset(['foo'])\n",
    "x2 = frozenset(['bar'])\n",
    "x3 = frozenset(['baz'])\n",
    "\n",
    "x = {x1, x2, x3}\n",
    "x"
   ]
  },
  {
   "cell_type": "markdown",
   "id": "e78a3f75-f4b4-433a-b4d5-f1d622e00805",
   "metadata": {},
   "source": [
    "Or use frozenset as a dictionary keys:"
   ]
  },
  {
   "cell_type": "code",
   "execution_count": 65,
   "id": "695d4656-3ee7-4fb6-85d9-445edf8556e3",
   "metadata": {},
   "outputs": [
    {
     "data": {
      "text/plain": [
       "{frozenset({1, 2, 3}): 'foo', frozenset({'a', 'b', 'c'}): 'bar'}"
      ]
     },
     "execution_count": 65,
     "metadata": {},
     "output_type": "execute_result"
    }
   ],
   "source": [
    "x = frozenset({1, 2, 3})\n",
    "y = frozenset({'a', 'b', 'c'})\n",
    "\n",
    "d = {x: 'foo', y: 'bar'}\n",
    "d"
   ]
  },
  {
   "cell_type": "code",
   "execution_count": null,
   "id": "ac67304d-569b-44b8-a585-76da810136fa",
   "metadata": {},
   "outputs": [],
   "source": []
  }
 ],
 "metadata": {
  "kernelspec": {
   "display_name": "bootcamp_env",
   "language": "python",
   "name": "bootcamp_env"
  },
  "language_info": {
   "codemirror_mode": {
    "name": "ipython",
    "version": 3
   },
   "file_extension": ".py",
   "mimetype": "text/x-python",
   "name": "python",
   "nbconvert_exporter": "python",
   "pygments_lexer": "ipython3",
   "version": "3.8.12"
  }
 },
 "nbformat": 4,
 "nbformat_minor": 5
}
