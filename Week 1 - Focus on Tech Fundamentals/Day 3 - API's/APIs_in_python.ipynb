{
 "cells": [
  {
   "cell_type": "code",
   "execution_count": 1,
   "id": "0939ecce-c47c-4992-9e34-3090ccb1b6f8",
   "metadata": {},
   "outputs": [],
   "source": [
    "import requests as re\n",
    "import os\n",
    "import config as cfg\n"
   ]
  },
  {
   "cell_type": "code",
   "execution_count": 7,
   "id": "6d38d902-7a67-4537-8e68-e290199bd425",
   "metadata": {},
   "outputs": [],
   "source": [
    "payload = {'client_id': cfg.FOURSQUARE_CLIENT_ID, \n",
    "           'client_secret': cfg.FOURSQUARE_CLIENT_SECRET, \n",
    "           'v': \"20200731\", \n",
    "           'near': \"Meadow Lake,Canada\",\n",
    "           'query': 'restaurant',\n",
    "           'limit': \"10\"}\n",
    "\n",
    "response = re.get(\"https://api.foursquare.com/v2/venues/search\", params = payload)"
   ]
  },
  {
   "cell_type": "code",
   "execution_count": 8,
   "id": "68a8c5dc-ddb9-44a3-a5f0-ab7bfb7b81e2",
   "metadata": {},
   "outputs": [
    {
     "name": "stdout",
     "output_type": "stream",
     "text": [
      "https://api.foursquare.com/v2/venues/search?client_id=FYZQVSJ3KU3GPXHEMGXZ03YJ4JSH0JOPNIQL2XYVN14C0LQW&client_secret=ELFXIKJLR3MYHEGW0LZ21PQFGH4ACQRUYXO4TRYTEXLWFDES&v=20200731&near=Squamish%2CCanada&query=restaurant&limit=10\n"
     ]
    }
   ],
   "source": [
    "print(response.url)"
   ]
  },
  {
   "cell_type": "code",
   "execution_count": 9,
   "id": "f3b99dac-59c6-4a5e-94e8-af6adc1914b7",
   "metadata": {},
   "outputs": [
    {
     "data": {
      "text/plain": [
       "200"
      ]
     },
     "execution_count": 9,
     "metadata": {},
     "output_type": "execute_result"
    }
   ],
   "source": [
    "response.status_code"
   ]
  },
  {
   "cell_type": "code",
   "execution_count": null,
   "id": "1e8e2b42-f3dc-418c-82a3-4126c6f3b2a5",
   "metadata": {},
   "outputs": [],
   "source": []
  }
 ],
 "metadata": {
  "kernelspec": {
   "display_name": "py3.6",
   "language": "python",
   "name": "py3.6"
  },
  "language_info": {
   "codemirror_mode": {
    "name": "ipython",
    "version": 3
   },
   "file_extension": ".py",
   "mimetype": "text/x-python",
   "name": "python",
   "nbconvert_exporter": "python",
   "pygments_lexer": "ipython3",
   "version": "3.6.13"
  }
 },
 "nbformat": 4,
 "nbformat_minor": 5
}