{
 "cells": [
  {
   "cell_type": "code",
   "execution_count": 5,
   "id": "a2918ed9-8ffc-4a28-b4d0-86199d46162b",
   "metadata": {},
   "outputs": [
    {
     "name": "stdout",
     "output_type": "stream",
     "text": [
      "env: FOURSQUARE_CLIENT_ID=FYZQVSJ3KU3GPXHEMGXZ03YJ4JSH0JOPNIQL2XYVN14C0LQW\n",
      "env: FOURSQUARE_CLIENT_SECRET=ELFXIKJLR3MYHEGW0LZ21PQFGH4ACQRUYXO4TRYTEXLWFDES\n",
      "{\"meta\":{\"code\":200,\"requestId\":\"6179cadb607b897189df38b3\"},\"response\":{\"suggestedFilters\":{\"header\":\"Tap to show:\",\"filters\":[{\"name\":\"Open now\",\"key\":\"openNow\"},{\"name\":\"$-$$$$\",\"key\":\"price\"}]},\"warning\":{\"text\":\"There aren't a lot of results for \\\"coffee.\\\" Try something more general, reset your filters, or expand the search area.\"},\"suggestedRadius\":4276,\"headerLocation\":\"Vancouver\",\"headerFullLocation\":\"Vancouver\",\"headerLocationGranularity\":\"city\",\"query\":\"coffee\",\"totalResults\":45,\"suggestedBounds\":{\"ne\":{\"lat\":45.630272176989465,\"lng\":-122.6913962297892},\"sw\":{\"lat\":45.627572517204015,\"lng\":-122.65576008352556}},\"groups\":[{\"type\":\"Recommended Places\",\"name\":\"recommended\",\"items\":[{\"reasons\":{\"count\":0,\"items\":[{\"summary\":\"This spot is popular\",\"type\":\"general\",\"reasonName\":\"globalInteractionReason\"}]},\"venue\":{\"id\":\"4b58e207f964a520b77028e3\",\"name\":\"Java House\",\"location\":{\"address\":\"210 W Evergreen Blvd\",\"lat\":45.62892234709674,\"lng\":-122.67357815665737,\"labeledLatLngs\":[{\"label\":\"display\",\"lat\":45.62892234709674,\"lng\":-122.67357815665737}],\"distance\":1438,\"postalCode\":\"98660\",\"cc\":\"US\",\"city\":\"Vancouver\",\"state\":\"WA\",\"country\":\"United States\",\"formattedAddress\":[\"210 W Evergreen Blvd\",\"Vancouver, WA 98660\",\"United States\"]},\"categories\":[{\"id\":\"4bf58dd8d48988d1e0931735\",\"name\":\"Coffee Shop\",\"pluralName\":\"Coffee Shops\",\"shortName\":\"Coffee Shop\",\"icon\":{\"prefix\":\"https:\\/\\/ss3.4sqi.net\\/img\\/categories_v2\\/food\\/coffeeshop_\",\"suffix\":\".png\"},\"primary\":true}],\"delivery\":{\"id\":\"1890381\",\"url\":\"https:\\/\\/www.grubhub.com\\/restaurant\\/java-house-inc-210-west-evergreen-boulevard-vancouver\\/1890381?affiliate=1131&utm_source=foursquare-affiliate-network&utm_medium=affiliate&utm_campaign=1131&utm_content=1890381\",\"provider\":{\"name\":\"grubhub\",\"icon\":{\"prefix\":\"https:\\/\\/fastly.4sqi.net\\/img\\/general\\/cap\\/\",\"sizes\":[40,50],\"name\":\"\\/delivery_provider_grubhub_20180129.png\"}}},\"photos\":{\"count\":0,\"groups\":[]}},\"referralId\":\"e-0-4b58e207f964a520b77028e3-0\"}]}]}}"
     ]
    }
   ],
   "source": [
    "%env FOURSQUARE_CLIENT_ID=FYZQVSJ3KU3GPXHEMGXZ03YJ4JSH0JOPNIQL2XYVN14C0LQW\n",
    "%env FOURSQUARE_CLIENT_SECRET=ELFXIKJLR3MYHEGW0LZ21PQFGH4ACQRUYXO4TRYTEXLWFDES\n",
    "!curl -X GET -G \"https://api.foursquare.com/v2/venues/explore\"  -d client_id=$FOURSQUARE_CLIENT_ID -d client_secret=$FOURSQUARE_CLIENT_SECRET  -d v=\"20200731\"  -d ll=\"45.6387,-122.6615\"  -d query=\"coffee\"  -d limit=1\n",
    "\n"
   ]
  },
  {
   "cell_type": "code",
   "execution_count": 6,
   "id": "309cf016-1835-44bb-8978-f50029c0b9ac",
   "metadata": {},
   "outputs": [
    {
     "name": "stdout",
     "output_type": "stream",
     "text": [
      "FYZQVSJ3KU3GPXHEMGXZ03YJ4JSH0JOPNIQL2XYVN14C0LQW\n"
     ]
    }
   ],
   "source": [
    "! echo $FOURSQUARE_CLIENT_ID"
   ]
  },
  {
   "cell_type": "code",
   "execution_count": null,
   "id": "3a6d9a0b-bfeb-4700-bce7-d9c897676287",
   "metadata": {},
   "outputs": [],
   "source": []
  }
 ],
 "metadata": {
  "kernelspec": {
   "display_name": "bootcamp_env",
   "language": "python",
   "name": "bootcamp_env"
  },
  "language_info": {
   "codemirror_mode": {
    "name": "ipython",
    "version": 3
   },
   "file_extension": ".py",
   "mimetype": "text/x-python",
   "name": "python",
   "nbconvert_exporter": "python",
   "pygments_lexer": "ipython3",
   "version": "3.8.12"
  }
 },
 "nbformat": 4,
 "nbformat_minor": 5
}
