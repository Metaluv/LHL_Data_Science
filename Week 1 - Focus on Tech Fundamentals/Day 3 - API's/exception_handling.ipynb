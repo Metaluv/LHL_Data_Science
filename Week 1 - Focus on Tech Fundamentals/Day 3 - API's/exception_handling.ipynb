{
 "cells": [
  {
   "cell_type": "markdown",
   "id": "612d3f89-e8a5-4e45-912a-3ec02c51bc0c",
   "metadata": {},
   "source": [
    "Python uses try and except keywords to handle exceptions. Both keywords are followed by indented blocks. "
   ]
  },
  {
   "cell_type": "code",
   "execution_count": 1,
   "id": "648cdc3e-edaa-49ed-a81d-4850ef6b5eaa",
   "metadata": {},
   "outputs": [
    {
     "name": "stdout",
     "output_type": "stream",
     "text": [
      "Some error occurred\n",
      "Out of try except blocks\n"
     ]
    }
   ],
   "source": [
    "try:\n",
    "    a = 5\n",
    "    b = '0'\n",
    "    print(a/b)\n",
    "except:\n",
    "    print('Some error occurred')\n",
    "print('Out of try except blocks')"
   ]
  },
  {
   "cell_type": "markdown",
   "id": "392562af-c507-4b69-90bd-234fb8accb66",
   "metadata": {},
   "source": [
    "You can specify the type of error after the except keyword. If the type of exception doesn't match any of the except block, it will remain unhandled and the program will terminate"
   ]
  },
  {
   "cell_type": "code",
   "execution_count": 4,
   "id": "afe87eea-ffb6-4b6a-97a5-73a0b157ab40",
   "metadata": {},
   "outputs": [
    {
     "name": "stdout",
     "output_type": "stream",
     "text": [
      "Unsupported operation\n",
      "out of try except blocks\n"
     ]
    }
   ],
   "source": [
    "try:\n",
    "    a = 5\n",
    "    b = '0'\n",
    "    print(a + b)\n",
    "except TypeError:\n",
    "    print('Unsupported operation')\n",
    "print(\"out of try except blocks\")"
   ]
  },
  {
   "cell_type": "markdown",
   "id": "07603ae0-07c8-4b66-9088-831fdef56a37",
   "metadata": {},
   "source": [
    "There can be multiple except blocks"
   ]
  },
  {
   "cell_type": "code",
   "execution_count": 6,
   "id": "ee05c07d-e9d2-4a25-bd8e-28716586bd00",
   "metadata": {},
   "outputs": [
    {
     "name": "stdout",
     "output_type": "stream",
     "text": [
      "Can't divide by zero!\n",
      "outside except blocks\n"
     ]
    }
   ],
   "source": [
    "try:\n",
    "    a = 5\n",
    "    b = 0\n",
    "    print(a/b)\n",
    "except TypeError:\n",
    "    print('Unsupported operation')\n",
    "except ZeroDivisionError:\n",
    "    print(\"Can't divide by zero!\")\n",
    "print('outside except blocks')"
   ]
  },
  {
   "cell_type": "markdown",
   "id": "fc7be5e0-2977-4e27-b3f2-0a26935053de",
   "metadata": {},
   "source": [
    "Else and finally can be used. Else block get excecuted if the try block is exception free. The finally block is executed regardless if an exception occured or not"
   ]
  },
  {
   "cell_type": "code",
   "execution_count": 10,
   "id": "eaeab0ee-afe1-4767-bbf0-b289b6df5ff2",
   "metadata": {},
   "outputs": [
    {
     "name": "stdout",
     "output_type": "stream",
     "text": [
      "try block\n"
     ]
    },
    {
     "name": "stdin",
     "output_type": "stream",
     "text": [
      "Enter a number:  1\n",
      "Enter another number:  0\n"
     ]
    },
    {
     "name": "stdout",
     "output_type": "stream",
     "text": [
      "except ZeroDivisionError block\n",
      "Division by 0 not accepted\n",
      "Finally block\n",
      "out of try, except, else, and finally blocks\n"
     ]
    }
   ],
   "source": [
    "try:\n",
    "    print('try block')\n",
    "    x = int(input('Enter a number: '))\n",
    "    y = int(input('Enter another number: '))\n",
    "    z = x/y\n",
    "except ZeroDivisionError:\n",
    "    print('except ZeroDivisionError block')\n",
    "    print('Division by 0 not accepted')\n",
    "else:\n",
    "    print('else block')\n",
    "    print('Division = ', z)\n",
    "finally:\n",
    "    print('Finally block')\n",
    "    x = 0\n",
    "    y = 0\n",
    "print('out of try, except, else, and finally blocks')"
   ]
  },
  {
   "cell_type": "markdown",
   "id": "e67956d3-6f79-48a6-abed-091767e675b6",
   "metadata": {},
   "source": [
    "raise keyword is used to generate an exception. Built-in errors are raised implicitly. However, a built-in or custom exception can be forced during execution:"
   ]
  },
  {
   "cell_type": "code",
   "execution_count": 11,
   "id": "be73d64a-f6e9-4b0b-8b87-734099f1a996",
   "metadata": {},
   "outputs": [
    {
     "name": "stdin",
     "output_type": "stream",
     "text": [
      "Enter a number upto 100:  111\n"
     ]
    },
    {
     "name": "stdout",
     "output_type": "stream",
     "text": [
      "111 is out of allowed range\n"
     ]
    }
   ],
   "source": [
    "try:\n",
    "    x = int(input('Enter a number upto 100: '))\n",
    "    if x > 100:\n",
    "        raise ValueError(x)\n",
    "except ValueError:\n",
    "    print(x, 'is out of allowed range')\n",
    "else:\n",
    "    print(x, 'is within the allowed range')"
   ]
  },
  {
   "cell_type": "markdown",
   "id": "86756472-3574-4912-978c-03ec031a5e00",
   "metadata": {},
   "source": [
    "Here, the raise exception is a ValueError but you can define custom exception types"
   ]
  },
  {
   "cell_type": "code",
   "execution_count": null,
   "id": "5d2d22ab-b9dc-4cf7-9d38-a0b08bec28bb",
   "metadata": {},
   "outputs": [],
   "source": []
  }
 ],
 "metadata": {
  "kernelspec": {
   "display_name": "bootcamp_env",
   "language": "python",
   "name": "bootcamp_env"
  },
  "language_info": {
   "codemirror_mode": {
    "name": "ipython",
    "version": 3
   },
   "file_extension": ".py",
   "mimetype": "text/x-python",
   "name": "python",
   "nbconvert_exporter": "python",
   "pygments_lexer": "ipython3",
   "version": "3.8.12"
  }
 },
 "nbformat": 4,
 "nbformat_minor": 5
}
