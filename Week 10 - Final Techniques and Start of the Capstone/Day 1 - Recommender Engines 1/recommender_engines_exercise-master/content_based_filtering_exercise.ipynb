{
 "cells": [
  {
   "cell_type": "code",
   "execution_count": 10,
   "metadata": {
    "ExecuteTime": {
     "end_time": "2020-04-30T11:38:37.047559Z",
     "start_time": "2020-04-30T11:38:35.905481Z"
    }
   },
   "outputs": [],
   "source": [
    "# import pandas\n",
    "import pandas as pd\n",
    "\n",
    "# import TfidfVectorizer\n",
    "from sklearn.feature_extraction.text import TfidfVectorizer\n",
    "\n",
    "# import cosine_similarity\n",
    "from sklearn.metrics.pairwise import cosine_similarity"
   ]
  },
  {
   "cell_type": "code",
   "execution_count": 11,
   "metadata": {
    "ExecuteTime": {
     "end_time": "2020-04-30T11:38:37.699655Z",
     "start_time": "2020-04-30T11:38:37.111767Z"
    }
   },
   "outputs": [],
   "source": [
    "# import data\n",
    "df = pd.read_csv(\"https://raw.githubusercontent.com/nikitaa30/Content-based-Recommender-System/master/sample-data.csv\")"
   ]
  },
  {
   "cell_type": "code",
   "execution_count": 24,
   "metadata": {},
   "outputs": [
    {
     "output_type": "execute_result",
     "data": {
      "text/plain": [
       "0        1\n",
       "1        2\n",
       "2        3\n",
       "3        4\n",
       "4        5\n",
       "      ... \n",
       "495    496\n",
       "496    497\n",
       "497    498\n",
       "498    499\n",
       "499    500\n",
       "Name: id, Length: 500, dtype: int64"
      ]
     },
     "metadata": {},
     "execution_count": 24
    }
   ],
   "source": [
    "df['id']"
   ]
  },
  {
   "cell_type": "markdown",
   "metadata": {},
   "source": [
    "* explore DataFrame"
   ]
  },
  {
   "cell_type": "markdown",
   "metadata": {},
   "source": [
    "We will be using Tf-Idf to find similar items based on description\n",
    "* instantiate TF-IDF"
   ]
  },
  {
   "cell_type": "code",
   "execution_count": 13,
   "metadata": {
    "ExecuteTime": {
     "end_time": "2020-04-30T11:34:35.873143Z",
     "start_time": "2020-04-30T11:34:35.867457Z"
    }
   },
   "outputs": [],
   "source": [
    "tfidf = TfidfVectorizer(stop_words='english')"
   ]
  },
  {
   "cell_type": "markdown",
   "metadata": {},
   "source": [
    "* fit and transform 'description' column with TFIDF"
   ]
  },
  {
   "cell_type": "code",
   "execution_count": 16,
   "metadata": {},
   "outputs": [],
   "source": [
    "tfidf_matrix = tfidf.fit_transform(df['description'])"
   ]
  },
  {
   "cell_type": "code",
   "execution_count": 18,
   "metadata": {
    "ExecuteTime": {
     "end_time": "2020-04-30T11:34:36.771694Z",
     "start_time": "2020-04-30T11:34:36.413145Z"
    }
   },
   "outputs": [
    {
     "output_type": "execute_result",
     "data": {
      "text/plain": [
       "(500, 4600)"
      ]
     },
     "metadata": {},
     "execution_count": 18
    }
   ],
   "source": [
    "tfidf_matrix.shape"
   ]
  },
  {
   "cell_type": "markdown",
   "metadata": {},
   "source": [
    "* calculate the cosine similarity of each item with every other item in the dataset, "
   ]
  },
  {
   "cell_type": "code",
   "execution_count": 19,
   "metadata": {},
   "outputs": [],
   "source": [
    "# Import linear_kernel\n",
    "from sklearn.metrics.pairwise import linear_kernel\n",
    "\n",
    "# Compute the cosine similarity matrix\n",
    "cosine_sim = linear_kernel(tfidf_matrix, tfidf_matrix)"
   ]
  },
  {
   "cell_type": "code",
   "execution_count": 22,
   "metadata": {},
   "outputs": [
    {
     "output_type": "execute_result",
     "data": {
      "text/plain": [
       "(500, 500)"
      ]
     },
     "metadata": {},
     "execution_count": 22
    }
   ],
   "source": [
    "cosine_sim.shape"
   ]
  },
  {
   "cell_type": "markdown",
   "metadata": {
    "ExecuteTime": {
     "end_time": "2020-04-30T11:35:42.314473Z",
     "start_time": "2020-04-30T11:35:41.640441Z"
    }
   },
   "source": [
    "* sort all items using their similarity for each item i, and store the values in dictionary `results`\n",
    "\n",
    "```\n",
    "results = {\n",
    "    \"1\": [5,7,9...],\n",
    "    \"2\": [45,2,3...]\n",
    "}\n",
    "```"
   ]
  },
  {
   "cell_type": "code",
   "execution_count": 23,
   "metadata": {},
   "outputs": [
    {
     "output_type": "error",
     "ename": "NameError",
     "evalue": "name 'indices' is not defined",
     "traceback": [
      "\u001b[1;31m---------------------------------------------------------------------------\u001b[0m",
      "\u001b[1;31mNameError\u001b[0m                                 Traceback (most recent call last)",
      "\u001b[1;32m<ipython-input-23-fb62463fd363>\u001b[0m in \u001b[0;36m<module>\u001b[1;34m\u001b[0m\n\u001b[1;32m----> 1\u001b[1;33m \u001b[0mindices\u001b[0m\u001b[1;33m[\u001b[0m\u001b[0mdf\u001b[0m\u001b[1;33m]\u001b[0m\u001b[1;33m\u001b[0m\u001b[1;33m\u001b[0m\u001b[0m\n\u001b[0m",
      "\u001b[1;31mNameError\u001b[0m: name 'indices' is not defined"
     ]
    }
   ],
   "source": []
  },
  {
   "cell_type": "code",
   "execution_count": null,
   "metadata": {},
   "outputs": [],
   "source": []
  },
  {
   "cell_type": "markdown",
   "metadata": {},
   "source": [
    "* create function `recommender` that will recommend similar products\n",
    "    * function must have two input params: **item_id** and **count** of similar products "
   ]
  },
  {
   "cell_type": "code",
   "execution_count": 28,
   "metadata": {},
   "outputs": [],
   "source": [
    "def get_recommendations(item_id, count):\n",
    "    # Get the index of the movie that matches the title\n",
    "    \n",
    "\n",
    "    # Get the pairwsie similarity scores of all movies with that movie\n",
    "    sim_scores = list(enumerate(cosine_sim[item_id]))\n",
    "\n",
    "    # Sort the movies based on the similarity scores\n",
    "    sim_scores = sorted(sim_scores, key=lambda x: x[1], reverse=True)\n",
    "\n",
    "    # Get the scores of the 10 most similar movies\n",
    "    sim_scores = sim_scores[1:count+1]\n",
    "\n",
    "    return [i[0] for i in sim_scores]"
   ]
  },
  {
   "cell_type": "code",
   "execution_count": 30,
   "metadata": {
    "ExecuteTime": {
     "end_time": "2020-04-30T11:36:31.626923Z",
     "start_time": "2020-04-30T11:36:31.620020Z"
    }
   },
   "outputs": [
    {
     "output_type": "execute_result",
     "data": {
      "text/plain": [
       "[401, 407, 427, 311, 465]"
      ]
     },
     "metadata": {},
     "execution_count": 30
    }
   ],
   "source": [
    "get_recommendations(11,5)"
   ]
  },
  {
   "cell_type": "markdown",
   "metadata": {},
   "source": [
    "* show top 5 the most similar items for item with idem_id = 11"
   ]
  },
  {
   "cell_type": "code",
   "execution_count": 35,
   "metadata": {},
   "outputs": [
    {
     "output_type": "execute_result",
     "data": {
      "text/plain": [
       "\"Reversible phone home - Travel broadly and surf the world, but don't forget to call your mom. Now reversible for road-trip rejuvenation, the inimitable hooded Phone Home Jacket helps us keep in touch. Made of 100% organic cotton fleece lined with a soft organic cotton jersey. Comes with an extended rib-knit at the waist and cuffs and roomy pockets on the fleecy side. Recyclable through the Common Threads Recycling Program.<br><br><b>Details:</b><ul> <li>Organic cotton fleece hoody lined with organic cotton jersey</li> <li>Rib-knit waist and cuffs</li> <li>Drawstring closure at hood</li> <li>Roomy front pockets</li> <li>Reversible</li></ul><br><br><b>Fabric: </b>10.3-oz 100% organic cotton fleece. Lining: 4.5-oz 100% organic cotton jersey. Recyclable through the Common Threads Recycling Program<br><br><b>Weight: </b>(917 g 31.8 oz)<br><br>Made in India.\""
      ]
     },
     "metadata": {},
     "execution_count": 35
    }
   ],
   "source": [
    "df.iloc[400].description"
   ]
  },
  {
   "cell_type": "code",
   "execution_count": 36,
   "metadata": {
    "ExecuteTime": {
     "end_time": "2020-04-30T11:36:55.945848Z",
     "start_time": "2020-04-30T11:36:55.933039Z"
    }
   },
   "outputs": [
    {
     "output_type": "execute_result",
     "data": {
      "text/plain": [
       "'Baby sunshade top - Soft, stretchy polyester fabric is fast wicking, quick drying and breathable <br><br><b>Details:</b><ul> <li>Lap shoulders relax the silhouette </li> <li>Extended roll-down cuffs accommodate growth spurts; drop hem waist provides extra coverage</li></ul><br><br><b>Fabric: </b>4.3-oz 100% polyester jersey. Recyclable through the Common Threads Recycling Program<br><br><b>Weight: </b>(0 g 0 oz)<br><br>Made in Vietnam.'"
      ]
     },
     "metadata": {},
     "execution_count": 36
    }
   ],
   "source": [
    "df.iloc[10].description"
   ]
  },
  {
   "cell_type": "code",
   "execution_count": 37,
   "metadata": {},
   "outputs": [
    {
     "output_type": "execute_result",
     "data": {
      "text/plain": [
       "'Merino 2 crew - In this soft long-sleeved tee, you can work up a sweat biking to work, catch a bouldering session in the afternoon, and still have people want to be near you at the pub. Inherently soft and comfortable, merino naturally resists odor, moves moisture away from the skin, regulates body temperature, and stretches. Made from our most versatile merino layer for an active lifestyle in warm to cool weather, this lightweight pullover features 73% merino wool spun around an all-recycled polyester (27%) core for a luxurious hand, an improved dry time and enduring strength. The raglan-sleeve design and offset side seams are smooth beneath pack straps. We slow-wash our merino for next-to-skin softness. Machine-wash cold; lay flat to dry. Recyclable through the Common Threads Recycling Program.<br><br><b>Details:</b><ul> <li>\"Slow-washed merino wool resists odor naturally, insulates even when wet, is durable and stretches, provides superior performance and softness\"</li> <li>18.5 micron-gauge yarn and jersey-knit construction for luxurious hand</li> <li>\"All-recycled polyester core wicks moisture, while wool next to skin controls odor\"</li> <li>Self-fabric collar band for comfort without binding</li> <li>Raglan sleeve seams won\\'t chafe beneath pack straps</li> <li>Side seams offset to eliminate irritation</li> <li>\"Machine-wash cold, lay flat to dry\"</li></ul><br><br><b>Fabric: </b>4.85-oz (165-g) 73% chlorine-free merino wool/27% all-recycled polyester. Recyclable through the Common Threads Recycling Program<br><br><b>Weight: </b>(167 g 5.8 oz)<br><br>Made in USA.'"
      ]
     },
     "metadata": {},
     "execution_count": 37
    }
   ],
   "source": [
    "df.iloc[406].description"
   ]
  },
  {
   "cell_type": "code",
   "execution_count": null,
   "metadata": {},
   "outputs": [],
   "source": []
  }
 ],
 "metadata": {
  "kernelspec": {
   "name": "python3",
   "display_name": "Python 3.8.8 64-bit ('base': conda)"
  },
  "language_info": {
   "codemirror_mode": {
    "name": "ipython",
    "version": 3
   },
   "file_extension": ".py",
   "mimetype": "text/x-python",
   "name": "python",
   "nbconvert_exporter": "python",
   "pygments_lexer": "ipython3",
   "version": "3.8.8"
  },
  "toc": {
   "base_numbering": 1,
   "nav_menu": {},
   "number_sections": true,
   "sideBar": true,
   "skip_h1_title": false,
   "title_cell": "Table of Contents",
   "title_sidebar": "Contents",
   "toc_cell": false,
   "toc_position": {},
   "toc_section_display": true,
   "toc_window_display": false
  },
  "varInspector": {
   "cols": {
    "lenName": 16,
    "lenType": 16,
    "lenVar": 40
   },
   "kernels_config": {
    "python": {
     "delete_cmd_postfix": "",
     "delete_cmd_prefix": "del ",
     "library": "var_list.py",
     "varRefreshCmd": "print(var_dic_list())"
    },
    "r": {
     "delete_cmd_postfix": ") ",
     "delete_cmd_prefix": "rm(",
     "library": "var_list.r",
     "varRefreshCmd": "cat(var_dic_list()) "
    }
   },
   "types_to_exclude": [
    "module",
    "function",
    "builtin_function_or_method",
    "instance",
    "_Feature"
   ],
   "window_display": false
  },
  "interpreter": {
   "hash": "b3ba2566441a7c06988d0923437866b63cedc61552a5af99d1f4fb67d367b25f"
  }
 },
 "nbformat": 4,
 "nbformat_minor": 4
}