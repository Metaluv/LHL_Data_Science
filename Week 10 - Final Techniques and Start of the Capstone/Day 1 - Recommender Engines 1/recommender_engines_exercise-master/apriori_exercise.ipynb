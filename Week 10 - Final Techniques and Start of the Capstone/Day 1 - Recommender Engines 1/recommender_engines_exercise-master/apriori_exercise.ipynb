{
 "cells": [
  {
   "cell_type": "code",
   "execution_count": 1,
   "metadata": {
    "ExecuteTime": {
     "end_time": "2020-04-30T11:40:10.388626Z",
     "start_time": "2020-04-30T11:40:09.944952Z"
    }
   },
   "outputs": [],
   "source": [
    "# import pandas\n",
    "import pandas as pd  \n",
    "\n",
    "# from apyori import apriori\n",
    "from apyori import apriori"
   ]
  },
  {
   "cell_type": "code",
   "execution_count": 2,
   "metadata": {
    "ExecuteTime": {
     "end_time": "2020-04-30T11:40:11.501307Z",
     "start_time": "2020-04-30T11:40:10.963718Z"
    }
   },
   "outputs": [],
   "source": [
    "# load data \n",
    "movie_data = pd.read_csv('https://raw.githubusercontent.com/pirandello/apriori/master/movie_dataset.csv', \n",
    "                         header = None)"
   ]
  },
  {
   "cell_type": "markdown",
   "metadata": {},
   "source": [
    "* explore the dataset"
   ]
  },
  {
   "cell_type": "code",
   "execution_count": 3,
   "metadata": {},
   "outputs": [
    {
     "data": {
      "text/html": [
       "<div>\n",
       "<style scoped>\n",
       "    .dataframe tbody tr th:only-of-type {\n",
       "        vertical-align: middle;\n",
       "    }\n",
       "\n",
       "    .dataframe tbody tr th {\n",
       "        vertical-align: top;\n",
       "    }\n",
       "\n",
       "    .dataframe thead th {\n",
       "        text-align: right;\n",
       "    }\n",
       "</style>\n",
       "<table border=\"1\" class=\"dataframe\">\n",
       "  <thead>\n",
       "    <tr style=\"text-align: right;\">\n",
       "      <th></th>\n",
       "      <th>0</th>\n",
       "      <th>1</th>\n",
       "      <th>2</th>\n",
       "      <th>3</th>\n",
       "      <th>4</th>\n",
       "      <th>5</th>\n",
       "      <th>6</th>\n",
       "      <th>7</th>\n",
       "      <th>8</th>\n",
       "      <th>9</th>\n",
       "      <th>10</th>\n",
       "      <th>11</th>\n",
       "      <th>12</th>\n",
       "      <th>13</th>\n",
       "      <th>14</th>\n",
       "      <th>15</th>\n",
       "      <th>16</th>\n",
       "      <th>17</th>\n",
       "      <th>18</th>\n",
       "      <th>19</th>\n",
       "    </tr>\n",
       "  </thead>\n",
       "  <tbody>\n",
       "    <tr>\n",
       "      <th>0</th>\n",
       "      <td>The Revenant</td>\n",
       "      <td>13 Hours</td>\n",
       "      <td>Allied</td>\n",
       "      <td>Zootopia</td>\n",
       "      <td>Jigsaw</td>\n",
       "      <td>Achorman</td>\n",
       "      <td>Grinch</td>\n",
       "      <td>Fast and Furious</td>\n",
       "      <td>Ghostbusters</td>\n",
       "      <td>Wolverine</td>\n",
       "      <td>Mad Max</td>\n",
       "      <td>John Wick</td>\n",
       "      <td>La La Land</td>\n",
       "      <td>The Good Dunosaur</td>\n",
       "      <td>Ninja Turtles</td>\n",
       "      <td>The Good Dunosaur Bad Moms</td>\n",
       "      <td>2 Guns</td>\n",
       "      <td>Inside Out</td>\n",
       "      <td>Valerian</td>\n",
       "      <td>Spiderman 3</td>\n",
       "    </tr>\n",
       "    <tr>\n",
       "      <th>1</th>\n",
       "      <td>Beirut</td>\n",
       "      <td>Martian</td>\n",
       "      <td>Get Out</td>\n",
       "      <td>NaN</td>\n",
       "      <td>NaN</td>\n",
       "      <td>NaN</td>\n",
       "      <td>NaN</td>\n",
       "      <td>NaN</td>\n",
       "      <td>NaN</td>\n",
       "      <td>NaN</td>\n",
       "      <td>NaN</td>\n",
       "      <td>NaN</td>\n",
       "      <td>NaN</td>\n",
       "      <td>NaN</td>\n",
       "      <td>NaN</td>\n",
       "      <td>NaN</td>\n",
       "      <td>NaN</td>\n",
       "      <td>NaN</td>\n",
       "      <td>NaN</td>\n",
       "      <td>NaN</td>\n",
       "    </tr>\n",
       "    <tr>\n",
       "      <th>2</th>\n",
       "      <td>Deadpool</td>\n",
       "      <td>NaN</td>\n",
       "      <td>NaN</td>\n",
       "      <td>NaN</td>\n",
       "      <td>NaN</td>\n",
       "      <td>NaN</td>\n",
       "      <td>NaN</td>\n",
       "      <td>NaN</td>\n",
       "      <td>NaN</td>\n",
       "      <td>NaN</td>\n",
       "      <td>NaN</td>\n",
       "      <td>NaN</td>\n",
       "      <td>NaN</td>\n",
       "      <td>NaN</td>\n",
       "      <td>NaN</td>\n",
       "      <td>NaN</td>\n",
       "      <td>NaN</td>\n",
       "      <td>NaN</td>\n",
       "      <td>NaN</td>\n",
       "      <td>NaN</td>\n",
       "    </tr>\n",
       "    <tr>\n",
       "      <th>3</th>\n",
       "      <td>X-Men</td>\n",
       "      <td>Allied</td>\n",
       "      <td>NaN</td>\n",
       "      <td>NaN</td>\n",
       "      <td>NaN</td>\n",
       "      <td>NaN</td>\n",
       "      <td>NaN</td>\n",
       "      <td>NaN</td>\n",
       "      <td>NaN</td>\n",
       "      <td>NaN</td>\n",
       "      <td>NaN</td>\n",
       "      <td>NaN</td>\n",
       "      <td>NaN</td>\n",
       "      <td>NaN</td>\n",
       "      <td>NaN</td>\n",
       "      <td>NaN</td>\n",
       "      <td>NaN</td>\n",
       "      <td>NaN</td>\n",
       "      <td>NaN</td>\n",
       "      <td>NaN</td>\n",
       "    </tr>\n",
       "    <tr>\n",
       "      <th>4</th>\n",
       "      <td>Ninja Turtles</td>\n",
       "      <td>Moana</td>\n",
       "      <td>Ghost in the Shell</td>\n",
       "      <td>Ralph Breaks the Internet</td>\n",
       "      <td>John Wick</td>\n",
       "      <td>NaN</td>\n",
       "      <td>NaN</td>\n",
       "      <td>NaN</td>\n",
       "      <td>NaN</td>\n",
       "      <td>NaN</td>\n",
       "      <td>NaN</td>\n",
       "      <td>NaN</td>\n",
       "      <td>NaN</td>\n",
       "      <td>NaN</td>\n",
       "      <td>NaN</td>\n",
       "      <td>NaN</td>\n",
       "      <td>NaN</td>\n",
       "      <td>NaN</td>\n",
       "      <td>NaN</td>\n",
       "      <td>NaN</td>\n",
       "    </tr>\n",
       "  </tbody>\n",
       "</table>\n",
       "</div>"
      ],
      "text/plain": [
       "              0         1                   2                          3   \\\n",
       "0   The Revenant  13 Hours              Allied                   Zootopia   \n",
       "1         Beirut   Martian             Get Out                        NaN   \n",
       "2       Deadpool       NaN                 NaN                        NaN   \n",
       "3          X-Men    Allied                 NaN                        NaN   \n",
       "4  Ninja Turtles     Moana  Ghost in the Shell  Ralph Breaks the Internet   \n",
       "\n",
       "          4         5       6                 7             8          9   \\\n",
       "0     Jigsaw  Achorman  Grinch  Fast and Furious  Ghostbusters  Wolverine   \n",
       "1        NaN       NaN     NaN               NaN           NaN        NaN   \n",
       "2        NaN       NaN     NaN               NaN           NaN        NaN   \n",
       "3        NaN       NaN     NaN               NaN           NaN        NaN   \n",
       "4  John Wick       NaN     NaN               NaN           NaN        NaN   \n",
       "\n",
       "        10         11          12                 13             14  \\\n",
       "0  Mad Max  John Wick  La La Land  The Good Dunosaur  Ninja Turtles   \n",
       "1      NaN        NaN         NaN                NaN            NaN   \n",
       "2      NaN        NaN         NaN                NaN            NaN   \n",
       "3      NaN        NaN         NaN                NaN            NaN   \n",
       "4      NaN        NaN         NaN                NaN            NaN   \n",
       "\n",
       "                           15      16          17        18           19  \n",
       "0  The Good Dunosaur Bad Moms  2 Guns  Inside Out  Valerian  Spiderman 3  \n",
       "1                         NaN     NaN         NaN       NaN          NaN  \n",
       "2                         NaN     NaN         NaN       NaN          NaN  \n",
       "3                         NaN     NaN         NaN       NaN          NaN  \n",
       "4                         NaN     NaN         NaN       NaN          NaN  "
      ]
     },
     "execution_count": 3,
     "metadata": {},
     "output_type": "execute_result"
    }
   ],
   "source": [
    "movie_data.head()"
   ]
  },
  {
   "cell_type": "code",
   "execution_count": null,
   "metadata": {
    "ExecuteTime": {
     "end_time": "2020-04-30T11:40:35.334675Z",
     "start_time": "2020-04-30T11:40:35.306867Z"
    }
   },
   "outputs": [],
   "source": []
  },
  {
   "cell_type": "markdown",
   "metadata": {},
   "source": [
    "* transform dataframe to list of lists (suitable format for apyori)"
   ]
  },
  {
   "cell_type": "code",
   "execution_count": 11,
   "metadata": {},
   "outputs": [],
   "source": [
    "rows, columns = movie_data.shape\n",
    "records = []\n",
    "for i in range(rows):\n",
    "    records.append([str(movie_data.values[i,j]) for j in range(columns)])"
   ]
  },
  {
   "cell_type": "code",
   "execution_count": null,
   "metadata": {
    "ExecuteTime": {
     "end_time": "2020-04-30T11:40:55.909558Z",
     "start_time": "2020-04-30T11:40:54.674205Z"
    }
   },
   "outputs": [],
   "source": []
  },
  {
   "cell_type": "markdown",
   "metadata": {},
   "source": [
    "* instantiate apriori and set the input params based on following constraints:\n",
    "    * we want only movies that are purchased at least 40 times\n",
    "    * the minimum confidence for the rules is 20%\n",
    "    * the minumum lift is 3"
   ]
  },
  {
   "cell_type": "code",
   "execution_count": 12,
   "metadata": {},
   "outputs": [],
   "source": [
    "association_rules = apriori(records, min_support=40/rows, min_confidence=0.2, min_lift=3)\n",
    "association_results = list(association_rules)"
   ]
  },
  {
   "cell_type": "markdown",
   "metadata": {},
   "source": [
    "* how many association rules did we obtained ?"
   ]
  },
  {
   "cell_type": "code",
   "execution_count": 13,
   "metadata": {},
   "outputs": [
    {
     "data": {
      "text/plain": [
       "32"
      ]
     },
     "execution_count": 13,
     "metadata": {},
     "output_type": "execute_result"
    }
   ],
   "source": [
    "len(association_results)"
   ]
  },
  {
   "cell_type": "code",
   "execution_count": null,
   "metadata": {
    "ExecuteTime": {
     "end_time": "2020-04-30T11:41:49.751361Z",
     "start_time": "2020-04-30T11:41:49.744749Z"
    }
   },
   "outputs": [],
   "source": []
  },
  {
   "cell_type": "markdown",
   "metadata": {},
   "source": [
    "* print the first association rule"
   ]
  },
  {
   "cell_type": "code",
   "execution_count": 10,
   "metadata": {},
   "outputs": [
    {
     "data": {
      "text/plain": [
       "RelationRecord(items=frozenset({'Red Sparrow', 'Green Lantern'}), support=0.005732568990801226, ordered_statistics=[OrderedStatistic(items_base=frozenset({'Red Sparrow'}), items_add=frozenset({'Green Lantern'}), confidence=0.3006993006993007, lift=3.790832696715049)])"
      ]
     },
     "execution_count": 10,
     "metadata": {},
     "output_type": "execute_result"
    }
   ],
   "source": [
    "association_results[0]"
   ]
  },
  {
   "cell_type": "code",
   "execution_count": 34,
   "metadata": {
    "ExecuteTime": {
     "end_time": "2020-04-07T13:07:29.924870Z",
     "start_time": "2020-04-07T13:07:29.917054Z"
    }
   },
   "outputs": [
    {
     "data": {
      "text/plain": [
       "OrderedStatistic(items_base=frozenset({'Red Sparrow'}), items_add=frozenset({'Green Lantern'}), confidence=0.3006993006993007, lift=3.790832696715049)"
      ]
     },
     "execution_count": 34,
     "metadata": {},
     "output_type": "execute_result"
    }
   ],
   "source": [
    "association_results[0][2][0]"
   ]
  },
  {
   "cell_type": "markdown",
   "metadata": {},
   "source": [
    "* convert association rules to DataFrame \n",
    "    * use these columns: title_1, title_2, support, confidence, lift"
   ]
  },
  {
   "cell_type": "code",
   "execution_count": 53,
   "metadata": {},
   "outputs": [],
   "source": [
    "\n",
    "entry = []\n",
    "for i, result in enumerate(association_results):\n",
    "    entry.append({\n",
    "                'title_1': str(list(result[2][0][0])[0]),\n",
    "                'title_2': str(list(result[2][0][1])[0]),\n",
    "                'support': result[1],\n",
    "                'confidence': result[2][0][2],\n",
    "                'lift': result[2][0][3]\n",
    "               })\n",
    "df = pd.DataFrame.from_dict(entry)\n"
   ]
  },
  {
   "cell_type": "code",
   "execution_count": null,
   "metadata": {},
   "outputs": [],
   "source": []
  },
  {
   "cell_type": "code",
   "execution_count": 55,
   "metadata": {
    "ExecuteTime": {
     "end_time": "2020-04-30T11:42:41.014360Z",
     "start_time": "2020-04-30T11:42:40.984827Z"
    }
   },
   "outputs": [],
   "source": [
    "df = df[['title_1', 'title_2', 'support', 'confidence', 'lift']]"
   ]
  },
  {
   "cell_type": "code",
   "execution_count": 56,
   "metadata": {},
   "outputs": [
    {
     "data": {
      "text/html": [
       "<div>\n",
       "<style scoped>\n",
       "    .dataframe tbody tr th:only-of-type {\n",
       "        vertical-align: middle;\n",
       "    }\n",
       "\n",
       "    .dataframe tbody tr th {\n",
       "        vertical-align: top;\n",
       "    }\n",
       "\n",
       "    .dataframe thead th {\n",
       "        text-align: right;\n",
       "    }\n",
       "</style>\n",
       "<table border=\"1\" class=\"dataframe\">\n",
       "  <thead>\n",
       "    <tr style=\"text-align: right;\">\n",
       "      <th></th>\n",
       "      <th>title_1</th>\n",
       "      <th>title_2</th>\n",
       "      <th>support</th>\n",
       "      <th>confidence</th>\n",
       "      <th>lift</th>\n",
       "    </tr>\n",
       "  </thead>\n",
       "  <tbody>\n",
       "    <tr>\n",
       "      <th>0</th>\n",
       "      <td>Red Sparrow</td>\n",
       "      <td>Green Lantern</td>\n",
       "      <td>0.005733</td>\n",
       "      <td>0.300699</td>\n",
       "      <td>3.790833</td>\n",
       "    </tr>\n",
       "    <tr>\n",
       "      <th>1</th>\n",
       "      <td>Star Wars</td>\n",
       "      <td>Green Lantern</td>\n",
       "      <td>0.005866</td>\n",
       "      <td>0.372881</td>\n",
       "      <td>4.700812</td>\n",
       "    </tr>\n",
       "    <tr>\n",
       "      <th>2</th>\n",
       "      <td>Kung Fu Panda</td>\n",
       "      <td>Jumanji</td>\n",
       "      <td>0.015998</td>\n",
       "      <td>0.323450</td>\n",
       "      <td>3.291994</td>\n",
       "    </tr>\n",
       "    <tr>\n",
       "      <th>3</th>\n",
       "      <td>Wonder Woman</td>\n",
       "      <td>Jumanji</td>\n",
       "      <td>0.005333</td>\n",
       "      <td>0.377358</td>\n",
       "      <td>3.840659</td>\n",
       "    </tr>\n",
       "    <tr>\n",
       "      <th>4</th>\n",
       "      <td>The Spy Who Dumped Me</td>\n",
       "      <td>Spiderman 3</td>\n",
       "      <td>0.007999</td>\n",
       "      <td>0.271493</td>\n",
       "      <td>4.122410</td>\n",
       "    </tr>\n",
       "    <tr>\n",
       "      <th>5</th>\n",
       "      <td>Coco</td>\n",
       "      <td>The Revenant</td>\n",
       "      <td>0.005333</td>\n",
       "      <td>0.232558</td>\n",
       "      <td>3.254512</td>\n",
       "    </tr>\n",
       "    <tr>\n",
       "      <th>6</th>\n",
       "      <td>Red Sparrow</td>\n",
       "      <td>Green Lantern</td>\n",
       "      <td>0.005733</td>\n",
       "      <td>0.300699</td>\n",
       "      <td>3.790833</td>\n",
       "    </tr>\n",
       "    <tr>\n",
       "      <th>7</th>\n",
       "      <td>Star Wars</td>\n",
       "      <td>Green Lantern</td>\n",
       "      <td>0.005866</td>\n",
       "      <td>0.372881</td>\n",
       "      <td>4.700812</td>\n",
       "    </tr>\n",
       "    <tr>\n",
       "      <th>8</th>\n",
       "      <td>Intern</td>\n",
       "      <td>Jumanji</td>\n",
       "      <td>0.008666</td>\n",
       "      <td>0.311005</td>\n",
       "      <td>3.165328</td>\n",
       "    </tr>\n",
       "    <tr>\n",
       "      <th>9</th>\n",
       "      <td>Ninja Turtles</td>\n",
       "      <td>Intern</td>\n",
       "      <td>0.007199</td>\n",
       "      <td>0.305085</td>\n",
       "      <td>3.200616</td>\n",
       "    </tr>\n",
       "    <tr>\n",
       "      <th>10</th>\n",
       "      <td>Intern</td>\n",
       "      <td>Spiderman 3</td>\n",
       "      <td>0.005733</td>\n",
       "      <td>0.205742</td>\n",
       "      <td>3.124024</td>\n",
       "    </tr>\n",
       "    <tr>\n",
       "      <th>11</th>\n",
       "      <td>Intern</td>\n",
       "      <td>The Revenant</td>\n",
       "      <td>0.005999</td>\n",
       "      <td>0.215311</td>\n",
       "      <td>3.013149</td>\n",
       "    </tr>\n",
       "    <tr>\n",
       "      <th>12</th>\n",
       "      <td>Intern</td>\n",
       "      <td>World War Z</td>\n",
       "      <td>0.006666</td>\n",
       "      <td>0.239234</td>\n",
       "      <td>3.498046</td>\n",
       "    </tr>\n",
       "    <tr>\n",
       "      <th>13</th>\n",
       "      <td>Iron Man</td>\n",
       "      <td>Jumanji</td>\n",
       "      <td>0.005333</td>\n",
       "      <td>0.322581</td>\n",
       "      <td>3.283144</td>\n",
       "    </tr>\n",
       "    <tr>\n",
       "      <th>14</th>\n",
       "      <td>Kung Fu Panda</td>\n",
       "      <td>Jumanji</td>\n",
       "      <td>0.006666</td>\n",
       "      <td>0.390625</td>\n",
       "      <td>3.975683</td>\n",
       "    </tr>\n",
       "    <tr>\n",
       "      <th>15</th>\n",
       "      <td>Kung Fu Panda</td>\n",
       "      <td>Jumanji</td>\n",
       "      <td>0.006399</td>\n",
       "      <td>0.393443</td>\n",
       "      <td>4.004360</td>\n",
       "    </tr>\n",
       "    <tr>\n",
       "      <th>16</th>\n",
       "      <td>Kung Fu Panda</td>\n",
       "      <td>Jumanji</td>\n",
       "      <td>0.015998</td>\n",
       "      <td>0.323450</td>\n",
       "      <td>3.291994</td>\n",
       "    </tr>\n",
       "    <tr>\n",
       "      <th>17</th>\n",
       "      <td>The Revenant</td>\n",
       "      <td>Tomb Rider</td>\n",
       "      <td>0.005999</td>\n",
       "      <td>0.523256</td>\n",
       "      <td>3.005315</td>\n",
       "    </tr>\n",
       "    <tr>\n",
       "      <th>18</th>\n",
       "      <td>Wonder Woman</td>\n",
       "      <td>Jumanji</td>\n",
       "      <td>0.005333</td>\n",
       "      <td>0.377358</td>\n",
       "      <td>3.840659</td>\n",
       "    </tr>\n",
       "    <tr>\n",
       "      <th>19</th>\n",
       "      <td>Moana</td>\n",
       "      <td>Spiderman 3</td>\n",
       "      <td>0.007199</td>\n",
       "      <td>0.203008</td>\n",
       "      <td>3.082509</td>\n",
       "    </tr>\n",
       "    <tr>\n",
       "      <th>20</th>\n",
       "      <td>The Spy Who Dumped Me</td>\n",
       "      <td>Spiderman 3</td>\n",
       "      <td>0.007999</td>\n",
       "      <td>0.271493</td>\n",
       "      <td>4.130772</td>\n",
       "    </tr>\n",
       "    <tr>\n",
       "      <th>21</th>\n",
       "      <td>Coco</td>\n",
       "      <td>The Revenant</td>\n",
       "      <td>0.005333</td>\n",
       "      <td>0.232558</td>\n",
       "      <td>3.260596</td>\n",
       "    </tr>\n",
       "    <tr>\n",
       "      <th>22</th>\n",
       "      <td>Intern</td>\n",
       "      <td>Jumanji</td>\n",
       "      <td>0.008666</td>\n",
       "      <td>0.311005</td>\n",
       "      <td>3.165328</td>\n",
       "    </tr>\n",
       "    <tr>\n",
       "      <th>23</th>\n",
       "      <td>Ninja Turtles</td>\n",
       "      <td>Intern</td>\n",
       "      <td>0.007199</td>\n",
       "      <td>0.305085</td>\n",
       "      <td>3.200616</td>\n",
       "    </tr>\n",
       "    <tr>\n",
       "      <th>24</th>\n",
       "      <td>Intern</td>\n",
       "      <td>Spiderman 3</td>\n",
       "      <td>0.005733</td>\n",
       "      <td>0.205742</td>\n",
       "      <td>3.130361</td>\n",
       "    </tr>\n",
       "    <tr>\n",
       "      <th>25</th>\n",
       "      <td>Intern</td>\n",
       "      <td>The Revenant</td>\n",
       "      <td>0.005999</td>\n",
       "      <td>0.215311</td>\n",
       "      <td>3.018781</td>\n",
       "    </tr>\n",
       "    <tr>\n",
       "      <th>26</th>\n",
       "      <td>Intern</td>\n",
       "      <td>World War Z</td>\n",
       "      <td>0.006666</td>\n",
       "      <td>0.239234</td>\n",
       "      <td>3.498046</td>\n",
       "    </tr>\n",
       "    <tr>\n",
       "      <th>27</th>\n",
       "      <td>Iron Man</td>\n",
       "      <td>Jumanji</td>\n",
       "      <td>0.005333</td>\n",
       "      <td>0.322581</td>\n",
       "      <td>3.283144</td>\n",
       "    </tr>\n",
       "    <tr>\n",
       "      <th>28</th>\n",
       "      <td>Kung Fu Panda</td>\n",
       "      <td>Jumanji</td>\n",
       "      <td>0.006666</td>\n",
       "      <td>0.390625</td>\n",
       "      <td>3.975683</td>\n",
       "    </tr>\n",
       "    <tr>\n",
       "      <th>29</th>\n",
       "      <td>Kung Fu Panda</td>\n",
       "      <td>Jumanji</td>\n",
       "      <td>0.006399</td>\n",
       "      <td>0.393443</td>\n",
       "      <td>4.004360</td>\n",
       "    </tr>\n",
       "    <tr>\n",
       "      <th>30</th>\n",
       "      <td>The Revenant</td>\n",
       "      <td>Tomb Rider</td>\n",
       "      <td>0.005999</td>\n",
       "      <td>0.523256</td>\n",
       "      <td>3.005315</td>\n",
       "    </tr>\n",
       "    <tr>\n",
       "      <th>31</th>\n",
       "      <td>Moana</td>\n",
       "      <td>Spiderman 3</td>\n",
       "      <td>0.007199</td>\n",
       "      <td>0.203008</td>\n",
       "      <td>3.088761</td>\n",
       "    </tr>\n",
       "  </tbody>\n",
       "</table>\n",
       "</div>"
      ],
      "text/plain": [
       "                  title_1        title_2   support  confidence      lift\n",
       "0             Red Sparrow  Green Lantern  0.005733    0.300699  3.790833\n",
       "1               Star Wars  Green Lantern  0.005866    0.372881  4.700812\n",
       "2           Kung Fu Panda        Jumanji  0.015998    0.323450  3.291994\n",
       "3            Wonder Woman        Jumanji  0.005333    0.377358  3.840659\n",
       "4   The Spy Who Dumped Me    Spiderman 3  0.007999    0.271493  4.122410\n",
       "5                    Coco   The Revenant  0.005333    0.232558  3.254512\n",
       "6             Red Sparrow  Green Lantern  0.005733    0.300699  3.790833\n",
       "7               Star Wars  Green Lantern  0.005866    0.372881  4.700812\n",
       "8                  Intern        Jumanji  0.008666    0.311005  3.165328\n",
       "9           Ninja Turtles         Intern  0.007199    0.305085  3.200616\n",
       "10                 Intern    Spiderman 3  0.005733    0.205742  3.124024\n",
       "11                 Intern   The Revenant  0.005999    0.215311  3.013149\n",
       "12                 Intern    World War Z  0.006666    0.239234  3.498046\n",
       "13               Iron Man        Jumanji  0.005333    0.322581  3.283144\n",
       "14          Kung Fu Panda        Jumanji  0.006666    0.390625  3.975683\n",
       "15          Kung Fu Panda        Jumanji  0.006399    0.393443  4.004360\n",
       "16          Kung Fu Panda        Jumanji  0.015998    0.323450  3.291994\n",
       "17           The Revenant     Tomb Rider  0.005999    0.523256  3.005315\n",
       "18           Wonder Woman        Jumanji  0.005333    0.377358  3.840659\n",
       "19                  Moana    Spiderman 3  0.007199    0.203008  3.082509\n",
       "20  The Spy Who Dumped Me    Spiderman 3  0.007999    0.271493  4.130772\n",
       "21                   Coco   The Revenant  0.005333    0.232558  3.260596\n",
       "22                 Intern        Jumanji  0.008666    0.311005  3.165328\n",
       "23          Ninja Turtles         Intern  0.007199    0.305085  3.200616\n",
       "24                 Intern    Spiderman 3  0.005733    0.205742  3.130361\n",
       "25                 Intern   The Revenant  0.005999    0.215311  3.018781\n",
       "26                 Intern    World War Z  0.006666    0.239234  3.498046\n",
       "27               Iron Man        Jumanji  0.005333    0.322581  3.283144\n",
       "28          Kung Fu Panda        Jumanji  0.006666    0.390625  3.975683\n",
       "29          Kung Fu Panda        Jumanji  0.006399    0.393443  4.004360\n",
       "30           The Revenant     Tomb Rider  0.005999    0.523256  3.005315\n",
       "31                  Moana    Spiderman 3  0.007199    0.203008  3.088761"
      ]
     },
     "execution_count": 56,
     "metadata": {},
     "output_type": "execute_result"
    }
   ],
   "source": [
    "df"
   ]
  },
  {
   "cell_type": "code",
   "execution_count": null,
   "metadata": {},
   "outputs": [],
   "source": []
  }
 ],
 "metadata": {
  "kernelspec": {
   "display_name": "py35",
   "language": "python",
   "name": "py35"
  },
  "language_info": {
   "codemirror_mode": {
    "name": "ipython",
    "version": 3
   },
   "file_extension": ".py",
   "mimetype": "text/x-python",
   "name": "python",
   "nbconvert_exporter": "python",
   "pygments_lexer": "ipython3",
   "version": "3.5.6"
  },
  "toc": {
   "base_numbering": 1,
   "nav_menu": {},
   "number_sections": true,
   "sideBar": true,
   "skip_h1_title": false,
   "title_cell": "Table of Contents",
   "title_sidebar": "Contents",
   "toc_cell": false,
   "toc_position": {},
   "toc_section_display": true,
   "toc_window_display": false
  },
  "varInspector": {
   "cols": {
    "lenName": 16,
    "lenType": 16,
    "lenVar": 40
   },
   "kernels_config": {
    "python": {
     "delete_cmd_postfix": "",
     "delete_cmd_prefix": "del ",
     "library": "var_list.py",
     "varRefreshCmd": "print(var_dic_list())"
    },
    "r": {
     "delete_cmd_postfix": ") ",
     "delete_cmd_prefix": "rm(",
     "library": "var_list.r",
     "varRefreshCmd": "cat(var_dic_list()) "
    }
   },
   "types_to_exclude": [
    "module",
    "function",
    "builtin_function_or_method",
    "instance",
    "_Feature"
   ],
   "window_display": false
  }
 },
 "nbformat": 4,
 "nbformat_minor": 4
}
